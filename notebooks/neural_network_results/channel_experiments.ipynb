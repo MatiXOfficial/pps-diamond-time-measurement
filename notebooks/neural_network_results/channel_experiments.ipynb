{
 "cells": [
  {
   "cell_type": "code",
   "execution_count": 1,
   "metadata": {
    "collapsed": true,
    "ExecuteTime": {
     "start_time": "2023-04-29T19:31:23.689376Z",
     "end_time": "2023-04-29T19:31:25.754592Z"
    }
   },
   "outputs": [],
   "source": [
    "import pickle\n",
    "import sys\n",
    "\n",
    "from sklearn.model_selection import train_test_split\n",
    "\n",
    "from src.utils import augmentation_random_cut\n",
    "\n",
    "PWD = '../..'\n",
    "sys.path.append(PWD)\n",
    "\n",
    "from matplotlib import pyplot as plt\n",
    "import numpy as np\n",
    "import pandas as pd\n",
    "\n",
    "import warnings\n",
    "\n",
    "warnings.simplefilter('ignore')\n",
    "\n",
    "import tensorflow as tf\n",
    "\n",
    "tf.get_logger().setLevel('ERROR')\n",
    "from tensorflow.keras import optimizers\n",
    "from tensorflow.keras import callbacks\n",
    "\n",
    "from IPython.display import display, HTML\n",
    "\n",
    "from src.plot_utils import plot_history\n",
    "from src.cfd import CFD\n",
    "from src.cfd_utils import TIME_STEP, _get_gauss_stats, plot_diff_hist_stats\n",
    "from src.models import optimal_model_builder\n"
   ]
  },
  {
   "cell_type": "code",
   "execution_count": 2,
   "outputs": [],
   "source": [
    "dataset = np.load(PWD + f'/data/dataset.npz', allow_pickle=True)"
   ],
   "metadata": {
    "collapsed": false,
    "ExecuteTime": {
     "start_time": "2023-04-29T19:31:25.755592Z",
     "end_time": "2023-04-29T19:31:25.770220Z"
    }
   }
  },
  {
   "cell_type": "code",
   "execution_count": 3,
   "outputs": [
    {
     "data": {
      "text/plain": "dict_keys([8, 9, 10, 11, 13, 14, 16, 17, 18, 19, 20, 21, 22, 23, 24, 25, 26, 27, 28, 29, 30, 31])"
     },
     "execution_count": 3,
     "metadata": {},
     "output_type": "execute_result"
    }
   ],
   "source": [
    "all_channels_data = dataset['dataset'].flat[0]\n",
    "all_channels_data.keys()"
   ],
   "metadata": {
    "collapsed": false,
    "ExecuteTime": {
     "start_time": "2023-04-29T19:31:25.771221Z",
     "end_time": "2023-04-29T19:31:26.615230Z"
    }
   }
  },
  {
   "cell_type": "code",
   "execution_count": 4,
   "outputs": [],
   "source": [
    "TEST_SIZE = 0.2\n",
    "RANDOM_STATE = 42"
   ],
   "metadata": {
    "collapsed": false,
    "ExecuteTime": {
     "start_time": "2023-04-29T19:31:26.615230Z",
     "end_time": "2023-04-29T19:31:26.629694Z"
    }
   }
  },
  {
   "cell_type": "markdown",
   "source": [
    "# Utils"
   ],
   "metadata": {
    "collapsed": false
   }
  },
  {
   "cell_type": "code",
   "execution_count": 5,
   "outputs": [],
   "source": [
    "def plot_difference_hist(y_true, y_pred, channel, method, hist_range=(-2, 2), n_bins=100, return_gauss_stats=True):\n",
    "    mu, std = plot_diff_hist_stats(y_true, y_pred, show=False, n_bins=n_bins, hist_range=hist_range, hist_label=f'',\n",
    "                                   plot_gauss=True, return_gauss_stats=return_gauss_stats)\n",
    "\n",
    "    plt.title(f'{method}. channel={channel}, mean={mu:0.3f}, std={std:0.3f}')\n",
    "    return std\n",
    "\n",
    "\n",
    "def train_model(model, X_train, y_train, X_test, y_test, lr=0.01, name='model', train=False, n_epochs=3000, verbose=1,\n",
    "                batch_size=2048, lr_patience=10, es_patience=200, loss_weights=10_000):\n",
    "    model.compile(loss='mse', optimizer=optimizers.Adam(lr), loss_weights=loss_weights)\n",
    "\n",
    "    model_data_dir = f'/data/model_weights/nn_results/channel_experiments/{name}'\n",
    "    model_callbacks = []\n",
    "    model_callbacks.append(callbacks.ModelCheckpoint(filepath=PWD + model_data_dir + \"/weights\", save_best_only=True,\n",
    "                                                     save_weights_only=True))\n",
    "    if es_patience is not None:\n",
    "        model_callbacks.append(callbacks.EarlyStopping(patience=es_patience, min_delta=0.01))\n",
    "    if lr_patience is not None:\n",
    "        model_callbacks.append(callbacks.ReduceLROnPlateau(monitor='loss', factor=0.9, patience=lr_patience))\n",
    "\n",
    "    try:\n",
    "        pd.read_csv(PWD + model_data_dir + '/loss_log.csv')\n",
    "    except:\n",
    "        train = True\n",
    "\n",
    "    if train:\n",
    "        history = model.fit(X_train, y_train, epochs=n_epochs, verbose=verbose, batch_size=batch_size,\n",
    "                            validation_data=(X_test, y_test), callbacks=model_callbacks).history\n",
    "        pd.DataFrame(history).to_csv(PWD + model_data_dir + '/loss_log.csv')\n",
    "\n",
    "    model.load_weights(PWD + model_data_dir + \"/weights\")\n",
    "    history = pd.read_csv(PWD + model_data_dir + '/loss_log.csv')\n",
    "\n",
    "    return history\n",
    "\n",
    "\n",
    "def load_model(model, lr=0.01, name='model', loss_weights=None):\n",
    "    model_data_dir = f'/data/model_weights/nn_results/channel_experiments/{name}'\n",
    "    model.compile(loss='mse', optimizer=optimizers.Adam(lr), loss_weights=loss_weights)\n",
    "    model.load_weights(PWD + model_data_dir + \"/weights\")"
   ],
   "metadata": {
    "collapsed": false,
    "ExecuteTime": {
     "start_time": "2023-04-29T19:31:26.630695Z",
     "end_time": "2023-04-29T19:31:26.659885Z"
    }
   }
  },
  {
   "cell_type": "code",
   "execution_count": 6,
   "outputs": [],
   "source": [
    "def pred_and_retrieve_y(model, X):\n",
    "    Y_heatmap = model.predict(X, batch_size=8192)\n",
    "    y_pred = np.empty(len(X))\n",
    "    for i, y in enumerate(Y_heatmap):\n",
    "        try:\n",
    "            y_pred[i] = _get_gauss_stats(y, std_0=0.8)\n",
    "        except:\n",
    "            print(f'Error calculating {i}')\n",
    "            y_pred[i] = np.average(np.arange(len(y)), weights=y)\n",
    "    return y_pred\n",
    "\n",
    "\n",
    "def compare_model_with_cfd(model, cfd, X, y_true, channel=None, figsize=(12, 4), show=True, y_cfd=None,\n",
    "                           return_gauss_stats=True, log=True):\n",
    "    if y_cfd is None:\n",
    "        y_cfd = np.array([cfd.predict(x) for x in X])\n",
    "        n_none = list(y_cfd).count(None)\n",
    "        if n_none > 0:\n",
    "            print(f'--------------------> CFD returned {n_none} Nones out of {len(y_cfd)} examples')\n",
    "    y_cfd = y_cfd.astype(np.float64)\n",
    "    y_model = pred_and_retrieve_y(model, X)\n",
    "\n",
    "    mask = y_cfd != None\n",
    "    y_true = y_true[mask]\n",
    "    y_cfd = y_cfd[mask]\n",
    "    y_model = y_model[mask]\n",
    "\n",
    "    if log and channel is not None:\n",
    "        display(HTML(f'<h4>Channel {channel}</h4>'))\n",
    "\n",
    "    plt.figure(figsize=figsize)\n",
    "    plt.subplot(1, 2, 1)\n",
    "    std_cfd = plot_difference_hist(y_true, y_cfd, channel, 'CFD', hist_range=(-6, 6), n_bins=300,\n",
    "                                   return_gauss_stats=return_gauss_stats)\n",
    "    plt.subplot(1, 2, 2)\n",
    "    std_model = plot_difference_hist(y_true, y_model, channel, 'NN', hist_range=(-6, 6), n_bins=300,\n",
    "                                     return_gauss_stats=return_gauss_stats)\n",
    "\n",
    "    improvement = (std_cfd - std_model) / std_cfd\n",
    "\n",
    "    if log:\n",
    "        print(\n",
    "            f\"CFD: {std_cfd:0.3f}, NN: {std_model:0.3f} ({std_cfd * TIME_STEP:0.3f} ns vs {std_model * TIME_STEP:0.3f} ns)\")\n",
    "        print(f'Improvement: {improvement * 100:0.2f} %')\n",
    "    if show:\n",
    "        plt.show()\n",
    "    else:\n",
    "        plt.close()\n",
    "    return improvement, std_cfd * TIME_STEP, std_model * TIME_STEP\n",
    "\n",
    "\n",
    "cfd = CFD(n_baseline=10, fraction=0.25)"
   ],
   "metadata": {
    "collapsed": false,
    "ExecuteTime": {
     "start_time": "2023-04-29T19:31:26.649721Z",
     "end_time": "2023-04-29T19:31:26.671894Z"
    }
   }
  },
  {
   "cell_type": "code",
   "execution_count": 7,
   "outputs": [
    {
     "data": {
      "text/plain": "1.6"
     },
     "execution_count": 7,
     "metadata": {},
     "output_type": "execute_result"
    }
   ],
   "source": [
    "def gaussian_kernel(mu, sigma=0.8, n=48):\n",
    "    x = np.arange(0, n)\n",
    "    return np.exp(-(x - mu) ** 2 / (2 * sigma ** 2))\n",
    "\n",
    "\n",
    "_get_gauss_stats(gaussian_kernel(np.array(1.6)))"
   ],
   "metadata": {
    "collapsed": false,
    "ExecuteTime": {
     "start_time": "2023-04-29T19:31:26.662886Z",
     "end_time": "2023-04-29T19:31:26.675895Z"
    }
   }
  },
  {
   "cell_type": "markdown",
   "source": [
    "## Trained separately, tested on the same channels"
   ],
   "metadata": {
    "collapsed": false
   }
  },
  {
   "cell_type": "code",
   "execution_count": 8,
   "outputs": [
    {
     "name": "stdout",
     "output_type": "stream",
     "text": [
      "1/1 [==============================] - 2s 2s/step\n"
     ]
    },
    {
     "data": {
      "text/plain": "<IPython.core.display.HTML object>",
      "text/html": "<h4>Channel 8</h4>"
     },
     "metadata": {},
     "output_type": "display_data"
    },
    {
     "name": "stdout",
     "output_type": "stream",
     "text": [
      "CFD: 0.453, NN: 0.390 (0.071 ns vs 0.061 ns)\n",
      "Improvement: 13.88 %\n",
      "1/1 [==============================] - 0s 281ms/step\n"
     ]
    },
    {
     "data": {
      "text/plain": "<IPython.core.display.HTML object>",
      "text/html": "<h4>Channel 9</h4>"
     },
     "metadata": {},
     "output_type": "display_data"
    },
    {
     "name": "stdout",
     "output_type": "stream",
     "text": [
      "CFD: 0.458, NN: 0.413 (0.072 ns vs 0.065 ns)\n",
      "Improvement: 9.72 %\n",
      "1/1 [==============================] - 0s 377ms/step\n"
     ]
    },
    {
     "data": {
      "text/plain": "<IPython.core.display.HTML object>",
      "text/html": "<h4>Channel 10</h4>"
     },
     "metadata": {},
     "output_type": "display_data"
    },
    {
     "name": "stdout",
     "output_type": "stream",
     "text": [
      "CFD: 0.407, NN: 0.353 (0.064 ns vs 0.055 ns)\n",
      "Improvement: 13.34 %\n",
      "1/1 [==============================] - 0s 259ms/step\n"
     ]
    },
    {
     "data": {
      "text/plain": "<IPython.core.display.HTML object>",
      "text/html": "<h4>Channel 11</h4>"
     },
     "metadata": {},
     "output_type": "display_data"
    },
    {
     "name": "stdout",
     "output_type": "stream",
     "text": [
      "CFD: 0.423, NN: 0.357 (0.066 ns vs 0.056 ns)\n",
      "Improvement: 15.58 %\n",
      "1/1 [==============================] - 1s 534ms/step\n",
      "Error calculating 5103\n"
     ]
    },
    {
     "data": {
      "text/plain": "<IPython.core.display.HTML object>",
      "text/html": "<h4>Channel 13</h4>"
     },
     "metadata": {},
     "output_type": "display_data"
    },
    {
     "name": "stdout",
     "output_type": "stream",
     "text": [
      "CFD: 0.779, NN: 0.634 (0.122 ns vs 0.099 ns)\n",
      "Improvement: 18.57 %\n",
      "1/1 [==============================] - 1s 570ms/step\n"
     ]
    },
    {
     "data": {
      "text/plain": "<IPython.core.display.HTML object>",
      "text/html": "<h4>Channel 14</h4>"
     },
     "metadata": {},
     "output_type": "display_data"
    },
    {
     "name": "stdout",
     "output_type": "stream",
     "text": [
      "CFD: 0.751, NN: 0.587 (0.117 ns vs 0.092 ns)\n",
      "Improvement: 21.81 %\n",
      "1/1 [==============================] - 0s 490ms/step\n"
     ]
    },
    {
     "data": {
      "text/plain": "<IPython.core.display.HTML object>",
      "text/html": "<h4>Channel 16</h4>"
     },
     "metadata": {},
     "output_type": "display_data"
    },
    {
     "name": "stdout",
     "output_type": "stream",
     "text": [
      "CFD: 0.442, NN: 0.342 (0.069 ns vs 0.053 ns)\n",
      "Improvement: 22.73 %\n",
      "1/1 [==============================] - 0s 407ms/step\n"
     ]
    },
    {
     "data": {
      "text/plain": "<IPython.core.display.HTML object>",
      "text/html": "<h4>Channel 17</h4>"
     },
     "metadata": {},
     "output_type": "display_data"
    },
    {
     "name": "stdout",
     "output_type": "stream",
     "text": [
      "CFD: 0.459, NN: 0.372 (0.072 ns vs 0.058 ns)\n",
      "Improvement: 18.91 %\n",
      "1/1 [==============================] - 0s 310ms/step\n"
     ]
    },
    {
     "data": {
      "text/plain": "<IPython.core.display.HTML object>",
      "text/html": "<h4>Channel 18</h4>"
     },
     "metadata": {},
     "output_type": "display_data"
    },
    {
     "name": "stdout",
     "output_type": "stream",
     "text": [
      "CFD: 0.441, NN: 0.381 (0.069 ns vs 0.060 ns)\n",
      "Improvement: 13.71 %\n",
      "1/1 [==============================] - 0s 278ms/step\n"
     ]
    },
    {
     "data": {
      "text/plain": "<IPython.core.display.HTML object>",
      "text/html": "<h4>Channel 19</h4>"
     },
     "metadata": {},
     "output_type": "display_data"
    },
    {
     "name": "stdout",
     "output_type": "stream",
     "text": [
      "CFD: 0.560, NN: 0.485 (0.088 ns vs 0.076 ns)\n",
      "Improvement: 13.53 %\n",
      "1/1 [==============================] - 0s 228ms/step\n"
     ]
    },
    {
     "data": {
      "text/plain": "<IPython.core.display.HTML object>",
      "text/html": "<h4>Channel 20</h4>"
     },
     "metadata": {},
     "output_type": "display_data"
    },
    {
     "name": "stdout",
     "output_type": "stream",
     "text": [
      "CFD: 0.430, NN: 0.385 (0.067 ns vs 0.060 ns)\n",
      "Improvement: 10.56 %\n",
      "1/1 [==============================] - 0s 359ms/step\n"
     ]
    },
    {
     "data": {
      "text/plain": "<IPython.core.display.HTML object>",
      "text/html": "<h4>Channel 21</h4>"
     },
     "metadata": {},
     "output_type": "display_data"
    },
    {
     "name": "stdout",
     "output_type": "stream",
     "text": [
      "CFD: 0.427, NN: 0.393 (0.067 ns vs 0.061 ns)\n",
      "Improvement: 7.98 %\n",
      "1/1 [==============================] - 0s 272ms/step\n"
     ]
    },
    {
     "data": {
      "text/plain": "<IPython.core.display.HTML object>",
      "text/html": "<h4>Channel 22</h4>"
     },
     "metadata": {},
     "output_type": "display_data"
    },
    {
     "name": "stdout",
     "output_type": "stream",
     "text": [
      "CFD: 0.410, NN: 0.364 (0.064 ns vs 0.057 ns)\n",
      "Improvement: 11.36 %\n",
      "1/1 [==============================] - 0s 361ms/step\n"
     ]
    },
    {
     "data": {
      "text/plain": "<IPython.core.display.HTML object>",
      "text/html": "<h4>Channel 23</h4>"
     },
     "metadata": {},
     "output_type": "display_data"
    },
    {
     "name": "stdout",
     "output_type": "stream",
     "text": [
      "CFD: 0.409, NN: 0.355 (0.064 ns vs 0.056 ns)\n",
      "Improvement: 13.10 %\n",
      "2/2 [==============================] - 0s 81ms/step\n"
     ]
    },
    {
     "data": {
      "text/plain": "<IPython.core.display.HTML object>",
      "text/html": "<h4>Channel 24</h4>"
     },
     "metadata": {},
     "output_type": "display_data"
    },
    {
     "name": "stdout",
     "output_type": "stream",
     "text": [
      "CFD: 0.598, NN: 0.503 (0.093 ns vs 0.079 ns)\n",
      "Improvement: 15.78 %\n",
      "1/1 [==============================] - 1s 645ms/step\n"
     ]
    },
    {
     "data": {
      "text/plain": "<IPython.core.display.HTML object>",
      "text/html": "<h4>Channel 25</h4>"
     },
     "metadata": {},
     "output_type": "display_data"
    },
    {
     "name": "stdout",
     "output_type": "stream",
     "text": [
      "CFD: 0.683, NN: 0.604 (0.107 ns vs 0.094 ns)\n",
      "Improvement: 11.52 %\n",
      "1/1 [==============================] - 1s 555ms/step\n"
     ]
    },
    {
     "data": {
      "text/plain": "<IPython.core.display.HTML object>",
      "text/html": "<h4>Channel 26</h4>"
     },
     "metadata": {},
     "output_type": "display_data"
    },
    {
     "name": "stdout",
     "output_type": "stream",
     "text": [
      "CFD: 0.768, NN: 0.665 (0.120 ns vs 0.104 ns)\n",
      "Improvement: 13.36 %\n",
      "2/2 [==============================] - 1s 345ms/step\n"
     ]
    },
    {
     "data": {
      "text/plain": "<IPython.core.display.HTML object>",
      "text/html": "<h4>Channel 27</h4>"
     },
     "metadata": {},
     "output_type": "display_data"
    },
    {
     "name": "stdout",
     "output_type": "stream",
     "text": [
      "CFD: 0.709, NN: 0.575 (0.111 ns vs 0.090 ns)\n",
      "Improvement: 18.83 %\n",
      "1/1 [==============================] - 1s 555ms/step\n"
     ]
    },
    {
     "data": {
      "text/plain": "<IPython.core.display.HTML object>",
      "text/html": "<h4>Channel 28</h4>"
     },
     "metadata": {},
     "output_type": "display_data"
    },
    {
     "name": "stdout",
     "output_type": "stream",
     "text": [
      "CFD: 0.487, NN: 0.386 (0.076 ns vs 0.060 ns)\n",
      "Improvement: 20.73 %\n",
      "1/1 [==============================] - 0s 446ms/step\n"
     ]
    },
    {
     "data": {
      "text/plain": "<IPython.core.display.HTML object>",
      "text/html": "<h4>Channel 29</h4>"
     },
     "metadata": {},
     "output_type": "display_data"
    },
    {
     "name": "stdout",
     "output_type": "stream",
     "text": [
      "CFD: 0.444, NN: 0.381 (0.069 ns vs 0.060 ns)\n",
      "Improvement: 14.15 %\n",
      "1/1 [==============================] - 0s 341ms/step\n"
     ]
    },
    {
     "data": {
      "text/plain": "<IPython.core.display.HTML object>",
      "text/html": "<h4>Channel 30</h4>"
     },
     "metadata": {},
     "output_type": "display_data"
    },
    {
     "name": "stdout",
     "output_type": "stream",
     "text": [
      "CFD: 0.468, NN: 0.396 (0.073 ns vs 0.062 ns)\n",
      "Improvement: 15.38 %\n",
      "1/1 [==============================] - 0s 377ms/step\n"
     ]
    },
    {
     "data": {
      "text/plain": "<IPython.core.display.HTML object>",
      "text/html": "<h4>Channel 31</h4>"
     },
     "metadata": {},
     "output_type": "display_data"
    },
    {
     "name": "stdout",
     "output_type": "stream",
     "text": [
      "CFD: 0.509, NN: 0.429 (0.079 ns vs 0.067 ns)\n",
      "Improvement: 15.68 %\n"
     ]
    }
   ],
   "source": [
    "improvements = {}\n",
    "for channel, (X, y) in list(all_channels_data.items()):\n",
    "    X_aug, y_aug = augmentation_random_cut(X, y, 16, seed=42, apply=True)\n",
    "    X_train, X_test, y_train, y_test = train_test_split(X_aug, y_aug, test_size=TEST_SIZE, random_state=RANDOM_STATE)\n",
    "    Y_heatmap_train = np.array([gaussian_kernel(y) for y in y_train])\n",
    "    Y_heatmap_test = np.array([gaussian_kernel(y) for y in y_test])\n",
    "\n",
    "    model = optimal_model_builder()\n",
    "    history = train_model(model, X_train, Y_heatmap_train, X_test, Y_heatmap_test, name=f'model_separate_{channel}',\n",
    "                          train=False, n_epochs=3000, verbose=0)\n",
    "\n",
    "    # plot_history(history, f\"Channel {channel}, {len(X)} events\", ymax=100, figsize=(8, 4))\n",
    "    improvement, _, std_model = compare_model_with_cfd(model, cfd, X_test, y_test, channel, show=False)\n",
    "    improvements[channel] = improvement, std_model"
   ],
   "metadata": {
    "collapsed": false,
    "ExecuteTime": {
     "start_time": "2023-04-29T19:31:26.675895Z",
     "end_time": "2023-04-29T19:32:12.051491Z"
    }
   }
  },
  {
   "cell_type": "code",
   "execution_count": 9,
   "outputs": [
    {
     "data": {
      "text/plain": "        precision [ps] improvement\nchannel                           \n8                 60.9        14 %\n9                 64.6        10 %\n10                55.1        13 %\n11                55.7        16 %\n13                99.1        19 %\n14                91.7        22 %\n16                53.4        23 %\n17                58.1        19 %\n18                59.5        14 %\n19                75.7        14 %\n20                60.1        11 %\n21                61.4         8 %\n22                56.8        11 %\n23                55.5        13 %\n24                78.7        16 %\n25                94.4        12 %\n26               103.9        13 %\n27                89.9        19 %\n28                60.3        21 %\n29                59.6        14 %\n30                61.9        15 %\n31                67.0        16 %",
      "text/html": "<div>\n<style scoped>\n    .dataframe tbody tr th:only-of-type {\n        vertical-align: middle;\n    }\n\n    .dataframe tbody tr th {\n        vertical-align: top;\n    }\n\n    .dataframe thead th {\n        text-align: right;\n    }\n</style>\n<table border=\"1\" class=\"dataframe\">\n  <thead>\n    <tr style=\"text-align: right;\">\n      <th></th>\n      <th>precision [ps]</th>\n      <th>improvement</th>\n    </tr>\n    <tr>\n      <th>channel</th>\n      <th></th>\n      <th></th>\n    </tr>\n  </thead>\n  <tbody>\n    <tr>\n      <th>8</th>\n      <td>60.9</td>\n      <td>14 %</td>\n    </tr>\n    <tr>\n      <th>9</th>\n      <td>64.6</td>\n      <td>10 %</td>\n    </tr>\n    <tr>\n      <th>10</th>\n      <td>55.1</td>\n      <td>13 %</td>\n    </tr>\n    <tr>\n      <th>11</th>\n      <td>55.7</td>\n      <td>16 %</td>\n    </tr>\n    <tr>\n      <th>13</th>\n      <td>99.1</td>\n      <td>19 %</td>\n    </tr>\n    <tr>\n      <th>14</th>\n      <td>91.7</td>\n      <td>22 %</td>\n    </tr>\n    <tr>\n      <th>16</th>\n      <td>53.4</td>\n      <td>23 %</td>\n    </tr>\n    <tr>\n      <th>17</th>\n      <td>58.1</td>\n      <td>19 %</td>\n    </tr>\n    <tr>\n      <th>18</th>\n      <td>59.5</td>\n      <td>14 %</td>\n    </tr>\n    <tr>\n      <th>19</th>\n      <td>75.7</td>\n      <td>14 %</td>\n    </tr>\n    <tr>\n      <th>20</th>\n      <td>60.1</td>\n      <td>11 %</td>\n    </tr>\n    <tr>\n      <th>21</th>\n      <td>61.4</td>\n      <td>8 %</td>\n    </tr>\n    <tr>\n      <th>22</th>\n      <td>56.8</td>\n      <td>11 %</td>\n    </tr>\n    <tr>\n      <th>23</th>\n      <td>55.5</td>\n      <td>13 %</td>\n    </tr>\n    <tr>\n      <th>24</th>\n      <td>78.7</td>\n      <td>16 %</td>\n    </tr>\n    <tr>\n      <th>25</th>\n      <td>94.4</td>\n      <td>12 %</td>\n    </tr>\n    <tr>\n      <th>26</th>\n      <td>103.9</td>\n      <td>13 %</td>\n    </tr>\n    <tr>\n      <th>27</th>\n      <td>89.9</td>\n      <td>19 %</td>\n    </tr>\n    <tr>\n      <th>28</th>\n      <td>60.3</td>\n      <td>21 %</td>\n    </tr>\n    <tr>\n      <th>29</th>\n      <td>59.6</td>\n      <td>14 %</td>\n    </tr>\n    <tr>\n      <th>30</th>\n      <td>61.9</td>\n      <td>15 %</td>\n    </tr>\n    <tr>\n      <th>31</th>\n      <td>67.0</td>\n      <td>16 %</td>\n    </tr>\n  </tbody>\n</table>\n</div>"
     },
     "execution_count": 9,
     "metadata": {},
     "output_type": "execute_result"
    }
   ],
   "source": [
    "channels = improvements.keys()\n",
    "precision_data = [f'{std_model * 1000:0.1f}' for _, std_model in improvements.values()]\n",
    "improvement_data = [f'{improv * 100:0.0f} %' for improv, _ in improvements.values()]\n",
    "\n",
    "df = pd.DataFrame({'precision [ps]': precision_data, 'improvement': improvement_data}, index=channels)\n",
    "df.index.name = 'channel'\n",
    "df\n",
    "# df.to_csv('channel_precision_improvements.csv')"
   ],
   "metadata": {
    "collapsed": false,
    "ExecuteTime": {
     "start_time": "2023-04-29T19:32:12.052491Z",
     "end_time": "2023-04-29T19:32:12.067376Z"
    }
   }
  },
  {
   "cell_type": "markdown",
   "source": [
    "## Trained separately, tested separately"
   ],
   "metadata": {
    "collapsed": false
   }
  },
  {
   "cell_type": "code",
   "execution_count": 10,
   "outputs": [],
   "source": [
    "# results = defaultdict(dict)\n",
    "# for model_channel in list(all_channels_data.keys()):\n",
    "#     print(f'Processing channel {model_channel}...')\n",
    "#     model = optimal_model_builder()\n",
    "#     load_model(model, lr=0.001, name=f'model_separate_{model_channel}', loss_weights=100)\n",
    "#\n",
    "#     for channel, (X, y) in list(all_channels_data.items()):\n",
    "#         X_aug, y_aug = augmentation_random_cut(X, y, 16, seed=42, apply=True)\n",
    "#         _, X_test, _, y_test = train_test_split(X_aug, y_aug, test_size=TEST_SIZE, random_state=RANDOM_STATE)\n",
    "#         Y_heatmap_test = np.array([gaussian_kernel(y) for y in y_test])\n",
    "#\n",
    "#         try:\n",
    "#             improvement, _, std_model = compare_model_with_cfd(model, cfd, X_test, y_test, channel, show=False, log=False)\n",
    "#         except RuntimeError:\n",
    "#             improvement = float('nan')\n",
    "#             std_model = float('nan')\n",
    "#         results[model_channel][channel] = (improvement, std_model)\n",
    "#\n",
    "# with open(PWD + '/data/nn_results/channel_experiments/multi_channel_separate_results.pkl', 'wb') as file:\n",
    "#     pickle.dump(results, file)"
   ],
   "metadata": {
    "collapsed": false,
    "ExecuteTime": {
     "start_time": "2023-04-29T19:32:12.068377Z",
     "end_time": "2023-04-29T19:32:12.098381Z"
    }
   }
  },
  {
   "cell_type": "code",
   "execution_count": 11,
   "outputs": [],
   "source": [
    "with open(PWD + '/data/nn_results/channel_experiments/multi_channel_separate_results.pkl', 'rb') as file:\n",
    "    results = pickle.load(file)\n",
    "\n",
    "# Check that the order is the same\n",
    "assert list(results.keys()) == sorted(results.keys())\n",
    "for x in results.values():\n",
    "    assert list(x.keys()) == sorted(x.keys())\n",
    "\n",
    "row_names = [str(key) for key in results.keys()]\n",
    "col_names = [str(key) for key in list(results.values())[0].keys()]"
   ],
   "metadata": {
    "collapsed": false,
    "ExecuteTime": {
     "start_time": "2023-04-29T19:32:12.085382Z",
     "end_time": "2023-04-29T19:32:12.130437Z"
    }
   }
  },
  {
   "cell_type": "code",
   "execution_count": 12,
   "outputs": [
    {
     "data": {
      "text/plain": "                              8        9       10       11        13  \\\ntrained on \\ tested on                                                 \n8                       60.9 ps  70.7 ps  63.7 ps  61.8 ps  157.7 ps   \n9                       60.4 ps  64.6 ps  57.5 ps  59.7 ps  140.4 ps   \n10                      64.0 ps  68.5 ps  55.1 ps  58.0 ps  127.3 ps   \n11                      65.3 ps  67.4 ps  57.5 ps  55.7 ps  156.8 ps   \n13                      75.3 ps  73.0 ps  68.9 ps  68.3 ps   99.1 ps   \n14                      71.1 ps  71.6 ps  64.1 ps  70.8 ps  101.4 ps   \n16                      65.4 ps  70.2 ps  59.9 ps  57.0 ps  162.1 ps   \n17                      70.5 ps  73.4 ps  58.9 ps  60.0 ps  133.5 ps   \n18                      67.0 ps  69.2 ps  60.6 ps  61.2 ps  104.9 ps   \n19                      65.2 ps  69.9 ps  60.1 ps  62.0 ps  111.9 ps   \n20                      57.4 ps  72.0 ps  62.4 ps  60.0 ps  159.6 ps   \n21                      63.7 ps  65.7 ps  57.2 ps  58.8 ps  123.4 ps   \n22                      65.0 ps  69.9 ps  61.1 ps  57.6 ps  144.4 ps   \n23                      66.7 ps  68.7 ps  60.1 ps  55.7 ps  134.7 ps   \n24                      77.7 ps  74.3 ps  67.1 ps  69.0 ps  110.5 ps   \n25                      64.8 ps  67.6 ps  61.0 ps  62.7 ps  107.0 ps   \n26                      72.8 ps  69.8 ps  64.5 ps  65.8 ps  101.6 ps   \n27                      81.2 ps  79.5 ps  71.6 ps  75.0 ps  111.4 ps   \n28                      69.0 ps  75.0 ps  59.1 ps  58.4 ps  130.5 ps   \n29                      69.1 ps  72.2 ps  58.8 ps  60.2 ps  108.5 ps   \n30                      69.3 ps  71.1 ps  59.8 ps  60.6 ps    nan ps   \n31                      64.7 ps  69.1 ps  62.2 ps  61.5 ps  120.8 ps   \n\n                              14       16       17       18        19  \\\ntrained on \\ tested on                                                  \n8                       144.0 ps  69.4 ps  77.8 ps  69.4 ps  109.9 ps   \n9                       122.3 ps  66.0 ps  66.3 ps  68.6 ps   86.1 ps   \n10                      121.9 ps  62.4 ps  62.6 ps  66.0 ps   84.4 ps   \n11                      136.8 ps  57.7 ps  67.4 ps  65.4 ps  101.1 ps   \n13                       96.8 ps  73.1 ps  78.5 ps  76.6 ps   92.3 ps   \n14                       91.7 ps  71.8 ps  69.6 ps  73.2 ps   85.7 ps   \n16                      138.8 ps  53.4 ps  60.5 ps  64.0 ps   87.7 ps   \n17                      113.7 ps  57.4 ps  58.1 ps  64.3 ps   83.1 ps   \n18                       99.8 ps  58.4 ps  62.7 ps  59.5 ps   80.7 ps   \n19                      105.6 ps  59.8 ps  61.5 ps  62.8 ps   75.7 ps   \n20                      124.7 ps  64.5 ps  75.7 ps  63.2 ps  122.3 ps   \n21                      122.2 ps  61.9 ps  63.5 ps  63.6 ps   83.7 ps   \n22                      133.0 ps  59.6 ps  74.4 ps  62.2 ps  112.6 ps   \n23                      127.6 ps  56.6 ps  68.9 ps  63.0 ps  103.1 ps   \n24                      103.0 ps  71.9 ps  68.4 ps  74.2 ps   95.8 ps   \n25                       99.7 ps  66.5 ps  66.7 ps  69.4 ps   84.2 ps   \n26                       96.4 ps  69.9 ps  69.0 ps  72.2 ps   85.0 ps   \n27                      103.6 ps  75.7 ps  68.5 ps  78.2 ps   95.8 ps   \n28                      112.8 ps  56.6 ps  58.8 ps  64.0 ps   84.5 ps   \n29                      106.5 ps  58.5 ps  61.9 ps  62.9 ps   91.4 ps   \n30                        nan ps  58.5 ps  62.0 ps  60.9 ps   86.2 ps   \n31                      126.6 ps  60.2 ps  64.5 ps  60.9 ps   81.1 ps   \n\n                             20       21       22       23        24  \\\ntrained on \\ tested on                                                 \n8                       63.5 ps  69.9 ps  62.0 ps  62.5 ps  164.0 ps   \n9                       65.3 ps  63.3 ps  61.1 ps  61.1 ps  104.0 ps   \n10                      64.1 ps  63.1 ps  59.9 ps  58.3 ps   99.6 ps   \n11                      64.7 ps  64.6 ps  57.6 ps  56.6 ps  126.4 ps   \n13                      76.1 ps  74.9 ps  68.3 ps  66.5 ps   90.2 ps   \n14                      67.5 ps  72.4 ps  65.2 ps  63.2 ps   88.0 ps   \n16                      65.4 ps  65.6 ps  58.2 ps  56.8 ps  118.4 ps   \n17                      72.7 ps  68.1 ps  58.4 ps  59.5 ps   91.4 ps   \n18                      65.8 ps  64.2 ps  58.4 ps  59.5 ps   97.9 ps   \n19                      69.4 ps  67.8 ps  59.8 ps  61.5 ps   94.6 ps   \n20                      60.1 ps  70.6 ps  59.9 ps  59.9 ps  232.7 ps   \n21                      66.0 ps  61.4 ps  58.7 ps  58.5 ps  101.3 ps   \n22                      64.0 ps  66.3 ps  56.8 ps  56.8 ps  191.9 ps   \n23                      65.5 ps  65.1 ps  56.8 ps  55.5 ps  123.3 ps   \n24                      77.1 ps  82.0 ps  67.4 ps  66.8 ps   78.7 ps   \n25                      68.5 ps  69.9 ps  61.6 ps  61.8 ps   82.8 ps   \n26                      70.9 ps  71.1 ps  66.0 ps  67.2 ps   86.9 ps   \n27                      81.3 ps  85.0 ps  74.4 ps  74.8 ps   83.7 ps   \n28                      68.3 ps  67.0 ps  59.2 ps  57.0 ps   88.0 ps   \n29                      68.5 ps  63.1 ps  57.8 ps  58.4 ps  113.0 ps   \n30                      69.9 ps  65.4 ps  59.2 ps  59.5 ps  103.9 ps   \n31                      65.5 ps  65.2 ps  59.5 ps  59.4 ps  108.2 ps   \n\n                              25        26        27       28       29  \\\ntrained on \\ tested on                                                   \n8                       182.2 ps  179.1 ps  131.7 ps  86.5 ps  71.6 ps   \n9                       118.8 ps  129.2 ps  119.9 ps  73.1 ps  69.3 ps   \n10                      108.1 ps  136.5 ps  136.6 ps  69.9 ps  67.1 ps   \n11                      135.6 ps  146.3 ps  130.7 ps  71.3 ps  65.7 ps   \n13                       97.8 ps  106.9 ps  102.7 ps  83.8 ps  70.8 ps   \n14                       98.2 ps  105.0 ps   96.9 ps  73.5 ps  66.0 ps   \n16                      130.7 ps  168.6 ps  120.2 ps  65.4 ps  63.7 ps   \n17                      109.7 ps  122.8 ps  102.2 ps  62.3 ps  63.8 ps   \n18                      100.8 ps  111.8 ps  106.9 ps  68.0 ps  60.9 ps   \n19                      103.5 ps  114.1 ps  108.1 ps  65.5 ps  63.7 ps   \n20                      237.3 ps  247.1 ps  197.6 ps  83.8 ps  63.7 ps   \n21                      106.8 ps  133.5 ps  134.7 ps  68.2 ps  62.2 ps   \n22                      195.9 ps  246.3 ps  167.2 ps  80.6 ps  63.6 ps   \n23                      139.6 ps  148.9 ps  127.1 ps  71.5 ps  62.3 ps   \n24                       95.6 ps  107.3 ps   94.2 ps  68.2 ps  70.8 ps   \n25                       94.4 ps  107.0 ps  101.4 ps  71.0 ps  68.1 ps   \n26                       97.3 ps  103.9 ps   96.0 ps  74.1 ps  72.9 ps   \n27                      102.0 ps  109.4 ps   89.9 ps  71.4 ps  76.7 ps   \n28                      110.6 ps  133.8 ps  100.9 ps  60.3 ps  62.5 ps   \n29                      134.8 ps  144.8 ps  111.8 ps  64.8 ps  59.6 ps   \n30                      110.3 ps  139.1 ps  124.2 ps  66.3 ps  60.8 ps   \n31                      114.4 ps  124.1 ps  118.5 ps  68.9 ps  62.2 ps   \n\n                             30       31  \ntrained on \\ tested on                    \n8                       81.7 ps  81.3 ps  \n9                       77.1 ps  83.9 ps  \n10                      74.7 ps  84.8 ps  \n11                      74.0 ps  77.5 ps  \n13                      85.8 ps  98.2 ps  \n14                      78.1 ps  74.0 ps  \n16                      66.3 ps  77.4 ps  \n17                      66.5 ps  84.2 ps  \n18                      64.6 ps  70.3 ps  \n19                      68.2 ps  72.9 ps  \n20                      75.0 ps  73.9 ps  \n21                      67.5 ps  75.6 ps  \n22                      73.4 ps  73.8 ps  \n23                      71.1 ps  73.5 ps  \n24                      86.1 ps  90.6 ps  \n25                      80.1 ps  82.8 ps  \n26                      79.5 ps  82.6 ps  \n27                      84.0 ps  92.6 ps  \n28                      66.2 ps  81.9 ps  \n29                      64.3 ps  74.1 ps  \n30                      61.9 ps  78.5 ps  \n31                      66.8 ps  67.0 ps  ",
      "text/html": "<div>\n<style scoped>\n    .dataframe tbody tr th:only-of-type {\n        vertical-align: middle;\n    }\n\n    .dataframe tbody tr th {\n        vertical-align: top;\n    }\n\n    .dataframe thead th {\n        text-align: right;\n    }\n</style>\n<table border=\"1\" class=\"dataframe\">\n  <thead>\n    <tr style=\"text-align: right;\">\n      <th></th>\n      <th>8</th>\n      <th>9</th>\n      <th>10</th>\n      <th>11</th>\n      <th>13</th>\n      <th>14</th>\n      <th>16</th>\n      <th>17</th>\n      <th>18</th>\n      <th>19</th>\n      <th>20</th>\n      <th>21</th>\n      <th>22</th>\n      <th>23</th>\n      <th>24</th>\n      <th>25</th>\n      <th>26</th>\n      <th>27</th>\n      <th>28</th>\n      <th>29</th>\n      <th>30</th>\n      <th>31</th>\n    </tr>\n    <tr>\n      <th>trained on \\ tested on</th>\n      <th></th>\n      <th></th>\n      <th></th>\n      <th></th>\n      <th></th>\n      <th></th>\n      <th></th>\n      <th></th>\n      <th></th>\n      <th></th>\n      <th></th>\n      <th></th>\n      <th></th>\n      <th></th>\n      <th></th>\n      <th></th>\n      <th></th>\n      <th></th>\n      <th></th>\n      <th></th>\n      <th></th>\n      <th></th>\n    </tr>\n  </thead>\n  <tbody>\n    <tr>\n      <th>8</th>\n      <td>60.9 ps</td>\n      <td>70.7 ps</td>\n      <td>63.7 ps</td>\n      <td>61.8 ps</td>\n      <td>157.7 ps</td>\n      <td>144.0 ps</td>\n      <td>69.4 ps</td>\n      <td>77.8 ps</td>\n      <td>69.4 ps</td>\n      <td>109.9 ps</td>\n      <td>63.5 ps</td>\n      <td>69.9 ps</td>\n      <td>62.0 ps</td>\n      <td>62.5 ps</td>\n      <td>164.0 ps</td>\n      <td>182.2 ps</td>\n      <td>179.1 ps</td>\n      <td>131.7 ps</td>\n      <td>86.5 ps</td>\n      <td>71.6 ps</td>\n      <td>81.7 ps</td>\n      <td>81.3 ps</td>\n    </tr>\n    <tr>\n      <th>9</th>\n      <td>60.4 ps</td>\n      <td>64.6 ps</td>\n      <td>57.5 ps</td>\n      <td>59.7 ps</td>\n      <td>140.4 ps</td>\n      <td>122.3 ps</td>\n      <td>66.0 ps</td>\n      <td>66.3 ps</td>\n      <td>68.6 ps</td>\n      <td>86.1 ps</td>\n      <td>65.3 ps</td>\n      <td>63.3 ps</td>\n      <td>61.1 ps</td>\n      <td>61.1 ps</td>\n      <td>104.0 ps</td>\n      <td>118.8 ps</td>\n      <td>129.2 ps</td>\n      <td>119.9 ps</td>\n      <td>73.1 ps</td>\n      <td>69.3 ps</td>\n      <td>77.1 ps</td>\n      <td>83.9 ps</td>\n    </tr>\n    <tr>\n      <th>10</th>\n      <td>64.0 ps</td>\n      <td>68.5 ps</td>\n      <td>55.1 ps</td>\n      <td>58.0 ps</td>\n      <td>127.3 ps</td>\n      <td>121.9 ps</td>\n      <td>62.4 ps</td>\n      <td>62.6 ps</td>\n      <td>66.0 ps</td>\n      <td>84.4 ps</td>\n      <td>64.1 ps</td>\n      <td>63.1 ps</td>\n      <td>59.9 ps</td>\n      <td>58.3 ps</td>\n      <td>99.6 ps</td>\n      <td>108.1 ps</td>\n      <td>136.5 ps</td>\n      <td>136.6 ps</td>\n      <td>69.9 ps</td>\n      <td>67.1 ps</td>\n      <td>74.7 ps</td>\n      <td>84.8 ps</td>\n    </tr>\n    <tr>\n      <th>11</th>\n      <td>65.3 ps</td>\n      <td>67.4 ps</td>\n      <td>57.5 ps</td>\n      <td>55.7 ps</td>\n      <td>156.8 ps</td>\n      <td>136.8 ps</td>\n      <td>57.7 ps</td>\n      <td>67.4 ps</td>\n      <td>65.4 ps</td>\n      <td>101.1 ps</td>\n      <td>64.7 ps</td>\n      <td>64.6 ps</td>\n      <td>57.6 ps</td>\n      <td>56.6 ps</td>\n      <td>126.4 ps</td>\n      <td>135.6 ps</td>\n      <td>146.3 ps</td>\n      <td>130.7 ps</td>\n      <td>71.3 ps</td>\n      <td>65.7 ps</td>\n      <td>74.0 ps</td>\n      <td>77.5 ps</td>\n    </tr>\n    <tr>\n      <th>13</th>\n      <td>75.3 ps</td>\n      <td>73.0 ps</td>\n      <td>68.9 ps</td>\n      <td>68.3 ps</td>\n      <td>99.1 ps</td>\n      <td>96.8 ps</td>\n      <td>73.1 ps</td>\n      <td>78.5 ps</td>\n      <td>76.6 ps</td>\n      <td>92.3 ps</td>\n      <td>76.1 ps</td>\n      <td>74.9 ps</td>\n      <td>68.3 ps</td>\n      <td>66.5 ps</td>\n      <td>90.2 ps</td>\n      <td>97.8 ps</td>\n      <td>106.9 ps</td>\n      <td>102.7 ps</td>\n      <td>83.8 ps</td>\n      <td>70.8 ps</td>\n      <td>85.8 ps</td>\n      <td>98.2 ps</td>\n    </tr>\n    <tr>\n      <th>14</th>\n      <td>71.1 ps</td>\n      <td>71.6 ps</td>\n      <td>64.1 ps</td>\n      <td>70.8 ps</td>\n      <td>101.4 ps</td>\n      <td>91.7 ps</td>\n      <td>71.8 ps</td>\n      <td>69.6 ps</td>\n      <td>73.2 ps</td>\n      <td>85.7 ps</td>\n      <td>67.5 ps</td>\n      <td>72.4 ps</td>\n      <td>65.2 ps</td>\n      <td>63.2 ps</td>\n      <td>88.0 ps</td>\n      <td>98.2 ps</td>\n      <td>105.0 ps</td>\n      <td>96.9 ps</td>\n      <td>73.5 ps</td>\n      <td>66.0 ps</td>\n      <td>78.1 ps</td>\n      <td>74.0 ps</td>\n    </tr>\n    <tr>\n      <th>16</th>\n      <td>65.4 ps</td>\n      <td>70.2 ps</td>\n      <td>59.9 ps</td>\n      <td>57.0 ps</td>\n      <td>162.1 ps</td>\n      <td>138.8 ps</td>\n      <td>53.4 ps</td>\n      <td>60.5 ps</td>\n      <td>64.0 ps</td>\n      <td>87.7 ps</td>\n      <td>65.4 ps</td>\n      <td>65.6 ps</td>\n      <td>58.2 ps</td>\n      <td>56.8 ps</td>\n      <td>118.4 ps</td>\n      <td>130.7 ps</td>\n      <td>168.6 ps</td>\n      <td>120.2 ps</td>\n      <td>65.4 ps</td>\n      <td>63.7 ps</td>\n      <td>66.3 ps</td>\n      <td>77.4 ps</td>\n    </tr>\n    <tr>\n      <th>17</th>\n      <td>70.5 ps</td>\n      <td>73.4 ps</td>\n      <td>58.9 ps</td>\n      <td>60.0 ps</td>\n      <td>133.5 ps</td>\n      <td>113.7 ps</td>\n      <td>57.4 ps</td>\n      <td>58.1 ps</td>\n      <td>64.3 ps</td>\n      <td>83.1 ps</td>\n      <td>72.7 ps</td>\n      <td>68.1 ps</td>\n      <td>58.4 ps</td>\n      <td>59.5 ps</td>\n      <td>91.4 ps</td>\n      <td>109.7 ps</td>\n      <td>122.8 ps</td>\n      <td>102.2 ps</td>\n      <td>62.3 ps</td>\n      <td>63.8 ps</td>\n      <td>66.5 ps</td>\n      <td>84.2 ps</td>\n    </tr>\n    <tr>\n      <th>18</th>\n      <td>67.0 ps</td>\n      <td>69.2 ps</td>\n      <td>60.6 ps</td>\n      <td>61.2 ps</td>\n      <td>104.9 ps</td>\n      <td>99.8 ps</td>\n      <td>58.4 ps</td>\n      <td>62.7 ps</td>\n      <td>59.5 ps</td>\n      <td>80.7 ps</td>\n      <td>65.8 ps</td>\n      <td>64.2 ps</td>\n      <td>58.4 ps</td>\n      <td>59.5 ps</td>\n      <td>97.9 ps</td>\n      <td>100.8 ps</td>\n      <td>111.8 ps</td>\n      <td>106.9 ps</td>\n      <td>68.0 ps</td>\n      <td>60.9 ps</td>\n      <td>64.6 ps</td>\n      <td>70.3 ps</td>\n    </tr>\n    <tr>\n      <th>19</th>\n      <td>65.2 ps</td>\n      <td>69.9 ps</td>\n      <td>60.1 ps</td>\n      <td>62.0 ps</td>\n      <td>111.9 ps</td>\n      <td>105.6 ps</td>\n      <td>59.8 ps</td>\n      <td>61.5 ps</td>\n      <td>62.8 ps</td>\n      <td>75.7 ps</td>\n      <td>69.4 ps</td>\n      <td>67.8 ps</td>\n      <td>59.8 ps</td>\n      <td>61.5 ps</td>\n      <td>94.6 ps</td>\n      <td>103.5 ps</td>\n      <td>114.1 ps</td>\n      <td>108.1 ps</td>\n      <td>65.5 ps</td>\n      <td>63.7 ps</td>\n      <td>68.2 ps</td>\n      <td>72.9 ps</td>\n    </tr>\n    <tr>\n      <th>20</th>\n      <td>57.4 ps</td>\n      <td>72.0 ps</td>\n      <td>62.4 ps</td>\n      <td>60.0 ps</td>\n      <td>159.6 ps</td>\n      <td>124.7 ps</td>\n      <td>64.5 ps</td>\n      <td>75.7 ps</td>\n      <td>63.2 ps</td>\n      <td>122.3 ps</td>\n      <td>60.1 ps</td>\n      <td>70.6 ps</td>\n      <td>59.9 ps</td>\n      <td>59.9 ps</td>\n      <td>232.7 ps</td>\n      <td>237.3 ps</td>\n      <td>247.1 ps</td>\n      <td>197.6 ps</td>\n      <td>83.8 ps</td>\n      <td>63.7 ps</td>\n      <td>75.0 ps</td>\n      <td>73.9 ps</td>\n    </tr>\n    <tr>\n      <th>21</th>\n      <td>63.7 ps</td>\n      <td>65.7 ps</td>\n      <td>57.2 ps</td>\n      <td>58.8 ps</td>\n      <td>123.4 ps</td>\n      <td>122.2 ps</td>\n      <td>61.9 ps</td>\n      <td>63.5 ps</td>\n      <td>63.6 ps</td>\n      <td>83.7 ps</td>\n      <td>66.0 ps</td>\n      <td>61.4 ps</td>\n      <td>58.7 ps</td>\n      <td>58.5 ps</td>\n      <td>101.3 ps</td>\n      <td>106.8 ps</td>\n      <td>133.5 ps</td>\n      <td>134.7 ps</td>\n      <td>68.2 ps</td>\n      <td>62.2 ps</td>\n      <td>67.5 ps</td>\n      <td>75.6 ps</td>\n    </tr>\n    <tr>\n      <th>22</th>\n      <td>65.0 ps</td>\n      <td>69.9 ps</td>\n      <td>61.1 ps</td>\n      <td>57.6 ps</td>\n      <td>144.4 ps</td>\n      <td>133.0 ps</td>\n      <td>59.6 ps</td>\n      <td>74.4 ps</td>\n      <td>62.2 ps</td>\n      <td>112.6 ps</td>\n      <td>64.0 ps</td>\n      <td>66.3 ps</td>\n      <td>56.8 ps</td>\n      <td>56.8 ps</td>\n      <td>191.9 ps</td>\n      <td>195.9 ps</td>\n      <td>246.3 ps</td>\n      <td>167.2 ps</td>\n      <td>80.6 ps</td>\n      <td>63.6 ps</td>\n      <td>73.4 ps</td>\n      <td>73.8 ps</td>\n    </tr>\n    <tr>\n      <th>23</th>\n      <td>66.7 ps</td>\n      <td>68.7 ps</td>\n      <td>60.1 ps</td>\n      <td>55.7 ps</td>\n      <td>134.7 ps</td>\n      <td>127.6 ps</td>\n      <td>56.6 ps</td>\n      <td>68.9 ps</td>\n      <td>63.0 ps</td>\n      <td>103.1 ps</td>\n      <td>65.5 ps</td>\n      <td>65.1 ps</td>\n      <td>56.8 ps</td>\n      <td>55.5 ps</td>\n      <td>123.3 ps</td>\n      <td>139.6 ps</td>\n      <td>148.9 ps</td>\n      <td>127.1 ps</td>\n      <td>71.5 ps</td>\n      <td>62.3 ps</td>\n      <td>71.1 ps</td>\n      <td>73.5 ps</td>\n    </tr>\n    <tr>\n      <th>24</th>\n      <td>77.7 ps</td>\n      <td>74.3 ps</td>\n      <td>67.1 ps</td>\n      <td>69.0 ps</td>\n      <td>110.5 ps</td>\n      <td>103.0 ps</td>\n      <td>71.9 ps</td>\n      <td>68.4 ps</td>\n      <td>74.2 ps</td>\n      <td>95.8 ps</td>\n      <td>77.1 ps</td>\n      <td>82.0 ps</td>\n      <td>67.4 ps</td>\n      <td>66.8 ps</td>\n      <td>78.7 ps</td>\n      <td>95.6 ps</td>\n      <td>107.3 ps</td>\n      <td>94.2 ps</td>\n      <td>68.2 ps</td>\n      <td>70.8 ps</td>\n      <td>86.1 ps</td>\n      <td>90.6 ps</td>\n    </tr>\n    <tr>\n      <th>25</th>\n      <td>64.8 ps</td>\n      <td>67.6 ps</td>\n      <td>61.0 ps</td>\n      <td>62.7 ps</td>\n      <td>107.0 ps</td>\n      <td>99.7 ps</td>\n      <td>66.5 ps</td>\n      <td>66.7 ps</td>\n      <td>69.4 ps</td>\n      <td>84.2 ps</td>\n      <td>68.5 ps</td>\n      <td>69.9 ps</td>\n      <td>61.6 ps</td>\n      <td>61.8 ps</td>\n      <td>82.8 ps</td>\n      <td>94.4 ps</td>\n      <td>107.0 ps</td>\n      <td>101.4 ps</td>\n      <td>71.0 ps</td>\n      <td>68.1 ps</td>\n      <td>80.1 ps</td>\n      <td>82.8 ps</td>\n    </tr>\n    <tr>\n      <th>26</th>\n      <td>72.8 ps</td>\n      <td>69.8 ps</td>\n      <td>64.5 ps</td>\n      <td>65.8 ps</td>\n      <td>101.6 ps</td>\n      <td>96.4 ps</td>\n      <td>69.9 ps</td>\n      <td>69.0 ps</td>\n      <td>72.2 ps</td>\n      <td>85.0 ps</td>\n      <td>70.9 ps</td>\n      <td>71.1 ps</td>\n      <td>66.0 ps</td>\n      <td>67.2 ps</td>\n      <td>86.9 ps</td>\n      <td>97.3 ps</td>\n      <td>103.9 ps</td>\n      <td>96.0 ps</td>\n      <td>74.1 ps</td>\n      <td>72.9 ps</td>\n      <td>79.5 ps</td>\n      <td>82.6 ps</td>\n    </tr>\n    <tr>\n      <th>27</th>\n      <td>81.2 ps</td>\n      <td>79.5 ps</td>\n      <td>71.6 ps</td>\n      <td>75.0 ps</td>\n      <td>111.4 ps</td>\n      <td>103.6 ps</td>\n      <td>75.7 ps</td>\n      <td>68.5 ps</td>\n      <td>78.2 ps</td>\n      <td>95.8 ps</td>\n      <td>81.3 ps</td>\n      <td>85.0 ps</td>\n      <td>74.4 ps</td>\n      <td>74.8 ps</td>\n      <td>83.7 ps</td>\n      <td>102.0 ps</td>\n      <td>109.4 ps</td>\n      <td>89.9 ps</td>\n      <td>71.4 ps</td>\n      <td>76.7 ps</td>\n      <td>84.0 ps</td>\n      <td>92.6 ps</td>\n    </tr>\n    <tr>\n      <th>28</th>\n      <td>69.0 ps</td>\n      <td>75.0 ps</td>\n      <td>59.1 ps</td>\n      <td>58.4 ps</td>\n      <td>130.5 ps</td>\n      <td>112.8 ps</td>\n      <td>56.6 ps</td>\n      <td>58.8 ps</td>\n      <td>64.0 ps</td>\n      <td>84.5 ps</td>\n      <td>68.3 ps</td>\n      <td>67.0 ps</td>\n      <td>59.2 ps</td>\n      <td>57.0 ps</td>\n      <td>88.0 ps</td>\n      <td>110.6 ps</td>\n      <td>133.8 ps</td>\n      <td>100.9 ps</td>\n      <td>60.3 ps</td>\n      <td>62.5 ps</td>\n      <td>66.2 ps</td>\n      <td>81.9 ps</td>\n    </tr>\n    <tr>\n      <th>29</th>\n      <td>69.1 ps</td>\n      <td>72.2 ps</td>\n      <td>58.8 ps</td>\n      <td>60.2 ps</td>\n      <td>108.5 ps</td>\n      <td>106.5 ps</td>\n      <td>58.5 ps</td>\n      <td>61.9 ps</td>\n      <td>62.9 ps</td>\n      <td>91.4 ps</td>\n      <td>68.5 ps</td>\n      <td>63.1 ps</td>\n      <td>57.8 ps</td>\n      <td>58.4 ps</td>\n      <td>113.0 ps</td>\n      <td>134.8 ps</td>\n      <td>144.8 ps</td>\n      <td>111.8 ps</td>\n      <td>64.8 ps</td>\n      <td>59.6 ps</td>\n      <td>64.3 ps</td>\n      <td>74.1 ps</td>\n    </tr>\n    <tr>\n      <th>30</th>\n      <td>69.3 ps</td>\n      <td>71.1 ps</td>\n      <td>59.8 ps</td>\n      <td>60.6 ps</td>\n      <td>nan ps</td>\n      <td>nan ps</td>\n      <td>58.5 ps</td>\n      <td>62.0 ps</td>\n      <td>60.9 ps</td>\n      <td>86.2 ps</td>\n      <td>69.9 ps</td>\n      <td>65.4 ps</td>\n      <td>59.2 ps</td>\n      <td>59.5 ps</td>\n      <td>103.9 ps</td>\n      <td>110.3 ps</td>\n      <td>139.1 ps</td>\n      <td>124.2 ps</td>\n      <td>66.3 ps</td>\n      <td>60.8 ps</td>\n      <td>61.9 ps</td>\n      <td>78.5 ps</td>\n    </tr>\n    <tr>\n      <th>31</th>\n      <td>64.7 ps</td>\n      <td>69.1 ps</td>\n      <td>62.2 ps</td>\n      <td>61.5 ps</td>\n      <td>120.8 ps</td>\n      <td>126.6 ps</td>\n      <td>60.2 ps</td>\n      <td>64.5 ps</td>\n      <td>60.9 ps</td>\n      <td>81.1 ps</td>\n      <td>65.5 ps</td>\n      <td>65.2 ps</td>\n      <td>59.5 ps</td>\n      <td>59.4 ps</td>\n      <td>108.2 ps</td>\n      <td>114.4 ps</td>\n      <td>124.1 ps</td>\n      <td>118.5 ps</td>\n      <td>68.9 ps</td>\n      <td>62.2 ps</td>\n      <td>66.8 ps</td>\n      <td>67.0 ps</td>\n    </tr>\n  </tbody>\n</table>\n</div>"
     },
     "metadata": {},
     "output_type": "display_data"
    }
   ],
   "source": [
    "improv_data = np.array([list(f'{std * 1000:0.1f} ps' for x, std in r.values()) for r in results.values()])\n",
    "\n",
    "df = pd.DataFrame(improv_data, index=row_names, columns=col_names)\n",
    "df.index.name = 'trained on \\ tested on'\n",
    "with pd.option_context('display.max_columns', None):\n",
    "    display(df)"
   ],
   "metadata": {
    "collapsed": false,
    "ExecuteTime": {
     "start_time": "2023-04-29T19:32:12.111383Z",
     "end_time": "2023-04-29T19:32:12.169948Z"
    }
   }
  },
  {
   "cell_type": "code",
   "execution_count": 13,
   "outputs": [
    {
     "data": {
      "text/plain": "                            8      9     10     11     13     14     16    17  \\\ntrained on \\ tested on                                                          \n8                        14 %    1 %   -0 %    6 %  -30 %  -23 %   -1 %  -9 %   \n9                        15 %   10 %   10 %   10 %  -15 %   -4 %    4 %   7 %   \n10                       10 %    4 %   13 %   12 %   -5 %   -4 %   10 %  13 %   \n11                        8 %    6 %   10 %   16 %  -29 %  -17 %   16 %   6 %   \n13                       -6 %   -2 %   -8 %   -3 %   19 %   18 %   -6 %  -9 %   \n14                       -0 %   -0 %   -1 %   -7 %   17 %   22 %   -4 %   3 %   \n16                        8 %    2 %    6 %   14 %  -33 %  -18 %   23 %  16 %   \n17                        0 %   -3 %    7 %    9 %  -10 %    3 %   17 %  19 %   \n18                        5 %    3 %    5 %    7 %   14 %   15 %   15 %  12 %   \n19                        8 %    2 %    5 %    6 %    8 %   10 %   13 %  14 %   \n20                       19 %   -1 %    2 %    9 %  -31 %   -6 %    7 %  -6 %   \n21                       10 %    8 %   10 %   11 %   -1 %   -4 %   10 %  11 %   \n22                        8 %    2 %    4 %   13 %  -19 %  -13 %   14 %  -4 %   \n23                        6 %    4 %    6 %   16 %  -11 %   -9 %   18 %   4 %   \n24                      -10 %   -4 %   -5 %   -5 %    9 %   12 %   -4 %   5 %   \n25                        8 %    6 %    4 %    5 %   12 %   15 %    4 %   7 %   \n26                       -3 %    3 %   -1 %    0 %   17 %   18 %   -1 %   4 %   \n27                      -15 %  -11 %  -13 %  -14 %    8 %   12 %  -10 %   4 %   \n28                        2 %   -5 %    7 %   12 %   -7 %    4 %   18 %  18 %   \n29                        2 %   -1 %    8 %    9 %   11 %    9 %   15 %  14 %   \n30                        2 %    1 %    6 %    8 %  nan %  nan %   15 %  13 %   \n31                        9 %    3 %    2 %    7 %    1 %   -8 %   13 %  10 %   \n\n                           18     19     20     21     22     23      24  \\\ntrained on \\ tested on                                                     \n8                        -1 %  -26 %    6 %   -5 %    3 %    2 %   -76 %   \n9                         1 %    2 %    3 %    5 %    5 %    4 %   -11 %   \n10                        4 %    4 %    5 %    5 %    7 %    9 %    -7 %   \n11                        5 %  -15 %    4 %    3 %   10 %   11 %   -35 %   \n13                      -11 %   -5 %  -13 %  -12 %   -7 %   -4 %     3 %   \n14                       -6 %    2 %   -1 %   -9 %   -2 %    1 %     6 %   \n16                        7 %   -0 %    3 %    2 %    9 %   11 %   -27 %   \n17                        7 %    5 %   -8 %   -2 %    9 %    7 %     2 %   \n18                       14 %    8 %    2 %    4 %    9 %    7 %    -5 %   \n19                        9 %   14 %   -3 %   -2 %    7 %    4 %    -1 %   \n20                        8 %  -40 %   11 %   -6 %    7 %    6 %  -149 %   \n21                        8 %    4 %    2 %    8 %    9 %    8 %    -8 %   \n22                       10 %  -29 %    5 %    1 %   11 %   11 %  -105 %   \n23                        9 %  -18 %    2 %    2 %   11 %   13 %   -32 %   \n24                       -8 %   -9 %  -15 %  -23 %   -5 %   -4 %    16 %   \n25                       -1 %    4 %   -2 %   -5 %    4 %    3 %    11 %   \n26                       -5 %    3 %   -5 %   -7 %   -3 %   -5 %     7 %   \n27                      -13 %   -9 %  -21 %  -27 %  -16 %  -17 %    10 %   \n28                        7 %    4 %   -2 %   -0 %    8 %   11 %     6 %   \n29                        9 %   -4 %   -2 %    5 %   10 %    9 %   -21 %   \n30                       12 %    2 %   -4 %    2 %    8 %    7 %   -11 %   \n31                       12 %    7 %    3 %    2 %    7 %    7 %   -16 %   \n\n                            25      26     27     28     29     30     31  \ntrained on \\ tested on                                                     \n8                        -71 %   -49 %  -19 %  -14 %   -3 %  -12 %   -2 %  \n9                        -11 %    -8 %   -8 %    4 %    0 %   -5 %   -6 %  \n10                        -1 %   -14 %  -23 %    8 %    3 %   -2 %   -7 %  \n11                       -27 %   -22 %  -18 %    6 %    5 %   -1 %    2 %  \n13                         8 %    11 %    7 %  -10 %   -2 %  -17 %  -24 %  \n14                         8 %    13 %   13 %    3 %    5 %   -7 %    7 %  \n16                       -22 %   -41 %   -9 %   14 %    8 %    9 %    3 %  \n17                        -3 %    -2 %    8 %   18 %    8 %    9 %   -6 %  \n18                         6 %     7 %    4 %   11 %   12 %   12 %   12 %  \n19                         3 %     5 %    2 %   14 %    8 %    7 %    8 %  \n20                      -122 %  -106 %  -78 %  -10 %    8 %   -3 %    7 %  \n21                        -0 %   -11 %  -22 %   10 %   10 %    8 %    5 %  \n22                       -84 %  -105 %  -51 %   -6 %    8 %   -0 %    7 %  \n23                       -31 %   -24 %  -15 %    6 %   10 %    3 %    8 %  \n24                        10 %    11 %   15 %   10 %   -2 %  -18 %  -14 %  \n25                        12 %    11 %    8 %    7 %    2 %  -10 %   -4 %  \n26                         9 %    13 %   13 %    3 %   -5 %   -9 %   -4 %  \n27                         4 %     9 %   19 %    6 %  -10 %  -15 %  -17 %  \n28                        -4 %   -12 %    9 %   21 %   10 %   10 %   -3 %  \n29                       -26 %   -21 %   -1 %   15 %   14 %   12 %    7 %  \n30                        -3 %   -16 %  -12 %   13 %   12 %   15 %    1 %  \n31                        -7 %    -3 %   -7 %    9 %   10 %    9 %   16 %  ",
      "text/html": "<div>\n<style scoped>\n    .dataframe tbody tr th:only-of-type {\n        vertical-align: middle;\n    }\n\n    .dataframe tbody tr th {\n        vertical-align: top;\n    }\n\n    .dataframe thead th {\n        text-align: right;\n    }\n</style>\n<table border=\"1\" class=\"dataframe\">\n  <thead>\n    <tr style=\"text-align: right;\">\n      <th></th>\n      <th>8</th>\n      <th>9</th>\n      <th>10</th>\n      <th>11</th>\n      <th>13</th>\n      <th>14</th>\n      <th>16</th>\n      <th>17</th>\n      <th>18</th>\n      <th>19</th>\n      <th>20</th>\n      <th>21</th>\n      <th>22</th>\n      <th>23</th>\n      <th>24</th>\n      <th>25</th>\n      <th>26</th>\n      <th>27</th>\n      <th>28</th>\n      <th>29</th>\n      <th>30</th>\n      <th>31</th>\n    </tr>\n    <tr>\n      <th>trained on \\ tested on</th>\n      <th></th>\n      <th></th>\n      <th></th>\n      <th></th>\n      <th></th>\n      <th></th>\n      <th></th>\n      <th></th>\n      <th></th>\n      <th></th>\n      <th></th>\n      <th></th>\n      <th></th>\n      <th></th>\n      <th></th>\n      <th></th>\n      <th></th>\n      <th></th>\n      <th></th>\n      <th></th>\n      <th></th>\n      <th></th>\n    </tr>\n  </thead>\n  <tbody>\n    <tr>\n      <th>8</th>\n      <td>14 %</td>\n      <td>1 %</td>\n      <td>-0 %</td>\n      <td>6 %</td>\n      <td>-30 %</td>\n      <td>-23 %</td>\n      <td>-1 %</td>\n      <td>-9 %</td>\n      <td>-1 %</td>\n      <td>-26 %</td>\n      <td>6 %</td>\n      <td>-5 %</td>\n      <td>3 %</td>\n      <td>2 %</td>\n      <td>-76 %</td>\n      <td>-71 %</td>\n      <td>-49 %</td>\n      <td>-19 %</td>\n      <td>-14 %</td>\n      <td>-3 %</td>\n      <td>-12 %</td>\n      <td>-2 %</td>\n    </tr>\n    <tr>\n      <th>9</th>\n      <td>15 %</td>\n      <td>10 %</td>\n      <td>10 %</td>\n      <td>10 %</td>\n      <td>-15 %</td>\n      <td>-4 %</td>\n      <td>4 %</td>\n      <td>7 %</td>\n      <td>1 %</td>\n      <td>2 %</td>\n      <td>3 %</td>\n      <td>5 %</td>\n      <td>5 %</td>\n      <td>4 %</td>\n      <td>-11 %</td>\n      <td>-11 %</td>\n      <td>-8 %</td>\n      <td>-8 %</td>\n      <td>4 %</td>\n      <td>0 %</td>\n      <td>-5 %</td>\n      <td>-6 %</td>\n    </tr>\n    <tr>\n      <th>10</th>\n      <td>10 %</td>\n      <td>4 %</td>\n      <td>13 %</td>\n      <td>12 %</td>\n      <td>-5 %</td>\n      <td>-4 %</td>\n      <td>10 %</td>\n      <td>13 %</td>\n      <td>4 %</td>\n      <td>4 %</td>\n      <td>5 %</td>\n      <td>5 %</td>\n      <td>7 %</td>\n      <td>9 %</td>\n      <td>-7 %</td>\n      <td>-1 %</td>\n      <td>-14 %</td>\n      <td>-23 %</td>\n      <td>8 %</td>\n      <td>3 %</td>\n      <td>-2 %</td>\n      <td>-7 %</td>\n    </tr>\n    <tr>\n      <th>11</th>\n      <td>8 %</td>\n      <td>6 %</td>\n      <td>10 %</td>\n      <td>16 %</td>\n      <td>-29 %</td>\n      <td>-17 %</td>\n      <td>16 %</td>\n      <td>6 %</td>\n      <td>5 %</td>\n      <td>-15 %</td>\n      <td>4 %</td>\n      <td>3 %</td>\n      <td>10 %</td>\n      <td>11 %</td>\n      <td>-35 %</td>\n      <td>-27 %</td>\n      <td>-22 %</td>\n      <td>-18 %</td>\n      <td>6 %</td>\n      <td>5 %</td>\n      <td>-1 %</td>\n      <td>2 %</td>\n    </tr>\n    <tr>\n      <th>13</th>\n      <td>-6 %</td>\n      <td>-2 %</td>\n      <td>-8 %</td>\n      <td>-3 %</td>\n      <td>19 %</td>\n      <td>18 %</td>\n      <td>-6 %</td>\n      <td>-9 %</td>\n      <td>-11 %</td>\n      <td>-5 %</td>\n      <td>-13 %</td>\n      <td>-12 %</td>\n      <td>-7 %</td>\n      <td>-4 %</td>\n      <td>3 %</td>\n      <td>8 %</td>\n      <td>11 %</td>\n      <td>7 %</td>\n      <td>-10 %</td>\n      <td>-2 %</td>\n      <td>-17 %</td>\n      <td>-24 %</td>\n    </tr>\n    <tr>\n      <th>14</th>\n      <td>-0 %</td>\n      <td>-0 %</td>\n      <td>-1 %</td>\n      <td>-7 %</td>\n      <td>17 %</td>\n      <td>22 %</td>\n      <td>-4 %</td>\n      <td>3 %</td>\n      <td>-6 %</td>\n      <td>2 %</td>\n      <td>-1 %</td>\n      <td>-9 %</td>\n      <td>-2 %</td>\n      <td>1 %</td>\n      <td>6 %</td>\n      <td>8 %</td>\n      <td>13 %</td>\n      <td>13 %</td>\n      <td>3 %</td>\n      <td>5 %</td>\n      <td>-7 %</td>\n      <td>7 %</td>\n    </tr>\n    <tr>\n      <th>16</th>\n      <td>8 %</td>\n      <td>2 %</td>\n      <td>6 %</td>\n      <td>14 %</td>\n      <td>-33 %</td>\n      <td>-18 %</td>\n      <td>23 %</td>\n      <td>16 %</td>\n      <td>7 %</td>\n      <td>-0 %</td>\n      <td>3 %</td>\n      <td>2 %</td>\n      <td>9 %</td>\n      <td>11 %</td>\n      <td>-27 %</td>\n      <td>-22 %</td>\n      <td>-41 %</td>\n      <td>-9 %</td>\n      <td>14 %</td>\n      <td>8 %</td>\n      <td>9 %</td>\n      <td>3 %</td>\n    </tr>\n    <tr>\n      <th>17</th>\n      <td>0 %</td>\n      <td>-3 %</td>\n      <td>7 %</td>\n      <td>9 %</td>\n      <td>-10 %</td>\n      <td>3 %</td>\n      <td>17 %</td>\n      <td>19 %</td>\n      <td>7 %</td>\n      <td>5 %</td>\n      <td>-8 %</td>\n      <td>-2 %</td>\n      <td>9 %</td>\n      <td>7 %</td>\n      <td>2 %</td>\n      <td>-3 %</td>\n      <td>-2 %</td>\n      <td>8 %</td>\n      <td>18 %</td>\n      <td>8 %</td>\n      <td>9 %</td>\n      <td>-6 %</td>\n    </tr>\n    <tr>\n      <th>18</th>\n      <td>5 %</td>\n      <td>3 %</td>\n      <td>5 %</td>\n      <td>7 %</td>\n      <td>14 %</td>\n      <td>15 %</td>\n      <td>15 %</td>\n      <td>12 %</td>\n      <td>14 %</td>\n      <td>8 %</td>\n      <td>2 %</td>\n      <td>4 %</td>\n      <td>9 %</td>\n      <td>7 %</td>\n      <td>-5 %</td>\n      <td>6 %</td>\n      <td>7 %</td>\n      <td>4 %</td>\n      <td>11 %</td>\n      <td>12 %</td>\n      <td>12 %</td>\n      <td>12 %</td>\n    </tr>\n    <tr>\n      <th>19</th>\n      <td>8 %</td>\n      <td>2 %</td>\n      <td>5 %</td>\n      <td>6 %</td>\n      <td>8 %</td>\n      <td>10 %</td>\n      <td>13 %</td>\n      <td>14 %</td>\n      <td>9 %</td>\n      <td>14 %</td>\n      <td>-3 %</td>\n      <td>-2 %</td>\n      <td>7 %</td>\n      <td>4 %</td>\n      <td>-1 %</td>\n      <td>3 %</td>\n      <td>5 %</td>\n      <td>2 %</td>\n      <td>14 %</td>\n      <td>8 %</td>\n      <td>7 %</td>\n      <td>8 %</td>\n    </tr>\n    <tr>\n      <th>20</th>\n      <td>19 %</td>\n      <td>-1 %</td>\n      <td>2 %</td>\n      <td>9 %</td>\n      <td>-31 %</td>\n      <td>-6 %</td>\n      <td>7 %</td>\n      <td>-6 %</td>\n      <td>8 %</td>\n      <td>-40 %</td>\n      <td>11 %</td>\n      <td>-6 %</td>\n      <td>7 %</td>\n      <td>6 %</td>\n      <td>-149 %</td>\n      <td>-122 %</td>\n      <td>-106 %</td>\n      <td>-78 %</td>\n      <td>-10 %</td>\n      <td>8 %</td>\n      <td>-3 %</td>\n      <td>7 %</td>\n    </tr>\n    <tr>\n      <th>21</th>\n      <td>10 %</td>\n      <td>8 %</td>\n      <td>10 %</td>\n      <td>11 %</td>\n      <td>-1 %</td>\n      <td>-4 %</td>\n      <td>10 %</td>\n      <td>11 %</td>\n      <td>8 %</td>\n      <td>4 %</td>\n      <td>2 %</td>\n      <td>8 %</td>\n      <td>9 %</td>\n      <td>8 %</td>\n      <td>-8 %</td>\n      <td>-0 %</td>\n      <td>-11 %</td>\n      <td>-22 %</td>\n      <td>10 %</td>\n      <td>10 %</td>\n      <td>8 %</td>\n      <td>5 %</td>\n    </tr>\n    <tr>\n      <th>22</th>\n      <td>8 %</td>\n      <td>2 %</td>\n      <td>4 %</td>\n      <td>13 %</td>\n      <td>-19 %</td>\n      <td>-13 %</td>\n      <td>14 %</td>\n      <td>-4 %</td>\n      <td>10 %</td>\n      <td>-29 %</td>\n      <td>5 %</td>\n      <td>1 %</td>\n      <td>11 %</td>\n      <td>11 %</td>\n      <td>-105 %</td>\n      <td>-84 %</td>\n      <td>-105 %</td>\n      <td>-51 %</td>\n      <td>-6 %</td>\n      <td>8 %</td>\n      <td>-0 %</td>\n      <td>7 %</td>\n    </tr>\n    <tr>\n      <th>23</th>\n      <td>6 %</td>\n      <td>4 %</td>\n      <td>6 %</td>\n      <td>16 %</td>\n      <td>-11 %</td>\n      <td>-9 %</td>\n      <td>18 %</td>\n      <td>4 %</td>\n      <td>9 %</td>\n      <td>-18 %</td>\n      <td>2 %</td>\n      <td>2 %</td>\n      <td>11 %</td>\n      <td>13 %</td>\n      <td>-32 %</td>\n      <td>-31 %</td>\n      <td>-24 %</td>\n      <td>-15 %</td>\n      <td>6 %</td>\n      <td>10 %</td>\n      <td>3 %</td>\n      <td>8 %</td>\n    </tr>\n    <tr>\n      <th>24</th>\n      <td>-10 %</td>\n      <td>-4 %</td>\n      <td>-5 %</td>\n      <td>-5 %</td>\n      <td>9 %</td>\n      <td>12 %</td>\n      <td>-4 %</td>\n      <td>5 %</td>\n      <td>-8 %</td>\n      <td>-9 %</td>\n      <td>-15 %</td>\n      <td>-23 %</td>\n      <td>-5 %</td>\n      <td>-4 %</td>\n      <td>16 %</td>\n      <td>10 %</td>\n      <td>11 %</td>\n      <td>15 %</td>\n      <td>10 %</td>\n      <td>-2 %</td>\n      <td>-18 %</td>\n      <td>-14 %</td>\n    </tr>\n    <tr>\n      <th>25</th>\n      <td>8 %</td>\n      <td>6 %</td>\n      <td>4 %</td>\n      <td>5 %</td>\n      <td>12 %</td>\n      <td>15 %</td>\n      <td>4 %</td>\n      <td>7 %</td>\n      <td>-1 %</td>\n      <td>4 %</td>\n      <td>-2 %</td>\n      <td>-5 %</td>\n      <td>4 %</td>\n      <td>3 %</td>\n      <td>11 %</td>\n      <td>12 %</td>\n      <td>11 %</td>\n      <td>8 %</td>\n      <td>7 %</td>\n      <td>2 %</td>\n      <td>-10 %</td>\n      <td>-4 %</td>\n    </tr>\n    <tr>\n      <th>26</th>\n      <td>-3 %</td>\n      <td>3 %</td>\n      <td>-1 %</td>\n      <td>0 %</td>\n      <td>17 %</td>\n      <td>18 %</td>\n      <td>-1 %</td>\n      <td>4 %</td>\n      <td>-5 %</td>\n      <td>3 %</td>\n      <td>-5 %</td>\n      <td>-7 %</td>\n      <td>-3 %</td>\n      <td>-5 %</td>\n      <td>7 %</td>\n      <td>9 %</td>\n      <td>13 %</td>\n      <td>13 %</td>\n      <td>3 %</td>\n      <td>-5 %</td>\n      <td>-9 %</td>\n      <td>-4 %</td>\n    </tr>\n    <tr>\n      <th>27</th>\n      <td>-15 %</td>\n      <td>-11 %</td>\n      <td>-13 %</td>\n      <td>-14 %</td>\n      <td>8 %</td>\n      <td>12 %</td>\n      <td>-10 %</td>\n      <td>4 %</td>\n      <td>-13 %</td>\n      <td>-9 %</td>\n      <td>-21 %</td>\n      <td>-27 %</td>\n      <td>-16 %</td>\n      <td>-17 %</td>\n      <td>10 %</td>\n      <td>4 %</td>\n      <td>9 %</td>\n      <td>19 %</td>\n      <td>6 %</td>\n      <td>-10 %</td>\n      <td>-15 %</td>\n      <td>-17 %</td>\n    </tr>\n    <tr>\n      <th>28</th>\n      <td>2 %</td>\n      <td>-5 %</td>\n      <td>7 %</td>\n      <td>12 %</td>\n      <td>-7 %</td>\n      <td>4 %</td>\n      <td>18 %</td>\n      <td>18 %</td>\n      <td>7 %</td>\n      <td>4 %</td>\n      <td>-2 %</td>\n      <td>-0 %</td>\n      <td>8 %</td>\n      <td>11 %</td>\n      <td>6 %</td>\n      <td>-4 %</td>\n      <td>-12 %</td>\n      <td>9 %</td>\n      <td>21 %</td>\n      <td>10 %</td>\n      <td>10 %</td>\n      <td>-3 %</td>\n    </tr>\n    <tr>\n      <th>29</th>\n      <td>2 %</td>\n      <td>-1 %</td>\n      <td>8 %</td>\n      <td>9 %</td>\n      <td>11 %</td>\n      <td>9 %</td>\n      <td>15 %</td>\n      <td>14 %</td>\n      <td>9 %</td>\n      <td>-4 %</td>\n      <td>-2 %</td>\n      <td>5 %</td>\n      <td>10 %</td>\n      <td>9 %</td>\n      <td>-21 %</td>\n      <td>-26 %</td>\n      <td>-21 %</td>\n      <td>-1 %</td>\n      <td>15 %</td>\n      <td>14 %</td>\n      <td>12 %</td>\n      <td>7 %</td>\n    </tr>\n    <tr>\n      <th>30</th>\n      <td>2 %</td>\n      <td>1 %</td>\n      <td>6 %</td>\n      <td>8 %</td>\n      <td>nan %</td>\n      <td>nan %</td>\n      <td>15 %</td>\n      <td>13 %</td>\n      <td>12 %</td>\n      <td>2 %</td>\n      <td>-4 %</td>\n      <td>2 %</td>\n      <td>8 %</td>\n      <td>7 %</td>\n      <td>-11 %</td>\n      <td>-3 %</td>\n      <td>-16 %</td>\n      <td>-12 %</td>\n      <td>13 %</td>\n      <td>12 %</td>\n      <td>15 %</td>\n      <td>1 %</td>\n    </tr>\n    <tr>\n      <th>31</th>\n      <td>9 %</td>\n      <td>3 %</td>\n      <td>2 %</td>\n      <td>7 %</td>\n      <td>1 %</td>\n      <td>-8 %</td>\n      <td>13 %</td>\n      <td>10 %</td>\n      <td>12 %</td>\n      <td>7 %</td>\n      <td>3 %</td>\n      <td>2 %</td>\n      <td>7 %</td>\n      <td>7 %</td>\n      <td>-16 %</td>\n      <td>-7 %</td>\n      <td>-3 %</td>\n      <td>-7 %</td>\n      <td>9 %</td>\n      <td>10 %</td>\n      <td>9 %</td>\n      <td>16 %</td>\n    </tr>\n  </tbody>\n</table>\n</div>"
     },
     "metadata": {},
     "output_type": "display_data"
    }
   ],
   "source": [
    "improv_data = np.array([list(f'{x * 100:0.0f} %' for x, std in r.values()) for r in results.values()])\n",
    "\n",
    "df = pd.DataFrame(improv_data, index=row_names, columns=col_names)\n",
    "df.index.name = 'trained on \\ tested on'\n",
    "with pd.option_context('display.max_columns', None):\n",
    "    display(df)"
   ],
   "metadata": {
    "collapsed": false,
    "ExecuteTime": {
     "start_time": "2023-04-29T19:32:12.117382Z",
     "end_time": "2023-04-29T19:32:12.176946Z"
    }
   }
  },
  {
   "cell_type": "markdown",
   "source": [
    "## Trained on all the channels, tested on separate channels"
   ],
   "metadata": {
    "collapsed": false
   }
  },
  {
   "cell_type": "code",
   "execution_count": 14,
   "outputs": [
    {
     "data": {
      "text/plain": "((416976, 48), (104257, 48), (416976,), (104257,))"
     },
     "execution_count": 14,
     "metadata": {},
     "output_type": "execute_result"
    }
   ],
   "source": [
    "X_all_train, X_all_test, y_all_train, y_all_test = [], [], [], []\n",
    "\n",
    "for X, y in list(all_channels_data.values()):\n",
    "    X_aug, y_aug = augmentation_random_cut(X, y, 16, seed=42, apply=True)\n",
    "    X_train, X_test, y_train, y_test = train_test_split(X_aug, y_aug, test_size=TEST_SIZE, random_state=RANDOM_STATE)\n",
    "\n",
    "    X_all_train.append(X_train)\n",
    "    X_all_test.append(X_test)\n",
    "    y_all_train.append(y_train)\n",
    "    y_all_test.append(y_test)\n",
    "\n",
    "X_all_train = np.concatenate(X_all_train)\n",
    "X_all_test = np.concatenate(X_all_test)\n",
    "y_all_train = np.concatenate(y_all_train)\n",
    "y_all_test = np.concatenate(y_all_test)\n",
    "\n",
    "Y_all_heatmap_train = np.array([gaussian_kernel(y) for y in y_all_train])\n",
    "Y_all_heatmap_test = np.array([gaussian_kernel(y) for y in y_all_test])\n",
    "\n",
    "X_all_train.shape, X_all_test.shape, y_all_train.shape, y_all_test.shape"
   ],
   "metadata": {
    "collapsed": false,
    "ExecuteTime": {
     "start_time": "2023-04-29T19:32:12.135942Z",
     "end_time": "2023-04-29T19:32:14.182437Z"
    }
   }
  },
  {
   "cell_type": "code",
   "execution_count": 15,
   "outputs": [
    {
     "data": {
      "text/plain": "<Figure size 1000x700 with 1 Axes>",
      "image/png": "[encoded data removed]"
     },
     "metadata": {},
     "output_type": "display_data"
    }
   ],
   "source": [
    "model = optimal_model_builder()\n",
    "\n",
    "history = train_model(model, X_all_train, Y_all_heatmap_train, X_all_test, Y_all_heatmap_test,\n",
    "                      name=f'model_all_channels', batch_size=8192, train=False, n_epochs=500, verbose=1,\n",
    "                      lr_patience=4, es_patience=50)\n",
    "\n",
    "plot_history(history, f\"All channels, {len(X_all_train)} training events\", ymax=100, figsize=(10, 7))"
   ],
   "metadata": {
    "collapsed": false,
    "ExecuteTime": {
     "start_time": "2023-04-29T19:32:14.185437Z",
     "end_time": "2023-04-29T19:32:14.669709Z"
    }
   }
  },
  {
   "cell_type": "code",
   "execution_count": 16,
   "outputs": [
    {
     "name": "stdout",
     "output_type": "stream",
     "text": [
      "1/1 [==============================] - 0s 237ms/step\n"
     ]
    },
    {
     "data": {
      "text/plain": "<IPython.core.display.HTML object>",
      "text/html": "<h4>Channel 8</h4>"
     },
     "metadata": {},
     "output_type": "display_data"
    },
    {
     "name": "stdout",
     "output_type": "stream",
     "text": [
      "CFD: 0.453, NN: 0.471 (0.071 ns vs 0.074 ns)\n",
      "Improvement: -4.12 %\n",
      "1/1 [==============================] - 0s 12ms/step\n"
     ]
    },
    {
     "data": {
      "text/plain": "<IPython.core.display.HTML object>",
      "text/html": "<h4>Channel 9</h4>"
     },
     "metadata": {},
     "output_type": "display_data"
    },
    {
     "name": "stdout",
     "output_type": "stream",
     "text": [
      "CFD: 0.458, NN: 0.432 (0.072 ns vs 0.068 ns)\n",
      "Improvement: 5.62 %\n",
      "1/1 [==============================] - 0s 13ms/step\n"
     ]
    },
    {
     "data": {
      "text/plain": "<IPython.core.display.HTML object>",
      "text/html": "<h4>Channel 10</h4>"
     },
     "metadata": {},
     "output_type": "display_data"
    },
    {
     "name": "stdout",
     "output_type": "stream",
     "text": [
      "CFD: 0.407, NN: 0.375 (0.064 ns vs 0.059 ns)\n",
      "Improvement: 7.81 %\n",
      "1/1 [==============================] - 0s 12ms/step\n"
     ]
    },
    {
     "data": {
      "text/plain": "<IPython.core.display.HTML object>",
      "text/html": "<h4>Channel 11</h4>"
     },
     "metadata": {},
     "output_type": "display_data"
    },
    {
     "name": "stdout",
     "output_type": "stream",
     "text": [
      "CFD: 0.423, NN: 0.368 (0.066 ns vs 0.058 ns)\n",
      "Improvement: 12.86 %\n",
      "1/1 [==============================] - 0s 13ms/step\n"
     ]
    },
    {
     "data": {
      "text/plain": "<IPython.core.display.HTML object>",
      "text/html": "<h4>Channel 13</h4>"
     },
     "metadata": {},
     "output_type": "display_data"
    },
    {
     "name": "stdout",
     "output_type": "stream",
     "text": [
      "CFD: 0.779, NN: 0.681 (0.122 ns vs 0.106 ns)\n",
      "Improvement: 12.62 %\n",
      "1/1 [==============================] - 0s 13ms/step\n"
     ]
    },
    {
     "data": {
      "text/plain": "<IPython.core.display.HTML object>",
      "text/html": "<h4>Channel 14</h4>"
     },
     "metadata": {},
     "output_type": "display_data"
    },
    {
     "name": "stdout",
     "output_type": "stream",
     "text": [
      "CFD: 0.751, NN: 0.647 (0.117 ns vs 0.101 ns)\n",
      "Improvement: 13.88 %\n",
      "1/1 [==============================] - 0s 13ms/step\n"
     ]
    },
    {
     "data": {
      "text/plain": "<IPython.core.display.HTML object>",
      "text/html": "<h4>Channel 16</h4>"
     },
     "metadata": {},
     "output_type": "display_data"
    },
    {
     "name": "stdout",
     "output_type": "stream",
     "text": [
      "CFD: 0.442, NN: 0.346 (0.069 ns vs 0.054 ns)\n",
      "Improvement: 21.65 %\n",
      "1/1 [==============================] - 0s 12ms/step\n"
     ]
    },
    {
     "data": {
      "text/plain": "<IPython.core.display.HTML object>",
      "text/html": "<h4>Channel 17</h4>"
     },
     "metadata": {},
     "output_type": "display_data"
    },
    {
     "name": "stdout",
     "output_type": "stream",
     "text": [
      "CFD: 0.459, NN: 0.395 (0.072 ns vs 0.062 ns)\n",
      "Improvement: 13.89 %\n",
      "1/1 [==============================] - 0s 13ms/step\n"
     ]
    },
    {
     "data": {
      "text/plain": "<IPython.core.display.HTML object>",
      "text/html": "<h4>Channel 18</h4>"
     },
     "metadata": {},
     "output_type": "display_data"
    },
    {
     "name": "stdout",
     "output_type": "stream",
     "text": [
      "CFD: 0.441, NN: 0.380 (0.069 ns vs 0.059 ns)\n",
      "Improvement: 13.80 %\n",
      "1/1 [==============================] - 0s 12ms/step\n"
     ]
    },
    {
     "data": {
      "text/plain": "<IPython.core.display.HTML object>",
      "text/html": "<h4>Channel 19</h4>"
     },
     "metadata": {},
     "output_type": "display_data"
    },
    {
     "name": "stdout",
     "output_type": "stream",
     "text": [
      "CFD: 0.560, NN: 0.519 (0.088 ns vs 0.081 ns)\n",
      "Improvement: 7.46 %\n",
      "1/1 [==============================] - 0s 12ms/step\n"
     ]
    },
    {
     "data": {
      "text/plain": "<IPython.core.display.HTML object>",
      "text/html": "<h4>Channel 20</h4>"
     },
     "metadata": {},
     "output_type": "display_data"
    },
    {
     "name": "stdout",
     "output_type": "stream",
     "text": [
      "CFD: 0.430, NN: 0.422 (0.067 ns vs 0.066 ns)\n",
      "Improvement: 1.96 %\n",
      "1/1 [==============================] - 0s 13ms/step\n"
     ]
    },
    {
     "data": {
      "text/plain": "<IPython.core.display.HTML object>",
      "text/html": "<h4>Channel 21</h4>"
     },
     "metadata": {},
     "output_type": "display_data"
    },
    {
     "name": "stdout",
     "output_type": "stream",
     "text": [
      "CFD: 0.427, NN: 0.404 (0.067 ns vs 0.063 ns)\n",
      "Improvement: 5.50 %\n",
      "1/1 [==============================] - 0s 12ms/step\n"
     ]
    },
    {
     "data": {
      "text/plain": "<IPython.core.display.HTML object>",
      "text/html": "<h4>Channel 22</h4>"
     },
     "metadata": {},
     "output_type": "display_data"
    },
    {
     "name": "stdout",
     "output_type": "stream",
     "text": [
      "CFD: 0.410, NN: 0.362 (0.064 ns vs 0.057 ns)\n",
      "Improvement: 11.74 %\n",
      "1/1 [==============================] - 0s 12ms/step\n"
     ]
    },
    {
     "data": {
      "text/plain": "<IPython.core.display.HTML object>",
      "text/html": "<h4>Channel 23</h4>"
     },
     "metadata": {},
     "output_type": "display_data"
    },
    {
     "name": "stdout",
     "output_type": "stream",
     "text": [
      "CFD: 0.409, NN: 0.374 (0.064 ns vs 0.058 ns)\n",
      "Improvement: 8.61 %\n",
      "2/2 [==============================] - 0s 82ms/step\n"
     ]
    },
    {
     "data": {
      "text/plain": "<IPython.core.display.HTML object>",
      "text/html": "<h4>Channel 24</h4>"
     },
     "metadata": {},
     "output_type": "display_data"
    },
    {
     "name": "stdout",
     "output_type": "stream",
     "text": [
      "CFD: 0.598, NN: 0.525 (0.093 ns vs 0.082 ns)\n",
      "Improvement: 12.26 %\n",
      "1/1 [==============================] - 0s 12ms/step\n"
     ]
    },
    {
     "data": {
      "text/plain": "<IPython.core.display.HTML object>",
      "text/html": "<h4>Channel 25</h4>"
     },
     "metadata": {},
     "output_type": "display_data"
    },
    {
     "name": "stdout",
     "output_type": "stream",
     "text": [
      "CFD: 0.683, NN: 0.618 (0.107 ns vs 0.097 ns)\n",
      "Improvement: 9.47 %\n",
      "1/1 [==============================] - 0s 12ms/step\n",
      "Error calculating 5993\n"
     ]
    },
    {
     "data": {
      "text/plain": "<IPython.core.display.HTML object>",
      "text/html": "<h4>Channel 26</h4>"
     },
     "metadata": {},
     "output_type": "display_data"
    },
    {
     "name": "stdout",
     "output_type": "stream",
     "text": [
      "CFD: 0.768, NN: 0.708 (0.120 ns vs 0.111 ns)\n",
      "Improvement: 7.79 %\n",
      "2/2 [==============================] - 0s 163ms/step\n"
     ]
    },
    {
     "data": {
      "text/plain": "<IPython.core.display.HTML object>",
      "text/html": "<h4>Channel 27</h4>"
     },
     "metadata": {},
     "output_type": "display_data"
    },
    {
     "name": "stdout",
     "output_type": "stream",
     "text": [
      "CFD: 0.709, NN: 0.592 (0.111 ns vs 0.092 ns)\n",
      "Improvement: 16.55 %\n",
      "1/1 [==============================] - 0s 13ms/step\n"
     ]
    },
    {
     "data": {
      "text/plain": "<IPython.core.display.HTML object>",
      "text/html": "<h4>Channel 28</h4>"
     },
     "metadata": {},
     "output_type": "display_data"
    },
    {
     "name": "stdout",
     "output_type": "stream",
     "text": [
      "CFD: 0.487, NN: 0.378 (0.076 ns vs 0.059 ns)\n",
      "Improvement: 22.42 %\n",
      "1/1 [==============================] - 0s 12ms/step\n"
     ]
    },
    {
     "data": {
      "text/plain": "<IPython.core.display.HTML object>",
      "text/html": "<h4>Channel 29</h4>"
     },
     "metadata": {},
     "output_type": "display_data"
    },
    {
     "name": "stdout",
     "output_type": "stream",
     "text": [
      "CFD: 0.444, NN: 0.394 (0.069 ns vs 0.062 ns)\n",
      "Improvement: 11.20 %\n",
      "1/1 [==============================] - 0s 11ms/step\n"
     ]
    },
    {
     "data": {
      "text/plain": "<IPython.core.display.HTML object>",
      "text/html": "<h4>Channel 30</h4>"
     },
     "metadata": {},
     "output_type": "display_data"
    },
    {
     "name": "stdout",
     "output_type": "stream",
     "text": [
      "CFD: 0.468, NN: 0.400 (0.073 ns vs 0.063 ns)\n",
      "Improvement: 14.52 %\n",
      "1/1 [==============================] - 0s 12ms/step\n"
     ]
    },
    {
     "data": {
      "text/plain": "<IPython.core.display.HTML object>",
      "text/html": "<h4>Channel 31</h4>"
     },
     "metadata": {},
     "output_type": "display_data"
    },
    {
     "name": "stdout",
     "output_type": "stream",
     "text": [
      "CFD: 0.509, NN: 0.440 (0.079 ns vs 0.069 ns)\n",
      "Improvement: 13.57 %\n"
     ]
    }
   ],
   "source": [
    "improvements = {}\n",
    "for channel, (X, y) in list(all_channels_data.items()):\n",
    "    X_aug, y_aug = augmentation_random_cut(X, y, 16, seed=42, apply=True)\n",
    "    _, X_test, _, y_test = train_test_split(X_aug, y_aug, test_size=TEST_SIZE, random_state=RANDOM_STATE)\n",
    "    Y_heatmap_test = np.array([gaussian_kernel(y) for y in y_test])\n",
    "\n",
    "    improvement, _, std_model = compare_model_with_cfd(model, cfd, X_test, y_test, channel, show=False)\n",
    "    improvements[channel] = (improvement, std_model)"
   ],
   "metadata": {
    "collapsed": false,
    "ExecuteTime": {
     "start_time": "2023-04-29T19:32:14.670708Z",
     "end_time": "2023-04-29T19:32:42.839235Z"
    }
   }
  },
  {
   "cell_type": "code",
   "execution_count": 17,
   "outputs": [
    {
     "data": {
      "text/plain": "        precision [ps] improvement\nchannel                           \n8                 73.7        -4 %\n9                 67.5         6 %\n10                58.6         8 %\n11                57.5        13 %\n13               106.4        13 %\n14               101.1        14 %\n16                54.1        22 %\n17                61.7        14 %\n18                59.5        14 %\n19                81.0         7 %\n20                65.9         2 %\n21                63.0         5 %\n22                56.6        12 %\n23                58.4         9 %\n24                82.0        12 %\n25                96.6         9 %\n26               110.6         8 %\n27                92.5        17 %\n28                59.0        22 %\n29                61.6        11 %\n30                62.5        15 %\n31                68.7        14 %",
      "text/html": "<div>\n<style scoped>\n    .dataframe tbody tr th:only-of-type {\n        vertical-align: middle;\n    }\n\n    .dataframe tbody tr th {\n        vertical-align: top;\n    }\n\n    .dataframe thead th {\n        text-align: right;\n    }\n</style>\n<table border=\"1\" class=\"dataframe\">\n  <thead>\n    <tr style=\"text-align: right;\">\n      <th></th>\n      <th>precision [ps]</th>\n      <th>improvement</th>\n    </tr>\n    <tr>\n      <th>channel</th>\n      <th></th>\n      <th></th>\n    </tr>\n  </thead>\n  <tbody>\n    <tr>\n      <th>8</th>\n      <td>73.7</td>\n      <td>-4 %</td>\n    </tr>\n    <tr>\n      <th>9</th>\n      <td>67.5</td>\n      <td>6 %</td>\n    </tr>\n    <tr>\n      <th>10</th>\n      <td>58.6</td>\n      <td>8 %</td>\n    </tr>\n    <tr>\n      <th>11</th>\n      <td>57.5</td>\n      <td>13 %</td>\n    </tr>\n    <tr>\n      <th>13</th>\n      <td>106.4</td>\n      <td>13 %</td>\n    </tr>\n    <tr>\n      <th>14</th>\n      <td>101.1</td>\n      <td>14 %</td>\n    </tr>\n    <tr>\n      <th>16</th>\n      <td>54.1</td>\n      <td>22 %</td>\n    </tr>\n    <tr>\n      <th>17</th>\n      <td>61.7</td>\n      <td>14 %</td>\n    </tr>\n    <tr>\n      <th>18</th>\n      <td>59.5</td>\n      <td>14 %</td>\n    </tr>\n    <tr>\n      <th>19</th>\n      <td>81.0</td>\n      <td>7 %</td>\n    </tr>\n    <tr>\n      <th>20</th>\n      <td>65.9</td>\n      <td>2 %</td>\n    </tr>\n    <tr>\n      <th>21</th>\n      <td>63.0</td>\n      <td>5 %</td>\n    </tr>\n    <tr>\n      <th>22</th>\n      <td>56.6</td>\n      <td>12 %</td>\n    </tr>\n    <tr>\n      <th>23</th>\n      <td>58.4</td>\n      <td>9 %</td>\n    </tr>\n    <tr>\n      <th>24</th>\n      <td>82.0</td>\n      <td>12 %</td>\n    </tr>\n    <tr>\n      <th>25</th>\n      <td>96.6</td>\n      <td>9 %</td>\n    </tr>\n    <tr>\n      <th>26</th>\n      <td>110.6</td>\n      <td>8 %</td>\n    </tr>\n    <tr>\n      <th>27</th>\n      <td>92.5</td>\n      <td>17 %</td>\n    </tr>\n    <tr>\n      <th>28</th>\n      <td>59.0</td>\n      <td>22 %</td>\n    </tr>\n    <tr>\n      <th>29</th>\n      <td>61.6</td>\n      <td>11 %</td>\n    </tr>\n    <tr>\n      <th>30</th>\n      <td>62.5</td>\n      <td>15 %</td>\n    </tr>\n    <tr>\n      <th>31</th>\n      <td>68.7</td>\n      <td>14 %</td>\n    </tr>\n  </tbody>\n</table>\n</div>"
     },
     "execution_count": 17,
     "metadata": {},
     "output_type": "execute_result"
    }
   ],
   "source": [
    "channels = improvements.keys()\n",
    "precision_data = [f'{std_model * 1000:0.1f}' for _, std_model in improvements.values()]\n",
    "improvement_data = [f'{improv * 100:0.0f} %' for improv, _ in improvements.values()]\n",
    "\n",
    "df = pd.DataFrame({'precision [ps]': precision_data, 'improvement': improvement_data}, index=channels)\n",
    "df.index.name = 'channel'\n",
    "df"
   ],
   "metadata": {
    "collapsed": false,
    "ExecuteTime": {
     "start_time": "2023-04-29T19:32:42.843234Z",
     "end_time": "2023-04-29T19:32:42.868944Z"
    }
   }
  }
 ],
 "metadata": {
  "kernelspec": {
   "display_name": "Python 3",
   "language": "python",
   "name": "python3"
  },
  "language_info": {
   "codemirror_mode": {
    "name": "ipython",
    "version": 2
   },
   "file_extension": ".py",
   "mimetype": "text/x-python",
   "name": "python",
   "nbconvert_exporter": "python",
   "pygments_lexer": "ipython2",
   "version": "2.7.6"
  }
 },
 "nbformat": 4,
 "nbformat_minor": 0
}
