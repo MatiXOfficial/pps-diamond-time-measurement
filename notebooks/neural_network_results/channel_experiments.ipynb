{
 "cells": [
  {
   "cell_type": "code",
   "execution_count": 1,
   "metadata": {
    "collapsed": true,
    "ExecuteTime": {
     "start_time": "2023-04-19T22:25:38.541083Z",
     "end_time": "2023-04-19T22:25:41.731413Z"
    }
   },
   "outputs": [],
   "source": [
    "import sys\n",
    "\n",
    "from sklearn.model_selection import train_test_split\n",
    "\n",
    "from src.utils import augmentation_random_cut\n",
    "\n",
    "PWD = '../..'\n",
    "sys.path.append(PWD)\n",
    "\n",
    "from matplotlib import pyplot as plt\n",
    "import numpy as np\n",
    "import pandas as pd\n",
    "\n",
    "import warnings\n",
    "\n",
    "warnings.simplefilter('ignore')\n",
    "\n",
    "import tensorflow as tf\n",
    "\n",
    "tf.get_logger().setLevel('ERROR')\n",
    "from tensorflow.keras import optimizers\n",
    "from tensorflow.keras import callbacks\n",
    "\n",
    "from IPython.display import display, HTML\n",
    "\n",
    "from src.plot_utils import plot_sample, plot_history\n",
    "from src.cfd import CFD\n",
    "from src.cfd_utils import TIME_STEP, _get_gauss_stats, plot_diff_hist_stats\n",
    "from src.models import optimal_model_builder\n"
   ]
  },
  {
   "cell_type": "code",
   "execution_count": 2,
   "outputs": [],
   "source": [
    "dataset = np.load(PWD + f'/data/dataset.npz', allow_pickle=True)"
   ],
   "metadata": {
    "collapsed": false,
    "ExecuteTime": {
     "start_time": "2023-04-19T22:25:41.732415Z",
     "end_time": "2023-04-19T22:25:41.745640Z"
    }
   }
  },
  {
   "cell_type": "code",
   "execution_count": 3,
   "outputs": [
    {
     "data": {
      "text/plain": "dict_keys([8, 9, 10, 11, 13, 14, 16, 17, 18, 19, 20, 21, 22, 23, 24, 25, 26, 27, 28, 29, 30, 31])"
     },
     "execution_count": 3,
     "metadata": {},
     "output_type": "execute_result"
    }
   ],
   "source": [
    "all_channels_data = dataset['dataset'].flat[0]\n",
    "all_channels_data.keys()"
   ],
   "metadata": {
    "collapsed": false,
    "ExecuteTime": {
     "start_time": "2023-04-19T22:25:41.746640Z",
     "end_time": "2023-04-19T22:25:42.619940Z"
    }
   }
  },
  {
   "cell_type": "code",
   "execution_count": 4,
   "outputs": [],
   "source": [
    "TEST_SIZE = 0.2\n",
    "RANDOM_STATE = 42"
   ],
   "metadata": {
    "collapsed": false,
    "ExecuteTime": {
     "start_time": "2023-04-19T22:25:42.620940Z",
     "end_time": "2023-04-19T22:25:42.665238Z"
    }
   }
  },
  {
   "cell_type": "markdown",
   "source": [
    "# Utils"
   ],
   "metadata": {
    "collapsed": false
   }
  },
  {
   "cell_type": "code",
   "execution_count": 5,
   "outputs": [],
   "source": [
    "def plot_difference_hist(y_true, y_pred, channel, method, hist_range=(-2, 2), n_bins=100, return_gauss_stats=True):\n",
    "    mu, std = plot_diff_hist_stats(y_true, y_pred, show=False, n_bins=n_bins, hist_range=hist_range, hist_label=f'',\n",
    "                                   plot_gauss=True, return_gauss_stats=return_gauss_stats)\n",
    "\n",
    "    plt.title(f'{method}. channel={channel}, mean={mu:0.3f}, std={std:0.3f}')\n",
    "    return std\n",
    "\n",
    "\n",
    "def train_model(model, X_train, y_train, X_test, y_test, lr=0.01, name='model', train=True, n_epochs=3000, verbose=1,\n",
    "                batch_size=2048, lr_patience=10, es_patience=200, loss_weights=10_000):\n",
    "    model.compile(loss='mse', optimizer=optimizers.Adam(lr), loss_weights=loss_weights)\n",
    "\n",
    "    model_data_dir = f'/data/model_weights/nn_results/channel_experiments/{name}'\n",
    "    model_callbacks = []\n",
    "    model_callbacks.append(callbacks.ModelCheckpoint(filepath=PWD + model_data_dir + \"/weights\", save_best_only=True,\n",
    "                                                     save_weights_only=True))\n",
    "    if es_patience is not None:\n",
    "        model_callbacks.append(callbacks.EarlyStopping(patience=es_patience, min_delta=0.01))\n",
    "    if lr_patience is not None:\n",
    "        model_callbacks.append(callbacks.ReduceLROnPlateau(monitor='loss', factor=0.9, patience=lr_patience))\n",
    "\n",
    "    try:\n",
    "        pd.read_csv(PWD + model_data_dir + '/loss_log.csv')\n",
    "    except:\n",
    "        train = True\n",
    "\n",
    "    if train:\n",
    "        history = model.fit(X_train, y_train, epochs=n_epochs, verbose=verbose, batch_size=batch_size,\n",
    "                            validation_data=(X_test, y_test), callbacks=model_callbacks).history\n",
    "        pd.DataFrame(history).to_csv(PWD + model_data_dir + '/loss_log.csv')\n",
    "\n",
    "    model.load_weights(PWD + model_data_dir + \"/weights\")\n",
    "    history = pd.read_csv(PWD + model_data_dir + '/loss_log.csv')\n",
    "\n",
    "    return history\n",
    "\n",
    "\n",
    "def load_model(model, lr=0.01, name='model', loss_weights=None):\n",
    "    model.compile(loss='mse', optimizer=optimizers.Adam(lr), loss_weights=loss_weights)\n",
    "    model.load_weights(PWD + f'data/model_weights/nn_results/channel_experiments/{name}/weights')"
   ],
   "metadata": {
    "collapsed": false,
    "ExecuteTime": {
     "start_time": "2023-04-19T22:25:42.641190Z",
     "end_time": "2023-04-19T22:25:42.671239Z"
    }
   }
  },
  {
   "cell_type": "code",
   "execution_count": 6,
   "outputs": [],
   "source": [
    "def pred_and_retrieve_y(model, X):\n",
    "    Y_heatmap = model.predict(X, batch_size=8192)\n",
    "    y_pred = np.empty(len(X))\n",
    "    for i, y in enumerate(Y_heatmap):\n",
    "        try:\n",
    "            y_pred[i] = _get_gauss_stats(y, std_0=0.8)\n",
    "        except:\n",
    "            print(f'Error calculating {i}')\n",
    "            y_pred[i] = np.average(np.arange(len(y)), weights=y)\n",
    "    return y_pred\n",
    "\n",
    "\n",
    "def compare_model_with_cfd(model, cfd, X, y_true, channel=None, figsize=(12, 4), show=True, y_cfd=None,\n",
    "                           return_gauss_stats=True, log=True):\n",
    "    if y_cfd is None:\n",
    "        y_cfd = np.array([cfd.predict(x) for x in X])\n",
    "        n_none = list(y_cfd).count(None)\n",
    "        if n_none > 0:\n",
    "            print(f'--------------------> CFD returned {n_none} Nones out of {len(y_cfd)} examples')\n",
    "    y_cfd = y_cfd.astype(np.float64)\n",
    "    y_model = pred_and_retrieve_y(model, X)\n",
    "\n",
    "    mask = y_cfd != None\n",
    "    y_true = y_true[mask]\n",
    "    y_cfd = y_cfd[mask]\n",
    "    y_model = y_model[mask]\n",
    "\n",
    "    if log and channel is not None:\n",
    "        display(HTML(f'<h4>Channel {channel}</h4>'))\n",
    "\n",
    "    plt.figure(figsize=figsize)\n",
    "    plt.subplot(1, 2, 1)\n",
    "    std_cfd = plot_difference_hist(y_true, y_cfd, channel, 'CFD', hist_range=(-6, 6), n_bins=300,\n",
    "                                   return_gauss_stats=return_gauss_stats)\n",
    "    plt.subplot(1, 2, 2)\n",
    "    std_model = plot_difference_hist(y_true, y_model, channel, 'NN', hist_range=(-6, 6), n_bins=300,\n",
    "                                     return_gauss_stats=return_gauss_stats)\n",
    "\n",
    "    improvement = (std_cfd - std_model) / std_cfd\n",
    "\n",
    "    if log:\n",
    "        print(\n",
    "            f\"CFD: {std_cfd:0.3f}, NN: {std_model:0.3f} ({std_cfd * TIME_STEP:0.3f} ns vs {std_model * TIME_STEP:0.3f} ns)\")\n",
    "        print(f'Improvement: {improvement * 100:0.2f} %')\n",
    "    if show:\n",
    "        plt.show()\n",
    "    else:\n",
    "        plt.close()\n",
    "    return improvement, std_cfd * TIME_STEP, std_model * TIME_STEP\n",
    "\n",
    "\n",
    "cfd = CFD(n_baseline=10, fraction=0.25)"
   ],
   "metadata": {
    "collapsed": false,
    "ExecuteTime": {
     "start_time": "2023-04-19T22:25:42.655003Z",
     "end_time": "2023-04-19T22:25:42.671239Z"
    }
   }
  },
  {
   "cell_type": "code",
   "execution_count": 7,
   "outputs": [
    {
     "data": {
      "text/plain": "1.6"
     },
     "execution_count": 7,
     "metadata": {},
     "output_type": "execute_result"
    }
   ],
   "source": [
    "def gaussian_kernel(mu, sigma=0.8, n=48):\n",
    "    x = np.arange(0, n)\n",
    "    return np.exp(-(x - mu) ** 2 / (2 * sigma ** 2))\n",
    "\n",
    "\n",
    "_get_gauss_stats(gaussian_kernel(np.array(1.6)))"
   ],
   "metadata": {
    "collapsed": false,
    "ExecuteTime": {
     "start_time": "2023-04-19T22:25:42.667240Z",
     "end_time": "2023-04-19T22:25:42.682817Z"
    }
   }
  },
  {
   "cell_type": "markdown",
   "source": [
    "## Trained separately, tested on the same channels"
   ],
   "metadata": {
    "collapsed": false
   }
  },
  {
   "cell_type": "code",
   "execution_count": 8,
   "outputs": [
    {
     "name": "stdout",
     "output_type": "stream",
     "text": [
      "1/1 [==============================] - 2s 2s/step\n"
     ]
    },
    {
     "data": {
      "text/plain": "<IPython.core.display.HTML object>",
      "text/html": "<h4>Channel 8</h4>"
     },
     "metadata": {},
     "output_type": "display_data"
    },
    {
     "name": "stdout",
     "output_type": "stream",
     "text": [
      "CFD: 0.453, NN: 0.390 (0.071 ns vs 0.061 ns)\n",
      "Improvement: 13.88 %\n",
      "1/1 [==============================] - 0s 348ms/step\n"
     ]
    },
    {
     "data": {
      "text/plain": "<IPython.core.display.HTML object>",
      "text/html": "<h4>Channel 9</h4>"
     },
     "metadata": {},
     "output_type": "display_data"
    },
    {
     "name": "stdout",
     "output_type": "stream",
     "text": [
      "CFD: 0.458, NN: 0.413 (0.072 ns vs 0.065 ns)\n",
      "Improvement: 9.72 %\n",
      "1/1 [==============================] - 1s 634ms/step\n"
     ]
    },
    {
     "data": {
      "text/plain": "<IPython.core.display.HTML object>",
      "text/html": "<h4>Channel 10</h4>"
     },
     "metadata": {},
     "output_type": "display_data"
    },
    {
     "name": "stdout",
     "output_type": "stream",
     "text": [
      "CFD: 0.407, NN: 0.353 (0.064 ns vs 0.055 ns)\n",
      "Improvement: 13.34 %\n",
      "1/1 [==============================] - 0s 434ms/step\n"
     ]
    },
    {
     "data": {
      "text/plain": "<IPython.core.display.HTML object>",
      "text/html": "<h4>Channel 11</h4>"
     },
     "metadata": {},
     "output_type": "display_data"
    },
    {
     "name": "stdout",
     "output_type": "stream",
     "text": [
      "CFD: 0.423, NN: 0.357 (0.066 ns vs 0.056 ns)\n",
      "Improvement: 15.58 %\n",
      "1/1 [==============================] - 1s 768ms/step\n",
      "Error calculating 5103\n"
     ]
    },
    {
     "data": {
      "text/plain": "<IPython.core.display.HTML object>",
      "text/html": "<h4>Channel 13</h4>"
     },
     "metadata": {},
     "output_type": "display_data"
    },
    {
     "name": "stdout",
     "output_type": "stream",
     "text": [
      "CFD: 0.779, NN: 0.634 (0.122 ns vs 0.099 ns)\n",
      "Improvement: 18.57 %\n",
      "1/1 [==============================] - 1s 567ms/step\n"
     ]
    },
    {
     "data": {
      "text/plain": "<IPython.core.display.HTML object>",
      "text/html": "<h4>Channel 14</h4>"
     },
     "metadata": {},
     "output_type": "display_data"
    },
    {
     "name": "stdout",
     "output_type": "stream",
     "text": [
      "CFD: 0.751, NN: 0.587 (0.117 ns vs 0.092 ns)\n",
      "Improvement: 21.81 %\n",
      "1/1 [==============================] - 1s 580ms/step\n"
     ]
    },
    {
     "data": {
      "text/plain": "<IPython.core.display.HTML object>",
      "text/html": "<h4>Channel 16</h4>"
     },
     "metadata": {},
     "output_type": "display_data"
    },
    {
     "name": "stdout",
     "output_type": "stream",
     "text": [
      "CFD: 0.442, NN: 0.342 (0.069 ns vs 0.053 ns)\n",
      "Improvement: 22.73 %\n",
      "1/1 [==============================] - 0s 458ms/step\n"
     ]
    },
    {
     "data": {
      "text/plain": "<IPython.core.display.HTML object>",
      "text/html": "<h4>Channel 17</h4>"
     },
     "metadata": {},
     "output_type": "display_data"
    },
    {
     "name": "stdout",
     "output_type": "stream",
     "text": [
      "CFD: 0.459, NN: 0.372 (0.072 ns vs 0.058 ns)\n",
      "Improvement: 18.91 %\n",
      "1/1 [==============================] - 0s 291ms/step\n"
     ]
    },
    {
     "data": {
      "text/plain": "<IPython.core.display.HTML object>",
      "text/html": "<h4>Channel 18</h4>"
     },
     "metadata": {},
     "output_type": "display_data"
    },
    {
     "name": "stdout",
     "output_type": "stream",
     "text": [
      "CFD: 0.441, NN: 0.381 (0.069 ns vs 0.060 ns)\n",
      "Improvement: 13.71 %\n",
      "1/1 [==============================] - 0s 279ms/step\n"
     ]
    },
    {
     "data": {
      "text/plain": "<IPython.core.display.HTML object>",
      "text/html": "<h4>Channel 19</h4>"
     },
     "metadata": {},
     "output_type": "display_data"
    },
    {
     "name": "stdout",
     "output_type": "stream",
     "text": [
      "CFD: 0.560, NN: 0.485 (0.088 ns vs 0.076 ns)\n",
      "Improvement: 13.53 %\n",
      "1/1 [==============================] - 0s 182ms/step\n"
     ]
    },
    {
     "data": {
      "text/plain": "<IPython.core.display.HTML object>",
      "text/html": "<h4>Channel 20</h4>"
     },
     "metadata": {},
     "output_type": "display_data"
    },
    {
     "name": "stdout",
     "output_type": "stream",
     "text": [
      "CFD: 0.430, NN: 0.385 (0.067 ns vs 0.060 ns)\n",
      "Improvement: 10.56 %\n",
      "1/1 [==============================] - 0s 269ms/step\n"
     ]
    },
    {
     "data": {
      "text/plain": "<IPython.core.display.HTML object>",
      "text/html": "<h4>Channel 21</h4>"
     },
     "metadata": {},
     "output_type": "display_data"
    },
    {
     "name": "stdout",
     "output_type": "stream",
     "text": [
      "CFD: 0.427, NN: 0.393 (0.067 ns vs 0.061 ns)\n",
      "Improvement: 7.98 %\n",
      "1/1 [==============================] - 0s 252ms/step\n"
     ]
    },
    {
     "data": {
      "text/plain": "<IPython.core.display.HTML object>",
      "text/html": "<h4>Channel 22</h4>"
     },
     "metadata": {},
     "output_type": "display_data"
    },
    {
     "name": "stdout",
     "output_type": "stream",
     "text": [
      "CFD: 0.410, NN: 0.364 (0.064 ns vs 0.057 ns)\n",
      "Improvement: 11.36 %\n",
      "1/1 [==============================] - 0s 269ms/step\n"
     ]
    },
    {
     "data": {
      "text/plain": "<IPython.core.display.HTML object>",
      "text/html": "<h4>Channel 23</h4>"
     },
     "metadata": {},
     "output_type": "display_data"
    },
    {
     "name": "stdout",
     "output_type": "stream",
     "text": [
      "CFD: 0.409, NN: 0.355 (0.064 ns vs 0.056 ns)\n",
      "Improvement: 13.10 %\n",
      "2/2 [==============================] - 0s 81ms/step\n"
     ]
    },
    {
     "data": {
      "text/plain": "<IPython.core.display.HTML object>",
      "text/html": "<h4>Channel 24</h4>"
     },
     "metadata": {},
     "output_type": "display_data"
    },
    {
     "name": "stdout",
     "output_type": "stream",
     "text": [
      "CFD: 0.598, NN: 0.503 (0.093 ns vs 0.079 ns)\n",
      "Improvement: 15.78 %\n",
      "1/1 [==============================] - 0s 357ms/step\n"
     ]
    },
    {
     "data": {
      "text/plain": "<IPython.core.display.HTML object>",
      "text/html": "<h4>Channel 25</h4>"
     },
     "metadata": {},
     "output_type": "display_data"
    },
    {
     "name": "stdout",
     "output_type": "stream",
     "text": [
      "CFD: 0.683, NN: 0.604 (0.107 ns vs 0.094 ns)\n",
      "Improvement: 11.52 %\n",
      "1/1 [==============================] - 0s 324ms/step\n"
     ]
    },
    {
     "data": {
      "text/plain": "<IPython.core.display.HTML object>",
      "text/html": "<h4>Channel 26</h4>"
     },
     "metadata": {},
     "output_type": "display_data"
    },
    {
     "name": "stdout",
     "output_type": "stream",
     "text": [
      "CFD: 0.768, NN: 0.665 (0.120 ns vs 0.104 ns)\n",
      "Improvement: 13.36 %\n",
      "2/2 [==============================] - 0s 138ms/step\n"
     ]
    },
    {
     "data": {
      "text/plain": "<IPython.core.display.HTML object>",
      "text/html": "<h4>Channel 27</h4>"
     },
     "metadata": {},
     "output_type": "display_data"
    },
    {
     "name": "stdout",
     "output_type": "stream",
     "text": [
      "CFD: 0.709, NN: 0.575 (0.111 ns vs 0.090 ns)\n",
      "Improvement: 18.83 %\n",
      "1/1 [==============================] - 0s 343ms/step\n"
     ]
    },
    {
     "data": {
      "text/plain": "<IPython.core.display.HTML object>",
      "text/html": "<h4>Channel 28</h4>"
     },
     "metadata": {},
     "output_type": "display_data"
    },
    {
     "name": "stdout",
     "output_type": "stream",
     "text": [
      "CFD: 0.487, NN: 0.386 (0.076 ns vs 0.060 ns)\n",
      "Improvement: 20.73 %\n",
      "1/1 [==============================] - 0s 262ms/step\n"
     ]
    },
    {
     "data": {
      "text/plain": "<IPython.core.display.HTML object>",
      "text/html": "<h4>Channel 29</h4>"
     },
     "metadata": {},
     "output_type": "display_data"
    },
    {
     "name": "stdout",
     "output_type": "stream",
     "text": [
      "CFD: 0.444, NN: 0.381 (0.069 ns vs 0.060 ns)\n",
      "Improvement: 14.15 %\n",
      "1/1 [==============================] - 0s 351ms/step\n"
     ]
    },
    {
     "data": {
      "text/plain": "<IPython.core.display.HTML object>",
      "text/html": "<h4>Channel 30</h4>"
     },
     "metadata": {},
     "output_type": "display_data"
    },
    {
     "name": "stdout",
     "output_type": "stream",
     "text": [
      "CFD: 0.468, NN: 0.396 (0.073 ns vs 0.062 ns)\n",
      "Improvement: 15.38 %\n",
      "1/1 [==============================] - 0s 271ms/step\n"
     ]
    },
    {
     "data": {
      "text/plain": "<IPython.core.display.HTML object>",
      "text/html": "<h4>Channel 31</h4>"
     },
     "metadata": {},
     "output_type": "display_data"
    },
    {
     "name": "stdout",
     "output_type": "stream",
     "text": [
      "CFD: 0.509, NN: 0.429 (0.079 ns vs 0.067 ns)\n",
      "Improvement: 15.68 %\n"
     ]
    }
   ],
   "source": [
    "improvements = {}\n",
    "for channel, (X, y) in list(all_channels_data.items()):\n",
    "    X_aug, y_aug = augmentation_random_cut(X, y, 16, seed=42, apply=True)\n",
    "    X_train, X_test, y_train, y_test = train_test_split(X_aug, y_aug, test_size=TEST_SIZE, random_state=RANDOM_STATE)\n",
    "    Y_heatmap_train = np.array([gaussian_kernel(y) for y in y_train])\n",
    "    Y_heatmap_test = np.array([gaussian_kernel(y) for y in y_test])\n",
    "\n",
    "    model = optimal_model_builder()\n",
    "    history = train_model(model, X_train, Y_heatmap_train, X_test, Y_heatmap_test, name=f'model_separate_{channel}',\n",
    "                          train=False, n_epochs=3000, verbose=0)\n",
    "\n",
    "    # plot_history(history, f\"Channel {channel}, {len(X)} events\", ymax=100, figsize=(8, 4))\n",
    "    improvement, _, std_model = compare_model_with_cfd(model, cfd, X_test, y_test, channel, show=False)\n",
    "    improvements[channel] = improvement, std_model"
   ],
   "metadata": {
    "collapsed": false,
    "ExecuteTime": {
     "start_time": "2023-04-19T22:25:42.683816Z",
     "end_time": "2023-04-20T00:49:12.653934Z"
    }
   }
  },
  {
   "cell_type": "code",
   "execution_count": 9,
   "outputs": [
    {
     "data": {
      "text/plain": "        precision [ps] improvement\nchannel                           \n8                 60.9        14 %\n9                 64.6        10 %\n10                55.1        13 %\n11                55.7        16 %\n13                99.1        19 %\n14                91.7        22 %\n16                53.4        23 %\n17                58.1        19 %\n18                59.5        14 %\n19                75.7        14 %\n20                60.1        11 %\n21                61.4         8 %\n22                56.8        11 %\n23                55.5        13 %\n24                78.7        16 %\n25                94.4        12 %\n26               103.9        13 %\n27                89.9        19 %\n28                60.3        21 %\n29                59.6        14 %\n30                61.9        15 %\n31                67.0        16 %",
      "text/html": "<div>\n<style scoped>\n    .dataframe tbody tr th:only-of-type {\n        vertical-align: middle;\n    }\n\n    .dataframe tbody tr th {\n        vertical-align: top;\n    }\n\n    .dataframe thead th {\n        text-align: right;\n    }\n</style>\n<table border=\"1\" class=\"dataframe\">\n  <thead>\n    <tr style=\"text-align: right;\">\n      <th></th>\n      <th>precision [ps]</th>\n      <th>improvement</th>\n    </tr>\n    <tr>\n      <th>channel</th>\n      <th></th>\n      <th></th>\n    </tr>\n  </thead>\n  <tbody>\n    <tr>\n      <th>8</th>\n      <td>60.9</td>\n      <td>14 %</td>\n    </tr>\n    <tr>\n      <th>9</th>\n      <td>64.6</td>\n      <td>10 %</td>\n    </tr>\n    <tr>\n      <th>10</th>\n      <td>55.1</td>\n      <td>13 %</td>\n    </tr>\n    <tr>\n      <th>11</th>\n      <td>55.7</td>\n      <td>16 %</td>\n    </tr>\n    <tr>\n      <th>13</th>\n      <td>99.1</td>\n      <td>19 %</td>\n    </tr>\n    <tr>\n      <th>14</th>\n      <td>91.7</td>\n      <td>22 %</td>\n    </tr>\n    <tr>\n      <th>16</th>\n      <td>53.4</td>\n      <td>23 %</td>\n    </tr>\n    <tr>\n      <th>17</th>\n      <td>58.1</td>\n      <td>19 %</td>\n    </tr>\n    <tr>\n      <th>18</th>\n      <td>59.5</td>\n      <td>14 %</td>\n    </tr>\n    <tr>\n      <th>19</th>\n      <td>75.7</td>\n      <td>14 %</td>\n    </tr>\n    <tr>\n      <th>20</th>\n      <td>60.1</td>\n      <td>11 %</td>\n    </tr>\n    <tr>\n      <th>21</th>\n      <td>61.4</td>\n      <td>8 %</td>\n    </tr>\n    <tr>\n      <th>22</th>\n      <td>56.8</td>\n      <td>11 %</td>\n    </tr>\n    <tr>\n      <th>23</th>\n      <td>55.5</td>\n      <td>13 %</td>\n    </tr>\n    <tr>\n      <th>24</th>\n      <td>78.7</td>\n      <td>16 %</td>\n    </tr>\n    <tr>\n      <th>25</th>\n      <td>94.4</td>\n      <td>12 %</td>\n    </tr>\n    <tr>\n      <th>26</th>\n      <td>103.9</td>\n      <td>13 %</td>\n    </tr>\n    <tr>\n      <th>27</th>\n      <td>89.9</td>\n      <td>19 %</td>\n    </tr>\n    <tr>\n      <th>28</th>\n      <td>60.3</td>\n      <td>21 %</td>\n    </tr>\n    <tr>\n      <th>29</th>\n      <td>59.6</td>\n      <td>14 %</td>\n    </tr>\n    <tr>\n      <th>30</th>\n      <td>61.9</td>\n      <td>15 %</td>\n    </tr>\n    <tr>\n      <th>31</th>\n      <td>67.0</td>\n      <td>16 %</td>\n    </tr>\n  </tbody>\n</table>\n</div>"
     },
     "execution_count": 9,
     "metadata": {},
     "output_type": "execute_result"
    }
   ],
   "source": [
    "channels = improvements.keys()\n",
    "precision_data = [f'{std_model * 1000:0.1f}' for _, std_model in improvements.values()]\n",
    "improvement_data = [f'{improv * 100:0.0f} %' for improv, _ in improvements.values()]\n",
    "\n",
    "df = pd.DataFrame({'precision [ps]': precision_data, 'improvement': improvement_data}, index=channels)\n",
    "df.index.name = 'channel'\n",
    "df\n",
    "# df.to_csv('channel_precision_improvements.csv')"
   ],
   "metadata": {
    "collapsed": false,
    "ExecuteTime": {
     "start_time": "2023-04-20T00:49:12.655935Z",
     "end_time": "2023-04-20T00:49:12.699336Z"
    }
   }
  }
 ],
 "metadata": {
  "kernelspec": {
   "display_name": "Python 3",
   "language": "python",
   "name": "python3"
  },
  "language_info": {
   "codemirror_mode": {
    "name": "ipython",
    "version": 2
   },
   "file_extension": ".py",
   "mimetype": "text/x-python",
   "name": "python",
   "nbconvert_exporter": "python",
   "pygments_lexer": "ipython2",
   "version": "2.7.6"
  }
 },
 "nbformat": 4,
 "nbformat_minor": 0
}
