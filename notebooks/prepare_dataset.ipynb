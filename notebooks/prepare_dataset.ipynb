{
 "cells": [
  {
   "cell_type": "code",
   "execution_count": 1,
   "id": "c90b0638-dc28-4f83-a9f0-f8a86b181446",
   "metadata": {},
   "outputs": [],
   "source": [
    "import sys\n",
    "\n",
    "PWD = '..'\n",
    "sys.path.append(PWD)\n",
    "\n",
    "import numpy as np\n",
    "from matplotlib import pyplot as plt\n",
    "\n",
    "from src.cfd import CFD\n",
    "from src.cfd_utils import TIME_STEP"
   ]
  },
  {
   "cell_type": "markdown",
   "id": "ca90ce61-4b76-46a4-a801-93c8271a0453",
   "metadata": {},
   "source": [
    "# Load data"
   ]
  },
  {
   "cell_type": "code",
   "execution_count": 2,
   "id": "ddaf6b3a-39d8-4d64-801a-3f1e3fec88f1",
   "metadata": {},
   "outputs": [],
   "source": [
    "channels = [17]\n",
    "\n",
    "file_events = {}\n",
    "for channel in channels:\n",
    "    file_events[channel] = np.load(f'../data/filtered/channel_{channel}_filtered.npz', allow_pickle=True)['arr_0'].flat[0]"
   ]
  },
  {
   "cell_type": "code",
   "execution_count": 3,
   "id": "2997fa14-81e0-4f97-95f0-a1eb21f0ae75",
   "metadata": {},
   "outputs": [
    {
     "data": {
      "text/plain": [
       "dict_keys(['sample_channel', 'sample_ampl', 'sample_t0', 'eventIDSampic'])"
      ]
     },
     "execution_count": 3,
     "metadata": {},
     "output_type": "execute_result"
    }
   ],
   "source": [
    "file_events[17].keys()"
   ]
  },
  {
   "cell_type": "code",
   "execution_count": 4,
   "id": "576b3573-e484-42a8-86b2-88e2f69b5e22",
   "metadata": {},
   "outputs": [
    {
     "data": {
      "text/plain": [
       "(19597, 2, 64)"
      ]
     },
     "execution_count": 4,
     "metadata": {},
     "output_type": "execute_result"
    }
   ],
   "source": [
    "file_events[17]['sample_ampl'].shape"
   ]
  },
  {
   "cell_type": "markdown",
   "id": "9f46f5bd-67cc-448b-a6ab-f537bd4c9fd2",
   "metadata": {},
   "source": [
    "# Generate dataset"
   ]
  },
  {
   "cell_type": "code",
   "execution_count": 5,
   "id": "0c17a768-017d-479c-ac00-d408fd46aff7",
   "metadata": {},
   "outputs": [],
   "source": [
    "all_X = []\n",
    "all_y = []"
   ]
  },
  {
   "cell_type": "code",
   "execution_count": 6,
   "id": "cfc745f8-4626-423d-9de2-fa5ac0051745",
   "metadata": {},
   "outputs": [],
   "source": [
    "cfd = CFD(fraction=0.25)\n",
    "for channel in channels:\n",
    "    for sample_ampl, sample_t0 in zip(file_events[channel]['sample_ampl'], file_events[channel]['sample_t0']):\n",
    "        all_X.append(sample_ampl[1])            # X - amplitudes from channel non-0\n",
    "        timestamp = cfd.predict(sample_ampl[0]) # y - timestamp from channel 0\n",
    "        shift = -sample_t0[0] * TIME_STEP + sample_t0[1] * TIME_STEP\n",
    "        all_y.append(timestamp + shift)"
   ]
  },
  {
   "cell_type": "code",
   "execution_count": 7,
   "id": "05327ef1-be38-4232-9081-76a66d0141a6",
   "metadata": {},
   "outputs": [],
   "source": [
    "np.savez_compressed(f'../data/dataset.npz', X=np.array(all_X), y=np.array(all_y))"
   ]
  },
  {
   "cell_type": "code",
   "execution_count": null,
   "id": "9ce00024-b9cd-44e5-9a1e-89fa53a50991",
   "metadata": {},
   "outputs": [],
   "source": []
  }
 ],
 "metadata": {
  "kernelspec": {
   "display_name": "Python 3 (ipykernel)",
   "language": "python",
   "name": "python3"
  },
  "language_info": {
   "codemirror_mode": {
    "name": "ipython",
    "version": 3
   },
   "file_extension": ".py",
   "mimetype": "text/x-python",
   "name": "python",
   "nbconvert_exporter": "python",
   "pygments_lexer": "ipython3",
   "version": "3.10.4"
  }
 },
 "nbformat": 4,
 "nbformat_minor": 5
}
