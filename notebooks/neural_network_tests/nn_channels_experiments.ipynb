{
 "cells": [
  {
   "cell_type": "code",
   "execution_count": 1,
   "id": "666b3ec1-acbc-4efb-acb2-cbb6cb0f35b6",
   "metadata": {},
   "outputs": [],
   "source": [
    "import sys\n",
    "\n",
    "PWD = '../..'\n",
    "sys.path.append(PWD)\n",
    "\n",
    "from matplotlib import pyplot as plt\n",
    "import numpy as np\n",
    "import pandas as pd\n",
    "\n",
    "import warnings\n",
    "warnings.simplefilter('ignore')\n",
    "\n",
    "from scipy.stats import norm\n",
    "\n",
    "import tensorflow as tf\n",
    "tf.get_logger().setLevel('ERROR')\n",
    "from tensorflow import keras\n",
    "from tensorflow.keras import layers\n",
    "from tensorflow.keras import optimizers\n",
    "from tensorflow.keras import callbacks\n",
    "\n",
    "from sklearn.model_selection import train_test_split\n",
    "from sklearn.metrics import mean_squared_error\n",
    "\n",
    "from src.plot_utils import plot_sample, plot_history\n",
    "from src.cfd import CFD\n",
    "from src.cfd_utils import TIME_STEP, plot_diff_hist_stats, _get_gauss_stats"
   ]
  },
  {
   "cell_type": "code",
   "execution_count": 2,
   "id": "2e33c6da-897d-4c87-86bc-1b402106a068",
   "metadata": {},
   "outputs": [],
   "source": [
    "dataset = np.load(PWD + f'/data/dataset.npz', allow_pickle=True)"
   ]
  },
  {
   "cell_type": "code",
   "execution_count": 3,
   "id": "7c6bc799-358d-4108-bfe0-c695791f7b05",
   "metadata": {},
   "outputs": [
    {
     "data": {
      "text/plain": [
       "dict_keys([8, 9, 10, 11, 13, 14, 16, 17, 18, 19, 20, 21, 22, 23, 24, 25, 26, 27, 28, 29, 30, 31])"
      ]
     },
     "execution_count": 3,
     "metadata": {},
     "output_type": "execute_result"
    }
   ],
   "source": [
    "all_channels_data = dataset['dataset'].flat[0]\n",
    "all_channels_data.keys()"
   ]
  },
  {
   "cell_type": "markdown",
   "id": "5fd4f982-71ae-4b5f-ba05-f2368a2886df",
   "metadata": {},
   "source": [
    "# Utils"
   ]
  },
  {
   "cell_type": "code",
   "execution_count": 4,
   "id": "73f649ec-bd1e-4890-8aa6-5892e086a49b",
   "metadata": {},
   "outputs": [],
   "source": [
    "def plot_samples(X, y, y_pred, indices=[10, 11, 12, 13, 500, 1000, 2000, 3000]):\n",
    "    for i, idx in enumerate(indices):\n",
    "        plt.subplot(2, 4, i + 1)\n",
    "        plot_sample(X[idx])\n",
    "        plt.axvline(y[idx], c='red')\n",
    "        plt.axvline(y_pred[idx], c='orange')\n",
    "        \n",
    "        diff = abs(y[idx] - y_pred[idx])\n",
    "        plt.title(f'Diff: {diff:0.4f} ({diff * TIME_STEP:0.4f}) ns')\n",
    "        \n",
    "def plot_difference_hist(y_true, y_pred, channel, method, hist_range=(-2, 2), n_bins=100):\n",
    "    mu, std = plot_diff_hist_stats(y_true, y_pred, show=False, n_bins=n_bins, hist_range=hist_range, hist_label=f'', plot_gauss=True, return_gauss_stats=True)\n",
    "\n",
    "    plt.title(f'{method}. channel={channel}, mean={mu:0.3f}, std={std:0.3f}')\n",
    "    return std\n",
    "    \n",
    "def train_model(model, X_train, y_train, X_test, y_test, lr=0.001, name='model', train=True, \n",
    "                n_epochs=1000, verbose=1, batch_size=2048, lr_patience=None, es_patience=None, \n",
    "                loss_weights=None):\n",
    "    model.compile(loss='mse', optimizer=optimizers.Adam(lr), loss_weights=loss_weights)\n",
    "\n",
    "    model_callbacks = []\n",
    "    model_callbacks.append(callbacks.ModelCheckpoint(filepath=f'model_weights/nn_channels_experiments/{name}/weights', save_best_only=True, save_weights_only=True))\n",
    "    if es_patience is not None:\n",
    "        model_callbacks.append(callbacks.EarlyStopping(patience=es_patience))\n",
    "    if lr_patience is not None:\n",
    "        model_callbacks.append(callbacks.ReduceLROnPlateau(monitor='loss', factor=0.5, patience=lr_patience))\n",
    "    \n",
    "    if train:\n",
    "        history = model.fit(X_train, y_train, epochs=n_epochs, verbose=verbose, batch_size=batch_size, validation_data=(X_test, y_test), callbacks=model_callbacks).history\n",
    "        pd.DataFrame(history).to_csv(f'model_weights/nn_channels_experiments/{name}/loss_log.csv')\n",
    "\n",
    "    model.load_weights(f'model_weights/nn_channels_experiments/{name}/weights')\n",
    "    history = pd.read_csv(f'model_weights/nn_channels_experiments/{name}/loss_log.csv')\n",
    "    \n",
    "    return history"
   ]
  },
  {
   "cell_type": "code",
   "execution_count": 5,
   "id": "696e76af-5840-4ee3-aeb5-46c36b2dae77",
   "metadata": {},
   "outputs": [],
   "source": [
    "def augmentation_random_cut(X, y, n_edge_cut=8, seed=None, apply=True):\n",
    "    if not apply:\n",
    "        return X[:, n_edge_cut:-n_edge_cut], y - n_edge_cut\n",
    "    random_state = np.random.RandomState(seed)\n",
    "    n_to_cut = n_edge_cut * 2\n",
    "    \n",
    "    start = random_state.randint(low=0, high=n_to_cut, size=X.shape[0])\n",
    "    end = X.shape[1] - n_to_cut + start\n",
    "    \n",
    "    X_new = np.empty(shape=(X.shape[0], X.shape[1] - n_to_cut))\n",
    "    for i in range(X.shape[0]):\n",
    "        X_new[i] = X[i, start[i]:end[i]]\n",
    "        \n",
    "    y_new = y - start\n",
    "    return X_new, y_new"
   ]
  },
  {
   "cell_type": "code",
   "execution_count": 6,
   "id": "18453a11-6b1a-4a31-b9dc-4e6eb7cbb2f8",
   "metadata": {},
   "outputs": [],
   "source": [
    "def pred_and_retrieve_y(model, X):\n",
    "    Y_heatmap = model.predict(X, batch_size=8192)\n",
    "    y_pred = np.empty(len(X))\n",
    "    for i, y in enumerate(Y_heatmap):\n",
    "        try:\n",
    "            y_pred[i] = _get_gauss_stats(y)\n",
    "        except:\n",
    "            # print(f'Error calculating {i}')\n",
    "            y_pred[i] = np.average(np.arange(len(y)), weights=y)\n",
    "    return y_pred\n",
    "\n",
    "def compare_model_with_cfd(model, cfd, X, y_true, channel=None, figsize=(12, 4), show=True):\n",
    "    y_cfd = np.array([cfd.predict(x) for x in X])\n",
    "    y_model = pred_and_retrieve_y(model, X)\n",
    "    \n",
    "    mask = y_cfd != None\n",
    "    y_cfd = y_cfd[mask]\n",
    "    y_model = y_model[mask]\n",
    "    \n",
    "    print('=========================================================================')\n",
    "    print(f'Channel {channel}')\n",
    "    \n",
    "    plt.figure(figsize=figsize)\n",
    "    plt.subplot(1, 2, 1)\n",
    "    std_cfd = plot_difference_hist(y_true, y_cfd, channel, 'CFD', hist_range=(-3, 3), n_bins=100)\n",
    "    plt.subplot(1, 2, 2)\n",
    "    std_model = plot_difference_hist(y_true, y_model, channel, 'NN', hist_range=(-3, 3), n_bins=100)\n",
    "    \n",
    "    improvement = (std_cfd - std_model) / std_cfd\n",
    "    print(f\"CFD: {std_cfd:0.3f}, NN: {std_model:0.3f} ({std_cfd * TIME_STEP:0.3f} ns vs {std_model * TIME_STEP:0.3f} ns)\")\n",
    "    print(f'Improvement: {improvement * 100:0.2f} %')\n",
    "    if show:\n",
    "        plt.show()\n",
    "    else:\n",
    "        plt.close()\n",
    "    \n",
    "cfd = CFD(n_baseline=10, fraction=0.25)"
   ]
  },
  {
   "cell_type": "markdown",
   "id": "716338e8-6963-493e-9ff6-cab427307709",
   "metadata": {},
   "source": [
    "# Model"
   ]
  },
  {
   "cell_type": "code",
   "execution_count": 7,
   "id": "f515acdf-bff2-46cb-bbde-808acdb80d68",
   "metadata": {},
   "outputs": [
    {
     "data": {
      "text/plain": [
       "1.6"
      ]
     },
     "execution_count": 7,
     "metadata": {},
     "output_type": "execute_result"
    }
   ],
   "source": [
    "def gaussian_kernel(mu, sigma=0.8, n=48):\n",
    "    x = np.arange(0, n)\n",
    "    return np.exp(-(x - mu)**2 / (2 * sigma**2))\n",
    "\n",
    "_get_gauss_stats(gaussian_kernel(np.array(1.6)))"
   ]
  },
  {
   "cell_type": "code",
   "execution_count": 8,
   "id": "d24b6002-a299-46f7-9385-f143da5e4590",
   "metadata": {},
   "outputs": [],
   "source": [
    "def conv_block(x, n_filters):\n",
    "    x = layers.Conv1D(n_filters, 3, activation='relu', padding='same')(x)\n",
    "    skip = layers.Conv1D(n_filters, 3, activation='relu', padding='same')(x)\n",
    "    # skip = residual_block(x, n_filters, strides=1)\n",
    "    x = layers.MaxPooling1D()(skip)\n",
    "    return skip, x\n",
    "    \n",
    "def deconv_block(x, skip, n_filters):\n",
    "    x = layers.UpSampling1D()(x)\n",
    "    x = layers.Conv1D(n_filters, 1, activation='linear')(x)\n",
    "    x = layers.Concatenate()([skip, x])\n",
    "    x = layers.Conv1D(n_filters, 3, activation='relu', padding='same')(x)\n",
    "    x = layers.Conv1D(n_filters, 3, activation='relu', padding='same')(x)\n",
    "    # x = residual_block(x, n_filters, strides=1)\n",
    "    return x\n",
    "    \n",
    "    \n",
    "###################################\n",
    "\n",
    "def create_model(filters_mult=1):\n",
    "    inputs = layers.Input(48)\n",
    "    x = layers.Reshape((-1, 1))(inputs)\n",
    "\n",
    "    skip1, x = conv_block(x, 8 * filters_mult)\n",
    "    skip2, x = conv_block(x, 16 * filters_mult)\n",
    "    skip3, x = conv_block(x, 32 * filters_mult)\n",
    "    x, _ = conv_block(x, 64 * filters_mult)\n",
    "\n",
    "    x = deconv_block(x, skip3, 32 * filters_mult)\n",
    "    x = deconv_block(x, skip2, 16 * filters_mult)\n",
    "    x = deconv_block(x, skip1, 8 * filters_mult)\n",
    "\n",
    "    x = layers.Conv1D(1, 1, activation='linear')(x)\n",
    "\n",
    "    outputs = layers.Flatten()(x)\n",
    "\n",
    "    model = tf.keras.Model(inputs, outputs)\n",
    "    return model"
   ]
  },
  {
   "cell_type": "markdown",
   "id": "c9c03300-a15a-476e-9a40-e54437811207",
   "metadata": {},
   "source": [
    "# All channels separately"
   ]
  },
  {
   "cell_type": "code",
   "execution_count": 9,
   "id": "fdef3352-a3ff-41ad-ba07-1ca7ef8beb7c",
   "metadata": {
    "scrolled": true,
    "tags": []
   },
   "outputs": [
    {
     "name": "stdout",
     "output_type": "stream",
     "text": [
      "=========================================================================\n",
      "Channel 8\n",
      "CFD: 0.454, NN: 0.360 (0.071 ns vs 0.056 ns)\n",
      "Improvement: 20.59 %\n",
      "=========================================================================\n",
      "Channel 9\n",
      "CFD: 0.459, NN: 0.400 (0.072 ns vs 0.063 ns)\n",
      "Improvement: 12.83 %\n",
      "=========================================================================\n",
      "Channel 10\n",
      "CFD: 0.407, NN: 0.361 (0.064 ns vs 0.056 ns)\n",
      "Improvement: 11.16 %\n",
      "=========================================================================\n",
      "Channel 11\n",
      "CFD: 0.423, NN: 0.358 (0.066 ns vs 0.056 ns)\n",
      "Improvement: 15.29 %\n",
      "=========================================================================\n",
      "Channel 13\n",
      "CFD: 0.793, NN: 0.639 (0.124 ns vs 0.100 ns)\n",
      "Improvement: 19.46 %\n",
      "=========================================================================\n",
      "Channel 14\n",
      "CFD: 0.716, NN: 0.604 (0.112 ns vs 0.094 ns)\n",
      "Improvement: 15.60 %\n",
      "=========================================================================\n",
      "Channel 16\n",
      "CFD: 0.441, NN: 0.338 (0.069 ns vs 0.053 ns)\n",
      "Improvement: 23.30 %\n",
      "=========================================================================\n",
      "Channel 17\n",
      "CFD: 0.458, NN: 0.372 (0.072 ns vs 0.058 ns)\n",
      "Improvement: 18.86 %\n",
      "=========================================================================\n",
      "Channel 18\n",
      "CFD: 0.442, NN: 0.386 (0.069 ns vs 0.060 ns)\n",
      "Improvement: 12.74 %\n",
      "=========================================================================\n",
      "Channel 19\n",
      "CFD: 0.561, NN: 0.482 (0.088 ns vs 0.075 ns)\n",
      "Improvement: 14.02 %\n",
      "=========================================================================\n",
      "Channel 20\n",
      "CFD: 0.430, NN: 0.379 (0.067 ns vs 0.059 ns)\n",
      "Improvement: 12.08 %\n",
      "=========================================================================\n",
      "Channel 21\n",
      "CFD: 0.427, NN: 0.389 (0.067 ns vs 0.061 ns)\n",
      "Improvement: 8.83 %\n",
      "=========================================================================\n",
      "Channel 22\n",
      "CFD: 0.411, NN: 0.366 (0.064 ns vs 0.057 ns)\n",
      "Improvement: 11.02 %\n",
      "=========================================================================\n",
      "Channel 23\n",
      "CFD: 0.409, NN: 0.361 (0.064 ns vs 0.056 ns)\n",
      "Improvement: 11.58 %\n",
      "=========================================================================\n",
      "Channel 24\n",
      "CFD: 0.597, NN: 0.513 (0.093 ns vs 0.080 ns)\n",
      "Improvement: 14.02 %\n",
      "=========================================================================\n",
      "Channel 25\n",
      "CFD: 0.682, NN: 0.620 (0.107 ns vs 0.097 ns)\n",
      "Improvement: 9.10 %\n",
      "=========================================================================\n",
      "Channel 26\n",
      "CFD: 0.768, NN: 0.662 (0.120 ns vs 0.103 ns)\n",
      "Improvement: 13.76 %\n",
      "=========================================================================\n",
      "Channel 27\n",
      "CFD: 0.709, NN: 0.571 (0.111 ns vs 0.089 ns)\n",
      "Improvement: 19.56 %\n",
      "=========================================================================\n",
      "Channel 28\n",
      "CFD: 0.486, NN: 0.389 (0.076 ns vs 0.061 ns)\n",
      "Improvement: 20.13 %\n",
      "=========================================================================\n",
      "Channel 29\n",
      "CFD: 0.440, NN: 0.388 (0.069 ns vs 0.061 ns)\n",
      "Improvement: 11.81 %\n",
      "=========================================================================\n",
      "Channel 30\n",
      "CFD: 0.515, NN: 0.390 (0.080 ns vs 0.061 ns)\n",
      "Improvement: 24.17 %\n",
      "=========================================================================\n",
      "Channel 31\n",
      "CFD: 0.908, NN: 0.412 (0.142 ns vs 0.064 ns)\n",
      "Improvement: 54.63 %\n"
     ]
    }
   ],
   "source": [
    "for channel, (X, y) in list(all_channels_data.items()):\n",
    "    X_aug, y_aug = augmentation_random_cut(X, y, 8, seed=42, apply=True)\n",
    "    X_train, X_test, y_train, y_test = train_test_split(X_aug, y_aug, test_size=0.2, random_state=42)\n",
    "    Y_heatmap_train = np.array([gaussian_kernel(y) for y in y_train])\n",
    "    Y_heatmap_test = np.array([gaussian_kernel(y) for y in y_test])\n",
    "    \n",
    "    model = create_model(filters_mult=4)\n",
    "    history = train_model(model, X_train, Y_heatmap_train, X_test, Y_heatmap_test, lr=0.001, name=f'model_separate_{channel}', \n",
    "                          train=False, n_epochs=200, verbose=0, loss_weights=100, lr_patience=20, es_patience=40)\n",
    "    \n",
    "    # plot_history(history, f\"Channel {channel}, {len(X)} events\", ymax=1, figsize=(10, 4))\n",
    "    compare_model_with_cfd(model, cfd, X_test, y_test, channel, show=False)"
   ]
  },
  {
   "cell_type": "markdown",
   "id": "5b857748-d64c-4bc3-96b8-9fb0843d1531",
   "metadata": {},
   "source": [
    "# Trained on one channel, tested on all"
   ]
  },
  {
   "cell_type": "code",
   "execution_count": 10,
   "id": "0697b098-a7d8-4d1b-a991-ccf01f602bcc",
   "metadata": {},
   "outputs": [],
   "source": [
    "X_all = np.vstack([data[0] for data in all_channels_data.values()])\n",
    "y_all = np.hstack([data[1] for data in all_channels_data.values()])\n",
    "\n",
    "X_all_aug, y_all_aug = augmentation_random_cut(X_all, y_all, 8, seed=42, apply=True)\n",
    "\n",
    "Y_all_heatmap = np.array([gaussian_kernel(y) for y in y_all_aug])"
   ]
  },
  {
   "cell_type": "code",
   "execution_count": 11,
   "id": "2dea3abb-52ea-4a24-b1dd-94d13bc74343",
   "metadata": {},
   "outputs": [],
   "source": [
    "best_channel = 17\n",
    "\n",
    "model = create_model(filters_mult=4)\n",
    "model.load_weights(f'model_weights/nn_channels_experiments/model_separate_{channel}/weights')\n",
    "model.compile(loss='mse', optimizer=optimizers.Adam(), loss_weights=100)"
   ]
  },
  {
   "cell_type": "code",
   "execution_count": 12,
   "id": "dda08b7f-c662-4bcb-8405-f0879deacb6a",
   "metadata": {},
   "outputs": [
    {
     "name": "stdout",
     "output_type": "stream",
     "text": [
      "64/64 [==============================] - 5s 82ms/step - loss: 3.6443\n"
     ]
    },
    {
     "data": {
      "text/plain": [
       "3.644277572631836"
      ]
     },
     "execution_count": 12,
     "metadata": {},
     "output_type": "execute_result"
    }
   ],
   "source": [
    "model.evaluate(X_all_aug, Y_all_heatmap, batch_size=8192)\n",
    "# compare_model_with_cfd(model, cfd, X_all_aug, y_all_aug, 'all', show=False)"
   ]
  },
  {
   "cell_type": "markdown",
   "id": "e0944094-8766-4f23-9fd4-f10d3f5d7d8f",
   "metadata": {},
   "source": [
    "# Trained on all the channels, tested on separate channels"
   ]
  },
  {
   "cell_type": "code",
   "execution_count": 13,
   "id": "997b2a9e-3fd7-4f7f-adc6-20e9c477193e",
   "metadata": {},
   "outputs": [],
   "source": [
    "X_all_train, X_all_test, y_all_train, y_all_test = train_test_split(X_all_aug, y_all_aug, test_size=0.2, random_state=42)\n",
    "\n",
    "Y_all_heatmap_train = np.array([gaussian_kernel(y) for y in y_all_train])\n",
    "Y_all_heatmap_test = np.array([gaussian_kernel(y) for y in y_all_test])"
   ]
  },
  {
   "cell_type": "code",
   "execution_count": 14,
   "id": "4a6aa114-c24b-402a-93f0-b7134d21cb85",
   "metadata": {
    "scrolled": true,
    "tags": []
   },
   "outputs": [
    {
     "data": {
      "image/png": "[encoded data removed]",
      "text/plain": [
       "<Figure size 720x504 with 1 Axes>"
      ]
     },
     "metadata": {
      "needs_background": "light"
     },
     "output_type": "display_data"
    }
   ],
   "source": [
    "model = create_model(filters_mult=4)\n",
    "\n",
    "history = train_model(model, X_all_train, Y_all_heatmap_train, X_all_test, Y_all_heatmap_test, lr=0.01, name=f'model_all_channels', \n",
    "                      batch_size=16384, train=False, n_epochs=250, verbose=1, loss_weights=100, lr_patience=10, es_patience=25)\n",
    "\n",
    "plot_history(history, f\"All channels, {len(X_all)} events\", ymax=2, figsize=(10, 7))"
   ]
  },
  {
   "cell_type": "code",
   "execution_count": 15,
   "id": "e155d4af-feca-45f9-b2eb-42a6ea87f61f",
   "metadata": {},
   "outputs": [
    {
     "name": "stdout",
     "output_type": "stream",
     "text": [
      "channel:  8\n",
      "=========================================================================\n",
      "Channel 8\n",
      "CFD: 0.453, NN: 0.768 (0.071 ns vs 0.120 ns)\n",
      "Improvement: -69.56 %\n",
      "channel:  9\n",
      "=========================================================================\n",
      "Channel 9\n",
      "CFD: 0.460, NN: 0.692 (0.072 ns vs 0.108 ns)\n",
      "Improvement: -50.44 %\n",
      "channel:  10\n",
      "=========================================================================\n",
      "Channel 10\n",
      "CFD: 0.412, NN: 0.529 (0.064 ns vs 0.083 ns)\n",
      "Improvement: -28.63 %\n",
      "channel:  11\n",
      "=========================================================================\n",
      "Channel 11\n",
      "CFD: 0.413, NN: 0.707 (0.065 ns vs 0.111 ns)\n",
      "Improvement: -71.26 %\n",
      "channel:  13\n",
      "=========================================================================\n",
      "Channel 13\n"
     ]
    },
    {
     "ename": "ValueError",
     "evalue": "operands could not be broadcast together with shapes (40037,) (40038,) ",
     "output_type": "error",
     "traceback": [
      "\u001b[1;31m---------------------------------------------------------------------------\u001b[0m",
      "\u001b[1;31mValueError\u001b[0m                                Traceback (most recent call last)",
      "Input \u001b[1;32mIn [15]\u001b[0m, in \u001b[0;36m<cell line: 1>\u001b[1;34m()\u001b[0m\n\u001b[0;32m      5\u001b[0m \u001b[38;5;28mprint\u001b[39m(\u001b[38;5;124m\"\u001b[39m\u001b[38;5;124mchannel: \u001b[39m\u001b[38;5;124m\"\u001b[39m, channel)\n\u001b[0;32m      6\u001b[0m \u001b[38;5;66;03m# model.evaluate(X_aug, Y_heatmap, batch_size=8192)\u001b[39;00m\n\u001b[1;32m----> 7\u001b[0m \u001b[43mcompare_model_with_cfd\u001b[49m\u001b[43m(\u001b[49m\u001b[43mmodel\u001b[49m\u001b[43m,\u001b[49m\u001b[43m \u001b[49m\u001b[43mcfd\u001b[49m\u001b[43m,\u001b[49m\u001b[43m \u001b[49m\u001b[43mX_aug\u001b[49m\u001b[43m,\u001b[49m\u001b[43m \u001b[49m\u001b[43my_aug\u001b[49m\u001b[43m,\u001b[49m\u001b[43m \u001b[49m\u001b[43mchannel\u001b[49m\u001b[43m,\u001b[49m\u001b[43m \u001b[49m\u001b[43mshow\u001b[49m\u001b[38;5;241;43m=\u001b[39;49m\u001b[38;5;28;43;01mFalse\u001b[39;49;00m\u001b[43m)\u001b[49m\n",
      "Input \u001b[1;32mIn [6]\u001b[0m, in \u001b[0;36mcompare_model_with_cfd\u001b[1;34m(model, cfd, X, y_true, channel, figsize, show)\u001b[0m\n\u001b[0;32m     23\u001b[0m plt\u001b[38;5;241m.\u001b[39mfigure(figsize\u001b[38;5;241m=\u001b[39mfigsize)\n\u001b[0;32m     24\u001b[0m plt\u001b[38;5;241m.\u001b[39msubplot(\u001b[38;5;241m1\u001b[39m, \u001b[38;5;241m2\u001b[39m, \u001b[38;5;241m1\u001b[39m)\n\u001b[1;32m---> 25\u001b[0m std_cfd \u001b[38;5;241m=\u001b[39m \u001b[43mplot_difference_hist\u001b[49m\u001b[43m(\u001b[49m\u001b[43my_true\u001b[49m\u001b[43m,\u001b[49m\u001b[43m \u001b[49m\u001b[43my_cfd\u001b[49m\u001b[43m,\u001b[49m\u001b[43m \u001b[49m\u001b[43mchannel\u001b[49m\u001b[43m,\u001b[49m\u001b[43m \u001b[49m\u001b[38;5;124;43m'\u001b[39;49m\u001b[38;5;124;43mCFD\u001b[39;49m\u001b[38;5;124;43m'\u001b[39;49m\u001b[43m,\u001b[49m\u001b[43m \u001b[49m\u001b[43mhist_range\u001b[49m\u001b[38;5;241;43m=\u001b[39;49m\u001b[43m(\u001b[49m\u001b[38;5;241;43m-\u001b[39;49m\u001b[38;5;241;43m3\u001b[39;49m\u001b[43m,\u001b[49m\u001b[43m \u001b[49m\u001b[38;5;241;43m3\u001b[39;49m\u001b[43m)\u001b[49m\u001b[43m,\u001b[49m\u001b[43m \u001b[49m\u001b[43mn_bins\u001b[49m\u001b[38;5;241;43m=\u001b[39;49m\u001b[38;5;241;43m100\u001b[39;49m\u001b[43m)\u001b[49m\n\u001b[0;32m     26\u001b[0m plt\u001b[38;5;241m.\u001b[39msubplot(\u001b[38;5;241m1\u001b[39m, \u001b[38;5;241m2\u001b[39m, \u001b[38;5;241m2\u001b[39m)\n\u001b[0;32m     27\u001b[0m std_model \u001b[38;5;241m=\u001b[39m plot_difference_hist(y_true, y_model, channel, \u001b[38;5;124m'\u001b[39m\u001b[38;5;124mNN\u001b[39m\u001b[38;5;124m'\u001b[39m, hist_range\u001b[38;5;241m=\u001b[39m(\u001b[38;5;241m-\u001b[39m\u001b[38;5;241m3\u001b[39m, \u001b[38;5;241m3\u001b[39m), n_bins\u001b[38;5;241m=\u001b[39m\u001b[38;5;241m100\u001b[39m)\n",
      "Input \u001b[1;32mIn [4]\u001b[0m, in \u001b[0;36mplot_difference_hist\u001b[1;34m(y_true, y_pred, channel, method, hist_range, n_bins)\u001b[0m\n\u001b[0;32m     11\u001b[0m \u001b[38;5;28;01mdef\u001b[39;00m \u001b[38;5;21mplot_difference_hist\u001b[39m(y_true, y_pred, channel, method, hist_range\u001b[38;5;241m=\u001b[39m(\u001b[38;5;241m-\u001b[39m\u001b[38;5;241m2\u001b[39m, \u001b[38;5;241m2\u001b[39m), n_bins\u001b[38;5;241m=\u001b[39m\u001b[38;5;241m100\u001b[39m):\n\u001b[1;32m---> 12\u001b[0m     mu, std \u001b[38;5;241m=\u001b[39m \u001b[43mplot_diff_hist_stats\u001b[49m\u001b[43m(\u001b[49m\u001b[43my_true\u001b[49m\u001b[43m,\u001b[49m\u001b[43m \u001b[49m\u001b[43my_pred\u001b[49m\u001b[43m,\u001b[49m\u001b[43m \u001b[49m\u001b[43mshow\u001b[49m\u001b[38;5;241;43m=\u001b[39;49m\u001b[38;5;28;43;01mFalse\u001b[39;49;00m\u001b[43m,\u001b[49m\u001b[43m \u001b[49m\u001b[43mn_bins\u001b[49m\u001b[38;5;241;43m=\u001b[39;49m\u001b[43mn_bins\u001b[49m\u001b[43m,\u001b[49m\u001b[43m \u001b[49m\u001b[43mhist_range\u001b[49m\u001b[38;5;241;43m=\u001b[39;49m\u001b[43mhist_range\u001b[49m\u001b[43m,\u001b[49m\u001b[43m \u001b[49m\u001b[43mhist_label\u001b[49m\u001b[38;5;241;43m=\u001b[39;49m\u001b[38;5;124;43mf\u001b[39;49m\u001b[38;5;124;43m'\u001b[39;49m\u001b[38;5;124;43m'\u001b[39;49m\u001b[43m,\u001b[49m\u001b[43m \u001b[49m\u001b[43mplot_gauss\u001b[49m\u001b[38;5;241;43m=\u001b[39;49m\u001b[38;5;28;43;01mTrue\u001b[39;49;00m\u001b[43m,\u001b[49m\u001b[43m \u001b[49m\u001b[43mreturn_gauss_stats\u001b[49m\u001b[38;5;241;43m=\u001b[39;49m\u001b[38;5;28;43;01mTrue\u001b[39;49;00m\u001b[43m)\u001b[49m\n\u001b[0;32m     14\u001b[0m     plt\u001b[38;5;241m.\u001b[39mtitle(\u001b[38;5;124mf\u001b[39m\u001b[38;5;124m'\u001b[39m\u001b[38;5;132;01m{\u001b[39;00mmethod\u001b[38;5;132;01m}\u001b[39;00m\u001b[38;5;124m. channel=\u001b[39m\u001b[38;5;132;01m{\u001b[39;00mchannel\u001b[38;5;132;01m}\u001b[39;00m\u001b[38;5;124m, mean=\u001b[39m\u001b[38;5;132;01m{\u001b[39;00mmu\u001b[38;5;132;01m:\u001b[39;00m\u001b[38;5;124m0.3f\u001b[39m\u001b[38;5;132;01m}\u001b[39;00m\u001b[38;5;124m, std=\u001b[39m\u001b[38;5;132;01m{\u001b[39;00mstd\u001b[38;5;132;01m:\u001b[39;00m\u001b[38;5;124m0.3f\u001b[39m\u001b[38;5;132;01m}\u001b[39;00m\u001b[38;5;124m'\u001b[39m)\n\u001b[0;32m     15\u001b[0m     \u001b[38;5;28;01mreturn\u001b[39;00m std\n",
      "File \u001b[1;32mD:\\Repository\\pps_diamond_time_measurement\\notebooks\\neural_network_tests\\../..\\src\\cfd_utils.py:133\u001b[0m, in \u001b[0;36mplot_diff_hist_stats\u001b[1;34m(y_true, y_pred, show, return_gauss_stats, n_bins, hist_range, hist_alpha, hist_label, plot_gauss)\u001b[0m\n\u001b[0;32m    118\u001b[0m \u001b[38;5;124;03m\"\"\"\u001b[39;00m\n\u001b[0;32m    119\u001b[0m \u001b[38;5;124;03mFind the mean and std of a histogram of differences between y_true and y_pred timestamps\u001b[39;00m\n\u001b[0;32m    120\u001b[0m \u001b[38;5;124;03m:param y_true: Ground-truth timestamps\u001b[39;00m\n\u001b[1;32m   (...)\u001b[0m\n\u001b[0;32m    129\u001b[0m \u001b[38;5;124;03m:return: tuple: (mean, std) of the histogram\u001b[39;00m\n\u001b[0;32m    130\u001b[0m \u001b[38;5;124;03m\"\"\"\u001b[39;00m\n\u001b[0;32m    132\u001b[0m \u001b[38;5;66;03m# histogram\u001b[39;00m\n\u001b[1;32m--> 133\u001b[0m timestamps_diff \u001b[38;5;241m=\u001b[39m \u001b[43my_pred\u001b[49m\u001b[43m \u001b[49m\u001b[38;5;241;43m-\u001b[39;49m\u001b[43m \u001b[49m\u001b[43my_true\u001b[49m\n\u001b[0;32m    135\u001b[0m \u001b[38;5;28;01mreturn\u001b[39;00m _diff_hist_stats(timestamps_diff, show, return_gauss_stats, n_bins, hist_range, hist_alpha, hist_label,\n\u001b[0;32m    136\u001b[0m                         plot_gauss)\n",
      "\u001b[1;31mValueError\u001b[0m: operands could not be broadcast together with shapes (40037,) (40038,) "
     ]
    },
    {
     "data": {
      "image/png": "[encoded data removed]",
      "text/plain": [
       "<Figure size 864x288 with 1 Axes>"
      ]
     },
     "metadata": {
      "needs_background": "light"
     },
     "output_type": "display_data"
    }
   ],
   "source": [
    "for channel, (X, y) in all_channels_data.items():\n",
    "    X_aug, y_aug = augmentation_random_cut(X, y, 8, seed=42, apply=True)\n",
    "    Y_heatmap = np.array([gaussian_kernel(y) for y in y_aug])\n",
    "    \n",
    "    print(\"channel: \", channel)\n",
    "    # model.evaluate(X_aug, Y_heatmap, batch_size=8192)\n",
    "    compare_model_with_cfd(model, cfd, X_aug, y_aug, channel, show=False)"
   ]
  },
  {
   "cell_type": "code",
   "execution_count": null,
   "id": "3c6728fe-eb6b-4213-b023-b6243889f226",
   "metadata": {},
   "outputs": [],
   "source": []
  }
 ],
 "metadata": {
  "kernelspec": {
   "display_name": "Python 3 (ipykernel)",
   "language": "python",
   "name": "python3"
  },
  "language_info": {
   "codemirror_mode": {
    "name": "ipython",
    "version": 3
   },
   "file_extension": ".py",
   "mimetype": "text/x-python",
   "name": "python",
   "nbconvert_exporter": "python",
   "pygments_lexer": "ipython3",
   "version": "3.10.4"
  }
 },
 "nbformat": 4,
 "nbformat_minor": 5
}
