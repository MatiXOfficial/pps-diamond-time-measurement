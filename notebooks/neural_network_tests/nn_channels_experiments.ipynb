{
 "cells": [
  {
   "cell_type": "code",
   "execution_count": 1,
   "id": "666b3ec1-acbc-4efb-acb2-cbb6cb0f35b6",
   "metadata": {
    "tags": []
   },
   "outputs": [],
   "source": [
    "import sys\n",
    "\n",
    "PWD = '../..'\n",
    "sys.path.append(PWD)\n",
    "\n",
    "from matplotlib import pyplot as plt\n",
    "import numpy as np\n",
    "import pandas as pd\n",
    "\n",
    "import warnings\n",
    "warnings.simplefilter('ignore')\n",
    "\n",
    "from scipy.stats import norm\n",
    "\n",
    "import tensorflow as tf\n",
    "tf.get_logger().setLevel('ERROR')\n",
    "from tensorflow import keras\n",
    "from tensorflow.keras import layers\n",
    "from tensorflow.keras import optimizers\n",
    "from tensorflow.keras import callbacks\n",
    "\n",
    "from sklearn.model_selection import train_test_split\n",
    "from sklearn.metrics import mean_squared_error\n",
    "\n",
    "from IPython.display import display, HTML\n",
    "\n",
    "from collections import defaultdict\n",
    "\n",
    "from src.plot_utils import plot_sample, plot_history\n",
    "from src.cfd import CFD\n",
    "from src.cfd_utils import TIME_STEP, plot_diff_hist_stats, _get_gauss_stats"
   ]
  },
  {
   "cell_type": "code",
   "execution_count": 2,
   "id": "2e33c6da-897d-4c87-86bc-1b402106a068",
   "metadata": {
    "tags": []
   },
   "outputs": [],
   "source": [
    "dataset = np.load(PWD + f'/data/dataset.npz', allow_pickle=True)"
   ]
  },
  {
   "cell_type": "code",
   "execution_count": 3,
   "id": "7c6bc799-358d-4108-bfe0-c695791f7b05",
   "metadata": {
    "tags": []
   },
   "outputs": [
    {
     "data": {
      "text/plain": [
       "dict_keys([8, 9, 10, 11, 13, 14, 16, 17, 18, 19, 20, 21, 22, 23, 24, 25, 26, 27, 28, 29, 30, 31])"
      ]
     },
     "execution_count": 3,
     "metadata": {},
     "output_type": "execute_result"
    }
   ],
   "source": [
    "all_channels_data = dataset['dataset'].flat[0]\n",
    "all_channels_data.keys()"
   ]
  },
  {
   "cell_type": "code",
   "execution_count": 4,
   "id": "d1d2bff8-5fc2-4b44-9d24-3c85948edc30",
   "metadata": {
    "tags": []
   },
   "outputs": [],
   "source": [
    "TEST_SIZE = 0.2\n",
    "RANDOM_STATE = 42\n",
    "\n",
    "FILTERS_MULT_SEP = 4"
   ]
  },
  {
   "cell_type": "markdown",
   "id": "5fd4f982-71ae-4b5f-ba05-f2368a2886df",
   "metadata": {},
   "source": [
    "# Utils"
   ]
  },
  {
   "cell_type": "code",
   "execution_count": 5,
   "id": "73f649ec-bd1e-4890-8aa6-5892e086a49b",
   "metadata": {
    "tags": []
   },
   "outputs": [],
   "source": [
    "def plot_samples(X, y, y_pred, indices=[10, 11, 12, 13, 500, 1000, 2000, 3000]):\n",
    "    for i, idx in enumerate(indices):\n",
    "        plt.subplot(2, 4, i + 1)\n",
    "        plot_sample(X[idx])\n",
    "        plt.axvline(y[idx], c='red')\n",
    "        plt.axvline(y_pred[idx], c='orange')\n",
    "        \n",
    "        diff = abs(y[idx] - y_pred[idx])\n",
    "        plt.title(f'Diff: {diff:0.4f} ({diff * TIME_STEP:0.4f}) ns')\n",
    "        \n",
    "def plot_difference_hist(y_true, y_pred, channel, method, hist_range=(-2, 2), n_bins=100, return_gauss_stats=True):\n",
    "    mu, std = plot_diff_hist_stats(y_true, y_pred, show=False, n_bins=n_bins, hist_range=hist_range, hist_label=f'', plot_gauss=True, return_gauss_stats=return_gauss_stats)\n",
    "\n",
    "    plt.title(f'{method}. channel={channel}, mean={mu:0.3f}, std={std:0.3f}')\n",
    "    return std\n",
    "    \n",
    "def train_model(model, X_train, y_train, X_test, y_test, lr=0.001, name='model', train=True, \n",
    "                n_epochs=1000, verbose=1, batch_size=2048, lr_patience=None, es_patience=None, \n",
    "                loss_weights=None):\n",
    "    model.compile(loss='mse', optimizer=optimizers.Adam(lr), loss_weights=loss_weights)\n",
    "\n",
    "    model_callbacks = []\n",
    "    model_callbacks.append(callbacks.ModelCheckpoint(filepath=f'model_weights/nn_channels_experiments/{name}/weights', save_best_only=True, save_weights_only=True))\n",
    "    if es_patience is not None:\n",
    "        model_callbacks.append(callbacks.EarlyStopping(patience=es_patience))\n",
    "    if lr_patience is not None:\n",
    "        model_callbacks.append(callbacks.ReduceLROnPlateau(monitor='loss', factor=0.5, patience=lr_patience))\n",
    "    \n",
    "    if train:\n",
    "        history = model.fit(X_train, y_train, epochs=n_epochs, verbose=verbose, batch_size=batch_size, validation_data=(X_test, y_test), callbacks=model_callbacks).history\n",
    "        pd.DataFrame(history).to_csv(f'model_weights/nn_channels_experiments/{name}/loss_log.csv')\n",
    "\n",
    "    model.load_weights(f'model_weights/nn_channels_experiments/{name}/weights')\n",
    "    history = pd.read_csv(f'model_weights/nn_channels_experiments/{name}/loss_log.csv')\n",
    "    \n",
    "    return history\n",
    "\n",
    "def load_model(model, lr=0.001, name='model', loss_weights=None):\n",
    "    model.compile(loss='mse', optimizer=optimizers.Adam(lr), loss_weights=loss_weights)\n",
    "    model.load_weights(f'model_weights/nn_channels_experiments/{name}/weights')"
   ]
  },
  {
   "cell_type": "code",
   "execution_count": 6,
   "id": "696e76af-5840-4ee3-aeb5-46c36b2dae77",
   "metadata": {
    "tags": []
   },
   "outputs": [],
   "source": [
    "def augmentation_random_cut(X, y, n_edge_cut=8, seed=None, apply=True):\n",
    "    if not apply:\n",
    "        return X[:, n_edge_cut:-n_edge_cut], y - n_edge_cut\n",
    "    random_state = np.random.RandomState(seed)\n",
    "    n_to_cut = n_edge_cut * 2\n",
    "    \n",
    "    start = random_state.randint(low=0, high=n_to_cut, size=X.shape[0])\n",
    "    end = X.shape[1] - n_to_cut + start\n",
    "    \n",
    "    X_new = np.empty(shape=(X.shape[0], X.shape[1] - n_to_cut))\n",
    "    for i in range(X.shape[0]):\n",
    "        X_new[i] = X[i, start[i]:end[i]]\n",
    "        \n",
    "    y_new = y - start\n",
    "    return X_new, y_new"
   ]
  },
  {
   "cell_type": "code",
   "execution_count": 7,
   "id": "18453a11-6b1a-4a31-b9dc-4e6eb7cbb2f8",
   "metadata": {
    "tags": []
   },
   "outputs": [],
   "source": [
    "def pred_and_retrieve_y(model, X):\n",
    "    Y_heatmap = model.predict(X, batch_size=8192)\n",
    "    y_pred = np.empty(len(X))\n",
    "    for i, y in enumerate(Y_heatmap):\n",
    "        try:\n",
    "            y_pred[i] = _get_gauss_stats(y)\n",
    "        except:\n",
    "            # print(f'Error calculating {i}')\n",
    "            y_pred[i] = np.average(np.arange(len(y)), weights=y)\n",
    "    return y_pred\n",
    "\n",
    "def compare_model_with_cfd(model, cfd, X, y_true, channel=None, figsize=(12, 4), show=True, y_cfd=None, return_gauss_stats=True, log=True):\n",
    "    if y_cfd is None:\n",
    "        y_cfd = np.array([cfd.predict(x) for x in X])\n",
    "        n_none = list(y_cfd).count(None)\n",
    "        if n_none > 0:\n",
    "            print(f'--------------------> CFD returned {n_none} Nones out of {len(y_cfd)} examples')\n",
    "    y_cfd = y_cfd.astype(np.float64)\n",
    "    y_model = pred_and_retrieve_y(model, X)\n",
    "    \n",
    "    mask = y_cfd != None\n",
    "    y_true = y_true[mask]\n",
    "    y_cfd = y_cfd[mask]\n",
    "    y_model = y_model[mask]\n",
    "    \n",
    "    if log and channel is not None:\n",
    "        display(HTML(f'<h4>Channel {channel}</h4>'))\n",
    "    \n",
    "    plt.figure(figsize=figsize)\n",
    "    plt.subplot(1, 2, 1)\n",
    "    std_cfd = plot_difference_hist(y_true, y_cfd, channel, 'CFD', hist_range=(-6, 6), n_bins=300, return_gauss_stats=return_gauss_stats)\n",
    "    plt.subplot(1, 2, 2)\n",
    "    std_model = plot_difference_hist(y_true, y_model, channel, 'NN', hist_range=(-6, 6), n_bins=300, return_gauss_stats=return_gauss_stats)\n",
    "    \n",
    "    improvement = (std_cfd - std_model) / std_cfd\n",
    "    \n",
    "    if log:\n",
    "        print(f\"CFD: {std_cfd:0.3f}, NN: {std_model:0.3f} ({std_cfd * TIME_STEP:0.3f} ns vs {std_model * TIME_STEP:0.3f} ns)\")\n",
    "        print(f'Improvement: {improvement * 100:0.2f} %')\n",
    "    if show:\n",
    "        plt.show()\n",
    "    else:\n",
    "        plt.close()\n",
    "    return improvement\n",
    "    \n",
    "cfd = CFD(n_baseline=10, fraction=0.25)"
   ]
  },
  {
   "cell_type": "code",
   "execution_count": 8,
   "id": "c8464d78-36b1-4674-9edd-f9b8d14b829a",
   "metadata": {
    "tags": []
   },
   "outputs": [],
   "source": [
    "def bold(phrase):\n",
    "    return '\\033[1m' + phrase + '\\033[0;0m'"
   ]
  },
  {
   "cell_type": "markdown",
   "id": "716338e8-6963-493e-9ff6-cab427307709",
   "metadata": {},
   "source": [
    "# Models"
   ]
  },
  {
   "cell_type": "code",
   "execution_count": 9,
   "id": "f515acdf-bff2-46cb-bbde-808acdb80d68",
   "metadata": {
    "tags": []
   },
   "outputs": [
    {
     "data": {
      "text/plain": [
       "1.6"
      ]
     },
     "execution_count": 9,
     "metadata": {},
     "output_type": "execute_result"
    }
   ],
   "source": [
    "def gaussian_kernel(mu, sigma=0.8, n=48):\n",
    "    x = np.arange(0, n)\n",
    "    return np.exp(-(x - mu)**2 / (2 * sigma**2))\n",
    "\n",
    "_get_gauss_stats(gaussian_kernel(np.array(1.6)))"
   ]
  },
  {
   "cell_type": "code",
   "execution_count": 10,
   "id": "d24b6002-a299-46f7-9385-f143da5e4590",
   "metadata": {
    "tags": []
   },
   "outputs": [],
   "source": [
    "def conv_block(x, n_filters):\n",
    "    x = layers.Conv1D(n_filters, 3, activation='relu', padding='same')(x)\n",
    "    skip = layers.Conv1D(n_filters, 3, activation='relu', padding='same')(x)\n",
    "    # skip = residual_block(x, n_filters, strides=1)\n",
    "    x = layers.MaxPooling1D()(skip)\n",
    "    return skip, x\n",
    "    \n",
    "def deconv_block(x, skip, n_filters):\n",
    "    x = layers.UpSampling1D()(x)\n",
    "    x = layers.Conv1D(n_filters, 1, activation='linear')(x)\n",
    "    x = layers.Concatenate()([skip, x])\n",
    "    x = layers.Conv1D(n_filters, 3, activation='relu', padding='same')(x)\n",
    "    x = layers.Conv1D(n_filters, 3, activation='relu', padding='same')(x)\n",
    "    # x = residual_block(x, n_filters, strides=1)\n",
    "    return x\n",
    "    \n",
    "    \n",
    "###################################\n",
    "\n",
    "def create_model(filters_mult=1):\n",
    "    inputs = layers.Input(48)\n",
    "    x = layers.Reshape((-1, 1))(inputs)\n",
    "\n",
    "    skip1, x = conv_block(x, 8 * filters_mult)\n",
    "    skip2, x = conv_block(x, 16 * filters_mult)\n",
    "    skip3, x = conv_block(x, 32 * filters_mult)\n",
    "    x, _ = conv_block(x, 64 * filters_mult)\n",
    "\n",
    "    x = deconv_block(x, skip3, 32 * filters_mult)\n",
    "    x = deconv_block(x, skip2, 16 * filters_mult)\n",
    "    x = deconv_block(x, skip1, 8 * filters_mult)\n",
    "\n",
    "    x = layers.Conv1D(1, 1, activation='linear')(x)\n",
    "\n",
    "    outputs = layers.Flatten()(x)\n",
    "\n",
    "    model = tf.keras.Model(inputs, outputs)\n",
    "    return model"
   ]
  },
  {
   "cell_type": "markdown",
   "id": "c9c03300-a15a-476e-9a40-e54437811207",
   "metadata": {},
   "source": [
    "## Trained separately, tested on the same channels"
   ]
  },
  {
   "cell_type": "code",
   "execution_count": 11,
   "id": "fdef3352-a3ff-41ad-ba07-1ca7ef8beb7c",
   "metadata": {
    "scrolled": true,
    "tags": []
   },
   "outputs": [
    {
     "name": "stdout",
     "output_type": "stream",
     "text": [
      "1/1 [==============================] - 1s 1s/step\n"
     ]
    },
    {
     "data": {
      "text/html": [
       "<h4>Channel 8</h4>"
      ],
      "text/plain": [
       "<IPython.core.display.HTML object>"
      ]
     },
     "metadata": {},
     "output_type": "display_data"
    },
    {
     "name": "stdout",
     "output_type": "stream",
     "text": [
      "CFD: 0.453, NN: 0.361 (0.071 ns vs 0.056 ns)\n",
      "Improvement: 20.39 %\n",
      "1/1 [==============================] - 0s 177ms/step\n"
     ]
    },
    {
     "data": {
      "text/html": [
       "<h4>Channel 9</h4>"
      ],
      "text/plain": [
       "<IPython.core.display.HTML object>"
      ]
     },
     "metadata": {},
     "output_type": "display_data"
    },
    {
     "name": "stdout",
     "output_type": "stream",
     "text": [
      "CFD: 0.458, NN: 0.399 (0.072 ns vs 0.062 ns)\n",
      "Improvement: 12.97 %\n",
      "1/1 [==============================] - 0s 204ms/step\n"
     ]
    },
    {
     "data": {
      "text/html": [
       "<h4>Channel 10</h4>"
      ],
      "text/plain": [
       "<IPython.core.display.HTML object>"
      ]
     },
     "metadata": {},
     "output_type": "display_data"
    },
    {
     "name": "stdout",
     "output_type": "stream",
     "text": [
      "CFD: 0.407, NN: 0.362 (0.064 ns vs 0.056 ns)\n",
      "Improvement: 11.21 %\n",
      "1/1 [==============================] - 0s 187ms/step\n"
     ]
    },
    {
     "data": {
      "text/html": [
       "<h4>Channel 11</h4>"
      ],
      "text/plain": [
       "<IPython.core.display.HTML object>"
      ]
     },
     "metadata": {},
     "output_type": "display_data"
    },
    {
     "name": "stdout",
     "output_type": "stream",
     "text": [
      "CFD: 0.423, NN: 0.358 (0.066 ns vs 0.056 ns)\n",
      "Improvement: 15.24 %\n",
      "1/1 [==============================] - 0s 251ms/step\n"
     ]
    },
    {
     "data": {
      "text/html": [
       "<h4>Channel 13</h4>"
      ],
      "text/plain": [
       "<IPython.core.display.HTML object>"
      ]
     },
     "metadata": {},
     "output_type": "display_data"
    },
    {
     "name": "stdout",
     "output_type": "stream",
     "text": [
      "CFD: 0.779, NN: 0.639 (0.122 ns vs 0.100 ns)\n",
      "Improvement: 18.01 %\n",
      "1/1 [==============================] - 0s 456ms/step\n"
     ]
    },
    {
     "data": {
      "text/html": [
       "<h4>Channel 14</h4>"
      ],
      "text/plain": [
       "<IPython.core.display.HTML object>"
      ]
     },
     "metadata": {},
     "output_type": "display_data"
    },
    {
     "name": "stdout",
     "output_type": "stream",
     "text": [
      "CFD: 0.751, NN: 0.604 (0.117 ns vs 0.094 ns)\n",
      "Improvement: 19.59 %\n",
      "1/1 [==============================] - 0s 230ms/step\n"
     ]
    },
    {
     "data": {
      "text/html": [
       "<h4>Channel 16</h4>"
      ],
      "text/plain": [
       "<IPython.core.display.HTML object>"
      ]
     },
     "metadata": {},
     "output_type": "display_data"
    },
    {
     "name": "stdout",
     "output_type": "stream",
     "text": [
      "CFD: 0.442, NN: 0.338 (0.069 ns vs 0.053 ns)\n",
      "Improvement: 23.52 %\n",
      "1/1 [==============================] - 0s 186ms/step\n"
     ]
    },
    {
     "data": {
      "text/html": [
       "<h4>Channel 17</h4>"
      ],
      "text/plain": [
       "<IPython.core.display.HTML object>"
      ]
     },
     "metadata": {},
     "output_type": "display_data"
    },
    {
     "name": "stdout",
     "output_type": "stream",
     "text": [
      "CFD: 0.459, NN: 0.373 (0.072 ns vs 0.058 ns)\n",
      "Improvement: 18.71 %\n",
      "1/1 [==============================] - 0s 350ms/step\n"
     ]
    },
    {
     "data": {
      "text/html": [
       "<h4>Channel 18</h4>"
      ],
      "text/plain": [
       "<IPython.core.display.HTML object>"
      ]
     },
     "metadata": {},
     "output_type": "display_data"
    },
    {
     "name": "stdout",
     "output_type": "stream",
     "text": [
      "CFD: 0.441, NN: 0.385 (0.069 ns vs 0.060 ns)\n",
      "Improvement: 12.68 %\n",
      "1/1 [==============================] - 0s 252ms/step\n"
     ]
    },
    {
     "data": {
      "text/html": [
       "<h4>Channel 19</h4>"
      ],
      "text/plain": [
       "<IPython.core.display.HTML object>"
      ]
     },
     "metadata": {},
     "output_type": "display_data"
    },
    {
     "name": "stdout",
     "output_type": "stream",
     "text": [
      "CFD: 0.560, NN: 0.481 (0.088 ns vs 0.075 ns)\n",
      "Improvement: 14.25 %\n",
      "1/1 [==============================] - 0s 172ms/step\n"
     ]
    },
    {
     "data": {
      "text/html": [
       "<h4>Channel 20</h4>"
      ],
      "text/plain": [
       "<IPython.core.display.HTML object>"
      ]
     },
     "metadata": {},
     "output_type": "display_data"
    },
    {
     "name": "stdout",
     "output_type": "stream",
     "text": [
      "CFD: 0.430, NN: 0.379 (0.067 ns vs 0.059 ns)\n",
      "Improvement: 11.97 %\n",
      "1/1 [==============================] - 0s 319ms/step\n"
     ]
    },
    {
     "data": {
      "text/html": [
       "<h4>Channel 21</h4>"
      ],
      "text/plain": [
       "<IPython.core.display.HTML object>"
      ]
     },
     "metadata": {},
     "output_type": "display_data"
    },
    {
     "name": "stdout",
     "output_type": "stream",
     "text": [
      "CFD: 0.427, NN: 0.390 (0.067 ns vs 0.061 ns)\n",
      "Improvement: 8.75 %\n",
      "1/1 [==============================] - 0s 224ms/step\n"
     ]
    },
    {
     "data": {
      "text/html": [
       "<h4>Channel 22</h4>"
      ],
      "text/plain": [
       "<IPython.core.display.HTML object>"
      ]
     },
     "metadata": {},
     "output_type": "display_data"
    },
    {
     "name": "stdout",
     "output_type": "stream",
     "text": [
      "CFD: 0.410, NN: 0.365 (0.064 ns vs 0.057 ns)\n",
      "Improvement: 11.04 %\n",
      "1/1 [==============================] - 0s 237ms/step\n"
     ]
    },
    {
     "data": {
      "text/html": [
       "<h4>Channel 23</h4>"
      ],
      "text/plain": [
       "<IPython.core.display.HTML object>"
      ]
     },
     "metadata": {},
     "output_type": "display_data"
    },
    {
     "name": "stdout",
     "output_type": "stream",
     "text": [
      "CFD: 0.409, NN: 0.361 (0.064 ns vs 0.056 ns)\n",
      "Improvement: 11.70 %\n",
      "2/2 [==============================] - 1s 75ms/step\n"
     ]
    },
    {
     "data": {
      "text/html": [
       "<h4>Channel 24</h4>"
      ],
      "text/plain": [
       "<IPython.core.display.HTML object>"
      ]
     },
     "metadata": {},
     "output_type": "display_data"
    },
    {
     "name": "stdout",
     "output_type": "stream",
     "text": [
      "CFD: 0.598, NN: 0.512 (0.093 ns vs 0.080 ns)\n",
      "Improvement: 14.34 %\n",
      "1/1 [==============================] - 0s 470ms/step\n"
     ]
    },
    {
     "data": {
      "text/html": [
       "<h4>Channel 25</h4>"
      ],
      "text/plain": [
       "<IPython.core.display.HTML object>"
      ]
     },
     "metadata": {},
     "output_type": "display_data"
    },
    {
     "name": "stdout",
     "output_type": "stream",
     "text": [
      "CFD: 0.683, NN: 0.620 (0.107 ns vs 0.097 ns)\n",
      "Improvement: 9.15 %\n",
      "1/1 [==============================] - 0s 285ms/step\n"
     ]
    },
    {
     "data": {
      "text/html": [
       "<h4>Channel 26</h4>"
      ],
      "text/plain": [
       "<IPython.core.display.HTML object>"
      ]
     },
     "metadata": {},
     "output_type": "display_data"
    },
    {
     "name": "stdout",
     "output_type": "stream",
     "text": [
      "CFD: 0.768, NN: 0.662 (0.120 ns vs 0.103 ns)\n",
      "Improvement: 13.77 %\n",
      "2/2 [==============================] - 0s 172ms/step\n"
     ]
    },
    {
     "data": {
      "text/html": [
       "<h4>Channel 27</h4>"
      ],
      "text/plain": [
       "<IPython.core.display.HTML object>"
      ]
     },
     "metadata": {},
     "output_type": "display_data"
    },
    {
     "name": "stdout",
     "output_type": "stream",
     "text": [
      "CFD: 0.709, NN: 0.570 (0.111 ns vs 0.089 ns)\n",
      "Improvement: 19.56 %\n",
      "1/1 [==============================] - 0s 450ms/step\n"
     ]
    },
    {
     "data": {
      "text/html": [
       "<h4>Channel 28</h4>"
      ],
      "text/plain": [
       "<IPython.core.display.HTML object>"
      ]
     },
     "metadata": {},
     "output_type": "display_data"
    },
    {
     "name": "stdout",
     "output_type": "stream",
     "text": [
      "CFD: 0.487, NN: 0.388 (0.076 ns vs 0.061 ns)\n",
      "Improvement: 20.37 %\n",
      "1/1 [==============================] - 0s 190ms/step\n"
     ]
    },
    {
     "data": {
      "text/html": [
       "<h4>Channel 29</h4>"
      ],
      "text/plain": [
       "<IPython.core.display.HTML object>"
      ]
     },
     "metadata": {},
     "output_type": "display_data"
    },
    {
     "name": "stdout",
     "output_type": "stream",
     "text": [
      "CFD: 0.444, NN: 0.388 (0.069 ns vs 0.061 ns)\n",
      "Improvement: 12.73 %\n",
      "1/1 [==============================] - 0s 410ms/step\n"
     ]
    },
    {
     "data": {
      "text/html": [
       "<h4>Channel 30</h4>"
      ],
      "text/plain": [
       "<IPython.core.display.HTML object>"
      ]
     },
     "metadata": {},
     "output_type": "display_data"
    },
    {
     "name": "stdout",
     "output_type": "stream",
     "text": [
      "CFD: 0.468, NN: 0.391 (0.073 ns vs 0.061 ns)\n",
      "Improvement: 16.55 %\n",
      "1/1 [==============================] - 0s 173ms/step\n"
     ]
    },
    {
     "data": {
      "text/html": [
       "<h4>Channel 31</h4>"
      ],
      "text/plain": [
       "<IPython.core.display.HTML object>"
      ]
     },
     "metadata": {},
     "output_type": "display_data"
    },
    {
     "name": "stdout",
     "output_type": "stream",
     "text": [
      "CFD: 0.509, NN: 0.411 (0.079 ns vs 0.064 ns)\n",
      "Improvement: 19.21 %\n"
     ]
    }
   ],
   "source": [
    "improvements = {}\n",
    "for channel, (X, y) in list(all_channels_data.items()):\n",
    "    X_aug, y_aug = augmentation_random_cut(X, y, 8, seed=42, apply=True)\n",
    "    X_train, X_test, y_train, y_test = train_test_split(X_aug, y_aug, test_size=TEST_SIZE, random_state=RANDOM_STATE)\n",
    "    Y_heatmap_train = np.array([gaussian_kernel(y) for y in y_train])\n",
    "    Y_heatmap_test = np.array([gaussian_kernel(y) for y in y_test])\n",
    "    \n",
    "    model = create_model(filters_mult=FILTERS_MULT_SEP)\n",
    "    history = train_model(model, X_train, Y_heatmap_train, X_test, Y_heatmap_test, lr=0.001, name=f'model_separate_{channel}', \n",
    "                          train=False, n_epochs=200, verbose=0, loss_weights=100, lr_patience=20, es_patience=40)\n",
    "    \n",
    "    # plot_history(history, f\"Channel {channel}, {len(X)} events\", ymax=1, figsize=(10, 4))\n",
    "    improvement = compare_model_with_cfd(model, cfd, X_test, y_test, channel, show=False)\n",
    "    improvements[channel] = improvement"
   ]
  },
  {
   "cell_type": "code",
   "execution_count": 12,
   "id": "09747ca8-c87c-4983-9d8c-39681e1d3527",
   "metadata": {
    "scrolled": true,
    "tags": []
   },
   "outputs": [
    {
     "data": {
      "text/html": [
       "<div>\n",
       "<style scoped>\n",
       "    .dataframe tbody tr th:only-of-type {\n",
       "        vertical-align: middle;\n",
       "    }\n",
       "\n",
       "    .dataframe tbody tr th {\n",
       "        vertical-align: top;\n",
       "    }\n",
       "\n",
       "    .dataframe thead th {\n",
       "        text-align: right;\n",
       "    }\n",
       "</style>\n",
       "<table border=\"1\" class=\"dataframe\">\n",
       "  <thead>\n",
       "    <tr style=\"text-align: right;\">\n",
       "      <th></th>\n",
       "      <th>improv (%)</th>\n",
       "    </tr>\n",
       "    <tr>\n",
       "      <th>channel</th>\n",
       "      <th></th>\n",
       "    </tr>\n",
       "  </thead>\n",
       "  <tbody>\n",
       "    <tr>\n",
       "      <th>8</th>\n",
       "      <td>20.39 %</td>\n",
       "    </tr>\n",
       "    <tr>\n",
       "      <th>9</th>\n",
       "      <td>12.97 %</td>\n",
       "    </tr>\n",
       "    <tr>\n",
       "      <th>10</th>\n",
       "      <td>11.21 %</td>\n",
       "    </tr>\n",
       "    <tr>\n",
       "      <th>11</th>\n",
       "      <td>15.24 %</td>\n",
       "    </tr>\n",
       "    <tr>\n",
       "      <th>13</th>\n",
       "      <td>18.01 %</td>\n",
       "    </tr>\n",
       "    <tr>\n",
       "      <th>14</th>\n",
       "      <td>19.59 %</td>\n",
       "    </tr>\n",
       "    <tr>\n",
       "      <th>16</th>\n",
       "      <td>23.52 %</td>\n",
       "    </tr>\n",
       "    <tr>\n",
       "      <th>17</th>\n",
       "      <td>18.71 %</td>\n",
       "    </tr>\n",
       "    <tr>\n",
       "      <th>18</th>\n",
       "      <td>12.68 %</td>\n",
       "    </tr>\n",
       "    <tr>\n",
       "      <th>19</th>\n",
       "      <td>14.25 %</td>\n",
       "    </tr>\n",
       "    <tr>\n",
       "      <th>20</th>\n",
       "      <td>11.97 %</td>\n",
       "    </tr>\n",
       "    <tr>\n",
       "      <th>21</th>\n",
       "      <td>8.75 %</td>\n",
       "    </tr>\n",
       "    <tr>\n",
       "      <th>22</th>\n",
       "      <td>11.04 %</td>\n",
       "    </tr>\n",
       "    <tr>\n",
       "      <th>23</th>\n",
       "      <td>11.70 %</td>\n",
       "    </tr>\n",
       "    <tr>\n",
       "      <th>24</th>\n",
       "      <td>14.34 %</td>\n",
       "    </tr>\n",
       "    <tr>\n",
       "      <th>25</th>\n",
       "      <td>9.15 %</td>\n",
       "    </tr>\n",
       "    <tr>\n",
       "      <th>26</th>\n",
       "      <td>13.77 %</td>\n",
       "    </tr>\n",
       "    <tr>\n",
       "      <th>27</th>\n",
       "      <td>19.56 %</td>\n",
       "    </tr>\n",
       "    <tr>\n",
       "      <th>28</th>\n",
       "      <td>20.37 %</td>\n",
       "    </tr>\n",
       "    <tr>\n",
       "      <th>29</th>\n",
       "      <td>12.73 %</td>\n",
       "    </tr>\n",
       "    <tr>\n",
       "      <th>30</th>\n",
       "      <td>16.55 %</td>\n",
       "    </tr>\n",
       "    <tr>\n",
       "      <th>31</th>\n",
       "      <td>19.21 %</td>\n",
       "    </tr>\n",
       "  </tbody>\n",
       "</table>\n",
       "</div>"
      ],
      "text/plain": [
       "        improv (%)\n",
       "channel           \n",
       "8          20.39 %\n",
       "9          12.97 %\n",
       "10         11.21 %\n",
       "11         15.24 %\n",
       "13         18.01 %\n",
       "14         19.59 %\n",
       "16         23.52 %\n",
       "17         18.71 %\n",
       "18         12.68 %\n",
       "19         14.25 %\n",
       "20         11.97 %\n",
       "21          8.75 %\n",
       "22         11.04 %\n",
       "23         11.70 %\n",
       "24         14.34 %\n",
       "25          9.15 %\n",
       "26         13.77 %\n",
       "27         19.56 %\n",
       "28         20.37 %\n",
       "29         12.73 %\n",
       "30         16.55 %\n",
       "31         19.21 %"
      ]
     },
     "execution_count": 12,
     "metadata": {},
     "output_type": "execute_result"
    }
   ],
   "source": [
    "improvement_data = {ch: f'{value * 100:0.2f} %' for ch, value in improvements.items()}\n",
    "\n",
    "df = pd.DataFrame(improvement_data.values(), index=improvement_data.keys(), columns=['improv (%)'])\n",
    "df.index.name = 'channel'\n",
    "df"
   ]
  },
  {
   "cell_type": "markdown",
   "id": "64c94fec-e171-415d-ab7f-c3329e0b08da",
   "metadata": {},
   "source": [
    "## Trained separately, tested separately"
   ]
  },
  {
   "cell_type": "code",
   "execution_count": 13,
   "id": "a6e922d0-97d7-46c8-b2e7-9e495a301048",
   "metadata": {
    "scrolled": true,
    "tags": []
   },
   "outputs": [
    {
     "name": "stdout",
     "output_type": "stream",
     "text": [
      "Processing channel 8...\n",
      "1/1 [==============================] - 0s 153ms/step\n",
      "1/1 [==============================] - 0s 13ms/step\n",
      "1/1 [==============================] - 0s 12ms/step\n",
      "1/1 [==============================] - 0s 11ms/step\n",
      "1/1 [==============================] - 0s 13ms/step\n",
      "1/1 [==============================] - 0s 15ms/step\n",
      "1/1 [==============================] - 0s 12ms/step\n",
      "1/1 [==============================] - 0s 12ms/step\n",
      "1/1 [==============================] - 0s 11ms/step\n",
      "1/1 [==============================] - 0s 14ms/step\n",
      "1/1 [==============================] - 0s 12ms/step\n",
      "1/1 [==============================] - 0s 13ms/step\n",
      "1/1 [==============================] - 0s 12ms/step\n",
      "1/1 [==============================] - 0s 14ms/step\n",
      "2/2 [==============================] - 0s 190ms/step\n",
      "1/1 [==============================] - 0s 12ms/step\n",
      "1/1 [==============================] - 0s 16ms/step\n",
      "2/2 [==============================] - 0s 37ms/step\n",
      "1/1 [==============================] - 0s 13ms/step\n",
      "1/1 [==============================] - 0s 11ms/step\n",
      "1/1 [==============================] - 0s 14ms/step\n",
      "1/1 [==============================] - 0s 12ms/step\n",
      "Processing channel 9...\n",
      "1/1 [==============================] - 0s 115ms/step\n",
      "1/1 [==============================] - 0s 12ms/step\n",
      "1/1 [==============================] - 0s 16ms/step\n",
      "1/1 [==============================] - 0s 13ms/step\n",
      "1/1 [==============================] - 0s 12ms/step\n",
      "1/1 [==============================] - 0s 12ms/step\n",
      "1/1 [==============================] - 0s 12ms/step\n",
      "1/1 [==============================] - 0s 15ms/step\n",
      "1/1 [==============================] - 0s 13ms/step\n",
      "1/1 [==============================] - 0s 12ms/step\n",
      "1/1 [==============================] - 0s 15ms/step\n",
      "1/1 [==============================] - 0s 12ms/step\n",
      "1/1 [==============================] - 0s 16ms/step\n",
      "1/1 [==============================] - 0s 14ms/step\n",
      "2/2 [==============================] - 0s 275ms/step\n",
      "1/1 [==============================] - 0s 18ms/step\n",
      "1/1 [==============================] - 0s 12ms/step\n",
      "2/2 [==============================] - 0s 263ms/step\n",
      "1/1 [==============================] - 0s 17ms/step\n",
      "1/1 [==============================] - 0s 12ms/step\n",
      "1/1 [==============================] - 0s 12ms/step\n",
      "1/1 [==============================] - 0s 12ms/step\n",
      "Processing channel 10...\n",
      "1/1 [==============================] - 0s 140ms/step\n",
      "1/1 [==============================] - 0s 15ms/step\n",
      "1/1 [==============================] - 0s 14ms/step\n",
      "1/1 [==============================] - 0s 16ms/step\n",
      "1/1 [==============================] - 0s 12ms/step\n",
      "1/1 [==============================] - 0s 15ms/step\n",
      "1/1 [==============================] - 0s 12ms/step\n",
      "1/1 [==============================] - 0s 16ms/step\n",
      "1/1 [==============================] - 0s 13ms/step\n",
      "1/1 [==============================] - 0s 13ms/step\n",
      "1/1 [==============================] - 0s 11ms/step\n",
      "1/1 [==============================] - 0s 12ms/step\n",
      "1/1 [==============================] - 0s 12ms/step\n",
      "1/1 [==============================] - 0s 12ms/step\n",
      "2/2 [==============================] - 0s 231ms/step\n",
      "1/1 [==============================] - 0s 16ms/step\n",
      "1/1 [==============================] - 0s 16ms/step\n",
      "2/2 [==============================] - 0s 395ms/step\n",
      "1/1 [==============================] - 0s 12ms/step\n",
      "1/1 [==============================] - 0s 12ms/step\n",
      "1/1 [==============================] - 0s 16ms/step\n",
      "1/1 [==============================] - 0s 14ms/step\n",
      "Processing channel 11...\n",
      "1/1 [==============================] - 0s 116ms/step\n",
      "1/1 [==============================] - 0s 16ms/step\n",
      "1/1 [==============================] - 0s 12ms/step\n",
      "1/1 [==============================] - 0s 11ms/step\n",
      "1/1 [==============================] - 0s 11ms/step\n",
      "1/1 [==============================] - 0s 16ms/step\n",
      "1/1 [==============================] - 0s 16ms/step\n",
      "1/1 [==============================] - 0s 12ms/step\n",
      "1/1 [==============================] - 0s 16ms/step\n",
      "1/1 [==============================] - 0s 11ms/step\n",
      "1/1 [==============================] - 0s 10ms/step\n",
      "1/1 [==============================] - 0s 16ms/step\n",
      "1/1 [==============================] - 0s 16ms/step\n",
      "1/1 [==============================] - 0s 19ms/step\n",
      "2/2 [==============================] - 0s 257ms/step\n",
      "1/1 [==============================] - 0s 16ms/step\n",
      "1/1 [==============================] - 0s 12ms/step\n",
      "2/2 [==============================] - 0s 37ms/step\n",
      "1/1 [==============================] - 0s 11ms/step\n",
      "1/1 [==============================] - 0s 13ms/step\n",
      "1/1 [==============================] - 0s 14ms/step\n",
      "1/1 [==============================] - 0s 12ms/step\n",
      "Processing channel 13...\n",
      "1/1 [==============================] - 0s 116ms/step\n",
      "1/1 [==============================] - 0s 11ms/step\n",
      "1/1 [==============================] - 0s 12ms/step\n",
      "1/1 [==============================] - 0s 12ms/step\n",
      "1/1 [==============================] - 0s 13ms/step\n",
      "1/1 [==============================] - 0s 13ms/step\n",
      "1/1 [==============================] - 0s 13ms/step\n",
      "1/1 [==============================] - 0s 13ms/step\n",
      "1/1 [==============================] - 0s 13ms/step\n",
      "1/1 [==============================] - 0s 12ms/step\n",
      "1/1 [==============================] - 0s 12ms/step\n",
      "1/1 [==============================] - 0s 13ms/step\n",
      "1/1 [==============================] - 0s 12ms/step\n",
      "1/1 [==============================] - 0s 11ms/step\n",
      "2/2 [==============================] - 0s 182ms/step\n",
      "1/1 [==============================] - 0s 13ms/step\n",
      "1/1 [==============================] - 0s 13ms/step\n",
      "2/2 [==============================] - 0s 54ms/step\n",
      "1/1 [==============================] - 0s 13ms/step\n",
      "1/1 [==============================] - 0s 15ms/step\n",
      "1/1 [==============================] - 0s 14ms/step\n",
      "1/1 [==============================] - 0s 11ms/step\n",
      "Processing channel 14...\n",
      "1/1 [==============================] - 0s 119ms/step\n",
      "1/1 [==============================] - 0s 12ms/step\n",
      "1/1 [==============================] - 0s 12ms/step\n",
      "1/1 [==============================] - 0s 14ms/step\n",
      "1/1 [==============================] - 0s 12ms/step\n",
      "1/1 [==============================] - 0s 14ms/step\n",
      "1/1 [==============================] - 0s 13ms/step\n",
      "1/1 [==============================] - 0s 13ms/step\n",
      "1/1 [==============================] - 0s 12ms/step\n",
      "1/1 [==============================] - 0s 12ms/step\n",
      "1/1 [==============================] - 0s 14ms/step\n",
      "1/1 [==============================] - 0s 13ms/step\n",
      "1/1 [==============================] - 0s 13ms/step\n",
      "1/1 [==============================] - 0s 13ms/step\n",
      "2/2 [==============================] - 0s 269ms/step\n",
      "1/1 [==============================] - 0s 17ms/step\n",
      "1/1 [==============================] - 0s 14ms/step\n",
      "2/2 [==============================] - 0s 231ms/step\n",
      "1/1 [==============================] - 0s 12ms/step\n",
      "1/1 [==============================] - 0s 14ms/step\n",
      "1/1 [==============================] - 0s 13ms/step\n",
      "1/1 [==============================] - 0s 13ms/step\n",
      "Processing channel 16...\n",
      "1/1 [==============================] - 0s 138ms/step\n",
      "1/1 [==============================] - 0s 12ms/step\n",
      "1/1 [==============================] - 0s 12ms/step\n",
      "1/1 [==============================] - 0s 11ms/step\n",
      "1/1 [==============================] - 0s 12ms/step\n",
      "1/1 [==============================] - 0s 14ms/step\n",
      "1/1 [==============================] - 0s 13ms/step\n",
      "1/1 [==============================] - 0s 15ms/step\n",
      "1/1 [==============================] - 0s 12ms/step\n",
      "1/1 [==============================] - 0s 12ms/step\n",
      "1/1 [==============================] - 0s 25ms/step\n",
      "1/1 [==============================] - 0s 12ms/step\n",
      "1/1 [==============================] - 0s 12ms/step\n",
      "1/1 [==============================] - 0s 13ms/step\n",
      "2/2 [==============================] - 0s 36ms/step\n",
      "1/1 [==============================] - 0s 13ms/step\n",
      "1/1 [==============================] - 0s 14ms/step\n",
      "2/2 [==============================] - 0s 333ms/step\n",
      "1/1 [==============================] - 0s 13ms/step\n",
      "1/1 [==============================] - 0s 11ms/step\n",
      "1/1 [==============================] - 0s 14ms/step\n",
      "1/1 [==============================] - 0s 11ms/step\n",
      "Processing channel 17...\n",
      "1/1 [==============================] - 0s 134ms/step\n",
      "1/1 [==============================] - 0s 21ms/step\n",
      "1/1 [==============================] - 0s 13ms/step\n",
      "1/1 [==============================] - 0s 14ms/step\n",
      "1/1 [==============================] - 0s 15ms/step\n",
      "1/1 [==============================] - 0s 18ms/step\n",
      "1/1 [==============================] - 0s 13ms/step\n",
      "1/1 [==============================] - 0s 12ms/step\n",
      "1/1 [==============================] - 0s 12ms/step\n",
      "1/1 [==============================] - 0s 12ms/step\n",
      "1/1 [==============================] - 0s 12ms/step\n",
      "1/1 [==============================] - 0s 14ms/step\n",
      "1/1 [==============================] - 0s 13ms/step\n",
      "1/1 [==============================] - 0s 12ms/step\n",
      "2/2 [==============================] - 0s 36ms/step\n",
      "1/1 [==============================] - 0s 13ms/step\n",
      "1/1 [==============================] - 0s 13ms/step\n",
      "2/2 [==============================] - 0s 107ms/step\n",
      "1/1 [==============================] - 0s 13ms/step\n",
      "1/1 [==============================] - 0s 14ms/step\n",
      "1/1 [==============================] - 0s 12ms/step\n",
      "1/1 [==============================] - 0s 15ms/step\n",
      "Processing channel 18...\n",
      "1/1 [==============================] - 0s 121ms/step\n",
      "1/1 [==============================] - 0s 12ms/step\n",
      "1/1 [==============================] - 0s 11ms/step\n",
      "1/1 [==============================] - 0s 12ms/step\n",
      "1/1 [==============================] - 0s 14ms/step\n",
      "1/1 [==============================] - 0s 12ms/step\n",
      "1/1 [==============================] - 0s 13ms/step\n",
      "1/1 [==============================] - 0s 17ms/step\n",
      "1/1 [==============================] - 0s 17ms/step\n",
      "1/1 [==============================] - 0s 16ms/step\n",
      "1/1 [==============================] - 0s 12ms/step\n",
      "1/1 [==============================] - 0s 12ms/step\n",
      "1/1 [==============================] - 0s 12ms/step\n",
      "1/1 [==============================] - 0s 13ms/step\n",
      "2/2 [==============================] - 0s 297ms/step\n",
      "1/1 [==============================] - 0s 13ms/step\n",
      "1/1 [==============================] - 0s 14ms/step\n",
      "2/2 [==============================] - 0s 120ms/step\n",
      "1/1 [==============================] - 0s 12ms/step\n",
      "1/1 [==============================] - 0s 13ms/step\n",
      "1/1 [==============================] - 0s 12ms/step\n",
      "1/1 [==============================] - 0s 14ms/step\n",
      "Processing channel 19...\n",
      "1/1 [==============================] - 0s 115ms/step\n",
      "1/1 [==============================] - 0s 12ms/step\n",
      "1/1 [==============================] - 0s 11ms/step\n",
      "1/1 [==============================] - 0s 12ms/step\n",
      "1/1 [==============================] - 0s 15ms/step\n",
      "1/1 [==============================] - 0s 17ms/step\n",
      "1/1 [==============================] - 0s 13ms/step\n",
      "1/1 [==============================] - 0s 12ms/step\n",
      "1/1 [==============================] - 0s 13ms/step\n",
      "1/1 [==============================] - 0s 13ms/step\n",
      "1/1 [==============================] - 0s 14ms/step\n",
      "1/1 [==============================] - 0s 14ms/step\n",
      "1/1 [==============================] - 0s 16ms/step\n",
      "1/1 [==============================] - 0s 14ms/step\n",
      "2/2 [==============================] - 0s 239ms/step\n",
      "1/1 [==============================] - 0s 14ms/step\n",
      "1/1 [==============================] - 0s 13ms/step\n",
      "2/2 [==============================] - 0s 270ms/step\n",
      "1/1 [==============================] - 0s 12ms/step\n",
      "1/1 [==============================] - 0s 12ms/step\n",
      "1/1 [==============================] - 0s 12ms/step\n",
      "1/1 [==============================] - 0s 12ms/step\n",
      "Processing channel 20...\n",
      "1/1 [==============================] - 0s 121ms/step\n",
      "1/1 [==============================] - 0s 19ms/step\n",
      "1/1 [==============================] - 0s 13ms/step\n",
      "1/1 [==============================] - 0s 13ms/step\n",
      "1/1 [==============================] - 0s 12ms/step\n",
      "1/1 [==============================] - 0s 18ms/step\n",
      "1/1 [==============================] - 0s 13ms/step\n",
      "1/1 [==============================] - 0s 17ms/step\n",
      "1/1 [==============================] - 0s 15ms/step\n",
      "1/1 [==============================] - 0s 12ms/step\n",
      "1/1 [==============================] - 0s 12ms/step\n",
      "1/1 [==============================] - 0s 15ms/step\n",
      "1/1 [==============================] - 0s 16ms/step\n",
      "1/1 [==============================] - 0s 14ms/step\n",
      "2/2 [==============================] - 0s 240ms/step\n",
      "1/1 [==============================] - 0s 11ms/step\n",
      "1/1 [==============================] - 0s 20ms/step\n",
      "2/2 [==============================] - 0s 35ms/step\n",
      "1/1 [==============================] - 0s 19ms/step\n",
      "1/1 [==============================] - 0s 14ms/step\n",
      "1/1 [==============================] - 0s 14ms/step\n",
      "1/1 [==============================] - 0s 15ms/step\n",
      "Processing channel 21...\n",
      "1/1 [==============================] - 0s 129ms/step\n",
      "1/1 [==============================] - 0s 13ms/step\n",
      "1/1 [==============================] - 0s 11ms/step\n",
      "1/1 [==============================] - 0s 18ms/step\n",
      "1/1 [==============================] - 0s 14ms/step\n",
      "1/1 [==============================] - 0s 12ms/step\n",
      "1/1 [==============================] - 0s 13ms/step\n",
      "1/1 [==============================] - 0s 12ms/step\n",
      "1/1 [==============================] - 0s 11ms/step\n",
      "1/1 [==============================] - 0s 15ms/step\n",
      "1/1 [==============================] - 0s 11ms/step\n",
      "1/1 [==============================] - 0s 13ms/step\n",
      "1/1 [==============================] - 0s 16ms/step\n",
      "1/1 [==============================] - 0s 15ms/step\n",
      "2/2 [==============================] - 0s 36ms/step\n",
      "1/1 [==============================] - 0s 13ms/step\n",
      "1/1 [==============================] - 0s 18ms/step\n",
      "2/2 [==============================] - 0s 195ms/step\n",
      "1/1 [==============================] - 0s 14ms/step\n",
      "1/1 [==============================] - 0s 12ms/step\n",
      "1/1 [==============================] - 0s 12ms/step\n",
      "1/1 [==============================] - 0s 13ms/step\n",
      "Processing channel 22...\n",
      "1/1 [==============================] - 0s 121ms/step\n",
      "1/1 [==============================] - 0s 13ms/step\n",
      "1/1 [==============================] - 0s 14ms/step\n",
      "1/1 [==============================] - 0s 15ms/step\n",
      "1/1 [==============================] - 0s 20ms/step\n",
      "1/1 [==============================] - 0s 18ms/step\n",
      "1/1 [==============================] - 0s 12ms/step\n",
      "1/1 [==============================] - 0s 13ms/step\n",
      "1/1 [==============================] - 0s 12ms/step\n",
      "1/1 [==============================] - 0s 11ms/step\n",
      "1/1 [==============================] - 0s 19ms/step\n",
      "1/1 [==============================] - 0s 14ms/step\n",
      "1/1 [==============================] - 0s 22ms/step\n",
      "1/1 [==============================] - 0s 17ms/step\n",
      "2/2 [==============================] - 0s 224ms/step\n",
      "1/1 [==============================] - 0s 20ms/step\n",
      "1/1 [==============================] - 0s 12ms/step\n",
      "2/2 [==============================] - 0s 304ms/step\n",
      "1/1 [==============================] - 0s 12ms/step\n",
      "1/1 [==============================] - 0s 15ms/step\n",
      "1/1 [==============================] - 0s 12ms/step\n",
      "1/1 [==============================] - 0s 14ms/step\n",
      "Processing channel 23...\n",
      "1/1 [==============================] - 0s 128ms/step\n",
      "1/1 [==============================] - 0s 12ms/step\n",
      "1/1 [==============================] - 0s 12ms/step\n",
      "1/1 [==============================] - 0s 12ms/step\n",
      "1/1 [==============================] - 0s 14ms/step\n",
      "1/1 [==============================] - 0s 13ms/step\n",
      "1/1 [==============================] - 0s 12ms/step\n",
      "1/1 [==============================] - 0s 15ms/step\n",
      "1/1 [==============================] - 0s 14ms/step\n",
      "1/1 [==============================] - 0s 12ms/step\n",
      "1/1 [==============================] - 0s 12ms/step\n",
      "1/1 [==============================] - 0s 13ms/step\n",
      "1/1 [==============================] - 0s 16ms/step\n",
      "1/1 [==============================] - 0s 14ms/step\n",
      "2/2 [==============================] - 0s 240ms/step\n",
      "1/1 [==============================] - 0s 15ms/step\n",
      "1/1 [==============================] - 0s 12ms/step\n",
      "2/2 [==============================] - 0s 231ms/step\n",
      "1/1 [==============================] - 0s 16ms/step\n",
      "1/1 [==============================] - 0s 12ms/step\n",
      "1/1 [==============================] - 0s 12ms/step\n",
      "1/1 [==============================] - 0s 15ms/step\n",
      "Processing channel 24...\n",
      "1/1 [==============================] - 0s 132ms/step\n",
      "1/1 [==============================] - 0s 14ms/step\n",
      "1/1 [==============================] - 0s 16ms/step\n",
      "1/1 [==============================] - 0s 15ms/step\n",
      "1/1 [==============================] - 0s 15ms/step\n",
      "1/1 [==============================] - 0s 16ms/step\n",
      "1/1 [==============================] - 0s 15ms/step\n",
      "1/1 [==============================] - 0s 12ms/step\n",
      "1/1 [==============================] - 0s 15ms/step\n",
      "1/1 [==============================] - 0s 14ms/step\n",
      "1/1 [==============================] - 0s 13ms/step\n",
      "1/1 [==============================] - 0s 15ms/step\n",
      "1/1 [==============================] - 0s 18ms/step\n",
      "1/1 [==============================] - 0s 18ms/step\n",
      "2/2 [==============================] - 0s 221ms/step\n",
      "1/1 [==============================] - 0s 17ms/step\n",
      "1/1 [==============================] - 0s 13ms/step\n",
      "2/2 [==============================] - 0s 36ms/step\n",
      "1/1 [==============================] - 0s 11ms/step\n",
      "1/1 [==============================] - 0s 13ms/step\n",
      "1/1 [==============================] - 0s 15ms/step\n",
      "1/1 [==============================] - 0s 12ms/step\n",
      "Processing channel 25...\n",
      "1/1 [==============================] - 0s 128ms/step\n",
      "1/1 [==============================] - 0s 24ms/step\n",
      "1/1 [==============================] - 0s 19ms/step\n",
      "1/1 [==============================] - 0s 15ms/step\n",
      "1/1 [==============================] - 0s 12ms/step\n",
      "1/1 [==============================] - 0s 12ms/step\n",
      "1/1 [==============================] - 0s 20ms/step\n",
      "1/1 [==============================] - 0s 17ms/step\n",
      "1/1 [==============================] - 0s 19ms/step\n",
      "1/1 [==============================] - 0s 12ms/step\n",
      "1/1 [==============================] - 0s 12ms/step\n",
      "1/1 [==============================] - 0s 13ms/step\n",
      "1/1 [==============================] - 0s 12ms/step\n",
      "1/1 [==============================] - 0s 13ms/step\n",
      "2/2 [==============================] - 0s 213ms/step\n",
      "1/1 [==============================] - 0s 14ms/step\n",
      "1/1 [==============================] - 0s 12ms/step\n",
      "2/2 [==============================] - 0s 216ms/step\n",
      "1/1 [==============================] - 0s 12ms/step\n",
      "1/1 [==============================] - 0s 11ms/step\n",
      "1/1 [==============================] - 0s 13ms/step\n",
      "1/1 [==============================] - 0s 15ms/step\n",
      "Processing channel 26...\n",
      "1/1 [==============================] - 0s 121ms/step\n",
      "1/1 [==============================] - 0s 14ms/step\n",
      "1/1 [==============================] - 0s 13ms/step\n",
      "1/1 [==============================] - 0s 13ms/step\n",
      "1/1 [==============================] - 0s 14ms/step\n",
      "1/1 [==============================] - 0s 12ms/step\n",
      "1/1 [==============================] - 0s 13ms/step\n",
      "1/1 [==============================] - 0s 13ms/step\n",
      "1/1 [==============================] - 0s 15ms/step\n",
      "1/1 [==============================] - 0s 13ms/step\n",
      "1/1 [==============================] - 0s 11ms/step\n",
      "1/1 [==============================] - 0s 14ms/step\n",
      "1/1 [==============================] - 0s 26ms/step\n",
      "1/1 [==============================] - 0s 13ms/step\n",
      "2/2 [==============================] - 0s 278ms/step\n",
      "1/1 [==============================] - 0s 13ms/step\n",
      "1/1 [==============================] - 0s 14ms/step\n",
      "2/2 [==============================] - 0s 244ms/step\n",
      "1/1 [==============================] - 0s 22ms/step\n",
      "1/1 [==============================] - 0s 15ms/step\n",
      "1/1 [==============================] - 0s 17ms/step\n",
      "1/1 [==============================] - 0s 17ms/step\n",
      "Processing channel 27...\n",
      "1/1 [==============================] - 0s 148ms/step\n",
      "1/1 [==============================] - 0s 14ms/step\n",
      "1/1 [==============================] - 0s 15ms/step\n",
      "1/1 [==============================] - 0s 15ms/step\n",
      "1/1 [==============================] - 0s 13ms/step\n",
      "1/1 [==============================] - 0s 12ms/step\n",
      "1/1 [==============================] - 0s 13ms/step\n",
      "1/1 [==============================] - 0s 17ms/step\n",
      "1/1 [==============================] - 0s 17ms/step\n",
      "1/1 [==============================] - 0s 11ms/step\n",
      "1/1 [==============================] - 0s 14ms/step\n",
      "1/1 [==============================] - 0s 12ms/step\n",
      "1/1 [==============================] - 0s 12ms/step\n",
      "1/1 [==============================] - 0s 11ms/step\n",
      "2/2 [==============================] - 0s 37ms/step\n",
      "1/1 [==============================] - 0s 13ms/step\n",
      "1/1 [==============================] - 0s 16ms/step\n",
      "2/2 [==============================] - 0s 269ms/step\n",
      "1/1 [==============================] - 0s 13ms/step\n",
      "1/1 [==============================] - 0s 13ms/step\n",
      "1/1 [==============================] - 0s 12ms/step\n",
      "1/1 [==============================] - 0s 12ms/step\n",
      "Processing channel 28...\n",
      "1/1 [==============================] - 0s 119ms/step\n",
      "1/1 [==============================] - 0s 12ms/step\n",
      "1/1 [==============================] - 0s 14ms/step\n",
      "1/1 [==============================] - 0s 12ms/step\n",
      "1/1 [==============================] - 0s 15ms/step\n",
      "1/1 [==============================] - 0s 13ms/step\n",
      "1/1 [==============================] - 0s 12ms/step\n",
      "1/1 [==============================] - 0s 16ms/step\n",
      "1/1 [==============================] - 0s 12ms/step\n",
      "1/1 [==============================] - 0s 15ms/step\n",
      "1/1 [==============================] - 0s 16ms/step\n",
      "1/1 [==============================] - 0s 14ms/step\n",
      "1/1 [==============================] - 0s 16ms/step\n",
      "1/1 [==============================] - 0s 12ms/step\n",
      "2/2 [==============================] - 0s 35ms/step\n",
      "1/1 [==============================] - 0s 19ms/step\n",
      "1/1 [==============================] - 0s 12ms/step\n",
      "2/2 [==============================] - 0s 250ms/step\n",
      "1/1 [==============================] - 0s 13ms/step\n",
      "1/1 [==============================] - 0s 20ms/step\n",
      "1/1 [==============================] - 0s 22ms/step\n",
      "1/1 [==============================] - 0s 15ms/step\n",
      "Processing channel 29...\n",
      "1/1 [==============================] - 0s 173ms/step\n",
      "1/1 [==============================] - 0s 13ms/step\n",
      "1/1 [==============================] - 0s 17ms/step\n",
      "1/1 [==============================] - 0s 16ms/step\n",
      "1/1 [==============================] - 0s 12ms/step\n",
      "1/1 [==============================] - 0s 15ms/step\n",
      "1/1 [==============================] - 0s 13ms/step\n",
      "1/1 [==============================] - 0s 14ms/step\n",
      "1/1 [==============================] - 0s 15ms/step\n",
      "1/1 [==============================] - 0s 13ms/step\n",
      "1/1 [==============================] - 0s 12ms/step\n",
      "1/1 [==============================] - 0s 15ms/step\n",
      "1/1 [==============================] - 0s 13ms/step\n",
      "1/1 [==============================] - 0s 13ms/step\n",
      "2/2 [==============================] - 0s 240ms/step\n",
      "1/1 [==============================] - 0s 13ms/step\n",
      "1/1 [==============================] - 0s 12ms/step\n",
      "2/2 [==============================] - 0s 39ms/step\n",
      "1/1 [==============================] - 0s 12ms/step\n",
      "1/1 [==============================] - 0s 11ms/step\n",
      "1/1 [==============================] - 0s 13ms/step\n",
      "1/1 [==============================] - 0s 12ms/step\n",
      "Processing channel 30...\n",
      "1/1 [==============================] - 0s 148ms/step\n",
      "1/1 [==============================] - 0s 12ms/step\n",
      "1/1 [==============================] - 0s 13ms/step\n",
      "1/1 [==============================] - 0s 12ms/step\n",
      "1/1 [==============================] - 0s 14ms/step\n",
      "1/1 [==============================] - 0s 13ms/step\n",
      "1/1 [==============================] - 0s 14ms/step\n",
      "1/1 [==============================] - 0s 13ms/step\n",
      "1/1 [==============================] - 0s 19ms/step\n",
      "1/1 [==============================] - 0s 19ms/step\n",
      "1/1 [==============================] - 0s 12ms/step\n",
      "1/1 [==============================] - 0s 12ms/step\n",
      "1/1 [==============================] - 0s 12ms/step\n",
      "1/1 [==============================] - 0s 17ms/step\n",
      "2/2 [==============================] - 0s 249ms/step\n",
      "1/1 [==============================] - 0s 18ms/step\n",
      "1/1 [==============================] - 0s 16ms/step\n",
      "2/2 [==============================] - 0s 100ms/step\n",
      "1/1 [==============================] - 0s 14ms/step\n",
      "1/1 [==============================] - 0s 14ms/step\n",
      "1/1 [==============================] - 0s 13ms/step\n",
      "1/1 [==============================] - 0s 15ms/step\n",
      "Processing channel 31...\n",
      "1/1 [==============================] - 0s 140ms/step\n",
      "1/1 [==============================] - 0s 18ms/step\n",
      "1/1 [==============================] - 0s 14ms/step\n",
      "1/1 [==============================] - 0s 24ms/step\n",
      "1/1 [==============================] - 0s 13ms/step\n",
      "1/1 [==============================] - 0s 13ms/step\n",
      "1/1 [==============================] - 0s 17ms/step\n",
      "1/1 [==============================] - 0s 15ms/step\n",
      "1/1 [==============================] - 0s 18ms/step\n",
      "1/1 [==============================] - 0s 15ms/step\n",
      "1/1 [==============================] - 0s 15ms/step\n",
      "1/1 [==============================] - 0s 21ms/step\n",
      "1/1 [==============================] - 0s 15ms/step\n",
      "1/1 [==============================] - 0s 14ms/step\n",
      "2/2 [==============================] - 0s 261ms/step\n",
      "1/1 [==============================] - 0s 14ms/step\n",
      "1/1 [==============================] - 0s 13ms/step\n",
      "2/2 [==============================] - 0s 36ms/step\n",
      "1/1 [==============================] - 0s 13ms/step\n",
      "1/1 [==============================] - 0s 12ms/step\n",
      "1/1 [==============================] - 0s 13ms/step\n",
      "1/1 [==============================] - 0s 16ms/step\n"
     ]
    }
   ],
   "source": [
    "results = defaultdict(dict)\n",
    "for model_channel in list(all_channels_data.keys()):\n",
    "    print(f'Processing channel {model_channel}...')\n",
    "    model = create_model(filters_mult=FILTERS_MULT_SEP)\n",
    "    load_model(model, lr=0.001, name=f'model_separate_{model_channel}', loss_weights=100)\n",
    "    \n",
    "    for channel, (X, y) in list(all_channels_data.items()):\n",
    "        X_aug, y_aug = augmentation_random_cut(X, y, 8, seed=42, apply=True)\n",
    "        _, X_test, _, y_test = train_test_split(X_aug, y_aug, test_size=TEST_SIZE, random_state=RANDOM_STATE)\n",
    "        Y_heatmap_test = np.array([gaussian_kernel(y) for y in y_test])\n",
    "        \n",
    "        improvement = compare_model_with_cfd(model, cfd, X_test, y_test, channel, show=False, log=False)\n",
    "        results[model_channel][channel] = improvement"
   ]
  },
  {
   "cell_type": "code",
   "execution_count": 14,
   "id": "a87366d0-cb14-40ed-bb50-f92f66b820b2",
   "metadata": {},
   "outputs": [],
   "source": [
    "# Check that the order is the same\n",
    "assert list(results.keys()) == sorted(results.keys())\n",
    "for x in results.values():\n",
    "    assert list(x.keys()) == sorted(x.keys())\n",
    "\n",
    "row_names = [str(key) for key in results.keys()]\n",
    "col_names = [str(key) for key in list(results.values())[0].keys()]"
   ]
  },
  {
   "cell_type": "code",
   "execution_count": 27,
   "id": "ba6d13c2-37f2-460b-a101-cab59b516971",
   "metadata": {
    "tags": []
   },
   "outputs": [
    {
     "data": {
      "text/html": [
       "<div>\n",
       "<style scoped>\n",
       "    .dataframe tbody tr th:only-of-type {\n",
       "        vertical-align: middle;\n",
       "    }\n",
       "\n",
       "    .dataframe tbody tr th {\n",
       "        vertical-align: top;\n",
       "    }\n",
       "\n",
       "    .dataframe thead th {\n",
       "        text-align: right;\n",
       "    }\n",
       "</style>\n",
       "<table border=\"1\" class=\"dataframe\">\n",
       "  <thead>\n",
       "    <tr style=\"text-align: right;\">\n",
       "      <th></th>\n",
       "      <th>8</th>\n",
       "      <th>9</th>\n",
       "      <th>10</th>\n",
       "      <th>11</th>\n",
       "      <th>13</th>\n",
       "      <th>14</th>\n",
       "      <th>16</th>\n",
       "      <th>17</th>\n",
       "      <th>18</th>\n",
       "      <th>19</th>\n",
       "      <th>20</th>\n",
       "      <th>21</th>\n",
       "      <th>22</th>\n",
       "      <th>23</th>\n",
       "      <th>24</th>\n",
       "      <th>25</th>\n",
       "      <th>26</th>\n",
       "      <th>27</th>\n",
       "      <th>28</th>\n",
       "      <th>29</th>\n",
       "      <th>30</th>\n",
       "      <th>31</th>\n",
       "    </tr>\n",
       "    <tr>\n",
       "      <th>trained on \\ tested on</th>\n",
       "      <th></th>\n",
       "      <th></th>\n",
       "      <th></th>\n",
       "      <th></th>\n",
       "      <th></th>\n",
       "      <th></th>\n",
       "      <th></th>\n",
       "      <th></th>\n",
       "      <th></th>\n",
       "      <th></th>\n",
       "      <th></th>\n",
       "      <th></th>\n",
       "      <th></th>\n",
       "      <th></th>\n",
       "      <th></th>\n",
       "      <th></th>\n",
       "      <th></th>\n",
       "      <th></th>\n",
       "      <th></th>\n",
       "      <th></th>\n",
       "      <th></th>\n",
       "      <th></th>\n",
       "    </tr>\n",
       "  </thead>\n",
       "  <tbody>\n",
       "    <tr>\n",
       "      <th>8</th>\n",
       "      <td>20.39 %</td>\n",
       "      <td>8.45 %</td>\n",
       "      <td>9.34 %</td>\n",
       "      <td>10.01 %</td>\n",
       "      <td>-9.50 %</td>\n",
       "      <td>-7.80 %</td>\n",
       "      <td>5.51 %</td>\n",
       "      <td>8.44 %</td>\n",
       "      <td>3.16 %</td>\n",
       "      <td>2.22 %</td>\n",
       "      <td>7.02 %</td>\n",
       "      <td>-4.47 %</td>\n",
       "      <td>6.84 %</td>\n",
       "      <td>5.19 %</td>\n",
       "      <td>-7.27 %</td>\n",
       "      <td>-4.03 %</td>\n",
       "      <td>-14.58 %</td>\n",
       "      <td>-10.95 %</td>\n",
       "      <td>3.70 %</td>\n",
       "      <td>2.18 %</td>\n",
       "      <td>-10.62 %</td>\n",
       "      <td>-2.64 %</td>\n",
       "    </tr>\n",
       "    <tr>\n",
       "      <th>9</th>\n",
       "      <td>13.36 %</td>\n",
       "      <td>12.97 %</td>\n",
       "      <td>9.39 %</td>\n",
       "      <td>10.11 %</td>\n",
       "      <td>4.90 %</td>\n",
       "      <td>2.95 %</td>\n",
       "      <td>3.37 %</td>\n",
       "      <td>9.34 %</td>\n",
       "      <td>1.33 %</td>\n",
       "      <td>3.24 %</td>\n",
       "      <td>2.03 %</td>\n",
       "      <td>1.86 %</td>\n",
       "      <td>5.17 %</td>\n",
       "      <td>2.98 %</td>\n",
       "      <td>-6.50 %</td>\n",
       "      <td>0.64 %</td>\n",
       "      <td>-4.04 %</td>\n",
       "      <td>-14.14 %</td>\n",
       "      <td>5.22 %</td>\n",
       "      <td>0.99 %</td>\n",
       "      <td>-5.74 %</td>\n",
       "      <td>-6.94 %</td>\n",
       "    </tr>\n",
       "    <tr>\n",
       "      <th>10</th>\n",
       "      <td>7.89 %</td>\n",
       "      <td>4.53 %</td>\n",
       "      <td>11.21 %</td>\n",
       "      <td>10.96 %</td>\n",
       "      <td>8.62 %</td>\n",
       "      <td>8.24 %</td>\n",
       "      <td>3.08 %</td>\n",
       "      <td>12.12 %</td>\n",
       "      <td>3.96 %</td>\n",
       "      <td>-3.45 %</td>\n",
       "      <td>-0.72 %</td>\n",
       "      <td>2.54 %</td>\n",
       "      <td>5.91 %</td>\n",
       "      <td>5.23 %</td>\n",
       "      <td>-0.19 %</td>\n",
       "      <td>3.47 %</td>\n",
       "      <td>4.86 %</td>\n",
       "      <td>-2.73 %</td>\n",
       "      <td>8.15 %</td>\n",
       "      <td>1.57 %</td>\n",
       "      <td>-1.84 %</td>\n",
       "      <td>-6.72 %</td>\n",
       "    </tr>\n",
       "    <tr>\n",
       "      <th>11</th>\n",
       "      <td>3.45 %</td>\n",
       "      <td>-7.94 %</td>\n",
       "      <td>9.06 %</td>\n",
       "      <td>15.24 %</td>\n",
       "      <td>-22.44 %</td>\n",
       "      <td>-20.87 %</td>\n",
       "      <td>14.99 %</td>\n",
       "      <td>12.71 %</td>\n",
       "      <td>3.63 %</td>\n",
       "      <td>-24.67 %</td>\n",
       "      <td>-1.94 %</td>\n",
       "      <td>-7.64 %</td>\n",
       "      <td>10.08 %</td>\n",
       "      <td>10.66 %</td>\n",
       "      <td>-4.83 %</td>\n",
       "      <td>-10.12 %</td>\n",
       "      <td>-31.32 %</td>\n",
       "      <td>1.74 %</td>\n",
       "      <td>11.07 %</td>\n",
       "      <td>4.87 %</td>\n",
       "      <td>-5.96 %</td>\n",
       "      <td>-13.19 %</td>\n",
       "    </tr>\n",
       "    <tr>\n",
       "      <th>13</th>\n",
       "      <td>2.94 %</td>\n",
       "      <td>-5.92 %</td>\n",
       "      <td>-7.56 %</td>\n",
       "      <td>-9.68 %</td>\n",
       "      <td>18.01 %</td>\n",
       "      <td>15.79 %</td>\n",
       "      <td>-21.18 %</td>\n",
       "      <td>-1.69 %</td>\n",
       "      <td>-14.63 %</td>\n",
       "      <td>-3.42 %</td>\n",
       "      <td>-8.14 %</td>\n",
       "      <td>-12.97 %</td>\n",
       "      <td>-16.77 %</td>\n",
       "      <td>-17.01 %</td>\n",
       "      <td>4.91 %</td>\n",
       "      <td>6.41 %</td>\n",
       "      <td>9.36 %</td>\n",
       "      <td>6.68 %</td>\n",
       "      <td>-5.47 %</td>\n",
       "      <td>-19.07 %</td>\n",
       "      <td>-22.64 %</td>\n",
       "      <td>-13.89 %</td>\n",
       "    </tr>\n",
       "    <tr>\n",
       "      <th>14</th>\n",
       "      <td>-3.36 %</td>\n",
       "      <td>-3.60 %</td>\n",
       "      <td>-8.72 %</td>\n",
       "      <td>-14.46 %</td>\n",
       "      <td>16.14 %</td>\n",
       "      <td>19.59 %</td>\n",
       "      <td>-17.60 %</td>\n",
       "      <td>3.83 %</td>\n",
       "      <td>-7.18 %</td>\n",
       "      <td>4.10 %</td>\n",
       "      <td>-8.06 %</td>\n",
       "      <td>-13.61 %</td>\n",
       "      <td>-14.73 %</td>\n",
       "      <td>-18.53 %</td>\n",
       "      <td>3.58 %</td>\n",
       "      <td>7.14 %</td>\n",
       "      <td>13.17 %</td>\n",
       "      <td>11.82 %</td>\n",
       "      <td>1.72 %</td>\n",
       "      <td>-12.10 %</td>\n",
       "      <td>-5.63 %</td>\n",
       "      <td>-2.94 %</td>\n",
       "    </tr>\n",
       "    <tr>\n",
       "      <th>16</th>\n",
       "      <td>-4.38 %</td>\n",
       "      <td>-14.99 %</td>\n",
       "      <td>0.23 %</td>\n",
       "      <td>12.14 %</td>\n",
       "      <td>-12.15 %</td>\n",
       "      <td>-9.71 %</td>\n",
       "      <td>23.52 %</td>\n",
       "      <td>15.35 %</td>\n",
       "      <td>7.50 %</td>\n",
       "      <td>-26.30 %</td>\n",
       "      <td>-0.55 %</td>\n",
       "      <td>-13.77 %</td>\n",
       "      <td>10.06 %</td>\n",
       "      <td>12.90 %</td>\n",
       "      <td>-26.45 %</td>\n",
       "      <td>-24.49 %</td>\n",
       "      <td>-4.95 %</td>\n",
       "      <td>-2.42 %</td>\n",
       "      <td>15.02 %</td>\n",
       "      <td>10.42 %</td>\n",
       "      <td>4.79 %</td>\n",
       "      <td>2.87 %</td>\n",
       "    </tr>\n",
       "    <tr>\n",
       "      <th>17</th>\n",
       "      <td>-3.32 %</td>\n",
       "      <td>-3.27 %</td>\n",
       "      <td>8.11 %</td>\n",
       "      <td>8.36 %</td>\n",
       "      <td>8.12 %</td>\n",
       "      <td>11.17 %</td>\n",
       "      <td>15.17 %</td>\n",
       "      <td>18.71 %</td>\n",
       "      <td>7.24 %</td>\n",
       "      <td>-1.39 %</td>\n",
       "      <td>-9.00 %</td>\n",
       "      <td>-4.82 %</td>\n",
       "      <td>8.53 %</td>\n",
       "      <td>8.31 %</td>\n",
       "      <td>6.32 %</td>\n",
       "      <td>2.77 %</td>\n",
       "      <td>6.25 %</td>\n",
       "      <td>10.80 %</td>\n",
       "      <td>18.10 %</td>\n",
       "      <td>8.04 %</td>\n",
       "      <td>7.92 %</td>\n",
       "      <td>-11.53 %</td>\n",
       "    </tr>\n",
       "    <tr>\n",
       "      <th>18</th>\n",
       "      <td>1.71 %</td>\n",
       "      <td>-0.33 %</td>\n",
       "      <td>1.46 %</td>\n",
       "      <td>5.57 %</td>\n",
       "      <td>-22.56 %</td>\n",
       "      <td>-22.12 %</td>\n",
       "      <td>11.97 %</td>\n",
       "      <td>11.88 %</td>\n",
       "      <td>12.68 %</td>\n",
       "      <td>-9.68 %</td>\n",
       "      <td>-0.80 %</td>\n",
       "      <td>-4.72 %</td>\n",
       "      <td>4.59 %</td>\n",
       "      <td>1.27 %</td>\n",
       "      <td>-26.50 %</td>\n",
       "      <td>-28.47 %</td>\n",
       "      <td>-15.53 %</td>\n",
       "      <td>-15.61 %</td>\n",
       "      <td>7.18 %</td>\n",
       "      <td>6.22 %</td>\n",
       "      <td>8.49 %</td>\n",
       "      <td>-1.24 %</td>\n",
       "    </tr>\n",
       "    <tr>\n",
       "      <th>19</th>\n",
       "      <td>4.16 %</td>\n",
       "      <td>2.69 %</td>\n",
       "      <td>0.65 %</td>\n",
       "      <td>-2.14 %</td>\n",
       "      <td>1.18 %</td>\n",
       "      <td>3.44 %</td>\n",
       "      <td>4.28 %</td>\n",
       "      <td>12.64 %</td>\n",
       "      <td>5.48 %</td>\n",
       "      <td>14.25 %</td>\n",
       "      <td>-2.47 %</td>\n",
       "      <td>-4.17 %</td>\n",
       "      <td>-0.92 %</td>\n",
       "      <td>-3.31 %</td>\n",
       "      <td>-1.12 %</td>\n",
       "      <td>-2.23 %</td>\n",
       "      <td>0.47 %</td>\n",
       "      <td>4.19 %</td>\n",
       "      <td>10.84 %</td>\n",
       "      <td>1.78 %</td>\n",
       "      <td>2.81 %</td>\n",
       "      <td>7.48 %</td>\n",
       "    </tr>\n",
       "    <tr>\n",
       "      <th>20</th>\n",
       "      <td>19.04 %</td>\n",
       "      <td>10.05 %</td>\n",
       "      <td>10.18 %</td>\n",
       "      <td>11.00 %</td>\n",
       "      <td>-1.63 %</td>\n",
       "      <td>0.94 %</td>\n",
       "      <td>9.75 %</td>\n",
       "      <td>11.85 %</td>\n",
       "      <td>9.68 %</td>\n",
       "      <td>9.70 %</td>\n",
       "      <td>11.97 %</td>\n",
       "      <td>3.12 %</td>\n",
       "      <td>8.35 %</td>\n",
       "      <td>6.63 %</td>\n",
       "      <td>-0.81 %</td>\n",
       "      <td>-1.02 %</td>\n",
       "      <td>-2.85 %</td>\n",
       "      <td>1.55 %</td>\n",
       "      <td>11.49 %</td>\n",
       "      <td>10.56 %</td>\n",
       "      <td>6.02 %</td>\n",
       "      <td>7.83 %</td>\n",
       "    </tr>\n",
       "    <tr>\n",
       "      <th>21</th>\n",
       "      <td>10.98 %</td>\n",
       "      <td>8.31 %</td>\n",
       "      <td>8.70 %</td>\n",
       "      <td>9.35 %</td>\n",
       "      <td>-4.85 %</td>\n",
       "      <td>2.95 %</td>\n",
       "      <td>11.24 %</td>\n",
       "      <td>11.92 %</td>\n",
       "      <td>9.09 %</td>\n",
       "      <td>3.45 %</td>\n",
       "      <td>2.84 %</td>\n",
       "      <td>8.75 %</td>\n",
       "      <td>8.13 %</td>\n",
       "      <td>7.70 %</td>\n",
       "      <td>-16.03 %</td>\n",
       "      <td>-12.64 %</td>\n",
       "      <td>-7.56 %</td>\n",
       "      <td>2.61 %</td>\n",
       "      <td>10.50 %</td>\n",
       "      <td>8.73 %</td>\n",
       "      <td>8.85 %</td>\n",
       "      <td>5.64 %</td>\n",
       "    </tr>\n",
       "    <tr>\n",
       "      <th>22</th>\n",
       "      <td>5.23 %</td>\n",
       "      <td>-2.90 %</td>\n",
       "      <td>9.48 %</td>\n",
       "      <td>11.52 %</td>\n",
       "      <td>3.80 %</td>\n",
       "      <td>0.57 %</td>\n",
       "      <td>14.29 %</td>\n",
       "      <td>14.10 %</td>\n",
       "      <td>9.96 %</td>\n",
       "      <td>-21.69 %</td>\n",
       "      <td>2.36 %</td>\n",
       "      <td>-5.43 %</td>\n",
       "      <td>11.04 %</td>\n",
       "      <td>11.00 %</td>\n",
       "      <td>-21.20 %</td>\n",
       "      <td>-17.66 %</td>\n",
       "      <td>0.54 %</td>\n",
       "      <td>-2.24 %</td>\n",
       "      <td>13.47 %</td>\n",
       "      <td>10.51 %</td>\n",
       "      <td>3.81 %</td>\n",
       "      <td>-7.82 %</td>\n",
       "    </tr>\n",
       "    <tr>\n",
       "      <th>23</th>\n",
       "      <td>1.07 %</td>\n",
       "      <td>-20.61 %</td>\n",
       "      <td>4.30 %</td>\n",
       "      <td>14.29 %</td>\n",
       "      <td>-77.80 %</td>\n",
       "      <td>-83.78 %</td>\n",
       "      <td>14.05 %</td>\n",
       "      <td>9.08 %</td>\n",
       "      <td>5.79 %</td>\n",
       "      <td>-87.33 %</td>\n",
       "      <td>-4.03 %</td>\n",
       "      <td>-28.80 %</td>\n",
       "      <td>11.29 %</td>\n",
       "      <td>11.70 %</td>\n",
       "      <td>-123.65 %</td>\n",
       "      <td>-115.79 %</td>\n",
       "      <td>-87.67 %</td>\n",
       "      <td>-51.13 %</td>\n",
       "      <td>8.20 %</td>\n",
       "      <td>6.35 %</td>\n",
       "      <td>-9.36 %</td>\n",
       "      <td>-25.99 %</td>\n",
       "    </tr>\n",
       "    <tr>\n",
       "      <th>24</th>\n",
       "      <td>3.72 %</td>\n",
       "      <td>0.93 %</td>\n",
       "      <td>2.90 %</td>\n",
       "      <td>5.03 %</td>\n",
       "      <td>6.80 %</td>\n",
       "      <td>11.83 %</td>\n",
       "      <td>7.05 %</td>\n",
       "      <td>10.25 %</td>\n",
       "      <td>0.87 %</td>\n",
       "      <td>0.76 %</td>\n",
       "      <td>-4.34 %</td>\n",
       "      <td>-11.69 %</td>\n",
       "      <td>2.69 %</td>\n",
       "      <td>3.82 %</td>\n",
       "      <td>14.34 %</td>\n",
       "      <td>8.27 %</td>\n",
       "      <td>6.68 %</td>\n",
       "      <td>17.08 %</td>\n",
       "      <td>15.66 %</td>\n",
       "      <td>4.91 %</td>\n",
       "      <td>-4.70 %</td>\n",
       "      <td>-3.04 %</td>\n",
       "    </tr>\n",
       "    <tr>\n",
       "      <th>25</th>\n",
       "      <td>2.89 %</td>\n",
       "      <td>-0.50 %</td>\n",
       "      <td>-6.18 %</td>\n",
       "      <td>-5.83 %</td>\n",
       "      <td>12.11 %</td>\n",
       "      <td>14.42 %</td>\n",
       "      <td>-15.47 %</td>\n",
       "      <td>-1.03 %</td>\n",
       "      <td>-9.22 %</td>\n",
       "      <td>2.22 %</td>\n",
       "      <td>-10.56 %</td>\n",
       "      <td>-13.26 %</td>\n",
       "      <td>-11.65 %</td>\n",
       "      <td>-13.83 %</td>\n",
       "      <td>7.50 %</td>\n",
       "      <td>9.15 %</td>\n",
       "      <td>10.57 %</td>\n",
       "      <td>9.32 %</td>\n",
       "      <td>2.97 %</td>\n",
       "      <td>-8.38 %</td>\n",
       "      <td>-10.91 %</td>\n",
       "      <td>-7.22 %</td>\n",
       "    </tr>\n",
       "    <tr>\n",
       "      <th>26</th>\n",
       "      <td>10.03 %</td>\n",
       "      <td>1.66 %</td>\n",
       "      <td>4.20 %</td>\n",
       "      <td>6.65 %</td>\n",
       "      <td>15.99 %</td>\n",
       "      <td>16.44 %</td>\n",
       "      <td>4.11 %</td>\n",
       "      <td>11.58 %</td>\n",
       "      <td>2.10 %</td>\n",
       "      <td>1.45 %</td>\n",
       "      <td>-1.94 %</td>\n",
       "      <td>-4.36 %</td>\n",
       "      <td>3.09 %</td>\n",
       "      <td>2.15 %</td>\n",
       "      <td>9.44 %</td>\n",
       "      <td>8.06 %</td>\n",
       "      <td>13.77 %</td>\n",
       "      <td>14.87 %</td>\n",
       "      <td>11.98 %</td>\n",
       "      <td>6.10 %</td>\n",
       "      <td>-1.37 %</td>\n",
       "      <td>-2.06 %</td>\n",
       "    </tr>\n",
       "    <tr>\n",
       "      <th>27</th>\n",
       "      <td>-18.55 %</td>\n",
       "      <td>-18.43 %</td>\n",
       "      <td>-17.92 %</td>\n",
       "      <td>-9.76 %</td>\n",
       "      <td>2.64 %</td>\n",
       "      <td>7.34 %</td>\n",
       "      <td>-0.14 %</td>\n",
       "      <td>0.27 %</td>\n",
       "      <td>-8.40 %</td>\n",
       "      <td>-18.23 %</td>\n",
       "      <td>-20.31 %</td>\n",
       "      <td>-37.53 %</td>\n",
       "      <td>-7.92 %</td>\n",
       "      <td>-11.00 %</td>\n",
       "      <td>11.26 %</td>\n",
       "      <td>3.86 %</td>\n",
       "      <td>5.84 %</td>\n",
       "      <td>19.56 %</td>\n",
       "      <td>10.39 %</td>\n",
       "      <td>-5.82 %</td>\n",
       "      <td>-18.13 %</td>\n",
       "      <td>-14.72 %</td>\n",
       "    </tr>\n",
       "    <tr>\n",
       "      <th>28</th>\n",
       "      <td>1.75 %</td>\n",
       "      <td>-5.12 %</td>\n",
       "      <td>5.65 %</td>\n",
       "      <td>13.06 %</td>\n",
       "      <td>9.16 %</td>\n",
       "      <td>12.74 %</td>\n",
       "      <td>18.15 %</td>\n",
       "      <td>18.45 %</td>\n",
       "      <td>7.49 %</td>\n",
       "      <td>6.79 %</td>\n",
       "      <td>-1.64 %</td>\n",
       "      <td>-0.88 %</td>\n",
       "      <td>5.49 %</td>\n",
       "      <td>9.46 %</td>\n",
       "      <td>6.11 %</td>\n",
       "      <td>5.77 %</td>\n",
       "      <td>9.01 %</td>\n",
       "      <td>11.61 %</td>\n",
       "      <td>20.37 %</td>\n",
       "      <td>10.93 %</td>\n",
       "      <td>9.50 %</td>\n",
       "      <td>-0.36 %</td>\n",
       "    </tr>\n",
       "    <tr>\n",
       "      <th>29</th>\n",
       "      <td>2.73 %</td>\n",
       "      <td>-6.37 %</td>\n",
       "      <td>8.94 %</td>\n",
       "      <td>10.03 %</td>\n",
       "      <td>-7.01 %</td>\n",
       "      <td>-3.87 %</td>\n",
       "      <td>13.82 %</td>\n",
       "      <td>17.07 %</td>\n",
       "      <td>9.19 %</td>\n",
       "      <td>-13.53 %</td>\n",
       "      <td>1.16 %</td>\n",
       "      <td>-4.23 %</td>\n",
       "      <td>9.10 %</td>\n",
       "      <td>8.43 %</td>\n",
       "      <td>-9.64 %</td>\n",
       "      <td>-15.43 %</td>\n",
       "      <td>-6.68 %</td>\n",
       "      <td>0.65 %</td>\n",
       "      <td>17.47 %</td>\n",
       "      <td>12.73 %</td>\n",
       "      <td>10.55 %</td>\n",
       "      <td>-5.56 %</td>\n",
       "    </tr>\n",
       "    <tr>\n",
       "      <th>30</th>\n",
       "      <td>5.87 %</td>\n",
       "      <td>4.66 %</td>\n",
       "      <td>4.08 %</td>\n",
       "      <td>8.41 %</td>\n",
       "      <td>6.56 %</td>\n",
       "      <td>9.69 %</td>\n",
       "      <td>17.03 %</td>\n",
       "      <td>15.65 %</td>\n",
       "      <td>12.94 %</td>\n",
       "      <td>3.25 %</td>\n",
       "      <td>0.66 %</td>\n",
       "      <td>4.11 %</td>\n",
       "      <td>8.05 %</td>\n",
       "      <td>7.03 %</td>\n",
       "      <td>0.94 %</td>\n",
       "      <td>5.00 %</td>\n",
       "      <td>8.04 %</td>\n",
       "      <td>6.88 %</td>\n",
       "      <td>13.43 %</td>\n",
       "      <td>12.20 %</td>\n",
       "      <td>16.55 %</td>\n",
       "      <td>0.74 %</td>\n",
       "    </tr>\n",
       "    <tr>\n",
       "      <th>31</th>\n",
       "      <td>12.80 %</td>\n",
       "      <td>4.04 %</td>\n",
       "      <td>4.54 %</td>\n",
       "      <td>9.12 %</td>\n",
       "      <td>-1.69 %</td>\n",
       "      <td>2.55 %</td>\n",
       "      <td>15.52 %</td>\n",
       "      <td>14.25 %</td>\n",
       "      <td>11.37 %</td>\n",
       "      <td>12.08 %</td>\n",
       "      <td>2.35 %</td>\n",
       "      <td>2.71 %</td>\n",
       "      <td>9.64 %</td>\n",
       "      <td>7.21 %</td>\n",
       "      <td>-8.19 %</td>\n",
       "      <td>-2.85 %</td>\n",
       "      <td>-4.23 %</td>\n",
       "      <td>-1.63 %</td>\n",
       "      <td>12.72 %</td>\n",
       "      <td>11.04 %</td>\n",
       "      <td>10.34 %</td>\n",
       "      <td>19.21 %</td>\n",
       "    </tr>\n",
       "  </tbody>\n",
       "</table>\n",
       "</div>"
      ],
      "text/plain": [
       "                               8         9        10        11        13  \\\n",
       "trained on \\ tested on                                                     \n",
       "8                        20.39 %    8.45 %    9.34 %   10.01 %   -9.50 %   \n",
       "9                        13.36 %   12.97 %    9.39 %   10.11 %    4.90 %   \n",
       "10                        7.89 %    4.53 %   11.21 %   10.96 %    8.62 %   \n",
       "11                        3.45 %   -7.94 %    9.06 %   15.24 %  -22.44 %   \n",
       "13                        2.94 %   -5.92 %   -7.56 %   -9.68 %   18.01 %   \n",
       "14                       -3.36 %   -3.60 %   -8.72 %  -14.46 %   16.14 %   \n",
       "16                       -4.38 %  -14.99 %    0.23 %   12.14 %  -12.15 %   \n",
       "17                       -3.32 %   -3.27 %    8.11 %    8.36 %    8.12 %   \n",
       "18                        1.71 %   -0.33 %    1.46 %    5.57 %  -22.56 %   \n",
       "19                        4.16 %    2.69 %    0.65 %   -2.14 %    1.18 %   \n",
       "20                       19.04 %   10.05 %   10.18 %   11.00 %   -1.63 %   \n",
       "21                       10.98 %    8.31 %    8.70 %    9.35 %   -4.85 %   \n",
       "22                        5.23 %   -2.90 %    9.48 %   11.52 %    3.80 %   \n",
       "23                        1.07 %  -20.61 %    4.30 %   14.29 %  -77.80 %   \n",
       "24                        3.72 %    0.93 %    2.90 %    5.03 %    6.80 %   \n",
       "25                        2.89 %   -0.50 %   -6.18 %   -5.83 %   12.11 %   \n",
       "26                       10.03 %    1.66 %    4.20 %    6.65 %   15.99 %   \n",
       "27                      -18.55 %  -18.43 %  -17.92 %   -9.76 %    2.64 %   \n",
       "28                        1.75 %   -5.12 %    5.65 %   13.06 %    9.16 %   \n",
       "29                        2.73 %   -6.37 %    8.94 %   10.03 %   -7.01 %   \n",
       "30                        5.87 %    4.66 %    4.08 %    8.41 %    6.56 %   \n",
       "31                       12.80 %    4.04 %    4.54 %    9.12 %   -1.69 %   \n",
       "\n",
       "                              14        16       17        18        19  \\\n",
       "trained on \\ tested on                                                    \n",
       "8                        -7.80 %    5.51 %   8.44 %    3.16 %    2.22 %   \n",
       "9                         2.95 %    3.37 %   9.34 %    1.33 %    3.24 %   \n",
       "10                        8.24 %    3.08 %  12.12 %    3.96 %   -3.45 %   \n",
       "11                      -20.87 %   14.99 %  12.71 %    3.63 %  -24.67 %   \n",
       "13                       15.79 %  -21.18 %  -1.69 %  -14.63 %   -3.42 %   \n",
       "14                       19.59 %  -17.60 %   3.83 %   -7.18 %    4.10 %   \n",
       "16                       -9.71 %   23.52 %  15.35 %    7.50 %  -26.30 %   \n",
       "17                       11.17 %   15.17 %  18.71 %    7.24 %   -1.39 %   \n",
       "18                      -22.12 %   11.97 %  11.88 %   12.68 %   -9.68 %   \n",
       "19                        3.44 %    4.28 %  12.64 %    5.48 %   14.25 %   \n",
       "20                        0.94 %    9.75 %  11.85 %    9.68 %    9.70 %   \n",
       "21                        2.95 %   11.24 %  11.92 %    9.09 %    3.45 %   \n",
       "22                        0.57 %   14.29 %  14.10 %    9.96 %  -21.69 %   \n",
       "23                      -83.78 %   14.05 %   9.08 %    5.79 %  -87.33 %   \n",
       "24                       11.83 %    7.05 %  10.25 %    0.87 %    0.76 %   \n",
       "25                       14.42 %  -15.47 %  -1.03 %   -9.22 %    2.22 %   \n",
       "26                       16.44 %    4.11 %  11.58 %    2.10 %    1.45 %   \n",
       "27                        7.34 %   -0.14 %   0.27 %   -8.40 %  -18.23 %   \n",
       "28                       12.74 %   18.15 %  18.45 %    7.49 %    6.79 %   \n",
       "29                       -3.87 %   13.82 %  17.07 %    9.19 %  -13.53 %   \n",
       "30                        9.69 %   17.03 %  15.65 %   12.94 %    3.25 %   \n",
       "31                        2.55 %   15.52 %  14.25 %   11.37 %   12.08 %   \n",
       "\n",
       "                              20        21        22        23         24  \\\n",
       "trained on \\ tested on                                                      \n",
       "8                         7.02 %   -4.47 %    6.84 %    5.19 %    -7.27 %   \n",
       "9                         2.03 %    1.86 %    5.17 %    2.98 %    -6.50 %   \n",
       "10                       -0.72 %    2.54 %    5.91 %    5.23 %    -0.19 %   \n",
       "11                       -1.94 %   -7.64 %   10.08 %   10.66 %    -4.83 %   \n",
       "13                       -8.14 %  -12.97 %  -16.77 %  -17.01 %     4.91 %   \n",
       "14                       -8.06 %  -13.61 %  -14.73 %  -18.53 %     3.58 %   \n",
       "16                       -0.55 %  -13.77 %   10.06 %   12.90 %   -26.45 %   \n",
       "17                       -9.00 %   -4.82 %    8.53 %    8.31 %     6.32 %   \n",
       "18                       -0.80 %   -4.72 %    4.59 %    1.27 %   -26.50 %   \n",
       "19                       -2.47 %   -4.17 %   -0.92 %   -3.31 %    -1.12 %   \n",
       "20                       11.97 %    3.12 %    8.35 %    6.63 %    -0.81 %   \n",
       "21                        2.84 %    8.75 %    8.13 %    7.70 %   -16.03 %   \n",
       "22                        2.36 %   -5.43 %   11.04 %   11.00 %   -21.20 %   \n",
       "23                       -4.03 %  -28.80 %   11.29 %   11.70 %  -123.65 %   \n",
       "24                       -4.34 %  -11.69 %    2.69 %    3.82 %    14.34 %   \n",
       "25                      -10.56 %  -13.26 %  -11.65 %  -13.83 %     7.50 %   \n",
       "26                       -1.94 %   -4.36 %    3.09 %    2.15 %     9.44 %   \n",
       "27                      -20.31 %  -37.53 %   -7.92 %  -11.00 %    11.26 %   \n",
       "28                       -1.64 %   -0.88 %    5.49 %    9.46 %     6.11 %   \n",
       "29                        1.16 %   -4.23 %    9.10 %    8.43 %    -9.64 %   \n",
       "30                        0.66 %    4.11 %    8.05 %    7.03 %     0.94 %   \n",
       "31                        2.35 %    2.71 %    9.64 %    7.21 %    -8.19 %   \n",
       "\n",
       "                               25        26        27       28        29  \\\n",
       "trained on \\ tested on                                                     \n",
       "8                         -4.03 %  -14.58 %  -10.95 %   3.70 %    2.18 %   \n",
       "9                          0.64 %   -4.04 %  -14.14 %   5.22 %    0.99 %   \n",
       "10                         3.47 %    4.86 %   -2.73 %   8.15 %    1.57 %   \n",
       "11                       -10.12 %  -31.32 %    1.74 %  11.07 %    4.87 %   \n",
       "13                         6.41 %    9.36 %    6.68 %  -5.47 %  -19.07 %   \n",
       "14                         7.14 %   13.17 %   11.82 %   1.72 %  -12.10 %   \n",
       "16                       -24.49 %   -4.95 %   -2.42 %  15.02 %   10.42 %   \n",
       "17                         2.77 %    6.25 %   10.80 %  18.10 %    8.04 %   \n",
       "18                       -28.47 %  -15.53 %  -15.61 %   7.18 %    6.22 %   \n",
       "19                        -2.23 %    0.47 %    4.19 %  10.84 %    1.78 %   \n",
       "20                        -1.02 %   -2.85 %    1.55 %  11.49 %   10.56 %   \n",
       "21                       -12.64 %   -7.56 %    2.61 %  10.50 %    8.73 %   \n",
       "22                       -17.66 %    0.54 %   -2.24 %  13.47 %   10.51 %   \n",
       "23                      -115.79 %  -87.67 %  -51.13 %   8.20 %    6.35 %   \n",
       "24                         8.27 %    6.68 %   17.08 %  15.66 %    4.91 %   \n",
       "25                         9.15 %   10.57 %    9.32 %   2.97 %   -8.38 %   \n",
       "26                         8.06 %   13.77 %   14.87 %  11.98 %    6.10 %   \n",
       "27                         3.86 %    5.84 %   19.56 %  10.39 %   -5.82 %   \n",
       "28                         5.77 %    9.01 %   11.61 %  20.37 %   10.93 %   \n",
       "29                       -15.43 %   -6.68 %    0.65 %  17.47 %   12.73 %   \n",
       "30                         5.00 %    8.04 %    6.88 %  13.43 %   12.20 %   \n",
       "31                        -2.85 %   -4.23 %   -1.63 %  12.72 %   11.04 %   \n",
       "\n",
       "                              30        31  \n",
       "trained on \\ tested on                      \n",
       "8                       -10.62 %   -2.64 %  \n",
       "9                        -5.74 %   -6.94 %  \n",
       "10                       -1.84 %   -6.72 %  \n",
       "11                       -5.96 %  -13.19 %  \n",
       "13                      -22.64 %  -13.89 %  \n",
       "14                       -5.63 %   -2.94 %  \n",
       "16                        4.79 %    2.87 %  \n",
       "17                        7.92 %  -11.53 %  \n",
       "18                        8.49 %   -1.24 %  \n",
       "19                        2.81 %    7.48 %  \n",
       "20                        6.02 %    7.83 %  \n",
       "21                        8.85 %    5.64 %  \n",
       "22                        3.81 %   -7.82 %  \n",
       "23                       -9.36 %  -25.99 %  \n",
       "24                       -4.70 %   -3.04 %  \n",
       "25                      -10.91 %   -7.22 %  \n",
       "26                       -1.37 %   -2.06 %  \n",
       "27                      -18.13 %  -14.72 %  \n",
       "28                        9.50 %   -0.36 %  \n",
       "29                       10.55 %   -5.56 %  \n",
       "30                       16.55 %    0.74 %  \n",
       "31                       10.34 %   19.21 %  "
      ]
     },
     "metadata": {},
     "output_type": "display_data"
    }
   ],
   "source": [
    "improv_data = np.array([list(f'{x * 100:0.2f} %' for x in r.values()) for r in results.values()])\n",
    "\n",
    "df = pd.DataFrame(improv_data, index=row_names, columns=col_names)\n",
    "df.index.name = 'trained on \\ tested on'\n",
    "with pd.option_context('display.max_columns', None):\n",
    "    display(df)"
   ]
  },
  {
   "cell_type": "markdown",
   "id": "e0944094-8766-4f23-9fd4-f10d3f5d7d8f",
   "metadata": {},
   "source": [
    "## Trained on all the channels, tested on separate channels"
   ]
  },
  {
   "cell_type": "code",
   "execution_count": 16,
   "id": "44c60e34-5c4e-476b-b282-97e790a9b3b5",
   "metadata": {
    "tags": []
   },
   "outputs": [
    {
     "data": {
      "text/plain": [
       "((416976, 48), (104257, 48), (416976,), (104257,))"
      ]
     },
     "execution_count": 16,
     "metadata": {},
     "output_type": "execute_result"
    }
   ],
   "source": [
    "X_all_train, X_all_test, y_all_train, y_all_test = [], [], [], []\n",
    "\n",
    "for X, y in list(all_channels_data.values()):\n",
    "    X_aug, y_aug = augmentation_random_cut(X, y, 8, seed=42, apply=True)\n",
    "    X_train, X_test, y_train, y_test = train_test_split(X_aug, y_aug, test_size=TEST_SIZE, random_state=RANDOM_STATE)\n",
    "    \n",
    "    X_all_train.append(X_train)\n",
    "    X_all_test.append(X_test)\n",
    "    y_all_train.append(y_train)\n",
    "    y_all_test.append(y_test)\n",
    "    \n",
    "X_all_train = np.concatenate(X_all_train)\n",
    "X_all_test = np.concatenate(X_all_test)\n",
    "y_all_train = np.concatenate(y_all_train)\n",
    "y_all_test = np.concatenate(y_all_test)\n",
    "\n",
    "Y_all_heatmap_train = np.array([gaussian_kernel(y) for y in y_all_train])\n",
    "Y_all_heatmap_test = np.array([gaussian_kernel(y) for y in y_all_test])\n",
    "\n",
    "X_all_train.shape, X_all_test.shape, y_all_train.shape, y_all_test.shape"
   ]
  },
  {
   "cell_type": "code",
   "execution_count": 17,
   "id": "98c0f433-8ded-4d71-bb37-5706673775c1",
   "metadata": {
    "tags": []
   },
   "outputs": [
    {
     "data": {
      "image/png": "[encoded data removed]",
      "text/plain": [
       "<Figure size 1000x700 with 1 Axes>"
      ]
     },
     "metadata": {},
     "output_type": "display_data"
    }
   ],
   "source": [
    "model = create_model(filters_mult=4)\n",
    "\n",
    "history = train_model(model, X_all_train, Y_all_heatmap_train, X_all_test, Y_all_heatmap_test, lr=0.01, name=f'model_all_channels', \n",
    "                      batch_size=16384, train=False, n_epochs=250, verbose=1, loss_weights=100, lr_patience=10, es_patience=25)\n",
    "\n",
    "plot_history(history, f\"All channels, {len(X_all_train)} training events\", ymax=2, figsize=(10, 7))"
   ]
  },
  {
   "cell_type": "code",
   "execution_count": 18,
   "id": "3c6728fe-eb6b-4213-b023-b6243889f226",
   "metadata": {},
   "outputs": [
    {
     "name": "stdout",
     "output_type": "stream",
     "text": [
      "1/1 [==============================] - 0s 130ms/step\n"
     ]
    },
    {
     "data": {
      "text/html": [
       "<h4>Channel 8</h4>"
      ],
      "text/plain": [
       "<IPython.core.display.HTML object>"
      ]
     },
     "metadata": {},
     "output_type": "display_data"
    },
    {
     "name": "stdout",
     "output_type": "stream",
     "text": [
      "CFD: 0.453, NN: 0.773 (0.071 ns vs 0.121 ns)\n",
      "Improvement: -70.67 %\n",
      "1/1 [==============================] - 0s 14ms/step\n"
     ]
    },
    {
     "data": {
      "text/html": [
       "<h4>Channel 9</h4>"
      ],
      "text/plain": [
       "<IPython.core.display.HTML object>"
      ]
     },
     "metadata": {},
     "output_type": "display_data"
    },
    {
     "name": "stdout",
     "output_type": "stream",
     "text": [
      "CFD: 0.458, NN: 0.713 (0.072 ns vs 0.111 ns)\n",
      "Improvement: -55.62 %\n",
      "1/1 [==============================] - 0s 17ms/step\n"
     ]
    },
    {
     "data": {
      "text/html": [
       "<h4>Channel 10</h4>"
      ],
      "text/plain": [
       "<IPython.core.display.HTML object>"
      ]
     },
     "metadata": {},
     "output_type": "display_data"
    },
    {
     "name": "stdout",
     "output_type": "stream",
     "text": [
      "CFD: 0.407, NN: 0.581 (0.064 ns vs 0.091 ns)\n",
      "Improvement: -42.73 %\n",
      "1/1 [==============================] - 0s 13ms/step\n"
     ]
    },
    {
     "data": {
      "text/html": [
       "<h4>Channel 11</h4>"
      ],
      "text/plain": [
       "<IPython.core.display.HTML object>"
      ]
     },
     "metadata": {},
     "output_type": "display_data"
    },
    {
     "name": "stdout",
     "output_type": "stream",
     "text": [
      "CFD: 0.423, NN: 0.659 (0.066 ns vs 0.103 ns)\n",
      "Improvement: -55.84 %\n",
      "1/1 [==============================] - 0s 12ms/step\n"
     ]
    },
    {
     "data": {
      "text/html": [
       "<h4>Channel 13</h4>"
      ],
      "text/plain": [
       "<IPython.core.display.HTML object>"
      ]
     },
     "metadata": {},
     "output_type": "display_data"
    },
    {
     "name": "stdout",
     "output_type": "stream",
     "text": [
      "CFD: 0.779, NN: 1.129 (0.122 ns vs 0.176 ns)\n",
      "Improvement: -44.84 %\n",
      "1/1 [==============================] - 0s 13ms/step\n"
     ]
    },
    {
     "data": {
      "text/html": [
       "<h4>Channel 14</h4>"
      ],
      "text/plain": [
       "<IPython.core.display.HTML object>"
      ]
     },
     "metadata": {},
     "output_type": "display_data"
    },
    {
     "name": "stdout",
     "output_type": "stream",
     "text": [
      "CFD: 0.751, NN: 1.164 (0.117 ns vs 0.182 ns)\n",
      "Improvement: -55.01 %\n",
      "1/1 [==============================] - 0s 13ms/step\n"
     ]
    },
    {
     "data": {
      "text/html": [
       "<h4>Channel 16</h4>"
      ],
      "text/plain": [
       "<IPython.core.display.HTML object>"
      ]
     },
     "metadata": {},
     "output_type": "display_data"
    },
    {
     "name": "stdout",
     "output_type": "stream",
     "text": [
      "CFD: 0.442, NN: 0.960 (0.069 ns vs 0.150 ns)\n",
      "Improvement: -117.30 %\n",
      "1/1 [==============================] - 0s 13ms/step\n"
     ]
    },
    {
     "data": {
      "text/html": [
       "<h4>Channel 17</h4>"
      ],
      "text/plain": [
       "<IPython.core.display.HTML object>"
      ]
     },
     "metadata": {},
     "output_type": "display_data"
    },
    {
     "name": "stdout",
     "output_type": "stream",
     "text": [
      "CFD: 0.459, NN: 0.808 (0.072 ns vs 0.126 ns)\n",
      "Improvement: -76.19 %\n",
      "1/1 [==============================] - 0s 12ms/step\n"
     ]
    },
    {
     "data": {
      "text/html": [
       "<h4>Channel 18</h4>"
      ],
      "text/plain": [
       "<IPython.core.display.HTML object>"
      ]
     },
     "metadata": {},
     "output_type": "display_data"
    },
    {
     "name": "stdout",
     "output_type": "stream",
     "text": [
      "CFD: 0.441, NN: 0.978 (0.069 ns vs 0.153 ns)\n",
      "Improvement: -121.52 %\n",
      "1/1 [==============================] - 0s 14ms/step\n"
     ]
    },
    {
     "data": {
      "text/html": [
       "<h4>Channel 19</h4>"
      ],
      "text/plain": [
       "<IPython.core.display.HTML object>"
      ]
     },
     "metadata": {},
     "output_type": "display_data"
    },
    {
     "name": "stdout",
     "output_type": "stream",
     "text": [
      "CFD: 0.560, NN: 0.924 (0.088 ns vs 0.144 ns)\n",
      "Improvement: -64.93 %\n",
      "1/1 [==============================] - 0s 13ms/step\n"
     ]
    },
    {
     "data": {
      "text/html": [
       "<h4>Channel 20</h4>"
      ],
      "text/plain": [
       "<IPython.core.display.HTML object>"
      ]
     },
     "metadata": {},
     "output_type": "display_data"
    },
    {
     "name": "stdout",
     "output_type": "stream",
     "text": [
      "CFD: 0.430, NN: 0.781 (0.067 ns vs 0.122 ns)\n",
      "Improvement: -81.57 %\n",
      "1/1 [==============================] - 0s 13ms/step\n"
     ]
    },
    {
     "data": {
      "text/html": [
       "<h4>Channel 21</h4>"
      ],
      "text/plain": [
       "<IPython.core.display.HTML object>"
      ]
     },
     "metadata": {},
     "output_type": "display_data"
    },
    {
     "name": "stdout",
     "output_type": "stream",
     "text": [
      "CFD: 0.427, NN: 0.803 (0.067 ns vs 0.125 ns)\n",
      "Improvement: -87.95 %\n",
      "1/1 [==============================] - 0s 12ms/step\n"
     ]
    },
    {
     "data": {
      "text/html": [
       "<h4>Channel 22</h4>"
      ],
      "text/plain": [
       "<IPython.core.display.HTML object>"
      ]
     },
     "metadata": {},
     "output_type": "display_data"
    },
    {
     "name": "stdout",
     "output_type": "stream",
     "text": [
      "CFD: 0.410, NN: 0.744 (0.064 ns vs 0.116 ns)\n",
      "Improvement: -81.40 %\n",
      "1/1 [==============================] - 0s 14ms/step\n"
     ]
    },
    {
     "data": {
      "text/html": [
       "<h4>Channel 23</h4>"
      ],
      "text/plain": [
       "<IPython.core.display.HTML object>"
      ]
     },
     "metadata": {},
     "output_type": "display_data"
    },
    {
     "name": "stdout",
     "output_type": "stream",
     "text": [
      "CFD: 0.409, NN: 0.792 (0.064 ns vs 0.124 ns)\n",
      "Improvement: -93.73 %\n",
      "2/2 [==============================] - 0s 37ms/step\n"
     ]
    },
    {
     "data": {
      "text/html": [
       "<h4>Channel 24</h4>"
      ],
      "text/plain": [
       "<IPython.core.display.HTML object>"
      ]
     },
     "metadata": {},
     "output_type": "display_data"
    },
    {
     "name": "stdout",
     "output_type": "stream",
     "text": [
      "CFD: 0.598, NN: 0.735 (0.093 ns vs 0.115 ns)\n",
      "Improvement: -22.87 %\n",
      "1/1 [==============================] - 0s 13ms/step\n"
     ]
    },
    {
     "data": {
      "text/html": [
       "<h4>Channel 25</h4>"
      ],
      "text/plain": [
       "<IPython.core.display.HTML object>"
      ]
     },
     "metadata": {},
     "output_type": "display_data"
    },
    {
     "name": "stdout",
     "output_type": "stream",
     "text": [
      "CFD: 0.683, NN: 0.947 (0.107 ns vs 0.148 ns)\n",
      "Improvement: -38.70 %\n",
      "1/1 [==============================] - 0s 13ms/step\n"
     ]
    },
    {
     "data": {
      "text/html": [
       "<h4>Channel 26</h4>"
      ],
      "text/plain": [
       "<IPython.core.display.HTML object>"
      ]
     },
     "metadata": {},
     "output_type": "display_data"
    },
    {
     "name": "stdout",
     "output_type": "stream",
     "text": [
      "CFD: 0.768, NN: 1.031 (0.120 ns vs 0.161 ns)\n",
      "Improvement: -34.23 %\n",
      "2/2 [==============================] - 0s 45ms/step\n"
     ]
    },
    {
     "data": {
      "text/html": [
       "<h4>Channel 27</h4>"
      ],
      "text/plain": [
       "<IPython.core.display.HTML object>"
      ]
     },
     "metadata": {},
     "output_type": "display_data"
    },
    {
     "name": "stdout",
     "output_type": "stream",
     "text": [
      "CFD: 0.709, NN: 0.678 (0.111 ns vs 0.106 ns)\n",
      "Improvement: 4.33 %\n",
      "1/1 [==============================] - 0s 12ms/step\n"
     ]
    },
    {
     "data": {
      "text/html": [
       "<h4>Channel 28</h4>"
      ],
      "text/plain": [
       "<IPython.core.display.HTML object>"
      ]
     },
     "metadata": {},
     "output_type": "display_data"
    },
    {
     "name": "stdout",
     "output_type": "stream",
     "text": [
      "CFD: 0.487, NN: 0.845 (0.076 ns vs 0.132 ns)\n",
      "Improvement: -73.48 %\n",
      "1/1 [==============================] - 0s 13ms/step\n"
     ]
    },
    {
     "data": {
      "text/html": [
       "<h4>Channel 29</h4>"
      ],
      "text/plain": [
       "<IPython.core.display.HTML object>"
      ]
     },
     "metadata": {},
     "output_type": "display_data"
    },
    {
     "name": "stdout",
     "output_type": "stream",
     "text": [
      "CFD: 0.444, NN: 1.018 (0.069 ns vs 0.159 ns)\n",
      "Improvement: -129.14 %\n",
      "1/1 [==============================] - 0s 15ms/step\n"
     ]
    },
    {
     "data": {
      "text/html": [
       "<h4>Channel 30</h4>"
      ],
      "text/plain": [
       "<IPython.core.display.HTML object>"
      ]
     },
     "metadata": {},
     "output_type": "display_data"
    },
    {
     "name": "stdout",
     "output_type": "stream",
     "text": [
      "CFD: 0.468, NN: 0.858 (0.073 ns vs 0.134 ns)\n",
      "Improvement: -83.32 %\n",
      "1/1 [==============================] - 0s 12ms/step\n"
     ]
    },
    {
     "data": {
      "text/html": [
       "<h4>Channel 31</h4>"
      ],
      "text/plain": [
       "<IPython.core.display.HTML object>"
      ]
     },
     "metadata": {},
     "output_type": "display_data"
    },
    {
     "name": "stdout",
     "output_type": "stream",
     "text": [
      "CFD: 0.509, NN: 0.806 (0.079 ns vs 0.126 ns)\n",
      "Improvement: -58.58 %\n"
     ]
    }
   ],
   "source": [
    "improvements = {}\n",
    "for channel, (X, y) in list(all_channels_data.items()):\n",
    "    X_aug, y_aug = augmentation_random_cut(X, y, 8, seed=42, apply=True)\n",
    "    _, X_test, _, y_test = train_test_split(X_aug, y_aug, test_size=TEST_SIZE, random_state=RANDOM_STATE)\n",
    "    Y_heatmap_test = np.array([gaussian_kernel(y) for y in y_test])\n",
    "\n",
    "    improvement = compare_model_with_cfd(model, cfd, X_test, y_test, channel, show=False)\n",
    "    improvements[channel] = improvement"
   ]
  },
  {
   "cell_type": "code",
   "execution_count": 19,
   "id": "b6ade8a6-16ef-48f1-8e09-b6b197c3bbab",
   "metadata": {
    "tags": []
   },
   "outputs": [
    {
     "data": {
      "text/html": [
       "<div>\n",
       "<style scoped>\n",
       "    .dataframe tbody tr th:only-of-type {\n",
       "        vertical-align: middle;\n",
       "    }\n",
       "\n",
       "    .dataframe tbody tr th {\n",
       "        vertical-align: top;\n",
       "    }\n",
       "\n",
       "    .dataframe thead th {\n",
       "        text-align: right;\n",
       "    }\n",
       "</style>\n",
       "<table border=\"1\" class=\"dataframe\">\n",
       "  <thead>\n",
       "    <tr style=\"text-align: right;\">\n",
       "      <th></th>\n",
       "      <th>improv (%)</th>\n",
       "    </tr>\n",
       "    <tr>\n",
       "      <th>channel</th>\n",
       "      <th></th>\n",
       "    </tr>\n",
       "  </thead>\n",
       "  <tbody>\n",
       "    <tr>\n",
       "      <th>8</th>\n",
       "      <td>-70.67 %</td>\n",
       "    </tr>\n",
       "    <tr>\n",
       "      <th>9</th>\n",
       "      <td>-55.62 %</td>\n",
       "    </tr>\n",
       "    <tr>\n",
       "      <th>10</th>\n",
       "      <td>-42.73 %</td>\n",
       "    </tr>\n",
       "    <tr>\n",
       "      <th>11</th>\n",
       "      <td>-55.84 %</td>\n",
       "    </tr>\n",
       "    <tr>\n",
       "      <th>13</th>\n",
       "      <td>-44.84 %</td>\n",
       "    </tr>\n",
       "    <tr>\n",
       "      <th>14</th>\n",
       "      <td>-55.01 %</td>\n",
       "    </tr>\n",
       "    <tr>\n",
       "      <th>16</th>\n",
       "      <td>-117.30 %</td>\n",
       "    </tr>\n",
       "    <tr>\n",
       "      <th>17</th>\n",
       "      <td>-76.19 %</td>\n",
       "    </tr>\n",
       "    <tr>\n",
       "      <th>18</th>\n",
       "      <td>-121.52 %</td>\n",
       "    </tr>\n",
       "    <tr>\n",
       "      <th>19</th>\n",
       "      <td>-64.93 %</td>\n",
       "    </tr>\n",
       "    <tr>\n",
       "      <th>20</th>\n",
       "      <td>-81.57 %</td>\n",
       "    </tr>\n",
       "    <tr>\n",
       "      <th>21</th>\n",
       "      <td>-87.95 %</td>\n",
       "    </tr>\n",
       "    <tr>\n",
       "      <th>22</th>\n",
       "      <td>-81.40 %</td>\n",
       "    </tr>\n",
       "    <tr>\n",
       "      <th>23</th>\n",
       "      <td>-93.73 %</td>\n",
       "    </tr>\n",
       "    <tr>\n",
       "      <th>24</th>\n",
       "      <td>-22.87 %</td>\n",
       "    </tr>\n",
       "    <tr>\n",
       "      <th>25</th>\n",
       "      <td>-38.70 %</td>\n",
       "    </tr>\n",
       "    <tr>\n",
       "      <th>26</th>\n",
       "      <td>-34.23 %</td>\n",
       "    </tr>\n",
       "    <tr>\n",
       "      <th>27</th>\n",
       "      <td>4.33 %</td>\n",
       "    </tr>\n",
       "    <tr>\n",
       "      <th>28</th>\n",
       "      <td>-73.48 %</td>\n",
       "    </tr>\n",
       "    <tr>\n",
       "      <th>29</th>\n",
       "      <td>-129.14 %</td>\n",
       "    </tr>\n",
       "    <tr>\n",
       "      <th>30</th>\n",
       "      <td>-83.32 %</td>\n",
       "    </tr>\n",
       "    <tr>\n",
       "      <th>31</th>\n",
       "      <td>-58.58 %</td>\n",
       "    </tr>\n",
       "  </tbody>\n",
       "</table>\n",
       "</div>"
      ],
      "text/plain": [
       "        improv (%)\n",
       "channel           \n",
       "8         -70.67 %\n",
       "9         -55.62 %\n",
       "10        -42.73 %\n",
       "11        -55.84 %\n",
       "13        -44.84 %\n",
       "14        -55.01 %\n",
       "16       -117.30 %\n",
       "17        -76.19 %\n",
       "18       -121.52 %\n",
       "19        -64.93 %\n",
       "20        -81.57 %\n",
       "21        -87.95 %\n",
       "22        -81.40 %\n",
       "23        -93.73 %\n",
       "24        -22.87 %\n",
       "25        -38.70 %\n",
       "26        -34.23 %\n",
       "27          4.33 %\n",
       "28        -73.48 %\n",
       "29       -129.14 %\n",
       "30        -83.32 %\n",
       "31        -58.58 %"
      ]
     },
     "execution_count": 19,
     "metadata": {},
     "output_type": "execute_result"
    }
   ],
   "source": [
    "improvement_data = {ch: f'{value * 100:0.2f} %' for ch, value in improvements.items()}\n",
    "\n",
    "df = pd.DataFrame(improvement_data.values(), index=improvement_data.keys(), columns=['improv (%)'])\n",
    "df.index.name = 'channel'\n",
    "df"
   ]
  },
  {
   "cell_type": "code",
   "execution_count": null,
   "id": "4ef59129-f978-4dce-b8cd-854fa395f7e2",
   "metadata": {},
   "outputs": [],
   "source": []
  }
 ],
 "metadata": {
  "kernelspec": {
   "display_name": "Python 3 (ipykernel)",
   "language": "python",
   "name": "python3"
  },
  "language_info": {
   "codemirror_mode": {
    "name": "ipython",
    "version": 3
   },
   "file_extension": ".py",
   "mimetype": "text/x-python",
   "name": "python",
   "nbconvert_exporter": "python",
   "pygments_lexer": "ipython3",
   "version": "3.10.9"
  }
 },
 "nbformat": 4,
 "nbformat_minor": 5
}
