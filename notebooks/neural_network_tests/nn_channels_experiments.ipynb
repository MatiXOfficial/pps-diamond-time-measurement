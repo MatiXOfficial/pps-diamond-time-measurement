{
 "cells": [
  {
   "cell_type": "code",
   "execution_count": 1,
   "id": "666b3ec1-acbc-4efb-acb2-cbb6cb0f35b6",
   "metadata": {
    "tags": []
   },
   "outputs": [],
   "source": [
    "import sys\n",
    "\n",
    "PWD = '../..'\n",
    "sys.path.append(PWD)\n",
    "\n",
    "from matplotlib import pyplot as plt\n",
    "import numpy as np\n",
    "import pandas as pd\n",
    "from scipy.stats import norm\n",
    "import pickle\n",
    "\n",
    "import warnings\n",
    "warnings.simplefilter('ignore')\n",
    "\n",
    "import tensorflow as tf\n",
    "tf.get_logger().setLevel('ERROR')\n",
    "from tensorflow import keras\n",
    "from tensorflow.keras import layers\n",
    "from tensorflow.keras import optimizers\n",
    "from tensorflow.keras import callbacks\n",
    "\n",
    "from sklearn.model_selection import train_test_split\n",
    "from sklearn.metrics import mean_squared_error\n",
    "\n",
    "from IPython.display import display, HTML\n",
    "\n",
    "from collections import defaultdict\n",
    "\n",
    "from src.plot_utils import plot_sample, plot_history\n",
    "from src.cfd import CFD\n",
    "from src.cfd_utils import TIME_STEP, plot_diff_hist_stats, _get_gauss_stats"
   ]
  },
  {
   "cell_type": "code",
   "execution_count": 2,
   "id": "2e33c6da-897d-4c87-86bc-1b402106a068",
   "metadata": {
    "tags": []
   },
   "outputs": [],
   "source": [
    "dataset = np.load(PWD + f'/data/dataset.npz', allow_pickle=True)"
   ]
  },
  {
   "cell_type": "code",
   "execution_count": 3,
   "id": "7c6bc799-358d-4108-bfe0-c695791f7b05",
   "metadata": {
    "tags": []
   },
   "outputs": [
    {
     "data": {
      "text/plain": [
       "dict_keys([8, 9, 10, 11, 13, 14, 16, 17, 18, 19, 20, 21, 22, 23, 24, 25, 26, 27, 28, 29, 30, 31])"
      ]
     },
     "execution_count": 3,
     "metadata": {},
     "output_type": "execute_result"
    }
   ],
   "source": [
    "all_channels_data = dataset['dataset'].flat[0]\n",
    "all_channels_data.keys()"
   ]
  },
  {
   "cell_type": "code",
   "execution_count": 4,
   "id": "d1d2bff8-5fc2-4b44-9d24-3c85948edc30",
   "metadata": {
    "tags": []
   },
   "outputs": [],
   "source": [
    "TEST_SIZE = 0.2\n",
    "RANDOM_STATE = 42\n",
    "\n",
    "FILTERS_MULT_SEP = 4"
   ]
  },
  {
   "cell_type": "markdown",
   "id": "5fd4f982-71ae-4b5f-ba05-f2368a2886df",
   "metadata": {},
   "source": [
    "# Utils"
   ]
  },
  {
   "cell_type": "code",
   "execution_count": 5,
   "id": "73f649ec-bd1e-4890-8aa6-5892e086a49b",
   "metadata": {
    "tags": []
   },
   "outputs": [],
   "source": [
    "def plot_samples(X, y, y_pred, indices=[10, 11, 12, 13, 500, 1000, 2000, 3000]):\n",
    "    for i, idx in enumerate(indices):\n",
    "        plt.subplot(2, 4, i + 1)\n",
    "        plot_sample(X[idx])\n",
    "        plt.axvline(y[idx], c='red')\n",
    "        plt.axvline(y_pred[idx], c='orange')\n",
    "        \n",
    "        diff = abs(y[idx] - y_pred[idx])\n",
    "        plt.title(f'Diff: {diff:0.4f} ({diff * TIME_STEP:0.4f}) ns')\n",
    "        \n",
    "def plot_difference_hist(y_true, y_pred, channel, method, hist_range=(-2, 2), n_bins=100, return_gauss_stats=True):\n",
    "    mu, std = plot_diff_hist_stats(y_true, y_pred, show=False, n_bins=n_bins, hist_range=hist_range, hist_label=f'', plot_gauss=True, return_gauss_stats=return_gauss_stats)\n",
    "\n",
    "    plt.title(f'{method}. channel={channel}, mean={mu:0.3f}, std={std:0.3f}')\n",
    "    return std\n",
    "    \n",
    "def train_model(model, X_train, y_train, X_test, y_test, lr=0.001, name='model', train=True, \n",
    "                n_epochs=1000, verbose=1, batch_size=2048, lr_patience=None, es_patience=None, \n",
    "                loss_weights=None):\n",
    "    model.compile(loss='mse', optimizer=optimizers.Adam(lr), loss_weights=loss_weights)\n",
    "\n",
    "    model_callbacks = []\n",
    "    model_callbacks.append(callbacks.ModelCheckpoint(filepath=PWD + f'data/model_weights/nn_channels_experiments/{name}/weights', save_best_only=True, save_weights_only=True))\n",
    "    if es_patience is not None:\n",
    "        model_callbacks.append(callbacks.EarlyStopping(patience=es_patience))\n",
    "    if lr_patience is not None:\n",
    "        model_callbacks.append(callbacks.ReduceLROnPlateau(monitor='loss', factor=0.5, patience=lr_patience))\n",
    "    \n",
    "    if train:\n",
    "        history = model.fit(X_train, y_train, epochs=n_epochs, verbose=verbose, batch_size=batch_size, validation_data=(X_test, y_test), callbacks=model_callbacks).history\n",
    "        pd.DataFrame(history).to_csv(PWD + f'data/model_weights/nn_channels_experiments/{name}/loss_log.csv')\n",
    "\n",
    "    model.load_weights(PWD + f'data/model_weights/nn_channels_experiments/{name}/weights')\n",
    "    history = pd.read_csv(PWD + f'data/model_weights/nn_channels_experiments/{name}/loss_log.csv')\n",
    "    \n",
    "    return history\n",
    "\n",
    "def load_model(model, lr=0.001, name='model', loss_weights=None):\n",
    "    model.compile(loss='mse', optimizer=optimizers.Adam(lr), loss_weights=loss_weights)\n",
    "    model.load_weights(PWD + f'data/model_weights/nn_channels_experiments/{name}/weights')"
   ]
  },
  {
   "cell_type": "code",
   "execution_count": 6,
   "id": "696e76af-5840-4ee3-aeb5-46c36b2dae77",
   "metadata": {
    "tags": []
   },
   "outputs": [],
   "source": [
    "def augmentation_random_cut(X, y, n_edge_cut=8, seed=None, apply=True):\n",
    "    if not apply:\n",
    "        return X[:, n_edge_cut:-n_edge_cut], y - n_edge_cut\n",
    "    random_state = np.random.RandomState(seed)\n",
    "    n_to_cut = n_edge_cut * 2\n",
    "    \n",
    "    start = random_state.randint(low=0, high=n_to_cut, size=X.shape[0])\n",
    "    end = X.shape[1] - n_to_cut + start\n",
    "    \n",
    "    X_new = np.empty(shape=(X.shape[0], X.shape[1] - n_to_cut))\n",
    "    for i in range(X.shape[0]):\n",
    "        X_new[i] = X[i, start[i]:end[i]]\n",
    "        \n",
    "    y_new = y - start\n",
    "    return X_new, y_new"
   ]
  },
  {
   "cell_type": "code",
   "execution_count": 7,
   "id": "18453a11-6b1a-4a31-b9dc-4e6eb7cbb2f8",
   "metadata": {
    "tags": []
   },
   "outputs": [],
   "source": [
    "def pred_and_retrieve_y(model, X):\n",
    "    Y_heatmap = model.predict(X, batch_size=8192)\n",
    "    y_pred = np.empty(len(X))\n",
    "    for i, y in enumerate(Y_heatmap):\n",
    "        try:\n",
    "            y_pred[i] = _get_gauss_stats(y)\n",
    "        except:\n",
    "            # print(f'Error calculating {i}')\n",
    "            y_pred[i] = np.average(np.arange(len(y)), weights=y)\n",
    "    return y_pred\n",
    "\n",
    "def compare_model_with_cfd(model, cfd, X, y_true, channel=None, figsize=(12, 4), show=True, y_cfd=None, return_gauss_stats=True, log=True):\n",
    "    if y_cfd is None:\n",
    "        y_cfd = np.array([cfd.predict(x) for x in X])\n",
    "        n_none = list(y_cfd).count(None)\n",
    "        if n_none > 0:\n",
    "            print(f'--------------------> CFD returned {n_none} Nones out of {len(y_cfd)} examples')\n",
    "    y_cfd = y_cfd.astype(np.float64)\n",
    "    y_model = pred_and_retrieve_y(model, X)\n",
    "    \n",
    "    mask = y_cfd != None\n",
    "    y_true = y_true[mask]\n",
    "    y_cfd = y_cfd[mask]\n",
    "    y_model = y_model[mask]\n",
    "    \n",
    "    if log and channel is not None:\n",
    "        display(HTML(f'<h4>Channel {channel}</h4>'))\n",
    "    \n",
    "    plt.figure(figsize=figsize)\n",
    "    plt.subplot(1, 2, 1)\n",
    "    std_cfd = plot_difference_hist(y_true, y_cfd, channel, 'CFD', hist_range=(-6, 6), n_bins=300, return_gauss_stats=return_gauss_stats)\n",
    "    plt.subplot(1, 2, 2)\n",
    "    std_model = plot_difference_hist(y_true, y_model, channel, 'NN', hist_range=(-6, 6), n_bins=300, return_gauss_stats=return_gauss_stats)\n",
    "    \n",
    "    improvement = (std_cfd - std_model) / std_cfd\n",
    "    \n",
    "    if log:\n",
    "        print(f\"CFD: {std_cfd:0.3f}, NN: {std_model:0.3f} ({std_cfd * TIME_STEP:0.3f} ns vs {std_model * TIME_STEP:0.3f} ns)\")\n",
    "        print(f'Improvement: {improvement * 100:0.2f} %')\n",
    "    if show:\n",
    "        plt.show()\n",
    "    else:\n",
    "        plt.close()\n",
    "    return improvement, std_cfd * TIME_STEP, std_model * TIME_STEP\n",
    "    \n",
    "cfd = CFD(n_baseline=10, fraction=0.25)"
   ]
  },
  {
   "cell_type": "code",
   "execution_count": 8,
   "id": "c8464d78-36b1-4674-9edd-f9b8d14b829a",
   "metadata": {
    "tags": []
   },
   "outputs": [],
   "source": [
    "def bold(phrase):\n",
    "    return '\\033[1m' + phrase + '\\033[0;0m'"
   ]
  },
  {
   "cell_type": "markdown",
   "id": "716338e8-6963-493e-9ff6-cab427307709",
   "metadata": {},
   "source": [
    "# Models"
   ]
  },
  {
   "cell_type": "code",
   "execution_count": 9,
   "id": "f515acdf-bff2-46cb-bbde-808acdb80d68",
   "metadata": {
    "tags": []
   },
   "outputs": [
    {
     "data": {
      "text/plain": [
       "1.6"
      ]
     },
     "execution_count": 9,
     "metadata": {},
     "output_type": "execute_result"
    }
   ],
   "source": [
    "def gaussian_kernel(mu, sigma=0.8, n=48):\n",
    "    x = np.arange(0, n)\n",
    "    return np.exp(-(x - mu)**2 / (2 * sigma**2))\n",
    "\n",
    "_get_gauss_stats(gaussian_kernel(np.array(1.6)))"
   ]
  },
  {
   "cell_type": "code",
   "execution_count": 10,
   "id": "d24b6002-a299-46f7-9385-f143da5e4590",
   "metadata": {
    "tags": []
   },
   "outputs": [],
   "source": [
    "def conv_block(x, n_filters):\n",
    "    x = layers.Conv1D(n_filters, 3, activation='relu', padding='same')(x)\n",
    "    skip = layers.Conv1D(n_filters, 3, activation='relu', padding='same')(x)\n",
    "    # skip = residual_block(x, n_filters, strides=1)\n",
    "    x = layers.MaxPooling1D()(skip)\n",
    "    return skip, x\n",
    "    \n",
    "def deconv_block(x, skip, n_filters):\n",
    "    x = layers.UpSampling1D()(x)\n",
    "    x = layers.Conv1D(n_filters, 1, activation='linear')(x)\n",
    "    x = layers.Concatenate()([skip, x])\n",
    "    x = layers.Conv1D(n_filters, 3, activation='relu', padding='same')(x)\n",
    "    x = layers.Conv1D(n_filters, 3, activation='relu', padding='same')(x)\n",
    "    # x = residual_block(x, n_filters, strides=1)\n",
    "    return x\n",
    "    \n",
    "    \n",
    "###################################\n",
    "\n",
    "def create_model(filters_mult=1):\n",
    "    inputs = layers.Input(48)\n",
    "    x = layers.Reshape((-1, 1))(inputs)\n",
    "\n",
    "    skip1, x = conv_block(x, 8 * filters_mult)\n",
    "    skip2, x = conv_block(x, 16 * filters_mult)\n",
    "    skip3, x = conv_block(x, 32 * filters_mult)\n",
    "    x, _ = conv_block(x, 64 * filters_mult)\n",
    "\n",
    "    x = deconv_block(x, skip3, 32 * filters_mult)\n",
    "    x = deconv_block(x, skip2, 16 * filters_mult)\n",
    "    x = deconv_block(x, skip1, 8 * filters_mult)\n",
    "\n",
    "    x = layers.Conv1D(1, 1, activation='linear')(x)\n",
    "\n",
    "    outputs = layers.Flatten()(x)\n",
    "\n",
    "    model = tf.keras.Model(inputs, outputs)\n",
    "    return model"
   ]
  },
  {
   "cell_type": "markdown",
   "id": "c9c03300-a15a-476e-9a40-e54437811207",
   "metadata": {},
   "source": [
    "## Trained separately, tested on the same channels"
   ]
  },
  {
   "cell_type": "code",
   "execution_count": 11,
   "id": "fdef3352-a3ff-41ad-ba07-1ca7ef8beb7c",
   "metadata": {
    "scrolled": true,
    "tags": []
   },
   "outputs": [
    {
     "name": "stdout",
     "output_type": "stream",
     "text": [
      "1/1 [==============================] - 2s 2s/step\n"
     ]
    },
    {
     "data": {
      "text/html": [
       "<h4>Channel 8</h4>"
      ],
      "text/plain": [
       "<IPython.core.display.HTML object>"
      ]
     },
     "metadata": {},
     "output_type": "display_data"
    },
    {
     "name": "stdout",
     "output_type": "stream",
     "text": [
      "CFD: 0.453, NN: 0.361 (0.071 ns vs 0.056 ns)\n",
      "Improvement: 20.39 %\n",
      "1/1 [==============================] - 0s 177ms/step\n"
     ]
    },
    {
     "data": {
      "text/html": [
       "<h4>Channel 9</h4>"
      ],
      "text/plain": [
       "<IPython.core.display.HTML object>"
      ]
     },
     "metadata": {},
     "output_type": "display_data"
    },
    {
     "name": "stdout",
     "output_type": "stream",
     "text": [
      "CFD: 0.458, NN: 0.399 (0.072 ns vs 0.062 ns)\n",
      "Improvement: 12.97 %\n",
      "1/1 [==============================] - 0s 206ms/step\n"
     ]
    },
    {
     "data": {
      "text/html": [
       "<h4>Channel 10</h4>"
      ],
      "text/plain": [
       "<IPython.core.display.HTML object>"
      ]
     },
     "metadata": {},
     "output_type": "display_data"
    },
    {
     "name": "stdout",
     "output_type": "stream",
     "text": [
      "CFD: 0.407, NN: 0.362 (0.064 ns vs 0.056 ns)\n",
      "Improvement: 11.21 %\n",
      "1/1 [==============================] - 0s 177ms/step\n"
     ]
    },
    {
     "data": {
      "text/html": [
       "<h4>Channel 11</h4>"
      ],
      "text/plain": [
       "<IPython.core.display.HTML object>"
      ]
     },
     "metadata": {},
     "output_type": "display_data"
    },
    {
     "name": "stdout",
     "output_type": "stream",
     "text": [
      "CFD: 0.423, NN: 0.358 (0.066 ns vs 0.056 ns)\n",
      "Improvement: 15.24 %\n",
      "1/1 [==============================] - 0s 388ms/step\n"
     ]
    },
    {
     "data": {
      "text/html": [
       "<h4>Channel 13</h4>"
      ],
      "text/plain": [
       "<IPython.core.display.HTML object>"
      ]
     },
     "metadata": {},
     "output_type": "display_data"
    },
    {
     "name": "stdout",
     "output_type": "stream",
     "text": [
      "CFD: 0.779, NN: 0.639 (0.122 ns vs 0.100 ns)\n",
      "Improvement: 18.01 %\n",
      "1/1 [==============================] - 0s 430ms/step\n"
     ]
    },
    {
     "data": {
      "text/html": [
       "<h4>Channel 14</h4>"
      ],
      "text/plain": [
       "<IPython.core.display.HTML object>"
      ]
     },
     "metadata": {},
     "output_type": "display_data"
    },
    {
     "name": "stdout",
     "output_type": "stream",
     "text": [
      "CFD: 0.751, NN: 0.604 (0.117 ns vs 0.094 ns)\n",
      "Improvement: 19.59 %\n",
      "1/1 [==============================] - 0s 440ms/step\n"
     ]
    },
    {
     "data": {
      "text/html": [
       "<h4>Channel 16</h4>"
      ],
      "text/plain": [
       "<IPython.core.display.HTML object>"
      ]
     },
     "metadata": {},
     "output_type": "display_data"
    },
    {
     "name": "stdout",
     "output_type": "stream",
     "text": [
      "CFD: 0.442, NN: 0.338 (0.069 ns vs 0.053 ns)\n",
      "Improvement: 23.52 %\n",
      "1/1 [==============================] - 0s 195ms/step\n"
     ]
    },
    {
     "data": {
      "text/html": [
       "<h4>Channel 17</h4>"
      ],
      "text/plain": [
       "<IPython.core.display.HTML object>"
      ]
     },
     "metadata": {},
     "output_type": "display_data"
    },
    {
     "name": "stdout",
     "output_type": "stream",
     "text": [
      "CFD: 0.459, NN: 0.373 (0.072 ns vs 0.058 ns)\n",
      "Improvement: 18.71 %\n",
      "1/1 [==============================] - 0s 250ms/step\n"
     ]
    },
    {
     "data": {
      "text/html": [
       "<h4>Channel 18</h4>"
      ],
      "text/plain": [
       "<IPython.core.display.HTML object>"
      ]
     },
     "metadata": {},
     "output_type": "display_data"
    },
    {
     "name": "stdout",
     "output_type": "stream",
     "text": [
      "CFD: 0.441, NN: 0.385 (0.069 ns vs 0.060 ns)\n",
      "Improvement: 12.68 %\n",
      "1/1 [==============================] - 0s 201ms/step\n"
     ]
    },
    {
     "data": {
      "text/html": [
       "<h4>Channel 19</h4>"
      ],
      "text/plain": [
       "<IPython.core.display.HTML object>"
      ]
     },
     "metadata": {},
     "output_type": "display_data"
    },
    {
     "name": "stdout",
     "output_type": "stream",
     "text": [
      "CFD: 0.560, NN: 0.481 (0.088 ns vs 0.075 ns)\n",
      "Improvement: 14.25 %\n",
      "1/1 [==============================] - 0s 168ms/step\n"
     ]
    },
    {
     "data": {
      "text/html": [
       "<h4>Channel 20</h4>"
      ],
      "text/plain": [
       "<IPython.core.display.HTML object>"
      ]
     },
     "metadata": {},
     "output_type": "display_data"
    },
    {
     "name": "stdout",
     "output_type": "stream",
     "text": [
      "CFD: 0.430, NN: 0.379 (0.067 ns vs 0.059 ns)\n",
      "Improvement: 11.97 %\n",
      "1/1 [==============================] - 0s 332ms/step\n"
     ]
    },
    {
     "data": {
      "text/html": [
       "<h4>Channel 21</h4>"
      ],
      "text/plain": [
       "<IPython.core.display.HTML object>"
      ]
     },
     "metadata": {},
     "output_type": "display_data"
    },
    {
     "name": "stdout",
     "output_type": "stream",
     "text": [
      "CFD: 0.427, NN: 0.390 (0.067 ns vs 0.061 ns)\n",
      "Improvement: 8.75 %\n",
      "1/1 [==============================] - 0s 222ms/step\n"
     ]
    },
    {
     "data": {
      "text/html": [
       "<h4>Channel 22</h4>"
      ],
      "text/plain": [
       "<IPython.core.display.HTML object>"
      ]
     },
     "metadata": {},
     "output_type": "display_data"
    },
    {
     "name": "stdout",
     "output_type": "stream",
     "text": [
      "CFD: 0.410, NN: 0.365 (0.064 ns vs 0.057 ns)\n",
      "Improvement: 11.04 %\n",
      "1/1 [==============================] - 0s 208ms/step\n"
     ]
    },
    {
     "data": {
      "text/html": [
       "<h4>Channel 23</h4>"
      ],
      "text/plain": [
       "<IPython.core.display.HTML object>"
      ]
     },
     "metadata": {},
     "output_type": "display_data"
    },
    {
     "name": "stdout",
     "output_type": "stream",
     "text": [
      "CFD: 0.409, NN: 0.361 (0.064 ns vs 0.056 ns)\n",
      "Improvement: 11.70 %\n",
      "2/2 [==============================] - 0s 69ms/step\n"
     ]
    },
    {
     "data": {
      "text/html": [
       "<h4>Channel 24</h4>"
      ],
      "text/plain": [
       "<IPython.core.display.HTML object>"
      ]
     },
     "metadata": {},
     "output_type": "display_data"
    },
    {
     "name": "stdout",
     "output_type": "stream",
     "text": [
      "CFD: 0.598, NN: 0.512 (0.093 ns vs 0.080 ns)\n",
      "Improvement: 14.34 %\n",
      "1/1 [==============================] - 0s 252ms/step\n"
     ]
    },
    {
     "data": {
      "text/html": [
       "<h4>Channel 25</h4>"
      ],
      "text/plain": [
       "<IPython.core.display.HTML object>"
      ]
     },
     "metadata": {},
     "output_type": "display_data"
    },
    {
     "name": "stdout",
     "output_type": "stream",
     "text": [
      "CFD: 0.683, NN: 0.620 (0.107 ns vs 0.097 ns)\n",
      "Improvement: 9.15 %\n",
      "1/1 [==============================] - 0s 440ms/step\n"
     ]
    },
    {
     "data": {
      "text/html": [
       "<h4>Channel 26</h4>"
      ],
      "text/plain": [
       "<IPython.core.display.HTML object>"
      ]
     },
     "metadata": {},
     "output_type": "display_data"
    },
    {
     "name": "stdout",
     "output_type": "stream",
     "text": [
      "CFD: 0.768, NN: 0.662 (0.120 ns vs 0.103 ns)\n",
      "Improvement: 13.77 %\n",
      "2/2 [==============================] - 0s 245ms/step\n"
     ]
    },
    {
     "data": {
      "text/html": [
       "<h4>Channel 27</h4>"
      ],
      "text/plain": [
       "<IPython.core.display.HTML object>"
      ]
     },
     "metadata": {},
     "output_type": "display_data"
    },
    {
     "name": "stdout",
     "output_type": "stream",
     "text": [
      "CFD: 0.709, NN: 0.570 (0.111 ns vs 0.089 ns)\n",
      "Improvement: 19.56 %\n",
      "1/1 [==============================] - 1s 522ms/step\n"
     ]
    },
    {
     "data": {
      "text/html": [
       "<h4>Channel 28</h4>"
      ],
      "text/plain": [
       "<IPython.core.display.HTML object>"
      ]
     },
     "metadata": {},
     "output_type": "display_data"
    },
    {
     "name": "stdout",
     "output_type": "stream",
     "text": [
      "CFD: 0.487, NN: 0.388 (0.076 ns vs 0.061 ns)\n",
      "Improvement: 20.37 %\n",
      "1/1 [==============================] - 0s 186ms/step\n"
     ]
    },
    {
     "data": {
      "text/html": [
       "<h4>Channel 29</h4>"
      ],
      "text/plain": [
       "<IPython.core.display.HTML object>"
      ]
     },
     "metadata": {},
     "output_type": "display_data"
    },
    {
     "name": "stdout",
     "output_type": "stream",
     "text": [
      "CFD: 0.444, NN: 0.388 (0.069 ns vs 0.061 ns)\n",
      "Improvement: 12.73 %\n",
      "1/1 [==============================] - 0s 378ms/step\n"
     ]
    },
    {
     "data": {
      "text/html": [
       "<h4>Channel 30</h4>"
      ],
      "text/plain": [
       "<IPython.core.display.HTML object>"
      ]
     },
     "metadata": {},
     "output_type": "display_data"
    },
    {
     "name": "stdout",
     "output_type": "stream",
     "text": [
      "CFD: 0.468, NN: 0.391 (0.073 ns vs 0.061 ns)\n",
      "Improvement: 16.55 %\n",
      "1/1 [==============================] - 0s 180ms/step\n"
     ]
    },
    {
     "data": {
      "text/html": [
       "<h4>Channel 31</h4>"
      ],
      "text/plain": [
       "<IPython.core.display.HTML object>"
      ]
     },
     "metadata": {},
     "output_type": "display_data"
    },
    {
     "name": "stdout",
     "output_type": "stream",
     "text": [
      "CFD: 0.509, NN: 0.411 (0.079 ns vs 0.064 ns)\n",
      "Improvement: 19.21 %\n"
     ]
    }
   ],
   "source": [
    "improvements = {}\n",
    "for channel, (X, y) in list(all_channels_data.items()):\n",
    "    X_aug, y_aug = augmentation_random_cut(X, y, 8, seed=42, apply=True)\n",
    "    X_train, X_test, y_train, y_test = train_test_split(X_aug, y_aug, test_size=TEST_SIZE, random_state=RANDOM_STATE)\n",
    "    Y_heatmap_train = np.array([gaussian_kernel(y) for y in y_train])\n",
    "    Y_heatmap_test = np.array([gaussian_kernel(y) for y in y_test])\n",
    "    \n",
    "    model = create_model(filters_mult=FILTERS_MULT_SEP)\n",
    "    history = train_model(model, X_train, Y_heatmap_train, X_test, Y_heatmap_test, lr=0.001, name=f'model_separate_{channel}', \n",
    "                          train=False, n_epochs=200, verbose=0, loss_weights=100, lr_patience=20, es_patience=40)\n",
    "    \n",
    "    # plot_history(history, f\"Channel {channel}, {len(X)} events\", ymax=1, figsize=(10, 4))\n",
    "    improvement, _, std_model = compare_model_with_cfd(model, cfd, X_test, y_test, channel, show=False)\n",
    "    improvements[channel] = improvement, std_model"
   ]
  },
  {
   "cell_type": "code",
   "execution_count": 12,
   "id": "09747ca8-c87c-4983-9d8c-39681e1d3527",
   "metadata": {
    "tags": []
   },
   "outputs": [
    {
     "data": {
      "text/html": [
       "<div>\n",
       "<style scoped>\n",
       "    .dataframe tbody tr th:only-of-type {\n",
       "        vertical-align: middle;\n",
       "    }\n",
       "\n",
       "    .dataframe tbody tr th {\n",
       "        vertical-align: top;\n",
       "    }\n",
       "\n",
       "    .dataframe thead th {\n",
       "        text-align: right;\n",
       "    }\n",
       "</style>\n",
       "<table border=\"1\" class=\"dataframe\">\n",
       "  <thead>\n",
       "    <tr style=\"text-align: right;\">\n",
       "      <th></th>\n",
       "      <th>precision [ps]</th>\n",
       "      <th>improvement</th>\n",
       "    </tr>\n",
       "    <tr>\n",
       "      <th>channel</th>\n",
       "      <th></th>\n",
       "      <th></th>\n",
       "    </tr>\n",
       "  </thead>\n",
       "  <tbody>\n",
       "    <tr>\n",
       "      <th>8</th>\n",
       "      <td>56.3</td>\n",
       "      <td>20 %</td>\n",
       "    </tr>\n",
       "    <tr>\n",
       "      <th>9</th>\n",
       "      <td>62.3</td>\n",
       "      <td>13 %</td>\n",
       "    </tr>\n",
       "    <tr>\n",
       "      <th>10</th>\n",
       "      <td>56.5</td>\n",
       "      <td>11 %</td>\n",
       "    </tr>\n",
       "    <tr>\n",
       "      <th>11</th>\n",
       "      <td>56.0</td>\n",
       "      <td>15 %</td>\n",
       "    </tr>\n",
       "    <tr>\n",
       "      <th>13</th>\n",
       "      <td>99.8</td>\n",
       "      <td>18 %</td>\n",
       "    </tr>\n",
       "    <tr>\n",
       "      <th>14</th>\n",
       "      <td>94.3</td>\n",
       "      <td>20 %</td>\n",
       "    </tr>\n",
       "    <tr>\n",
       "      <th>16</th>\n",
       "      <td>52.8</td>\n",
       "      <td>24 %</td>\n",
       "    </tr>\n",
       "    <tr>\n",
       "      <th>17</th>\n",
       "      <td>58.3</td>\n",
       "      <td>19 %</td>\n",
       "    </tr>\n",
       "    <tr>\n",
       "      <th>18</th>\n",
       "      <td>60.2</td>\n",
       "      <td>13 %</td>\n",
       "    </tr>\n",
       "    <tr>\n",
       "      <th>19</th>\n",
       "      <td>75.1</td>\n",
       "      <td>14 %</td>\n",
       "    </tr>\n",
       "    <tr>\n",
       "      <th>20</th>\n",
       "      <td>59.2</td>\n",
       "      <td>12 %</td>\n",
       "    </tr>\n",
       "    <tr>\n",
       "      <th>21</th>\n",
       "      <td>60.9</td>\n",
       "      <td>9 %</td>\n",
       "    </tr>\n",
       "    <tr>\n",
       "      <th>22</th>\n",
       "      <td>57.0</td>\n",
       "      <td>11 %</td>\n",
       "    </tr>\n",
       "    <tr>\n",
       "      <th>23</th>\n",
       "      <td>56.4</td>\n",
       "      <td>12 %</td>\n",
       "    </tr>\n",
       "    <tr>\n",
       "      <th>24</th>\n",
       "      <td>80.0</td>\n",
       "      <td>14 %</td>\n",
       "    </tr>\n",
       "    <tr>\n",
       "      <th>25</th>\n",
       "      <td>96.9</td>\n",
       "      <td>9 %</td>\n",
       "    </tr>\n",
       "    <tr>\n",
       "      <th>26</th>\n",
       "      <td>103.4</td>\n",
       "      <td>14 %</td>\n",
       "    </tr>\n",
       "    <tr>\n",
       "      <th>27</th>\n",
       "      <td>89.1</td>\n",
       "      <td>20 %</td>\n",
       "    </tr>\n",
       "    <tr>\n",
       "      <th>28</th>\n",
       "      <td>60.6</td>\n",
       "      <td>20 %</td>\n",
       "    </tr>\n",
       "    <tr>\n",
       "      <th>29</th>\n",
       "      <td>60.6</td>\n",
       "      <td>13 %</td>\n",
       "    </tr>\n",
       "    <tr>\n",
       "      <th>30</th>\n",
       "      <td>61.0</td>\n",
       "      <td>17 %</td>\n",
       "    </tr>\n",
       "    <tr>\n",
       "      <th>31</th>\n",
       "      <td>64.2</td>\n",
       "      <td>19 %</td>\n",
       "    </tr>\n",
       "  </tbody>\n",
       "</table>\n",
       "</div>"
      ],
      "text/plain": [
       "        precision [ps] improvement\n",
       "channel                           \n",
       "8                 56.3        20 %\n",
       "9                 62.3        13 %\n",
       "10                56.5        11 %\n",
       "11                56.0        15 %\n",
       "13                99.8        18 %\n",
       "14                94.3        20 %\n",
       "16                52.8        24 %\n",
       "17                58.3        19 %\n",
       "18                60.2        13 %\n",
       "19                75.1        14 %\n",
       "20                59.2        12 %\n",
       "21                60.9         9 %\n",
       "22                57.0        11 %\n",
       "23                56.4        12 %\n",
       "24                80.0        14 %\n",
       "25                96.9         9 %\n",
       "26               103.4        14 %\n",
       "27                89.1        20 %\n",
       "28                60.6        20 %\n",
       "29                60.6        13 %\n",
       "30                61.0        17 %\n",
       "31                64.2        19 %"
      ]
     },
     "execution_count": 12,
     "metadata": {},
     "output_type": "execute_result"
    }
   ],
   "source": [
    "channels = improvements.keys()\n",
    "precision_data = [f'{std_model * 1000:0.1f}' for _, std_model in improvements.values()]\n",
    "improvement_data = [f'{improv * 100:0.0f} %' for improv, _ in improvements.values()]\n",
    "\n",
    "df = pd.DataFrame({'precision [ps]': precision_data, 'improvement': improvement_data}, index=channels)\n",
    "df.index.name = 'channel'\n",
    "df\n",
    "# df.to_csv('channel_precision_improvements.csv')"
   ]
  },
  {
   "cell_type": "markdown",
   "id": "64c94fec-e171-415d-ab7f-c3329e0b08da",
   "metadata": {},
   "source": [
    "## Trained separately, tested separately"
   ]
  },
  {
   "cell_type": "code",
   "execution_count": 13,
   "id": "a6e922d0-97d7-46c8-b2e7-9e495a301048",
   "metadata": {
    "scrolled": true,
    "tags": []
   },
   "outputs": [],
   "source": [
    "# results = defaultdict(dict)\n",
    "# for model_channel in list(all_channels_data.keys()):\n",
    "#     print(f'Processing channel {model_channel}...')\n",
    "#     model = create_model(filters_mult=FILTERS_MULT_SEP)\n",
    "#     load_model(model, lr=0.001, name=f'model_separate_{model_channel}', loss_weights=100)\n",
    "    \n",
    "#     for channel, (X, y) in list(all_channels_data.items()):\n",
    "#         X_aug, y_aug = augmentation_random_cut(X, y, 8, seed=42, apply=True)\n",
    "#         _, X_test, _, y_test = train_test_split(X_aug, y_aug, test_size=TEST_SIZE, random_state=RANDOM_STATE)\n",
    "#         Y_heatmap_test = np.array([gaussian_kernel(y) for y in y_test])\n",
    "        \n",
    "#         improvement, _, std_model = compare_model_with_cfd(model, cfd, X_test, y_test, channel, show=False, log=False)\n",
    "#         results[model_channel][channel] = (improvement, std_model)\n",
    "        \n",
    "# with open(PWD + '/data/misc/multi_channel_separate_results.pkl', 'wb') as file:\n",
    "#     pickle.dump(results, file)"
   ]
  },
  {
   "cell_type": "code",
   "execution_count": 14,
   "id": "a87366d0-cb14-40ed-bb50-f92f66b820b2",
   "metadata": {},
   "outputs": [],
   "source": [
    "with open(PWD + '/data/misc/multi_channel_separate_results.pkl', 'rb') as file:\n",
    "    results = pickle.load(file)\n",
    "\n",
    "# Check that the order is the same\n",
    "assert list(results.keys()) == sorted(results.keys())\n",
    "for x in results.values():\n",
    "    assert list(x.keys()) == sorted(x.keys())\n",
    "\n",
    "row_names = [str(key) for key in results.keys()]\n",
    "col_names = [str(key) for key in list(results.values())[0].keys()]"
   ]
  },
  {
   "cell_type": "code",
   "execution_count": 15,
   "id": "ba6d13c2-37f2-460b-a101-cab59b516971",
   "metadata": {
    "tags": []
   },
   "outputs": [
    {
     "data": {
      "text/html": [
       "<div>\n",
       "<style scoped>\n",
       "    .dataframe tbody tr th:only-of-type {\n",
       "        vertical-align: middle;\n",
       "    }\n",
       "\n",
       "    .dataframe tbody tr th {\n",
       "        vertical-align: top;\n",
       "    }\n",
       "\n",
       "    .dataframe thead th {\n",
       "        text-align: right;\n",
       "    }\n",
       "</style>\n",
       "<table border=\"1\" class=\"dataframe\">\n",
       "  <thead>\n",
       "    <tr style=\"text-align: right;\">\n",
       "      <th></th>\n",
       "      <th>8</th>\n",
       "      <th>9</th>\n",
       "      <th>10</th>\n",
       "      <th>11</th>\n",
       "      <th>13</th>\n",
       "      <th>14</th>\n",
       "      <th>16</th>\n",
       "      <th>17</th>\n",
       "      <th>18</th>\n",
       "      <th>19</th>\n",
       "      <th>20</th>\n",
       "      <th>21</th>\n",
       "      <th>22</th>\n",
       "      <th>23</th>\n",
       "      <th>24</th>\n",
       "      <th>25</th>\n",
       "      <th>26</th>\n",
       "      <th>27</th>\n",
       "      <th>28</th>\n",
       "      <th>29</th>\n",
       "      <th>30</th>\n",
       "      <th>31</th>\n",
       "    </tr>\n",
       "    <tr>\n",
       "      <th>trained on \\ tested on</th>\n",
       "      <th></th>\n",
       "      <th></th>\n",
       "      <th></th>\n",
       "      <th></th>\n",
       "      <th></th>\n",
       "      <th></th>\n",
       "      <th></th>\n",
       "      <th></th>\n",
       "      <th></th>\n",
       "      <th></th>\n",
       "      <th></th>\n",
       "      <th></th>\n",
       "      <th></th>\n",
       "      <th></th>\n",
       "      <th></th>\n",
       "      <th></th>\n",
       "      <th></th>\n",
       "      <th></th>\n",
       "      <th></th>\n",
       "      <th></th>\n",
       "      <th></th>\n",
       "      <th></th>\n",
       "    </tr>\n",
       "  </thead>\n",
       "  <tbody>\n",
       "    <tr>\n",
       "      <th>8</th>\n",
       "      <td>56.3 ps</td>\n",
       "      <td>65.5 ps</td>\n",
       "      <td>57.7 ps</td>\n",
       "      <td>59.4 ps</td>\n",
       "      <td>133.3 ps</td>\n",
       "      <td>126.5 ps</td>\n",
       "      <td>65.2 ps</td>\n",
       "      <td>65.6 ps</td>\n",
       "      <td>66.8 ps</td>\n",
       "      <td>85.6 ps</td>\n",
       "      <td>62.5 ps</td>\n",
       "      <td>69.7 ps</td>\n",
       "      <td>59.7 ps</td>\n",
       "      <td>60.6 ps</td>\n",
       "      <td>100.2 ps</td>\n",
       "      <td>111.0 ps</td>\n",
       "      <td>137.4 ps</td>\n",
       "      <td>122.9 ps</td>\n",
       "      <td>73.3 ps</td>\n",
       "      <td>67.9 ps</td>\n",
       "      <td>80.9 ps</td>\n",
       "      <td>81.6 ps</td>\n",
       "    </tr>\n",
       "    <tr>\n",
       "      <th>9</th>\n",
       "      <td>61.3 ps</td>\n",
       "      <td>62.3 ps</td>\n",
       "      <td>57.6 ps</td>\n",
       "      <td>59.4 ps</td>\n",
       "      <td>115.8 ps</td>\n",
       "      <td>113.9 ps</td>\n",
       "      <td>66.7 ps</td>\n",
       "      <td>65.0 ps</td>\n",
       "      <td>68.0 ps</td>\n",
       "      <td>84.7 ps</td>\n",
       "      <td>65.8 ps</td>\n",
       "      <td>65.5 ps</td>\n",
       "      <td>60.8 ps</td>\n",
       "      <td>62.0 ps</td>\n",
       "      <td>99.5 ps</td>\n",
       "      <td>106.0 ps</td>\n",
       "      <td>124.8 ps</td>\n",
       "      <td>126.5 ps</td>\n",
       "      <td>72.1 ps</td>\n",
       "      <td>68.7 ps</td>\n",
       "      <td>77.3 ps</td>\n",
       "      <td>85.0 ps</td>\n",
       "    </tr>\n",
       "    <tr>\n",
       "      <th>10</th>\n",
       "      <td>65.2 ps</td>\n",
       "      <td>68.3 ps</td>\n",
       "      <td>56.5 ps</td>\n",
       "      <td>58.8 ps</td>\n",
       "      <td>111.3 ps</td>\n",
       "      <td>107.7 ps</td>\n",
       "      <td>66.9 ps</td>\n",
       "      <td>63.0 ps</td>\n",
       "      <td>66.2 ps</td>\n",
       "      <td>90.6 ps</td>\n",
       "      <td>67.7 ps</td>\n",
       "      <td>65.1 ps</td>\n",
       "      <td>60.3 ps</td>\n",
       "      <td>60.6 ps</td>\n",
       "      <td>93.6 ps</td>\n",
       "      <td>103.0 ps</td>\n",
       "      <td>114.1 ps</td>\n",
       "      <td>113.8 ps</td>\n",
       "      <td>69.9 ps</td>\n",
       "      <td>68.3 ps</td>\n",
       "      <td>74.5 ps</td>\n",
       "      <td>84.8 ps</td>\n",
       "    </tr>\n",
       "    <tr>\n",
       "      <th>11</th>\n",
       "      <td>68.3 ps</td>\n",
       "      <td>77.2 ps</td>\n",
       "      <td>57.9 ps</td>\n",
       "      <td>56.0 ps</td>\n",
       "      <td>149.1 ps</td>\n",
       "      <td>141.8 ps</td>\n",
       "      <td>58.7 ps</td>\n",
       "      <td>62.6 ps</td>\n",
       "      <td>66.5 ps</td>\n",
       "      <td>109.2 ps</td>\n",
       "      <td>68.5 ps</td>\n",
       "      <td>71.8 ps</td>\n",
       "      <td>57.7 ps</td>\n",
       "      <td>57.1 ps</td>\n",
       "      <td>97.9 ps</td>\n",
       "      <td>117.5 ps</td>\n",
       "      <td>157.5 ps</td>\n",
       "      <td>108.9 ps</td>\n",
       "      <td>67.7 ps</td>\n",
       "      <td>66.0 ps</td>\n",
       "      <td>77.5 ps</td>\n",
       "      <td>89.9 ps</td>\n",
       "    </tr>\n",
       "    <tr>\n",
       "      <th>13</th>\n",
       "      <td>68.7 ps</td>\n",
       "      <td>75.8 ps</td>\n",
       "      <td>68.4 ps</td>\n",
       "      <td>72.4 ps</td>\n",
       "      <td>99.8 ps</td>\n",
       "      <td>98.8 ps</td>\n",
       "      <td>83.7 ps</td>\n",
       "      <td>72.9 ps</td>\n",
       "      <td>79.1 ps</td>\n",
       "      <td>90.6 ps</td>\n",
       "      <td>72.7 ps</td>\n",
       "      <td>75.4 ps</td>\n",
       "      <td>74.9 ps</td>\n",
       "      <td>74.8 ps</td>\n",
       "      <td>88.8 ps</td>\n",
       "      <td>99.8 ps</td>\n",
       "      <td>108.7 ps</td>\n",
       "      <td>103.4 ps</td>\n",
       "      <td>80.3 ps</td>\n",
       "      <td>82.6 ps</td>\n",
       "      <td>89.7 ps</td>\n",
       "      <td>90.5 ps</td>\n",
       "    </tr>\n",
       "    <tr>\n",
       "      <th>14</th>\n",
       "      <td>73.1 ps</td>\n",
       "      <td>74.1 ps</td>\n",
       "      <td>69.2 ps</td>\n",
       "      <td>75.6 ps</td>\n",
       "      <td>102.1 ps</td>\n",
       "      <td>94.3 ps</td>\n",
       "      <td>81.2 ps</td>\n",
       "      <td>68.9 ps</td>\n",
       "      <td>73.9 ps</td>\n",
       "      <td>84.0 ps</td>\n",
       "      <td>72.6 ps</td>\n",
       "      <td>75.8 ps</td>\n",
       "      <td>73.6 ps</td>\n",
       "      <td>75.7 ps</td>\n",
       "      <td>90.1 ps</td>\n",
       "      <td>99.1 ps</td>\n",
       "      <td>104.2 ps</td>\n",
       "      <td>97.7 ps</td>\n",
       "      <td>74.8 ps</td>\n",
       "      <td>77.8 ps</td>\n",
       "      <td>77.2 ps</td>\n",
       "      <td>81.8 ps</td>\n",
       "    </tr>\n",
       "    <tr>\n",
       "      <th>16</th>\n",
       "      <td>73.9 ps</td>\n",
       "      <td>82.3 ps</td>\n",
       "      <td>63.5 ps</td>\n",
       "      <td>58.0 ps</td>\n",
       "      <td>136.5 ps</td>\n",
       "      <td>128.7 ps</td>\n",
       "      <td>52.8 ps</td>\n",
       "      <td>60.7 ps</td>\n",
       "      <td>63.8 ps</td>\n",
       "      <td>110.6 ps</td>\n",
       "      <td>67.6 ps</td>\n",
       "      <td>75.9 ps</td>\n",
       "      <td>57.7 ps</td>\n",
       "      <td>55.6 ps</td>\n",
       "      <td>118.1 ps</td>\n",
       "      <td>132.8 ps</td>\n",
       "      <td>125.9 ps</td>\n",
       "      <td>113.5 ps</td>\n",
       "      <td>64.7 ps</td>\n",
       "      <td>62.2 ps</td>\n",
       "      <td>69.6 ps</td>\n",
       "      <td>77.2 ps</td>\n",
       "    </tr>\n",
       "    <tr>\n",
       "      <th>17</th>\n",
       "      <td>73.1 ps</td>\n",
       "      <td>73.9 ps</td>\n",
       "      <td>58.5 ps</td>\n",
       "      <td>60.5 ps</td>\n",
       "      <td>111.9 ps</td>\n",
       "      <td>104.2 ps</td>\n",
       "      <td>58.6 ps</td>\n",
       "      <td>58.3 ps</td>\n",
       "      <td>64.0 ps</td>\n",
       "      <td>88.8 ps</td>\n",
       "      <td>73.2 ps</td>\n",
       "      <td>69.9 ps</td>\n",
       "      <td>58.7 ps</td>\n",
       "      <td>58.6 ps</td>\n",
       "      <td>87.5 ps</td>\n",
       "      <td>103.7 ps</td>\n",
       "      <td>112.5 ps</td>\n",
       "      <td>98.8 ps</td>\n",
       "      <td>62.3 ps</td>\n",
       "      <td>63.8 ps</td>\n",
       "      <td>67.3 ps</td>\n",
       "      <td>88.6 ps</td>\n",
       "    </tr>\n",
       "    <tr>\n",
       "      <th>18</th>\n",
       "      <td>69.5 ps</td>\n",
       "      <td>71.8 ps</td>\n",
       "      <td>62.7 ps</td>\n",
       "      <td>62.4 ps</td>\n",
       "      <td>149.2 ps</td>\n",
       "      <td>143.3 ps</td>\n",
       "      <td>60.8 ps</td>\n",
       "      <td>63.1 ps</td>\n",
       "      <td>60.2 ps</td>\n",
       "      <td>96.0 ps</td>\n",
       "      <td>67.7 ps</td>\n",
       "      <td>69.8 ps</td>\n",
       "      <td>61.2 ps</td>\n",
       "      <td>63.1 ps</td>\n",
       "      <td>118.2 ps</td>\n",
       "      <td>137.0 ps</td>\n",
       "      <td>138.6 ps</td>\n",
       "      <td>128.1 ps</td>\n",
       "      <td>70.6 ps</td>\n",
       "      <td>65.1 ps</td>\n",
       "      <td>66.9 ps</td>\n",
       "      <td>80.4 ps</td>\n",
       "    </tr>\n",
       "    <tr>\n",
       "      <th>19</th>\n",
       "      <td>67.8 ps</td>\n",
       "      <td>69.6 ps</td>\n",
       "      <td>63.2 ps</td>\n",
       "      <td>67.4 ps</td>\n",
       "      <td>120.3 ps</td>\n",
       "      <td>113.3 ps</td>\n",
       "      <td>66.1 ps</td>\n",
       "      <td>62.6 ps</td>\n",
       "      <td>65.2 ps</td>\n",
       "      <td>75.1 ps</td>\n",
       "      <td>68.9 ps</td>\n",
       "      <td>69.5 ps</td>\n",
       "      <td>64.7 ps</td>\n",
       "      <td>66.0 ps</td>\n",
       "      <td>94.5 ps</td>\n",
       "      <td>109.0 ps</td>\n",
       "      <td>119.4 ps</td>\n",
       "      <td>106.1 ps</td>\n",
       "      <td>67.9 ps</td>\n",
       "      <td>68.2 ps</td>\n",
       "      <td>71.1 ps</td>\n",
       "      <td>73.5 ps</td>\n",
       "    </tr>\n",
       "    <tr>\n",
       "      <th>20</th>\n",
       "      <td>57.3 ps</td>\n",
       "      <td>64.4 ps</td>\n",
       "      <td>57.1 ps</td>\n",
       "      <td>58.8 ps</td>\n",
       "      <td>123.7 ps</td>\n",
       "      <td>116.2 ps</td>\n",
       "      <td>62.3 ps</td>\n",
       "      <td>63.2 ps</td>\n",
       "      <td>62.3 ps</td>\n",
       "      <td>79.1 ps</td>\n",
       "      <td>59.2 ps</td>\n",
       "      <td>64.6 ps</td>\n",
       "      <td>58.8 ps</td>\n",
       "      <td>59.7 ps</td>\n",
       "      <td>94.2 ps</td>\n",
       "      <td>107.8 ps</td>\n",
       "      <td>123.4 ps</td>\n",
       "      <td>109.1 ps</td>\n",
       "      <td>67.4 ps</td>\n",
       "      <td>62.1 ps</td>\n",
       "      <td>68.7 ps</td>\n",
       "      <td>73.2 ps</td>\n",
       "    </tr>\n",
       "    <tr>\n",
       "      <th>21</th>\n",
       "      <td>63.0 ps</td>\n",
       "      <td>65.6 ps</td>\n",
       "      <td>58.1 ps</td>\n",
       "      <td>59.9 ps</td>\n",
       "      <td>127.7 ps</td>\n",
       "      <td>113.9 ps</td>\n",
       "      <td>61.3 ps</td>\n",
       "      <td>63.1 ps</td>\n",
       "      <td>62.7 ps</td>\n",
       "      <td>84.5 ps</td>\n",
       "      <td>65.3 ps</td>\n",
       "      <td>60.9 ps</td>\n",
       "      <td>58.9 ps</td>\n",
       "      <td>59.0 ps</td>\n",
       "      <td>108.4 ps</td>\n",
       "      <td>120.2 ps</td>\n",
       "      <td>129.0 ps</td>\n",
       "      <td>107.9 ps</td>\n",
       "      <td>68.1 ps</td>\n",
       "      <td>63.3 ps</td>\n",
       "      <td>66.7 ps</td>\n",
       "      <td>75.0 ps</td>\n",
       "    </tr>\n",
       "    <tr>\n",
       "      <th>22</th>\n",
       "      <td>67.1 ps</td>\n",
       "      <td>73.6 ps</td>\n",
       "      <td>57.6 ps</td>\n",
       "      <td>58.4 ps</td>\n",
       "      <td>117.1 ps</td>\n",
       "      <td>116.7 ps</td>\n",
       "      <td>59.2 ps</td>\n",
       "      <td>61.6 ps</td>\n",
       "      <td>62.1 ps</td>\n",
       "      <td>106.6 ps</td>\n",
       "      <td>65.6 ps</td>\n",
       "      <td>70.3 ps</td>\n",
       "      <td>57.0 ps</td>\n",
       "      <td>56.9 ps</td>\n",
       "      <td>113.2 ps</td>\n",
       "      <td>125.5 ps</td>\n",
       "      <td>119.3 ps</td>\n",
       "      <td>113.3 ps</td>\n",
       "      <td>65.9 ps</td>\n",
       "      <td>62.1 ps</td>\n",
       "      <td>70.3 ps</td>\n",
       "      <td>85.7 ps</td>\n",
       "    </tr>\n",
       "    <tr>\n",
       "      <th>23</th>\n",
       "      <td>70.0 ps</td>\n",
       "      <td>86.3 ps</td>\n",
       "      <td>60.9 ps</td>\n",
       "      <td>56.6 ps</td>\n",
       "      <td>216.5 ps</td>\n",
       "      <td>215.6 ps</td>\n",
       "      <td>59.4 ps</td>\n",
       "      <td>65.1 ps</td>\n",
       "      <td>65.0 ps</td>\n",
       "      <td>164.0 ps</td>\n",
       "      <td>69.9 ps</td>\n",
       "      <td>85.9 ps</td>\n",
       "      <td>56.9 ps</td>\n",
       "      <td>56.4 ps</td>\n",
       "      <td>208.9 ps</td>\n",
       "      <td>230.2 ps</td>\n",
       "      <td>225.1 ps</td>\n",
       "      <td>167.4 ps</td>\n",
       "      <td>69.9 ps</td>\n",
       "      <td>65.0 ps</td>\n",
       "      <td>80.0 ps</td>\n",
       "      <td>100.1 ps</td>\n",
       "    </tr>\n",
       "    <tr>\n",
       "      <th>24</th>\n",
       "      <td>68.1 ps</td>\n",
       "      <td>70.9 ps</td>\n",
       "      <td>61.8 ps</td>\n",
       "      <td>62.7 ps</td>\n",
       "      <td>113.5 ps</td>\n",
       "      <td>103.4 ps</td>\n",
       "      <td>64.2 ps</td>\n",
       "      <td>64.3 ps</td>\n",
       "      <td>68.4 ps</td>\n",
       "      <td>86.9 ps</td>\n",
       "      <td>70.1 ps</td>\n",
       "      <td>74.5 ps</td>\n",
       "      <td>62.4 ps</td>\n",
       "      <td>61.5 ps</td>\n",
       "      <td>80.0 ps</td>\n",
       "      <td>97.8 ps</td>\n",
       "      <td>111.9 ps</td>\n",
       "      <td>91.9 ps</td>\n",
       "      <td>64.2 ps</td>\n",
       "      <td>66.0 ps</td>\n",
       "      <td>76.6 ps</td>\n",
       "      <td>81.9 ps</td>\n",
       "    </tr>\n",
       "    <tr>\n",
       "      <th>25</th>\n",
       "      <td>68.7 ps</td>\n",
       "      <td>71.9 ps</td>\n",
       "      <td>67.5 ps</td>\n",
       "      <td>69.9 ps</td>\n",
       "      <td>107.0 ps</td>\n",
       "      <td>100.4 ps</td>\n",
       "      <td>79.7 ps</td>\n",
       "      <td>72.4 ps</td>\n",
       "      <td>75.3 ps</td>\n",
       "      <td>85.6 ps</td>\n",
       "      <td>74.3 ps</td>\n",
       "      <td>75.6 ps</td>\n",
       "      <td>71.6 ps</td>\n",
       "      <td>72.7 ps</td>\n",
       "      <td>86.4 ps</td>\n",
       "      <td>96.9 ps</td>\n",
       "      <td>107.3 ps</td>\n",
       "      <td>100.5 ps</td>\n",
       "      <td>73.8 ps</td>\n",
       "      <td>75.2 ps</td>\n",
       "      <td>81.1 ps</td>\n",
       "      <td>85.2 ps</td>\n",
       "    </tr>\n",
       "    <tr>\n",
       "      <th>26</th>\n",
       "      <td>63.7 ps</td>\n",
       "      <td>70.4 ps</td>\n",
       "      <td>60.9 ps</td>\n",
       "      <td>61.6 ps</td>\n",
       "      <td>102.3 ps</td>\n",
       "      <td>98.0 ps</td>\n",
       "      <td>66.2 ps</td>\n",
       "      <td>63.4 ps</td>\n",
       "      <td>67.5 ps</td>\n",
       "      <td>86.3 ps</td>\n",
       "      <td>68.5 ps</td>\n",
       "      <td>69.6 ps</td>\n",
       "      <td>62.1 ps</td>\n",
       "      <td>62.5 ps</td>\n",
       "      <td>84.6 ps</td>\n",
       "      <td>98.1 ps</td>\n",
       "      <td>103.4 ps</td>\n",
       "      <td>94.3 ps</td>\n",
       "      <td>67.0 ps</td>\n",
       "      <td>65.2 ps</td>\n",
       "      <td>74.1 ps</td>\n",
       "      <td>81.1 ps</td>\n",
       "    </tr>\n",
       "    <tr>\n",
       "      <th>27</th>\n",
       "      <td>83.9 ps</td>\n",
       "      <td>84.7 ps</td>\n",
       "      <td>75.0 ps</td>\n",
       "      <td>72.5 ps</td>\n",
       "      <td>118.5 ps</td>\n",
       "      <td>108.7 ps</td>\n",
       "      <td>69.2 ps</td>\n",
       "      <td>71.5 ps</td>\n",
       "      <td>74.8 ps</td>\n",
       "      <td>103.5 ps</td>\n",
       "      <td>80.9 ps</td>\n",
       "      <td>91.8 ps</td>\n",
       "      <td>69.2 ps</td>\n",
       "      <td>71.0 ps</td>\n",
       "      <td>82.9 ps</td>\n",
       "      <td>102.6 ps</td>\n",
       "      <td>113.0 ps</td>\n",
       "      <td>89.1 ps</td>\n",
       "      <td>68.2 ps</td>\n",
       "      <td>73.4 ps</td>\n",
       "      <td>86.4 ps</td>\n",
       "      <td>91.2 ps</td>\n",
       "    </tr>\n",
       "    <tr>\n",
       "      <th>28</th>\n",
       "      <td>69.5 ps</td>\n",
       "      <td>75.2 ps</td>\n",
       "      <td>60.0 ps</td>\n",
       "      <td>57.4 ps</td>\n",
       "      <td>110.6 ps</td>\n",
       "      <td>102.4 ps</td>\n",
       "      <td>56.5 ps</td>\n",
       "      <td>58.4 ps</td>\n",
       "      <td>63.8 ps</td>\n",
       "      <td>81.6 ps</td>\n",
       "      <td>68.3 ps</td>\n",
       "      <td>67.3 ps</td>\n",
       "      <td>60.6 ps</td>\n",
       "      <td>57.9 ps</td>\n",
       "      <td>87.7 ps</td>\n",
       "      <td>100.5 ps</td>\n",
       "      <td>109.2 ps</td>\n",
       "      <td>97.9 ps</td>\n",
       "      <td>60.6 ps</td>\n",
       "      <td>61.8 ps</td>\n",
       "      <td>66.2 ps</td>\n",
       "      <td>79.7 ps</td>\n",
       "    </tr>\n",
       "    <tr>\n",
       "      <th>29</th>\n",
       "      <td>68.8 ps</td>\n",
       "      <td>76.1 ps</td>\n",
       "      <td>57.9 ps</td>\n",
       "      <td>59.4 ps</td>\n",
       "      <td>130.3 ps</td>\n",
       "      <td>121.9 ps</td>\n",
       "      <td>59.5 ps</td>\n",
       "      <td>59.4 ps</td>\n",
       "      <td>62.6 ps</td>\n",
       "      <td>99.4 ps</td>\n",
       "      <td>66.4 ps</td>\n",
       "      <td>69.6 ps</td>\n",
       "      <td>58.3 ps</td>\n",
       "      <td>58.5 ps</td>\n",
       "      <td>102.4 ps</td>\n",
       "      <td>123.1 ps</td>\n",
       "      <td>128.0 ps</td>\n",
       "      <td>110.1 ps</td>\n",
       "      <td>62.8 ps</td>\n",
       "      <td>60.6 ps</td>\n",
       "      <td>65.4 ps</td>\n",
       "      <td>83.9 ps</td>\n",
       "    </tr>\n",
       "    <tr>\n",
       "      <th>30</th>\n",
       "      <td>66.6 ps</td>\n",
       "      <td>68.2 ps</td>\n",
       "      <td>61.0 ps</td>\n",
       "      <td>60.5 ps</td>\n",
       "      <td>113.8 ps</td>\n",
       "      <td>106.0 ps</td>\n",
       "      <td>57.3 ps</td>\n",
       "      <td>60.4 ps</td>\n",
       "      <td>60.0 ps</td>\n",
       "      <td>84.7 ps</td>\n",
       "      <td>66.8 ps</td>\n",
       "      <td>64.0 ps</td>\n",
       "      <td>59.0 ps</td>\n",
       "      <td>59.4 ps</td>\n",
       "      <td>92.5 ps</td>\n",
       "      <td>101.3 ps</td>\n",
       "      <td>110.3 ps</td>\n",
       "      <td>103.2 ps</td>\n",
       "      <td>65.9 ps</td>\n",
       "      <td>60.9 ps</td>\n",
       "      <td>61.0 ps</td>\n",
       "      <td>78.9 ps</td>\n",
       "    </tr>\n",
       "    <tr>\n",
       "      <th>31</th>\n",
       "      <td>61.7 ps</td>\n",
       "      <td>68.7 ps</td>\n",
       "      <td>60.7 ps</td>\n",
       "      <td>60.0 ps</td>\n",
       "      <td>123.8 ps</td>\n",
       "      <td>114.3 ps</td>\n",
       "      <td>58.3 ps</td>\n",
       "      <td>61.4 ps</td>\n",
       "      <td>61.1 ps</td>\n",
       "      <td>77.0 ps</td>\n",
       "      <td>65.6 ps</td>\n",
       "      <td>64.9 ps</td>\n",
       "      <td>57.9 ps</td>\n",
       "      <td>59.3 ps</td>\n",
       "      <td>101.1 ps</td>\n",
       "      <td>109.7 ps</td>\n",
       "      <td>125.0 ps</td>\n",
       "      <td>112.6 ps</td>\n",
       "      <td>66.4 ps</td>\n",
       "      <td>61.7 ps</td>\n",
       "      <td>65.6 ps</td>\n",
       "      <td>64.2 ps</td>\n",
       "    </tr>\n",
       "  </tbody>\n",
       "</table>\n",
       "</div>"
      ],
      "text/plain": [
       "                              8        9       10       11        13  \\\n",
       "trained on \\ tested on                                                 \n",
       "8                       56.3 ps  65.5 ps  57.7 ps  59.4 ps  133.3 ps   \n",
       "9                       61.3 ps  62.3 ps  57.6 ps  59.4 ps  115.8 ps   \n",
       "10                      65.2 ps  68.3 ps  56.5 ps  58.8 ps  111.3 ps   \n",
       "11                      68.3 ps  77.2 ps  57.9 ps  56.0 ps  149.1 ps   \n",
       "13                      68.7 ps  75.8 ps  68.4 ps  72.4 ps   99.8 ps   \n",
       "14                      73.1 ps  74.1 ps  69.2 ps  75.6 ps  102.1 ps   \n",
       "16                      73.9 ps  82.3 ps  63.5 ps  58.0 ps  136.5 ps   \n",
       "17                      73.1 ps  73.9 ps  58.5 ps  60.5 ps  111.9 ps   \n",
       "18                      69.5 ps  71.8 ps  62.7 ps  62.4 ps  149.2 ps   \n",
       "19                      67.8 ps  69.6 ps  63.2 ps  67.4 ps  120.3 ps   \n",
       "20                      57.3 ps  64.4 ps  57.1 ps  58.8 ps  123.7 ps   \n",
       "21                      63.0 ps  65.6 ps  58.1 ps  59.9 ps  127.7 ps   \n",
       "22                      67.1 ps  73.6 ps  57.6 ps  58.4 ps  117.1 ps   \n",
       "23                      70.0 ps  86.3 ps  60.9 ps  56.6 ps  216.5 ps   \n",
       "24                      68.1 ps  70.9 ps  61.8 ps  62.7 ps  113.5 ps   \n",
       "25                      68.7 ps  71.9 ps  67.5 ps  69.9 ps  107.0 ps   \n",
       "26                      63.7 ps  70.4 ps  60.9 ps  61.6 ps  102.3 ps   \n",
       "27                      83.9 ps  84.7 ps  75.0 ps  72.5 ps  118.5 ps   \n",
       "28                      69.5 ps  75.2 ps  60.0 ps  57.4 ps  110.6 ps   \n",
       "29                      68.8 ps  76.1 ps  57.9 ps  59.4 ps  130.3 ps   \n",
       "30                      66.6 ps  68.2 ps  61.0 ps  60.5 ps  113.8 ps   \n",
       "31                      61.7 ps  68.7 ps  60.7 ps  60.0 ps  123.8 ps   \n",
       "\n",
       "                              14       16       17       18        19  \\\n",
       "trained on \\ tested on                                                  \n",
       "8                       126.5 ps  65.2 ps  65.6 ps  66.8 ps   85.6 ps   \n",
       "9                       113.9 ps  66.7 ps  65.0 ps  68.0 ps   84.7 ps   \n",
       "10                      107.7 ps  66.9 ps  63.0 ps  66.2 ps   90.6 ps   \n",
       "11                      141.8 ps  58.7 ps  62.6 ps  66.5 ps  109.2 ps   \n",
       "13                       98.8 ps  83.7 ps  72.9 ps  79.1 ps   90.6 ps   \n",
       "14                       94.3 ps  81.2 ps  68.9 ps  73.9 ps   84.0 ps   \n",
       "16                      128.7 ps  52.8 ps  60.7 ps  63.8 ps  110.6 ps   \n",
       "17                      104.2 ps  58.6 ps  58.3 ps  64.0 ps   88.8 ps   \n",
       "18                      143.3 ps  60.8 ps  63.1 ps  60.2 ps   96.0 ps   \n",
       "19                      113.3 ps  66.1 ps  62.6 ps  65.2 ps   75.1 ps   \n",
       "20                      116.2 ps  62.3 ps  63.2 ps  62.3 ps   79.1 ps   \n",
       "21                      113.9 ps  61.3 ps  63.1 ps  62.7 ps   84.5 ps   \n",
       "22                      116.7 ps  59.2 ps  61.6 ps  62.1 ps  106.6 ps   \n",
       "23                      215.6 ps  59.4 ps  65.1 ps  65.0 ps  164.0 ps   \n",
       "24                      103.4 ps  64.2 ps  64.3 ps  68.4 ps   86.9 ps   \n",
       "25                      100.4 ps  79.7 ps  72.4 ps  75.3 ps   85.6 ps   \n",
       "26                       98.0 ps  66.2 ps  63.4 ps  67.5 ps   86.3 ps   \n",
       "27                      108.7 ps  69.2 ps  71.5 ps  74.8 ps  103.5 ps   \n",
       "28                      102.4 ps  56.5 ps  58.4 ps  63.8 ps   81.6 ps   \n",
       "29                      121.9 ps  59.5 ps  59.4 ps  62.6 ps   99.4 ps   \n",
       "30                      106.0 ps  57.3 ps  60.4 ps  60.0 ps   84.7 ps   \n",
       "31                      114.3 ps  58.3 ps  61.4 ps  61.1 ps   77.0 ps   \n",
       "\n",
       "                             20       21       22       23        24  \\\n",
       "trained on \\ tested on                                                 \n",
       "8                       62.5 ps  69.7 ps  59.7 ps  60.6 ps  100.2 ps   \n",
       "9                       65.8 ps  65.5 ps  60.8 ps  62.0 ps   99.5 ps   \n",
       "10                      67.7 ps  65.1 ps  60.3 ps  60.6 ps   93.6 ps   \n",
       "11                      68.5 ps  71.8 ps  57.7 ps  57.1 ps   97.9 ps   \n",
       "13                      72.7 ps  75.4 ps  74.9 ps  74.8 ps   88.8 ps   \n",
       "14                      72.6 ps  75.8 ps  73.6 ps  75.7 ps   90.1 ps   \n",
       "16                      67.6 ps  75.9 ps  57.7 ps  55.6 ps  118.1 ps   \n",
       "17                      73.2 ps  69.9 ps  58.7 ps  58.6 ps   87.5 ps   \n",
       "18                      67.7 ps  69.8 ps  61.2 ps  63.1 ps  118.2 ps   \n",
       "19                      68.9 ps  69.5 ps  64.7 ps  66.0 ps   94.5 ps   \n",
       "20                      59.2 ps  64.6 ps  58.8 ps  59.7 ps   94.2 ps   \n",
       "21                      65.3 ps  60.9 ps  58.9 ps  59.0 ps  108.4 ps   \n",
       "22                      65.6 ps  70.3 ps  57.0 ps  56.9 ps  113.2 ps   \n",
       "23                      69.9 ps  85.9 ps  56.9 ps  56.4 ps  208.9 ps   \n",
       "24                      70.1 ps  74.5 ps  62.4 ps  61.5 ps   80.0 ps   \n",
       "25                      74.3 ps  75.6 ps  71.6 ps  72.7 ps   86.4 ps   \n",
       "26                      68.5 ps  69.6 ps  62.1 ps  62.5 ps   84.6 ps   \n",
       "27                      80.9 ps  91.8 ps  69.2 ps  71.0 ps   82.9 ps   \n",
       "28                      68.3 ps  67.3 ps  60.6 ps  57.9 ps   87.7 ps   \n",
       "29                      66.4 ps  69.6 ps  58.3 ps  58.5 ps  102.4 ps   \n",
       "30                      66.8 ps  64.0 ps  59.0 ps  59.4 ps   92.5 ps   \n",
       "31                      65.6 ps  64.9 ps  57.9 ps  59.3 ps  101.1 ps   \n",
       "\n",
       "                              25        26        27       28       29  \\\n",
       "trained on \\ tested on                                                   \n",
       "8                       111.0 ps  137.4 ps  122.9 ps  73.3 ps  67.9 ps   \n",
       "9                       106.0 ps  124.8 ps  126.5 ps  72.1 ps  68.7 ps   \n",
       "10                      103.0 ps  114.1 ps  113.8 ps  69.9 ps  68.3 ps   \n",
       "11                      117.5 ps  157.5 ps  108.9 ps  67.7 ps  66.0 ps   \n",
       "13                       99.8 ps  108.7 ps  103.4 ps  80.3 ps  82.6 ps   \n",
       "14                       99.1 ps  104.2 ps   97.7 ps  74.8 ps  77.8 ps   \n",
       "16                      132.8 ps  125.9 ps  113.5 ps  64.7 ps  62.2 ps   \n",
       "17                      103.7 ps  112.5 ps   98.8 ps  62.3 ps  63.8 ps   \n",
       "18                      137.0 ps  138.6 ps  128.1 ps  70.6 ps  65.1 ps   \n",
       "19                      109.0 ps  119.4 ps  106.1 ps  67.9 ps  68.2 ps   \n",
       "20                      107.8 ps  123.4 ps  109.1 ps  67.4 ps  62.1 ps   \n",
       "21                      120.2 ps  129.0 ps  107.9 ps  68.1 ps  63.3 ps   \n",
       "22                      125.5 ps  119.3 ps  113.3 ps  65.9 ps  62.1 ps   \n",
       "23                      230.2 ps  225.1 ps  167.4 ps  69.9 ps  65.0 ps   \n",
       "24                       97.8 ps  111.9 ps   91.9 ps  64.2 ps  66.0 ps   \n",
       "25                       96.9 ps  107.3 ps  100.5 ps  73.8 ps  75.2 ps   \n",
       "26                       98.1 ps  103.4 ps   94.3 ps  67.0 ps  65.2 ps   \n",
       "27                      102.6 ps  113.0 ps   89.1 ps  68.2 ps  73.4 ps   \n",
       "28                      100.5 ps  109.2 ps   97.9 ps  60.6 ps  61.8 ps   \n",
       "29                      123.1 ps  128.0 ps  110.1 ps  62.8 ps  60.6 ps   \n",
       "30                      101.3 ps  110.3 ps  103.2 ps  65.9 ps  60.9 ps   \n",
       "31                      109.7 ps  125.0 ps  112.6 ps  66.4 ps  61.7 ps   \n",
       "\n",
       "                             30        31  \n",
       "trained on \\ tested on                     \n",
       "8                       80.9 ps   81.6 ps  \n",
       "9                       77.3 ps   85.0 ps  \n",
       "10                      74.5 ps   84.8 ps  \n",
       "11                      77.5 ps   89.9 ps  \n",
       "13                      89.7 ps   90.5 ps  \n",
       "14                      77.2 ps   81.8 ps  \n",
       "16                      69.6 ps   77.2 ps  \n",
       "17                      67.3 ps   88.6 ps  \n",
       "18                      66.9 ps   80.4 ps  \n",
       "19                      71.1 ps   73.5 ps  \n",
       "20                      68.7 ps   73.2 ps  \n",
       "21                      66.7 ps   75.0 ps  \n",
       "22                      70.3 ps   85.7 ps  \n",
       "23                      80.0 ps  100.1 ps  \n",
       "24                      76.6 ps   81.9 ps  \n",
       "25                      81.1 ps   85.2 ps  \n",
       "26                      74.1 ps   81.1 ps  \n",
       "27                      86.4 ps   91.2 ps  \n",
       "28                      66.2 ps   79.7 ps  \n",
       "29                      65.4 ps   83.9 ps  \n",
       "30                      61.0 ps   78.9 ps  \n",
       "31                      65.6 ps   64.2 ps  "
      ]
     },
     "metadata": {},
     "output_type": "display_data"
    }
   ],
   "source": [
    "improv_data = np.array([list(f'{std * 1000:0.1f} ps' for x, std in r.values()) for r in results.values()])\n",
    "\n",
    "df = pd.DataFrame(improv_data, index=row_names, columns=col_names)\n",
    "df.index.name = 'trained on \\ tested on'\n",
    "with pd.option_context('display.max_columns', None):\n",
    "    display(df)"
   ]
  },
  {
   "cell_type": "code",
   "execution_count": 16,
   "id": "376d4f11-c7b2-423d-bcc8-41128ee4d385",
   "metadata": {
    "tags": []
   },
   "outputs": [
    {
     "data": {
      "text/html": [
       "<div>\n",
       "<style scoped>\n",
       "    .dataframe tbody tr th:only-of-type {\n",
       "        vertical-align: middle;\n",
       "    }\n",
       "\n",
       "    .dataframe tbody tr th {\n",
       "        vertical-align: top;\n",
       "    }\n",
       "\n",
       "    .dataframe thead th {\n",
       "        text-align: right;\n",
       "    }\n",
       "</style>\n",
       "<table border=\"1\" class=\"dataframe\">\n",
       "  <thead>\n",
       "    <tr style=\"text-align: right;\">\n",
       "      <th></th>\n",
       "      <th>8</th>\n",
       "      <th>9</th>\n",
       "      <th>10</th>\n",
       "      <th>11</th>\n",
       "      <th>13</th>\n",
       "      <th>14</th>\n",
       "      <th>16</th>\n",
       "      <th>17</th>\n",
       "      <th>18</th>\n",
       "      <th>19</th>\n",
       "      <th>20</th>\n",
       "      <th>21</th>\n",
       "      <th>22</th>\n",
       "      <th>23</th>\n",
       "      <th>24</th>\n",
       "      <th>25</th>\n",
       "      <th>26</th>\n",
       "      <th>27</th>\n",
       "      <th>28</th>\n",
       "      <th>29</th>\n",
       "      <th>30</th>\n",
       "      <th>31</th>\n",
       "    </tr>\n",
       "    <tr>\n",
       "      <th>trained on \\ tested on</th>\n",
       "      <th></th>\n",
       "      <th></th>\n",
       "      <th></th>\n",
       "      <th></th>\n",
       "      <th></th>\n",
       "      <th></th>\n",
       "      <th></th>\n",
       "      <th></th>\n",
       "      <th></th>\n",
       "      <th></th>\n",
       "      <th></th>\n",
       "      <th></th>\n",
       "      <th></th>\n",
       "      <th></th>\n",
       "      <th></th>\n",
       "      <th></th>\n",
       "      <th></th>\n",
       "      <th></th>\n",
       "      <th></th>\n",
       "      <th></th>\n",
       "      <th></th>\n",
       "      <th></th>\n",
       "    </tr>\n",
       "  </thead>\n",
       "  <tbody>\n",
       "    <tr>\n",
       "      <th>8</th>\n",
       "      <td>20 %</td>\n",
       "      <td>8 %</td>\n",
       "      <td>9 %</td>\n",
       "      <td>10 %</td>\n",
       "      <td>-9 %</td>\n",
       "      <td>-8 %</td>\n",
       "      <td>6 %</td>\n",
       "      <td>8 %</td>\n",
       "      <td>3 %</td>\n",
       "      <td>2 %</td>\n",
       "      <td>7 %</td>\n",
       "      <td>-4 %</td>\n",
       "      <td>7 %</td>\n",
       "      <td>5 %</td>\n",
       "      <td>-7 %</td>\n",
       "      <td>-4 %</td>\n",
       "      <td>-15 %</td>\n",
       "      <td>-11 %</td>\n",
       "      <td>4 %</td>\n",
       "      <td>2 %</td>\n",
       "      <td>-11 %</td>\n",
       "      <td>-3 %</td>\n",
       "    </tr>\n",
       "    <tr>\n",
       "      <th>9</th>\n",
       "      <td>13 %</td>\n",
       "      <td>13 %</td>\n",
       "      <td>9 %</td>\n",
       "      <td>10 %</td>\n",
       "      <td>5 %</td>\n",
       "      <td>3 %</td>\n",
       "      <td>3 %</td>\n",
       "      <td>9 %</td>\n",
       "      <td>1 %</td>\n",
       "      <td>3 %</td>\n",
       "      <td>2 %</td>\n",
       "      <td>2 %</td>\n",
       "      <td>5 %</td>\n",
       "      <td>3 %</td>\n",
       "      <td>-6 %</td>\n",
       "      <td>1 %</td>\n",
       "      <td>-4 %</td>\n",
       "      <td>-14 %</td>\n",
       "      <td>5 %</td>\n",
       "      <td>1 %</td>\n",
       "      <td>-6 %</td>\n",
       "      <td>-7 %</td>\n",
       "    </tr>\n",
       "    <tr>\n",
       "      <th>10</th>\n",
       "      <td>8 %</td>\n",
       "      <td>5 %</td>\n",
       "      <td>11 %</td>\n",
       "      <td>11 %</td>\n",
       "      <td>9 %</td>\n",
       "      <td>8 %</td>\n",
       "      <td>3 %</td>\n",
       "      <td>12 %</td>\n",
       "      <td>4 %</td>\n",
       "      <td>-3 %</td>\n",
       "      <td>-1 %</td>\n",
       "      <td>2 %</td>\n",
       "      <td>6 %</td>\n",
       "      <td>5 %</td>\n",
       "      <td>-0 %</td>\n",
       "      <td>3 %</td>\n",
       "      <td>5 %</td>\n",
       "      <td>-3 %</td>\n",
       "      <td>8 %</td>\n",
       "      <td>2 %</td>\n",
       "      <td>-2 %</td>\n",
       "      <td>-7 %</td>\n",
       "    </tr>\n",
       "    <tr>\n",
       "      <th>11</th>\n",
       "      <td>3 %</td>\n",
       "      <td>-8 %</td>\n",
       "      <td>9 %</td>\n",
       "      <td>15 %</td>\n",
       "      <td>-22 %</td>\n",
       "      <td>-21 %</td>\n",
       "      <td>15 %</td>\n",
       "      <td>13 %</td>\n",
       "      <td>4 %</td>\n",
       "      <td>-25 %</td>\n",
       "      <td>-2 %</td>\n",
       "      <td>-8 %</td>\n",
       "      <td>10 %</td>\n",
       "      <td>11 %</td>\n",
       "      <td>-5 %</td>\n",
       "      <td>-10 %</td>\n",
       "      <td>-31 %</td>\n",
       "      <td>2 %</td>\n",
       "      <td>11 %</td>\n",
       "      <td>5 %</td>\n",
       "      <td>-6 %</td>\n",
       "      <td>-13 %</td>\n",
       "    </tr>\n",
       "    <tr>\n",
       "      <th>13</th>\n",
       "      <td>3 %</td>\n",
       "      <td>-6 %</td>\n",
       "      <td>-8 %</td>\n",
       "      <td>-10 %</td>\n",
       "      <td>18 %</td>\n",
       "      <td>16 %</td>\n",
       "      <td>-21 %</td>\n",
       "      <td>-2 %</td>\n",
       "      <td>-15 %</td>\n",
       "      <td>-3 %</td>\n",
       "      <td>-8 %</td>\n",
       "      <td>-13 %</td>\n",
       "      <td>-17 %</td>\n",
       "      <td>-17 %</td>\n",
       "      <td>5 %</td>\n",
       "      <td>6 %</td>\n",
       "      <td>9 %</td>\n",
       "      <td>7 %</td>\n",
       "      <td>-5 %</td>\n",
       "      <td>-19 %</td>\n",
       "      <td>-23 %</td>\n",
       "      <td>-14 %</td>\n",
       "    </tr>\n",
       "    <tr>\n",
       "      <th>14</th>\n",
       "      <td>-3 %</td>\n",
       "      <td>-4 %</td>\n",
       "      <td>-9 %</td>\n",
       "      <td>-14 %</td>\n",
       "      <td>16 %</td>\n",
       "      <td>20 %</td>\n",
       "      <td>-18 %</td>\n",
       "      <td>4 %</td>\n",
       "      <td>-7 %</td>\n",
       "      <td>4 %</td>\n",
       "      <td>-8 %</td>\n",
       "      <td>-14 %</td>\n",
       "      <td>-15 %</td>\n",
       "      <td>-19 %</td>\n",
       "      <td>4 %</td>\n",
       "      <td>7 %</td>\n",
       "      <td>13 %</td>\n",
       "      <td>12 %</td>\n",
       "      <td>2 %</td>\n",
       "      <td>-12 %</td>\n",
       "      <td>-6 %</td>\n",
       "      <td>-3 %</td>\n",
       "    </tr>\n",
       "    <tr>\n",
       "      <th>16</th>\n",
       "      <td>-4 %</td>\n",
       "      <td>-15 %</td>\n",
       "      <td>0 %</td>\n",
       "      <td>12 %</td>\n",
       "      <td>-12 %</td>\n",
       "      <td>-10 %</td>\n",
       "      <td>24 %</td>\n",
       "      <td>15 %</td>\n",
       "      <td>7 %</td>\n",
       "      <td>-26 %</td>\n",
       "      <td>-1 %</td>\n",
       "      <td>-14 %</td>\n",
       "      <td>10 %</td>\n",
       "      <td>13 %</td>\n",
       "      <td>-26 %</td>\n",
       "      <td>-24 %</td>\n",
       "      <td>-5 %</td>\n",
       "      <td>-2 %</td>\n",
       "      <td>15 %</td>\n",
       "      <td>10 %</td>\n",
       "      <td>5 %</td>\n",
       "      <td>3 %</td>\n",
       "    </tr>\n",
       "    <tr>\n",
       "      <th>17</th>\n",
       "      <td>-3 %</td>\n",
       "      <td>-3 %</td>\n",
       "      <td>8 %</td>\n",
       "      <td>8 %</td>\n",
       "      <td>8 %</td>\n",
       "      <td>11 %</td>\n",
       "      <td>15 %</td>\n",
       "      <td>19 %</td>\n",
       "      <td>7 %</td>\n",
       "      <td>-1 %</td>\n",
       "      <td>-9 %</td>\n",
       "      <td>-5 %</td>\n",
       "      <td>9 %</td>\n",
       "      <td>8 %</td>\n",
       "      <td>6 %</td>\n",
       "      <td>3 %</td>\n",
       "      <td>6 %</td>\n",
       "      <td>11 %</td>\n",
       "      <td>18 %</td>\n",
       "      <td>8 %</td>\n",
       "      <td>8 %</td>\n",
       "      <td>-12 %</td>\n",
       "    </tr>\n",
       "    <tr>\n",
       "      <th>18</th>\n",
       "      <td>2 %</td>\n",
       "      <td>-0 %</td>\n",
       "      <td>1 %</td>\n",
       "      <td>6 %</td>\n",
       "      <td>-23 %</td>\n",
       "      <td>-22 %</td>\n",
       "      <td>12 %</td>\n",
       "      <td>12 %</td>\n",
       "      <td>13 %</td>\n",
       "      <td>-10 %</td>\n",
       "      <td>-1 %</td>\n",
       "      <td>-5 %</td>\n",
       "      <td>5 %</td>\n",
       "      <td>1 %</td>\n",
       "      <td>-27 %</td>\n",
       "      <td>-28 %</td>\n",
       "      <td>-16 %</td>\n",
       "      <td>-16 %</td>\n",
       "      <td>7 %</td>\n",
       "      <td>6 %</td>\n",
       "      <td>8 %</td>\n",
       "      <td>-1 %</td>\n",
       "    </tr>\n",
       "    <tr>\n",
       "      <th>19</th>\n",
       "      <td>4 %</td>\n",
       "      <td>3 %</td>\n",
       "      <td>1 %</td>\n",
       "      <td>-2 %</td>\n",
       "      <td>1 %</td>\n",
       "      <td>3 %</td>\n",
       "      <td>4 %</td>\n",
       "      <td>13 %</td>\n",
       "      <td>5 %</td>\n",
       "      <td>14 %</td>\n",
       "      <td>-2 %</td>\n",
       "      <td>-4 %</td>\n",
       "      <td>-1 %</td>\n",
       "      <td>-3 %</td>\n",
       "      <td>-1 %</td>\n",
       "      <td>-2 %</td>\n",
       "      <td>0 %</td>\n",
       "      <td>4 %</td>\n",
       "      <td>11 %</td>\n",
       "      <td>2 %</td>\n",
       "      <td>3 %</td>\n",
       "      <td>7 %</td>\n",
       "    </tr>\n",
       "    <tr>\n",
       "      <th>20</th>\n",
       "      <td>19 %</td>\n",
       "      <td>10 %</td>\n",
       "      <td>10 %</td>\n",
       "      <td>11 %</td>\n",
       "      <td>-2 %</td>\n",
       "      <td>1 %</td>\n",
       "      <td>10 %</td>\n",
       "      <td>12 %</td>\n",
       "      <td>10 %</td>\n",
       "      <td>10 %</td>\n",
       "      <td>12 %</td>\n",
       "      <td>3 %</td>\n",
       "      <td>8 %</td>\n",
       "      <td>7 %</td>\n",
       "      <td>-1 %</td>\n",
       "      <td>-1 %</td>\n",
       "      <td>-3 %</td>\n",
       "      <td>2 %</td>\n",
       "      <td>11 %</td>\n",
       "      <td>11 %</td>\n",
       "      <td>6 %</td>\n",
       "      <td>8 %</td>\n",
       "    </tr>\n",
       "    <tr>\n",
       "      <th>21</th>\n",
       "      <td>11 %</td>\n",
       "      <td>8 %</td>\n",
       "      <td>9 %</td>\n",
       "      <td>9 %</td>\n",
       "      <td>-5 %</td>\n",
       "      <td>3 %</td>\n",
       "      <td>11 %</td>\n",
       "      <td>12 %</td>\n",
       "      <td>9 %</td>\n",
       "      <td>3 %</td>\n",
       "      <td>3 %</td>\n",
       "      <td>9 %</td>\n",
       "      <td>8 %</td>\n",
       "      <td>8 %</td>\n",
       "      <td>-16 %</td>\n",
       "      <td>-13 %</td>\n",
       "      <td>-8 %</td>\n",
       "      <td>3 %</td>\n",
       "      <td>11 %</td>\n",
       "      <td>9 %</td>\n",
       "      <td>9 %</td>\n",
       "      <td>6 %</td>\n",
       "    </tr>\n",
       "    <tr>\n",
       "      <th>22</th>\n",
       "      <td>5 %</td>\n",
       "      <td>-3 %</td>\n",
       "      <td>9 %</td>\n",
       "      <td>12 %</td>\n",
       "      <td>4 %</td>\n",
       "      <td>1 %</td>\n",
       "      <td>14 %</td>\n",
       "      <td>14 %</td>\n",
       "      <td>10 %</td>\n",
       "      <td>-22 %</td>\n",
       "      <td>2 %</td>\n",
       "      <td>-5 %</td>\n",
       "      <td>11 %</td>\n",
       "      <td>11 %</td>\n",
       "      <td>-21 %</td>\n",
       "      <td>-18 %</td>\n",
       "      <td>1 %</td>\n",
       "      <td>-2 %</td>\n",
       "      <td>13 %</td>\n",
       "      <td>11 %</td>\n",
       "      <td>4 %</td>\n",
       "      <td>-8 %</td>\n",
       "    </tr>\n",
       "    <tr>\n",
       "      <th>23</th>\n",
       "      <td>1 %</td>\n",
       "      <td>-21 %</td>\n",
       "      <td>4 %</td>\n",
       "      <td>14 %</td>\n",
       "      <td>-78 %</td>\n",
       "      <td>-84 %</td>\n",
       "      <td>14 %</td>\n",
       "      <td>9 %</td>\n",
       "      <td>6 %</td>\n",
       "      <td>-87 %</td>\n",
       "      <td>-4 %</td>\n",
       "      <td>-29 %</td>\n",
       "      <td>11 %</td>\n",
       "      <td>12 %</td>\n",
       "      <td>-124 %</td>\n",
       "      <td>-116 %</td>\n",
       "      <td>-88 %</td>\n",
       "      <td>-51 %</td>\n",
       "      <td>8 %</td>\n",
       "      <td>6 %</td>\n",
       "      <td>-9 %</td>\n",
       "      <td>-26 %</td>\n",
       "    </tr>\n",
       "    <tr>\n",
       "      <th>24</th>\n",
       "      <td>4 %</td>\n",
       "      <td>1 %</td>\n",
       "      <td>3 %</td>\n",
       "      <td>5 %</td>\n",
       "      <td>7 %</td>\n",
       "      <td>12 %</td>\n",
       "      <td>7 %</td>\n",
       "      <td>10 %</td>\n",
       "      <td>1 %</td>\n",
       "      <td>1 %</td>\n",
       "      <td>-4 %</td>\n",
       "      <td>-12 %</td>\n",
       "      <td>3 %</td>\n",
       "      <td>4 %</td>\n",
       "      <td>14 %</td>\n",
       "      <td>8 %</td>\n",
       "      <td>7 %</td>\n",
       "      <td>17 %</td>\n",
       "      <td>16 %</td>\n",
       "      <td>5 %</td>\n",
       "      <td>-5 %</td>\n",
       "      <td>-3 %</td>\n",
       "    </tr>\n",
       "    <tr>\n",
       "      <th>25</th>\n",
       "      <td>3 %</td>\n",
       "      <td>-0 %</td>\n",
       "      <td>-6 %</td>\n",
       "      <td>-6 %</td>\n",
       "      <td>12 %</td>\n",
       "      <td>14 %</td>\n",
       "      <td>-15 %</td>\n",
       "      <td>-1 %</td>\n",
       "      <td>-9 %</td>\n",
       "      <td>2 %</td>\n",
       "      <td>-11 %</td>\n",
       "      <td>-13 %</td>\n",
       "      <td>-12 %</td>\n",
       "      <td>-14 %</td>\n",
       "      <td>7 %</td>\n",
       "      <td>9 %</td>\n",
       "      <td>11 %</td>\n",
       "      <td>9 %</td>\n",
       "      <td>3 %</td>\n",
       "      <td>-8 %</td>\n",
       "      <td>-11 %</td>\n",
       "      <td>-7 %</td>\n",
       "    </tr>\n",
       "    <tr>\n",
       "      <th>26</th>\n",
       "      <td>10 %</td>\n",
       "      <td>2 %</td>\n",
       "      <td>4 %</td>\n",
       "      <td>7 %</td>\n",
       "      <td>16 %</td>\n",
       "      <td>16 %</td>\n",
       "      <td>4 %</td>\n",
       "      <td>12 %</td>\n",
       "      <td>2 %</td>\n",
       "      <td>1 %</td>\n",
       "      <td>-2 %</td>\n",
       "      <td>-4 %</td>\n",
       "      <td>3 %</td>\n",
       "      <td>2 %</td>\n",
       "      <td>9 %</td>\n",
       "      <td>8 %</td>\n",
       "      <td>14 %</td>\n",
       "      <td>15 %</td>\n",
       "      <td>12 %</td>\n",
       "      <td>6 %</td>\n",
       "      <td>-1 %</td>\n",
       "      <td>-2 %</td>\n",
       "    </tr>\n",
       "    <tr>\n",
       "      <th>27</th>\n",
       "      <td>-19 %</td>\n",
       "      <td>-18 %</td>\n",
       "      <td>-18 %</td>\n",
       "      <td>-10 %</td>\n",
       "      <td>3 %</td>\n",
       "      <td>7 %</td>\n",
       "      <td>-0 %</td>\n",
       "      <td>0 %</td>\n",
       "      <td>-8 %</td>\n",
       "      <td>-18 %</td>\n",
       "      <td>-20 %</td>\n",
       "      <td>-38 %</td>\n",
       "      <td>-8 %</td>\n",
       "      <td>-11 %</td>\n",
       "      <td>11 %</td>\n",
       "      <td>4 %</td>\n",
       "      <td>6 %</td>\n",
       "      <td>20 %</td>\n",
       "      <td>10 %</td>\n",
       "      <td>-6 %</td>\n",
       "      <td>-18 %</td>\n",
       "      <td>-15 %</td>\n",
       "    </tr>\n",
       "    <tr>\n",
       "      <th>28</th>\n",
       "      <td>2 %</td>\n",
       "      <td>-5 %</td>\n",
       "      <td>6 %</td>\n",
       "      <td>13 %</td>\n",
       "      <td>9 %</td>\n",
       "      <td>13 %</td>\n",
       "      <td>18 %</td>\n",
       "      <td>18 %</td>\n",
       "      <td>7 %</td>\n",
       "      <td>7 %</td>\n",
       "      <td>-2 %</td>\n",
       "      <td>-1 %</td>\n",
       "      <td>5 %</td>\n",
       "      <td>9 %</td>\n",
       "      <td>6 %</td>\n",
       "      <td>6 %</td>\n",
       "      <td>9 %</td>\n",
       "      <td>12 %</td>\n",
       "      <td>20 %</td>\n",
       "      <td>11 %</td>\n",
       "      <td>9 %</td>\n",
       "      <td>-0 %</td>\n",
       "    </tr>\n",
       "    <tr>\n",
       "      <th>29</th>\n",
       "      <td>3 %</td>\n",
       "      <td>-6 %</td>\n",
       "      <td>9 %</td>\n",
       "      <td>10 %</td>\n",
       "      <td>-7 %</td>\n",
       "      <td>-4 %</td>\n",
       "      <td>14 %</td>\n",
       "      <td>17 %</td>\n",
       "      <td>9 %</td>\n",
       "      <td>-14 %</td>\n",
       "      <td>1 %</td>\n",
       "      <td>-4 %</td>\n",
       "      <td>9 %</td>\n",
       "      <td>8 %</td>\n",
       "      <td>-10 %</td>\n",
       "      <td>-15 %</td>\n",
       "      <td>-7 %</td>\n",
       "      <td>1 %</td>\n",
       "      <td>17 %</td>\n",
       "      <td>13 %</td>\n",
       "      <td>11 %</td>\n",
       "      <td>-6 %</td>\n",
       "    </tr>\n",
       "    <tr>\n",
       "      <th>30</th>\n",
       "      <td>6 %</td>\n",
       "      <td>5 %</td>\n",
       "      <td>4 %</td>\n",
       "      <td>8 %</td>\n",
       "      <td>7 %</td>\n",
       "      <td>10 %</td>\n",
       "      <td>17 %</td>\n",
       "      <td>16 %</td>\n",
       "      <td>13 %</td>\n",
       "      <td>3 %</td>\n",
       "      <td>1 %</td>\n",
       "      <td>4 %</td>\n",
       "      <td>8 %</td>\n",
       "      <td>7 %</td>\n",
       "      <td>1 %</td>\n",
       "      <td>5 %</td>\n",
       "      <td>8 %</td>\n",
       "      <td>7 %</td>\n",
       "      <td>13 %</td>\n",
       "      <td>12 %</td>\n",
       "      <td>17 %</td>\n",
       "      <td>1 %</td>\n",
       "    </tr>\n",
       "    <tr>\n",
       "      <th>31</th>\n",
       "      <td>13 %</td>\n",
       "      <td>4 %</td>\n",
       "      <td>5 %</td>\n",
       "      <td>9 %</td>\n",
       "      <td>-2 %</td>\n",
       "      <td>3 %</td>\n",
       "      <td>16 %</td>\n",
       "      <td>14 %</td>\n",
       "      <td>11 %</td>\n",
       "      <td>12 %</td>\n",
       "      <td>2 %</td>\n",
       "      <td>3 %</td>\n",
       "      <td>10 %</td>\n",
       "      <td>7 %</td>\n",
       "      <td>-8 %</td>\n",
       "      <td>-3 %</td>\n",
       "      <td>-4 %</td>\n",
       "      <td>-2 %</td>\n",
       "      <td>13 %</td>\n",
       "      <td>11 %</td>\n",
       "      <td>10 %</td>\n",
       "      <td>19 %</td>\n",
       "    </tr>\n",
       "  </tbody>\n",
       "</table>\n",
       "</div>"
      ],
      "text/plain": [
       "                            8      9     10     11     13     14     16    17  \\\n",
       "trained on \\ tested on                                                          \n",
       "8                        20 %    8 %    9 %   10 %   -9 %   -8 %    6 %   8 %   \n",
       "9                        13 %   13 %    9 %   10 %    5 %    3 %    3 %   9 %   \n",
       "10                        8 %    5 %   11 %   11 %    9 %    8 %    3 %  12 %   \n",
       "11                        3 %   -8 %    9 %   15 %  -22 %  -21 %   15 %  13 %   \n",
       "13                        3 %   -6 %   -8 %  -10 %   18 %   16 %  -21 %  -2 %   \n",
       "14                       -3 %   -4 %   -9 %  -14 %   16 %   20 %  -18 %   4 %   \n",
       "16                       -4 %  -15 %    0 %   12 %  -12 %  -10 %   24 %  15 %   \n",
       "17                       -3 %   -3 %    8 %    8 %    8 %   11 %   15 %  19 %   \n",
       "18                        2 %   -0 %    1 %    6 %  -23 %  -22 %   12 %  12 %   \n",
       "19                        4 %    3 %    1 %   -2 %    1 %    3 %    4 %  13 %   \n",
       "20                       19 %   10 %   10 %   11 %   -2 %    1 %   10 %  12 %   \n",
       "21                       11 %    8 %    9 %    9 %   -5 %    3 %   11 %  12 %   \n",
       "22                        5 %   -3 %    9 %   12 %    4 %    1 %   14 %  14 %   \n",
       "23                        1 %  -21 %    4 %   14 %  -78 %  -84 %   14 %   9 %   \n",
       "24                        4 %    1 %    3 %    5 %    7 %   12 %    7 %  10 %   \n",
       "25                        3 %   -0 %   -6 %   -6 %   12 %   14 %  -15 %  -1 %   \n",
       "26                       10 %    2 %    4 %    7 %   16 %   16 %    4 %  12 %   \n",
       "27                      -19 %  -18 %  -18 %  -10 %    3 %    7 %   -0 %   0 %   \n",
       "28                        2 %   -5 %    6 %   13 %    9 %   13 %   18 %  18 %   \n",
       "29                        3 %   -6 %    9 %   10 %   -7 %   -4 %   14 %  17 %   \n",
       "30                        6 %    5 %    4 %    8 %    7 %   10 %   17 %  16 %   \n",
       "31                       13 %    4 %    5 %    9 %   -2 %    3 %   16 %  14 %   \n",
       "\n",
       "                           18     19     20     21     22     23      24  \\\n",
       "trained on \\ tested on                                                     \n",
       "8                         3 %    2 %    7 %   -4 %    7 %    5 %    -7 %   \n",
       "9                         1 %    3 %    2 %    2 %    5 %    3 %    -6 %   \n",
       "10                        4 %   -3 %   -1 %    2 %    6 %    5 %    -0 %   \n",
       "11                        4 %  -25 %   -2 %   -8 %   10 %   11 %    -5 %   \n",
       "13                      -15 %   -3 %   -8 %  -13 %  -17 %  -17 %     5 %   \n",
       "14                       -7 %    4 %   -8 %  -14 %  -15 %  -19 %     4 %   \n",
       "16                        7 %  -26 %   -1 %  -14 %   10 %   13 %   -26 %   \n",
       "17                        7 %   -1 %   -9 %   -5 %    9 %    8 %     6 %   \n",
       "18                       13 %  -10 %   -1 %   -5 %    5 %    1 %   -27 %   \n",
       "19                        5 %   14 %   -2 %   -4 %   -1 %   -3 %    -1 %   \n",
       "20                       10 %   10 %   12 %    3 %    8 %    7 %    -1 %   \n",
       "21                        9 %    3 %    3 %    9 %    8 %    8 %   -16 %   \n",
       "22                       10 %  -22 %    2 %   -5 %   11 %   11 %   -21 %   \n",
       "23                        6 %  -87 %   -4 %  -29 %   11 %   12 %  -124 %   \n",
       "24                        1 %    1 %   -4 %  -12 %    3 %    4 %    14 %   \n",
       "25                       -9 %    2 %  -11 %  -13 %  -12 %  -14 %     7 %   \n",
       "26                        2 %    1 %   -2 %   -4 %    3 %    2 %     9 %   \n",
       "27                       -8 %  -18 %  -20 %  -38 %   -8 %  -11 %    11 %   \n",
       "28                        7 %    7 %   -2 %   -1 %    5 %    9 %     6 %   \n",
       "29                        9 %  -14 %    1 %   -4 %    9 %    8 %   -10 %   \n",
       "30                       13 %    3 %    1 %    4 %    8 %    7 %     1 %   \n",
       "31                       11 %   12 %    2 %    3 %   10 %    7 %    -8 %   \n",
       "\n",
       "                            25     26     27    28     29     30     31  \n",
       "trained on \\ tested on                                                   \n",
       "8                         -4 %  -15 %  -11 %   4 %    2 %  -11 %   -3 %  \n",
       "9                          1 %   -4 %  -14 %   5 %    1 %   -6 %   -7 %  \n",
       "10                         3 %    5 %   -3 %   8 %    2 %   -2 %   -7 %  \n",
       "11                       -10 %  -31 %    2 %  11 %    5 %   -6 %  -13 %  \n",
       "13                         6 %    9 %    7 %  -5 %  -19 %  -23 %  -14 %  \n",
       "14                         7 %   13 %   12 %   2 %  -12 %   -6 %   -3 %  \n",
       "16                       -24 %   -5 %   -2 %  15 %   10 %    5 %    3 %  \n",
       "17                         3 %    6 %   11 %  18 %    8 %    8 %  -12 %  \n",
       "18                       -28 %  -16 %  -16 %   7 %    6 %    8 %   -1 %  \n",
       "19                        -2 %    0 %    4 %  11 %    2 %    3 %    7 %  \n",
       "20                        -1 %   -3 %    2 %  11 %   11 %    6 %    8 %  \n",
       "21                       -13 %   -8 %    3 %  11 %    9 %    9 %    6 %  \n",
       "22                       -18 %    1 %   -2 %  13 %   11 %    4 %   -8 %  \n",
       "23                      -116 %  -88 %  -51 %   8 %    6 %   -9 %  -26 %  \n",
       "24                         8 %    7 %   17 %  16 %    5 %   -5 %   -3 %  \n",
       "25                         9 %   11 %    9 %   3 %   -8 %  -11 %   -7 %  \n",
       "26                         8 %   14 %   15 %  12 %    6 %   -1 %   -2 %  \n",
       "27                         4 %    6 %   20 %  10 %   -6 %  -18 %  -15 %  \n",
       "28                         6 %    9 %   12 %  20 %   11 %    9 %   -0 %  \n",
       "29                       -15 %   -7 %    1 %  17 %   13 %   11 %   -6 %  \n",
       "30                         5 %    8 %    7 %  13 %   12 %   17 %    1 %  \n",
       "31                        -3 %   -4 %   -2 %  13 %   11 %   10 %   19 %  "
      ]
     },
     "metadata": {},
     "output_type": "display_data"
    }
   ],
   "source": [
    "improv_data = np.array([list(f'{x * 100:0.0f} %' for x, std in r.values()) for r in results.values()])\n",
    "\n",
    "df = pd.DataFrame(improv_data, index=row_names, columns=col_names)\n",
    "df.index.name = 'trained on \\ tested on'\n",
    "with pd.option_context('display.max_columns', None):\n",
    "    display(df)"
   ]
  },
  {
   "cell_type": "markdown",
   "id": "e0944094-8766-4f23-9fd4-f10d3f5d7d8f",
   "metadata": {},
   "source": [
    "## Trained on all the channels, tested on separate channels"
   ]
  },
  {
   "cell_type": "code",
   "execution_count": 17,
   "id": "44c60e34-5c4e-476b-b282-97e790a9b3b5",
   "metadata": {
    "tags": []
   },
   "outputs": [
    {
     "data": {
      "text/plain": [
       "((416976, 48), (104257, 48), (416976,), (104257,))"
      ]
     },
     "execution_count": 17,
     "metadata": {},
     "output_type": "execute_result"
    }
   ],
   "source": [
    "X_all_train, X_all_test, y_all_train, y_all_test = [], [], [], []\n",
    "\n",
    "for X, y in list(all_channels_data.values()):\n",
    "    X_aug, y_aug = augmentation_random_cut(X, y, 8, seed=42, apply=True)\n",
    "    X_train, X_test, y_train, y_test = train_test_split(X_aug, y_aug, test_size=TEST_SIZE, random_state=RANDOM_STATE)\n",
    "    \n",
    "    X_all_train.append(X_train)\n",
    "    X_all_test.append(X_test)\n",
    "    y_all_train.append(y_train)\n",
    "    y_all_test.append(y_test)\n",
    "    \n",
    "X_all_train = np.concatenate(X_all_train)\n",
    "X_all_test = np.concatenate(X_all_test)\n",
    "y_all_train = np.concatenate(y_all_train)\n",
    "y_all_test = np.concatenate(y_all_test)\n",
    "\n",
    "Y_all_heatmap_train = np.array([gaussian_kernel(y) for y in y_all_train])\n",
    "Y_all_heatmap_test = np.array([gaussian_kernel(y) for y in y_all_test])\n",
    "\n",
    "X_all_train.shape, X_all_test.shape, y_all_train.shape, y_all_test.shape"
   ]
  },
  {
   "cell_type": "code",
   "execution_count": 18,
   "id": "98c0f433-8ded-4d71-bb37-5706673775c1",
   "metadata": {
    "tags": []
   },
   "outputs": [
    {
     "data": {
      "image/png": "[encoded data removed]",
      "text/plain": [
       "<Figure size 1000x700 with 1 Axes>"
      ]
     },
     "metadata": {},
     "output_type": "display_data"
    }
   ],
   "source": [
    "model = create_model(filters_mult=4)\n",
    "\n",
    "history = train_model(model, X_all_train, Y_all_heatmap_train, X_all_test, Y_all_heatmap_test, lr=0.01, name=f'model_all_channels', \n",
    "                      batch_size=16384, train=False, n_epochs=250, verbose=1, loss_weights=100, lr_patience=10, es_patience=25)\n",
    "\n",
    "plot_history(history, f\"All channels, {len(X_all_train)} training events\", ymax=2, figsize=(10, 7))"
   ]
  },
  {
   "cell_type": "code",
   "execution_count": 19,
   "id": "3c6728fe-eb6b-4213-b023-b6243889f226",
   "metadata": {},
   "outputs": [
    {
     "name": "stdout",
     "output_type": "stream",
     "text": [
      "1/1 [==============================] - 0s 114ms/step\n"
     ]
    },
    {
     "data": {
      "text/html": [
       "<h4>Channel 8</h4>"
      ],
      "text/plain": [
       "<IPython.core.display.HTML object>"
      ]
     },
     "metadata": {},
     "output_type": "display_data"
    },
    {
     "name": "stdout",
     "output_type": "stream",
     "text": [
      "CFD: 0.453, NN: 0.773 (0.071 ns vs 0.121 ns)\n",
      "Improvement: -70.67 %\n",
      "1/1 [==============================] - 0s 13ms/step\n"
     ]
    },
    {
     "data": {
      "text/html": [
       "<h4>Channel 9</h4>"
      ],
      "text/plain": [
       "<IPython.core.display.HTML object>"
      ]
     },
     "metadata": {},
     "output_type": "display_data"
    },
    {
     "name": "stdout",
     "output_type": "stream",
     "text": [
      "CFD: 0.458, NN: 0.713 (0.072 ns vs 0.111 ns)\n",
      "Improvement: -55.62 %\n",
      "1/1 [==============================] - 0s 11ms/step\n"
     ]
    },
    {
     "data": {
      "text/html": [
       "<h4>Channel 10</h4>"
      ],
      "text/plain": [
       "<IPython.core.display.HTML object>"
      ]
     },
     "metadata": {},
     "output_type": "display_data"
    },
    {
     "name": "stdout",
     "output_type": "stream",
     "text": [
      "CFD: 0.407, NN: 0.581 (0.064 ns vs 0.091 ns)\n",
      "Improvement: -42.73 %\n",
      "1/1 [==============================] - 0s 12ms/step\n"
     ]
    },
    {
     "data": {
      "text/html": [
       "<h4>Channel 11</h4>"
      ],
      "text/plain": [
       "<IPython.core.display.HTML object>"
      ]
     },
     "metadata": {},
     "output_type": "display_data"
    },
    {
     "name": "stdout",
     "output_type": "stream",
     "text": [
      "CFD: 0.423, NN: 0.659 (0.066 ns vs 0.103 ns)\n",
      "Improvement: -55.84 %\n",
      "1/1 [==============================] - 0s 12ms/step\n"
     ]
    },
    {
     "data": {
      "text/html": [
       "<h4>Channel 13</h4>"
      ],
      "text/plain": [
       "<IPython.core.display.HTML object>"
      ]
     },
     "metadata": {},
     "output_type": "display_data"
    },
    {
     "name": "stdout",
     "output_type": "stream",
     "text": [
      "CFD: 0.779, NN: 1.129 (0.122 ns vs 0.176 ns)\n",
      "Improvement: -44.84 %\n",
      "1/1 [==============================] - 0s 13ms/step\n"
     ]
    },
    {
     "data": {
      "text/html": [
       "<h4>Channel 14</h4>"
      ],
      "text/plain": [
       "<IPython.core.display.HTML object>"
      ]
     },
     "metadata": {},
     "output_type": "display_data"
    },
    {
     "name": "stdout",
     "output_type": "stream",
     "text": [
      "CFD: 0.751, NN: 1.164 (0.117 ns vs 0.182 ns)\n",
      "Improvement: -55.01 %\n",
      "1/1 [==============================] - 0s 14ms/step\n"
     ]
    },
    {
     "data": {
      "text/html": [
       "<h4>Channel 16</h4>"
      ],
      "text/plain": [
       "<IPython.core.display.HTML object>"
      ]
     },
     "metadata": {},
     "output_type": "display_data"
    },
    {
     "name": "stdout",
     "output_type": "stream",
     "text": [
      "CFD: 0.442, NN: 0.960 (0.069 ns vs 0.150 ns)\n",
      "Improvement: -117.30 %\n",
      "1/1 [==============================] - 0s 12ms/step\n"
     ]
    },
    {
     "data": {
      "text/html": [
       "<h4>Channel 17</h4>"
      ],
      "text/plain": [
       "<IPython.core.display.HTML object>"
      ]
     },
     "metadata": {},
     "output_type": "display_data"
    },
    {
     "name": "stdout",
     "output_type": "stream",
     "text": [
      "CFD: 0.459, NN: 0.808 (0.072 ns vs 0.126 ns)\n",
      "Improvement: -76.19 %\n",
      "1/1 [==============================] - 0s 13ms/step\n"
     ]
    },
    {
     "data": {
      "text/html": [
       "<h4>Channel 18</h4>"
      ],
      "text/plain": [
       "<IPython.core.display.HTML object>"
      ]
     },
     "metadata": {},
     "output_type": "display_data"
    },
    {
     "name": "stdout",
     "output_type": "stream",
     "text": [
      "CFD: 0.441, NN: 0.978 (0.069 ns vs 0.153 ns)\n",
      "Improvement: -121.52 %\n",
      "1/1 [==============================] - 0s 12ms/step\n"
     ]
    },
    {
     "data": {
      "text/html": [
       "<h4>Channel 19</h4>"
      ],
      "text/plain": [
       "<IPython.core.display.HTML object>"
      ]
     },
     "metadata": {},
     "output_type": "display_data"
    },
    {
     "name": "stdout",
     "output_type": "stream",
     "text": [
      "CFD: 0.560, NN: 0.924 (0.088 ns vs 0.144 ns)\n",
      "Improvement: -64.93 %\n",
      "1/1 [==============================] - 0s 11ms/step\n"
     ]
    },
    {
     "data": {
      "text/html": [
       "<h4>Channel 20</h4>"
      ],
      "text/plain": [
       "<IPython.core.display.HTML object>"
      ]
     },
     "metadata": {},
     "output_type": "display_data"
    },
    {
     "name": "stdout",
     "output_type": "stream",
     "text": [
      "CFD: 0.430, NN: 0.781 (0.067 ns vs 0.122 ns)\n",
      "Improvement: -81.57 %\n",
      "1/1 [==============================] - 0s 11ms/step\n"
     ]
    },
    {
     "data": {
      "text/html": [
       "<h4>Channel 21</h4>"
      ],
      "text/plain": [
       "<IPython.core.display.HTML object>"
      ]
     },
     "metadata": {},
     "output_type": "display_data"
    },
    {
     "name": "stdout",
     "output_type": "stream",
     "text": [
      "CFD: 0.427, NN: 0.803 (0.067 ns vs 0.125 ns)\n",
      "Improvement: -87.95 %\n",
      "1/1 [==============================] - 0s 11ms/step\n"
     ]
    },
    {
     "data": {
      "text/html": [
       "<h4>Channel 22</h4>"
      ],
      "text/plain": [
       "<IPython.core.display.HTML object>"
      ]
     },
     "metadata": {},
     "output_type": "display_data"
    },
    {
     "name": "stdout",
     "output_type": "stream",
     "text": [
      "CFD: 0.410, NN: 0.744 (0.064 ns vs 0.116 ns)\n",
      "Improvement: -81.40 %\n",
      "1/1 [==============================] - 0s 14ms/step\n"
     ]
    },
    {
     "data": {
      "text/html": [
       "<h4>Channel 23</h4>"
      ],
      "text/plain": [
       "<IPython.core.display.HTML object>"
      ]
     },
     "metadata": {},
     "output_type": "display_data"
    },
    {
     "name": "stdout",
     "output_type": "stream",
     "text": [
      "CFD: 0.409, NN: 0.792 (0.064 ns vs 0.124 ns)\n",
      "Improvement: -93.73 %\n",
      "2/2 [==============================] - 0s 250ms/step\n"
     ]
    },
    {
     "data": {
      "text/html": [
       "<h4>Channel 24</h4>"
      ],
      "text/plain": [
       "<IPython.core.display.HTML object>"
      ]
     },
     "metadata": {},
     "output_type": "display_data"
    },
    {
     "name": "stdout",
     "output_type": "stream",
     "text": [
      "CFD: 0.598, NN: 0.735 (0.093 ns vs 0.115 ns)\n",
      "Improvement: -22.87 %\n",
      "1/1 [==============================] - 0s 12ms/step\n"
     ]
    },
    {
     "data": {
      "text/html": [
       "<h4>Channel 25</h4>"
      ],
      "text/plain": [
       "<IPython.core.display.HTML object>"
      ]
     },
     "metadata": {},
     "output_type": "display_data"
    },
    {
     "name": "stdout",
     "output_type": "stream",
     "text": [
      "CFD: 0.683, NN: 0.947 (0.107 ns vs 0.148 ns)\n",
      "Improvement: -38.70 %\n",
      "1/1 [==============================] - 0s 11ms/step\n"
     ]
    },
    {
     "data": {
      "text/html": [
       "<h4>Channel 26</h4>"
      ],
      "text/plain": [
       "<IPython.core.display.HTML object>"
      ]
     },
     "metadata": {},
     "output_type": "display_data"
    },
    {
     "name": "stdout",
     "output_type": "stream",
     "text": [
      "CFD: 0.768, NN: 1.031 (0.120 ns vs 0.161 ns)\n",
      "Improvement: -34.23 %\n",
      "2/2 [==============================] - 0s 122ms/step\n"
     ]
    },
    {
     "data": {
      "text/html": [
       "<h4>Channel 27</h4>"
      ],
      "text/plain": [
       "<IPython.core.display.HTML object>"
      ]
     },
     "metadata": {},
     "output_type": "display_data"
    },
    {
     "name": "stdout",
     "output_type": "stream",
     "text": [
      "CFD: 0.709, NN: 0.678 (0.111 ns vs 0.106 ns)\n",
      "Improvement: 4.33 %\n",
      "1/1 [==============================] - 0s 13ms/step\n"
     ]
    },
    {
     "data": {
      "text/html": [
       "<h4>Channel 28</h4>"
      ],
      "text/plain": [
       "<IPython.core.display.HTML object>"
      ]
     },
     "metadata": {},
     "output_type": "display_data"
    },
    {
     "name": "stdout",
     "output_type": "stream",
     "text": [
      "CFD: 0.487, NN: 0.845 (0.076 ns vs 0.132 ns)\n",
      "Improvement: -73.48 %\n",
      "1/1 [==============================] - 0s 12ms/step\n"
     ]
    },
    {
     "data": {
      "text/html": [
       "<h4>Channel 29</h4>"
      ],
      "text/plain": [
       "<IPython.core.display.HTML object>"
      ]
     },
     "metadata": {},
     "output_type": "display_data"
    },
    {
     "name": "stdout",
     "output_type": "stream",
     "text": [
      "CFD: 0.444, NN: 1.018 (0.069 ns vs 0.159 ns)\n",
      "Improvement: -129.14 %\n",
      "1/1 [==============================] - 0s 14ms/step\n"
     ]
    },
    {
     "data": {
      "text/html": [
       "<h4>Channel 30</h4>"
      ],
      "text/plain": [
       "<IPython.core.display.HTML object>"
      ]
     },
     "metadata": {},
     "output_type": "display_data"
    },
    {
     "name": "stdout",
     "output_type": "stream",
     "text": [
      "CFD: 0.468, NN: 0.858 (0.073 ns vs 0.134 ns)\n",
      "Improvement: -83.32 %\n",
      "1/1 [==============================] - 0s 12ms/step\n"
     ]
    },
    {
     "data": {
      "text/html": [
       "<h4>Channel 31</h4>"
      ],
      "text/plain": [
       "<IPython.core.display.HTML object>"
      ]
     },
     "metadata": {},
     "output_type": "display_data"
    },
    {
     "name": "stdout",
     "output_type": "stream",
     "text": [
      "CFD: 0.509, NN: 0.806 (0.079 ns vs 0.126 ns)\n",
      "Improvement: -58.58 %\n"
     ]
    }
   ],
   "source": [
    "improvements = {}\n",
    "for channel, (X, y) in list(all_channels_data.items()):\n",
    "    X_aug, y_aug = augmentation_random_cut(X, y, 8, seed=42, apply=True)\n",
    "    _, X_test, _, y_test = train_test_split(X_aug, y_aug, test_size=TEST_SIZE, random_state=RANDOM_STATE)\n",
    "    Y_heatmap_test = np.array([gaussian_kernel(y) for y in y_test])\n",
    "\n",
    "    improvement, _, std_model = compare_model_with_cfd(model, cfd, X_test, y_test, channel, show=False)\n",
    "    improvements[channel] = (improvement, std_model)"
   ]
  },
  {
   "cell_type": "code",
   "execution_count": 20,
   "id": "b6ade8a6-16ef-48f1-8e09-b6b197c3bbab",
   "metadata": {
    "tags": []
   },
   "outputs": [
    {
     "data": {
      "text/html": [
       "<div>\n",
       "<style scoped>\n",
       "    .dataframe tbody tr th:only-of-type {\n",
       "        vertical-align: middle;\n",
       "    }\n",
       "\n",
       "    .dataframe tbody tr th {\n",
       "        vertical-align: top;\n",
       "    }\n",
       "\n",
       "    .dataframe thead th {\n",
       "        text-align: right;\n",
       "    }\n",
       "</style>\n",
       "<table border=\"1\" class=\"dataframe\">\n",
       "  <thead>\n",
       "    <tr style=\"text-align: right;\">\n",
       "      <th></th>\n",
       "      <th>precision [ps]</th>\n",
       "      <th>improvement</th>\n",
       "    </tr>\n",
       "    <tr>\n",
       "      <th>channel</th>\n",
       "      <th></th>\n",
       "      <th></th>\n",
       "    </tr>\n",
       "  </thead>\n",
       "  <tbody>\n",
       "    <tr>\n",
       "      <th>8</th>\n",
       "      <td>120.8</td>\n",
       "      <td>-71 %</td>\n",
       "    </tr>\n",
       "    <tr>\n",
       "      <th>9</th>\n",
       "      <td>111.4</td>\n",
       "      <td>-56 %</td>\n",
       "    </tr>\n",
       "    <tr>\n",
       "      <th>10</th>\n",
       "      <td>90.8</td>\n",
       "      <td>-43 %</td>\n",
       "    </tr>\n",
       "    <tr>\n",
       "      <th>11</th>\n",
       "      <td>102.9</td>\n",
       "      <td>-56 %</td>\n",
       "    </tr>\n",
       "    <tr>\n",
       "      <th>13</th>\n",
       "      <td>176.3</td>\n",
       "      <td>-45 %</td>\n",
       "    </tr>\n",
       "    <tr>\n",
       "      <th>14</th>\n",
       "      <td>181.9</td>\n",
       "      <td>-55 %</td>\n",
       "    </tr>\n",
       "    <tr>\n",
       "      <th>16</th>\n",
       "      <td>150.1</td>\n",
       "      <td>-117 %</td>\n",
       "    </tr>\n",
       "    <tr>\n",
       "      <th>17</th>\n",
       "      <td>126.3</td>\n",
       "      <td>-76 %</td>\n",
       "    </tr>\n",
       "    <tr>\n",
       "      <th>18</th>\n",
       "      <td>152.8</td>\n",
       "      <td>-122 %</td>\n",
       "    </tr>\n",
       "    <tr>\n",
       "      <th>19</th>\n",
       "      <td>144.4</td>\n",
       "      <td>-65 %</td>\n",
       "    </tr>\n",
       "    <tr>\n",
       "      <th>20</th>\n",
       "      <td>122.0</td>\n",
       "      <td>-82 %</td>\n",
       "    </tr>\n",
       "    <tr>\n",
       "      <th>21</th>\n",
       "      <td>125.4</td>\n",
       "      <td>-88 %</td>\n",
       "    </tr>\n",
       "    <tr>\n",
       "      <th>22</th>\n",
       "      <td>116.3</td>\n",
       "      <td>-81 %</td>\n",
       "    </tr>\n",
       "    <tr>\n",
       "      <th>23</th>\n",
       "      <td>123.8</td>\n",
       "      <td>-94 %</td>\n",
       "    </tr>\n",
       "    <tr>\n",
       "      <th>24</th>\n",
       "      <td>114.8</td>\n",
       "      <td>-23 %</td>\n",
       "    </tr>\n",
       "    <tr>\n",
       "      <th>25</th>\n",
       "      <td>147.9</td>\n",
       "      <td>-39 %</td>\n",
       "    </tr>\n",
       "    <tr>\n",
       "      <th>26</th>\n",
       "      <td>161.0</td>\n",
       "      <td>-34 %</td>\n",
       "    </tr>\n",
       "    <tr>\n",
       "      <th>27</th>\n",
       "      <td>106.0</td>\n",
       "      <td>4 %</td>\n",
       "    </tr>\n",
       "    <tr>\n",
       "      <th>28</th>\n",
       "      <td>132.0</td>\n",
       "      <td>-73 %</td>\n",
       "    </tr>\n",
       "    <tr>\n",
       "      <th>29</th>\n",
       "      <td>159.0</td>\n",
       "      <td>-129 %</td>\n",
       "    </tr>\n",
       "    <tr>\n",
       "      <th>30</th>\n",
       "      <td>134.0</td>\n",
       "      <td>-83 %</td>\n",
       "    </tr>\n",
       "    <tr>\n",
       "      <th>31</th>\n",
       "      <td>126.0</td>\n",
       "      <td>-59 %</td>\n",
       "    </tr>\n",
       "  </tbody>\n",
       "</table>\n",
       "</div>"
      ],
      "text/plain": [
       "        precision [ps] improvement\n",
       "channel                           \n",
       "8                120.8       -71 %\n",
       "9                111.4       -56 %\n",
       "10                90.8       -43 %\n",
       "11               102.9       -56 %\n",
       "13               176.3       -45 %\n",
       "14               181.9       -55 %\n",
       "16               150.1      -117 %\n",
       "17               126.3       -76 %\n",
       "18               152.8      -122 %\n",
       "19               144.4       -65 %\n",
       "20               122.0       -82 %\n",
       "21               125.4       -88 %\n",
       "22               116.3       -81 %\n",
       "23               123.8       -94 %\n",
       "24               114.8       -23 %\n",
       "25               147.9       -39 %\n",
       "26               161.0       -34 %\n",
       "27               106.0         4 %\n",
       "28               132.0       -73 %\n",
       "29               159.0      -129 %\n",
       "30               134.0       -83 %\n",
       "31               126.0       -59 %"
      ]
     },
     "execution_count": 20,
     "metadata": {},
     "output_type": "execute_result"
    }
   ],
   "source": [
    "channels = improvements.keys()\n",
    "precision_data = [f'{std_model * 1000:0.1f}' for _, std_model in improvements.values()]\n",
    "improvement_data = [f'{improv * 100:0.0f} %' for improv, _ in improvements.values()]\n",
    "\n",
    "df = pd.DataFrame({'precision [ps]': precision_data, 'improvement': improvement_data}, index=channels)\n",
    "df.index.name = 'channel'\n",
    "df"
   ]
  },
  {
   "cell_type": "code",
   "execution_count": null,
   "id": "4ef59129-f978-4dce-b8cd-854fa395f7e2",
   "metadata": {},
   "outputs": [],
   "source": []
  }
 ],
 "metadata": {
  "kernelspec": {
   "display_name": "Python 3 (ipykernel)",
   "language": "python",
   "name": "python3"
  },
  "language_info": {
   "codemirror_mode": {
    "name": "ipython",
    "version": 3
   },
   "file_extension": ".py",
   "mimetype": "text/x-python",
   "name": "python",
   "nbconvert_exporter": "python",
   "pygments_lexer": "ipython3",
   "version": "3.10.9"
  }
 },
 "nbformat": 4,
 "nbformat_minor": 5
}
