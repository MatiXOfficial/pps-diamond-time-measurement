{
 "cells": [
  {
   "cell_type": "code",
   "execution_count": 4,
   "id": "e0f15c63",
   "metadata": {},
   "outputs": [],
   "source": [
    "import sys\n",
    "\n",
    "PWD = '..'\n",
    "sys.path.append(PWD)\n",
    "\n",
    "import uproot\n",
    "import awkward\n",
    "\n",
    "import numpy as np\n",
    "from matplotlib import pyplot as plt\n",
    "\n",
    "from collections import defaultdict\n",
    "from pprint import pprint\n",
    "\n",
    "import os\n",
    "\n",
    "from src.plot_utils import plot_sample"
   ]
  },
  {
   "cell_type": "code",
   "execution_count": 5,
   "id": "dbcab86d",
   "metadata": {},
   "outputs": [
    {
     "data": {
      "text/plain": [
       "['desy;24', 'desy;23']"
      ]
     },
     "execution_count": 5,
     "metadata": {},
     "output_type": "execute_result"
    }
   ],
   "source": [
    "file_dir = PWD + '/data/base/Ntuple_runsampic_166_runtelescope_643.root'\n",
    "file = uproot.open(file_dir)\n",
    "\n",
    "file.keys()"
   ]
  },
  {
   "cell_type": "markdown",
   "id": "b95bbf36",
   "metadata": {},
   "source": [
    "# Contents of the file"
   ]
  },
  {
   "cell_type": "code",
   "execution_count": 6,
   "id": "b880e2d7",
   "metadata": {},
   "outputs": [
    {
     "name": "stdout",
     "output_type": "stream",
     "text": [
      "name                 | typename                 | interpretation                \n",
      "---------------------+--------------------------+-------------------------------\n",
      "RunSampic            | int32_t                  | AsDtype('>i4')\n",
      "RunTelescope         | int32_t                  | AsDtype('>i4')\n",
      "eventIDTelescope     | int32_t                  | AsDtype('>i4')\n",
      "nTrackParams         | int32_t                  | AsDtype('>i4')\n",
      "planeID              | std::vector<int32_t>     | AsJagged(AsDtype('>i4'), he...\n",
      "trackID              | std::vector<int32_t>     | AsJagged(AsDtype('>i4'), he...\n",
      "triggerID            | int32_t                  | AsDtype('>i4')\n",
      "timestamp            | int32_t                  | AsDtype('>i4')\n",
      "xPos                 | std::vector<double>      | AsJagged(AsDtype('>f8'), he...\n",
      "yPos                 | std::vector<double>      | AsJagged(AsDtype('>f8'), he...\n",
      "omega                | std::vector<double>      | AsJagged(AsDtype('>f8'), he...\n",
      "phi                  | std::vector<double>      | AsJagged(AsDtype('>f8'), he...\n",
      "kinkx                | std::vector<double>      | AsJagged(AsDtype('>f8'), he...\n",
      "kinky                | std::vector<double>      | AsJagged(AsDtype('>f8'), he...\n",
      "chi2                 | std::vector<double>      | AsJagged(AsDtype('>f8'), he...\n",
      "ndof                 | std::vector<int32_t>     | AsJagged(AsDtype('>i4'), he...\n",
      "eventIDSampic        | uint32_t                 | AsDtype('>u4')\n",
      "trigger_time         | double                   | AsDtype('>f8')\n",
      "num_samples          | uint32_t                 | AsDtype('>u4')\n",
      "sample_channel       | int32_t[]                | AsJagged(AsDtype('>i4'))\n",
      "sample_t0            | double[]                 | AsJagged(AsDtype('>f8'))\n",
      "sample_baseline      | double[]                 | AsJagged(AsDtype('>f8'))\n",
      "sample_timestampA    | uint32_t[]               | AsJagged(AsDtype('>u4'))\n",
      "sample_timestampB    | uint32_t[]               | AsJagged(AsDtype('>u4'))\n",
      "sample_cellInfoFo... | int32_t[]                | AsJagged(AsDtype('>i4'))\n",
      "sample_timestampFPGA | uint64_t[]               | AsJagged(AsDtype('>u8'))\n",
      "sample_time          | double[][64]             | AsJagged(AsDtype(\"('>f8', (...\n",
      "sample_ampl          | double[][64]             | AsJagged(AsDtype(\"('>f8', (...\n",
      "sample_triggerPos... | uint16_t[][64]           | AsJagged(AsDtype(\"('>u2', (...\n",
      "['RunSampic', 'RunTelescope', 'eventIDTelescope', 'nTrackParams', 'planeID', 'trackID', 'triggerID', 'timestamp', 'xPos', 'yPos', 'omega', 'phi', 'kinkx', 'kinky', 'chi2', 'ndof', 'eventIDSampic', 'trigger_time', 'num_samples', 'sample_channel', 'sample_t0', 'sample_baseline', 'sample_timestampA', 'sample_timestampB', 'sample_cellInfoForOrderedData', 'sample_timestampFPGA', 'sample_time', 'sample_ampl', 'sample_triggerPosition']\n"
     ]
    }
   ],
   "source": [
    "file_events = file['desy;23']\n",
    "file_events.show()\n",
    "print(file_events.keys())"
   ]
  },
  {
   "cell_type": "code",
   "execution_count": 25,
   "id": "556d1506-a64d-488a-8757-b85ec002dc4d",
   "metadata": {},
   "outputs": [
    {
     "data": {
      "text/plain": [
       "2"
      ]
     },
     "execution_count": 25,
     "metadata": {},
     "output_type": "execute_result"
    }
   ],
   "source": [
    "file_events['num_samples'].array()[20000]"
   ]
  },
  {
   "cell_type": "code",
   "execution_count": 26,
   "id": "42c68647-e961-4429-a473-ea2bd884ae1c",
   "metadata": {},
   "outputs": [
    {
     "data": {
      "text/plain": [
       "48.360668770000004"
      ]
     },
     "execution_count": 26,
     "metadata": {},
     "output_type": "execute_result"
    }
   ],
   "source": [
    "file_events['trigger_time'].array()[20000]"
   ]
  },
  {
   "cell_type": "code",
   "execution_count": 27,
   "id": "7e5a20b6-afab-4afd-89ec-2e645de99140",
   "metadata": {},
   "outputs": [
    {
     "data": {
      "text/plain": [
       "48.3606675440625"
      ]
     },
     "execution_count": 27,
     "metadata": {},
     "output_type": "execute_result"
    }
   ],
   "source": [
    "file_events['sample_t0'].array()[20000][0]"
   ]
  },
  {
   "cell_type": "code",
   "execution_count": 28,
   "id": "40840471-9f89-438a-9d22-d8d5f145976b",
   "metadata": {},
   "outputs": [
    {
     "data": {
      "text/plain": [
       "48.360667544375005"
      ]
     },
     "execution_count": 28,
     "metadata": {},
     "output_type": "execute_result"
    }
   ],
   "source": [
    "file_events['sample_t0'].array()[20000][1]"
   ]
  },
  {
   "cell_type": "code",
   "execution_count": 29,
   "id": "5511b062-a462-42b9-bbde-17b25639ae7e",
   "metadata": {},
   "outputs": [
    {
     "data": {
      "text/plain": [
       "1.5625e-10"
      ]
     },
     "execution_count": 29,
     "metadata": {},
     "output_type": "execute_result"
    }
   ],
   "source": [
    "file_events['sample_time'].array()[20000][1][1]"
   ]
  },
  {
   "cell_type": "code",
   "execution_count": 33,
   "id": "9570a055-e5cf-4c14-956c-39d3d36f65c7",
   "metadata": {},
   "outputs": [
    {
     "data": {
      "text/plain": [
       "array([48.36066754, 48.36066754, 48.36066754, 48.36066754, 48.36066755,\n",
       "       48.36066755, 48.36066755, 48.36066755, 48.36066755, 48.36066755])"
      ]
     },
     "execution_count": 33,
     "metadata": {},
     "output_type": "execute_result"
    }
   ],
   "source": [
    "file_events['sample_time'].array(library='np')[20000][1][:10] + file_events['sample_t0'].array(library='np')[20000][1]"
   ]
  },
  {
   "cell_type": "markdown",
   "id": "ae75dc6b-090c-4116-8a89-f3511643026a",
   "metadata": {},
   "source": [
    "# Find number of coincidences with channel 0"
   ]
  },
  {
   "cell_type": "code",
   "execution_count": 16,
   "id": "b25f216b-31b3-45ff-b218-eaea5b9a2c1f",
   "metadata": {},
   "outputs": [],
   "source": [
    "coincidences = defaultdict(int)\n",
    "for i, (n_samples, channels) in enumerate(zip(file_events['num_samples'].array(), file_events['sample_channel'].array())):\n",
    "    if n_samples > 0 and 0 in channels:\n",
    "        for channel in channels:\n",
    "            if channel != 0:\n",
    "                coincidences[channel] += 1"
   ]
  },
  {
   "cell_type": "code",
   "execution_count": 17,
   "id": "8f4b6a3c-7e72-45d4-b995-23bc661b5e40",
   "metadata": {},
   "outputs": [
    {
     "name": "stdout",
     "output_type": "stream",
     "text": [
      " 11:  19578\n",
      " 23:  15730\n",
      " 16:  15025\n",
      " 24:  13421\n",
      " 29:  12204\n",
      " 28:  11913\n",
      " 17:  11702\n",
      " 22:  11052\n",
      " 12:  10752\n",
      " 10:  10462\n",
      " 18:   9175\n",
      " 30:   8795\n",
      "  9:   3329\n",
      " 15:   2754\n",
      " 27:   2726\n",
      " 21:   2709\n",
      " 19:    769\n",
      " 31:    669\n",
      "  8:    643\n",
      " 20:    400\n",
      " 13:    357\n",
      " 14:    275\n",
      " 25:    236\n",
      " 26:    184\n"
     ]
    }
   ],
   "source": [
    "sorted_coincidences = sorted(coincidences, key=coincidences.get, reverse=True)\n",
    "for channel in sorted_coincidences:\n",
    "    print(f'{channel:3}: {coincidences[channel]:6}')"
   ]
  },
  {
   "cell_type": "markdown",
   "id": "5f890a1b-e5c1-4447-8e64-689e68c68aef",
   "metadata": {},
   "source": [
    "# Fill the channel dict"
   ]
  },
  {
   "cell_type": "code",
   "execution_count": 19,
   "id": "bd401007-15fb-4c5c-b8ee-9a4e8ddf99a0",
   "metadata": {},
   "outputs": [],
   "source": [
    "EVENT_KEYS = set(['eventIDSampic', 'sample_ampl', 'sample_channel',\"sample_t0\"])\n",
    "CHANNELS = sorted_coincidences[:10]\n",
    "\n",
    "def flip_y(X):\n",
    "    return (X - 1) * - 1"
   ]
  },
  {
   "cell_type": "code",
   "execution_count": 20,
   "id": "56d89adc-d31d-4e7a-ace6-5fac98108970",
   "metadata": {},
   "outputs": [],
   "source": [
    "events = {k: file_events[k].array(library='np') for k in EVENT_KEYS | set(['num_samples'])}"
   ]
  },
  {
   "cell_type": "code",
   "execution_count": 21,
   "id": "950d5609-a5fa-40a8-a34b-d58cf9037f57",
   "metadata": {
    "scrolled": true,
    "tags": []
   },
   "outputs": [
    {
     "name": "stdout",
     "output_type": "stream",
     "text": [
      "11...\n",
      "23...\n",
      "16...\n",
      "24...\n",
      "29...\n",
      "28...\n",
      "17...\n",
      "22...\n",
      "12...\n",
      "10...\n"
     ]
    }
   ],
   "source": [
    "events_channel_waveform = {}\n",
    "\n",
    "for selected_channel in CHANNELS:\n",
    "    print(f'{selected_channel}...')\n",
    "    events_channel_waveform[selected_channel] = {key: [] for key in EVENT_KEYS}\n",
    "    for i_event, (n_samples, channels) in enumerate(zip(events['num_samples'], events['sample_channel'])):\n",
    "        if n_samples > 0 and 0 in channels and selected_channel in channels:\n",
    "            idx_0 = list(channels).index(0)\n",
    "            idx_ch = list(channels).index(selected_channel)\n",
    "            mask = [idx_0, idx_ch]\n",
    "\n",
    "            for key in EVENT_KEYS:\n",
    "                v = events[key][i_event]\n",
    "                v = v[mask] if type(v) is np.ndarray else v\n",
    "                if key == 'sample_ampl':\n",
    "                    v = flip_y(v)\n",
    "                events_channel_waveform[selected_channel][key].append(v)"
   ]
  },
  {
   "cell_type": "code",
   "execution_count": 22,
   "id": "4c7d283c-b67a-4aca-8dce-df19e29a5dc3",
   "metadata": {},
   "outputs": [
    {
     "data": {
      "text/plain": [
       "dict_keys([11, 23, 16, 24, 29, 28, 17, 22, 12, 10])"
      ]
     },
     "execution_count": 22,
     "metadata": {},
     "output_type": "execute_result"
    }
   ],
   "source": [
    "events_channel_waveform.keys()"
   ]
  },
  {
   "cell_type": "code",
   "execution_count": 23,
   "id": "9a040203-d3c7-48be-be35-cd7ee7d635ff",
   "metadata": {},
   "outputs": [
    {
     "data": {
      "text/plain": [
       "dict_keys(['sample_ampl', 'sample_channel', 'sample_t0', 'eventIDSampic'])"
      ]
     },
     "execution_count": 23,
     "metadata": {},
     "output_type": "execute_result"
    }
   ],
   "source": [
    "events_channel_waveform[11].keys()"
   ]
  },
  {
   "cell_type": "code",
   "execution_count": 24,
   "id": "bcf2de81-050d-4972-a007-a310dfe50ed3",
   "metadata": {},
   "outputs": [
    {
     "name": "stdout",
     "output_type": "stream",
     "text": [
      "Processing Ntuple_runsampic_166_runtelescope_643.npz ...\n"
     ]
    }
   ],
   "source": [
    "file_name = os.path.splitext(os.path.split(file_dir)[1])[0] + '.npz'\n",
    "print(f'Processing {file_name} ...')\n",
    "\n",
    "np.savez_compressed(f'../data/{file_name}', events_channel_waveform)"
   ]
  },
  {
   "cell_type": "markdown",
   "id": "d5ea2baf",
   "metadata": {},
   "source": [
    "# Read the new file"
   ]
  },
  {
   "cell_type": "code",
   "execution_count": null,
   "id": "959aec10-ed9e-4322-aada-eb0bdb5bef12",
   "metadata": {},
   "outputs": [],
   "source": [
    "new_events = np.load(f'../data/{file_name}', allow_pickle=True)['arr_0'].flat[0]"
   ]
  },
  {
   "cell_type": "code",
   "execution_count": null,
   "id": "c365d9ab-796f-4289-a9c4-ae522c020d83",
   "metadata": {},
   "outputs": [
    {
     "data": {
      "text/plain": [
       "dict_keys([11, 23, 16, 24, 29, 28, 17, 22, 12, 10])"
      ]
     },
     "execution_count": 13,
     "metadata": {},
     "output_type": "execute_result"
    }
   ],
   "source": [
    "new_events.keys()"
   ]
  },
  {
   "cell_type": "markdown",
   "id": "e8107117-b3cb-4bf0-88f4-132af0fabd0a",
   "metadata": {},
   "source": [
    "# Example samples"
   ]
  },
  {
   "cell_type": "code",
   "execution_count": null,
   "id": "9191a7df",
   "metadata": {},
   "outputs": [
    {
     "data": {
      "image/png": "[encoded data removed]",
      "text/plain": [
       "<Figure size 1008x864 with 6 Axes>"
      ]
     },
     "metadata": {
      "needs_background": "light"
     },
     "output_type": "display_data"
    }
   ],
   "source": [
    "events = [0, 0, 1003, 1003, 3006, 3006]\n",
    "samples = [0, 1, 0, 1, 0, 1]\n",
    "\n",
    "plt.figure(figsize=(14, 12))\n",
    "for i, (i_event, i_sample) in enumerate(zip(events, samples)):\n",
    "    plt.subplot(3, 2, i + 1)\n",
    "    plot_sample(new_events[11]['sample_ampl'][i_event][i_sample], \n",
    "                time=new_events[11]['sample_time'][i_event][i_sample], \n",
    "                title=f\"({i_event}, {i_sample}), channel: {new_events[11]['sample_channel'][i_event][i_sample]}\")"
   ]
  },
  {
   "cell_type": "code",
   "execution_count": null,
   "id": "93d7826b-1b08-46f7-aad3-e07dda9085b7",
   "metadata": {},
   "outputs": [],
   "source": []
  }
 ],
 "metadata": {
  "kernelspec": {
   "display_name": "Python 3 (ipykernel)",
   "language": "python",
   "name": "python3"
  },
  "language_info": {
   "codemirror_mode": {
    "name": "ipython",
    "version": 3
   },
   "file_extension": ".py",
   "mimetype": "text/x-python",
   "name": "python",
   "nbconvert_exporter": "python",
   "pygments_lexer": "ipython3",
   "version": "3.10.4"
  }
 },
 "nbformat": 4,
 "nbformat_minor": 5
}
