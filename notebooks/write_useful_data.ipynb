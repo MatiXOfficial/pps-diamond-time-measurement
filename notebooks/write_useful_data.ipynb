{
 "cells": [
  {
   "cell_type": "code",
   "execution_count": 1,
   "id": "e0f15c63",
   "metadata": {},
   "outputs": [],
   "source": [
    "import uproot\n",
    "import awkward\n",
    "\n",
    "import numpy as np\n",
    "from matplotlib import pyplot as plt\n",
    "\n",
    "from pprint import pprint\n",
    "\n",
    "import os"
   ]
  },
  {
   "cell_type": "code",
   "execution_count": 2,
   "id": "dbcab86d",
   "metadata": {},
   "outputs": [
    {
     "data": {
      "text/plain": [
       "['desy;24', 'desy;23']"
      ]
     },
     "execution_count": 2,
     "metadata": {},
     "output_type": "execute_result"
    }
   ],
   "source": [
    "file_dir = '../data/base/Ntuple_runsampic_166_runtelescope_643.root'\n",
    "file = uproot.open(file_dir)\n",
    "\n",
    "file.keys()"
   ]
  },
  {
   "cell_type": "markdown",
   "id": "b95bbf36",
   "metadata": {},
   "source": [
    "# Contents of the file"
   ]
  },
  {
   "cell_type": "code",
   "execution_count": 3,
   "id": "b880e2d7",
   "metadata": {},
   "outputs": [
    {
     "name": "stdout",
     "output_type": "stream",
     "text": [
      "name                 | typename                 | interpretation                \n",
      "---------------------+--------------------------+-------------------------------\n",
      "RunSampic            | int32_t                  | AsDtype('>i4')\n",
      "RunTelescope         | int32_t                  | AsDtype('>i4')\n",
      "eventIDTelescope     | int32_t                  | AsDtype('>i4')\n",
      "nTrackParams         | int32_t                  | AsDtype('>i4')\n",
      "planeID              | std::vector<int32_t>     | AsJagged(AsDtype('>i4'), he...\n",
      "trackID              | std::vector<int32_t>     | AsJagged(AsDtype('>i4'), he...\n",
      "triggerID            | int32_t                  | AsDtype('>i4')\n",
      "timestamp            | int32_t                  | AsDtype('>i4')\n",
      "xPos                 | std::vector<double>      | AsJagged(AsDtype('>f8'), he...\n",
      "yPos                 | std::vector<double>      | AsJagged(AsDtype('>f8'), he...\n",
      "omega                | std::vector<double>      | AsJagged(AsDtype('>f8'), he...\n",
      "phi                  | std::vector<double>      | AsJagged(AsDtype('>f8'), he...\n",
      "kinkx                | std::vector<double>      | AsJagged(AsDtype('>f8'), he...\n",
      "kinky                | std::vector<double>      | AsJagged(AsDtype('>f8'), he...\n",
      "chi2                 | std::vector<double>      | AsJagged(AsDtype('>f8'), he...\n",
      "ndof                 | std::vector<int32_t>     | AsJagged(AsDtype('>i4'), he...\n",
      "eventIDSampic        | uint32_t                 | AsDtype('>u4')\n",
      "trigger_time         | double                   | AsDtype('>f8')\n",
      "num_samples          | uint32_t                 | AsDtype('>u4')\n",
      "sample_channel       | int32_t[]                | AsJagged(AsDtype('>i4'))\n",
      "sample_t0            | double[]                 | AsJagged(AsDtype('>f8'))\n",
      "sample_baseline      | double[]                 | AsJagged(AsDtype('>f8'))\n",
      "sample_timestampA    | uint32_t[]               | AsJagged(AsDtype('>u4'))\n",
      "sample_timestampB    | uint32_t[]               | AsJagged(AsDtype('>u4'))\n",
      "sample_cellInfoFo... | int32_t[]                | AsJagged(AsDtype('>i4'))\n",
      "sample_timestampFPGA | uint64_t[]               | AsJagged(AsDtype('>u8'))\n",
      "sample_time          | double[][64]             | AsJagged(AsDtype(\"('>f8', (...\n",
      "sample_ampl          | double[][64]             | AsJagged(AsDtype(\"('>f8', (...\n",
      "sample_triggerPos... | uint16_t[][64]           | AsJagged(AsDtype(\"('>u2', (...\n",
      "['RunSampic', 'RunTelescope', 'eventIDTelescope', 'nTrackParams', 'planeID', 'trackID', 'triggerID', 'timestamp', 'xPos', 'yPos', 'omega', 'phi', 'kinkx', 'kinky', 'chi2', 'ndof', 'eventIDSampic', 'trigger_time', 'num_samples', 'sample_channel', 'sample_t0', 'sample_baseline', 'sample_timestampA', 'sample_timestampB', 'sample_cellInfoForOrderedData', 'sample_timestampFPGA', 'sample_time', 'sample_ampl', 'sample_triggerPosition']\n"
     ]
    }
   ],
   "source": [
    "file_events = file['desy;23']\n",
    "file_events.show()\n",
    "print(file_events.keys())"
   ]
  },
  {
   "cell_type": "markdown",
   "id": "e64105c1",
   "metadata": {},
   "source": [
    "# Extract needed data"
   ]
  },
  {
   "cell_type": "code",
   "execution_count": 4,
   "id": "523a9612",
   "metadata": {},
   "outputs": [],
   "source": [
    "FILE_KEY = 'desy;23'\n",
    "EVENT_KEYS = set(['num_samples', 'eventIDSampic', 'sample_time', 'sample_ampl', 'sample_channel'])"
   ]
  },
  {
   "cell_type": "code",
   "execution_count": 5,
   "id": "36cd31c6",
   "metadata": {},
   "outputs": [],
   "source": [
    "def extract_filtered_data(file_events, event_keys=EVENT_KEYS):\n",
    "    mask = file_events['num_samples'].array()[:10000] > 0\n",
    "    events_filtered = {k: file_events[k].array()[:10000][mask] for k in event_keys}\n",
    "    return events_filtered"
   ]
  },
  {
   "cell_type": "code",
   "execution_count": 6,
   "id": "20f2913a",
   "metadata": {},
   "outputs": [],
   "source": [
    "file_events = file[FILE_KEY]\n",
    "events_filtered = extract_filtered_data(file_events)"
   ]
  },
  {
   "cell_type": "code",
   "execution_count": 25,
   "id": "4c7d283c-b67a-4aca-8dce-df19e29a5dc3",
   "metadata": {},
   "outputs": [
    {
     "data": {
      "text/plain": [
       "{'num_samples': <Array [4, 2, 3, 2, 2, 3, ... 3, 2, 4, 3, 2, 1] type='3227 * uint32'>,\n",
       " 'sample_channel': <Array [[29, 11, 16, 23], ... [22, 10], [0]] type='3227 * var * int32'>,\n",
       " 'sample_time': <Array [[[0, 1.56e-10, ... 9.84e-09]]] type='3227 * var * 64 * float64'>,\n",
       " 'sample_ampl': <Array [[[1.03, 1.03, 1.03, ... 1.05, 1.05]]] type='3227 * var * 64 * float64'>,\n",
       " 'eventIDSampic': <Array [4361, 4368, 4373, ... 14659, 14661] type='3227 * uint32'>}"
      ]
     },
     "execution_count": 25,
     "metadata": {},
     "output_type": "execute_result"
    }
   ],
   "source": [
    "events_filtered"
   ]
  },
  {
   "cell_type": "code",
   "execution_count": 7,
   "id": "bcf2de81-050d-4972-a007-a310dfe50ed3",
   "metadata": {},
   "outputs": [
    {
     "name": "stdout",
     "output_type": "stream",
     "text": [
      "Processing Ntuple_runsampic_166_runtelescope_643.root ...\n"
     ]
    }
   ],
   "source": [
    "file_name = os.path.split(file_dir)[1]\n",
    "print(f'Processing {file_name} ...')\n",
    "\n",
    "with uproot.recreate(f'../data/{file_name}') as new_file:\n",
    "    new_file['tree_data'] = events_filtered"
   ]
  },
  {
   "cell_type": "markdown",
   "id": "d5ea2baf",
   "metadata": {},
   "source": [
    "# Read the new file"
   ]
  },
  {
   "cell_type": "code",
   "execution_count": 26,
   "id": "959aec10-ed9e-4322-aada-eb0bdb5bef12",
   "metadata": {},
   "outputs": [
    {
     "name": "stdout",
     "output_type": "stream",
     "text": [
      "name                 | typename                 | interpretation                \n",
      "---------------------+--------------------------+-------------------------------\n",
      "num_samples          | uint32_t                 | AsDtype('>u4')\n",
      "nsample_channel      | int32_t                  | AsDtype('>i4')\n",
      "sample_channel       | int32_t[]                | AsJagged(AsDtype('>i4'))\n",
      "nsample_time         | int32_t                  | AsDtype('>i4')\n",
      "sample_time          | double[][64]             | AsJagged(AsDtype(\"('>f8', (...\n",
      "nsample_ampl         | int32_t                  | AsDtype('>i4')\n",
      "sample_ampl          | double[][64]             | AsJagged(AsDtype(\"('>f8', (...\n",
      "eventIDSampic        | uint32_t                 | AsDtype('>u4')\n"
     ]
    }
   ],
   "source": [
    "new_file = uproot.open(f'../data/{file_name}')\n",
    "new_file['tree_data'].show()"
   ]
  },
  {
   "cell_type": "code",
   "execution_count": 27,
   "id": "7019c76c-85c8-4c33-b61b-21f1b63f3816",
   "metadata": {},
   "outputs": [
    {
     "ename": "ValueError",
     "evalue": "basket 0 in tree/branch /tree_data;1:sample_time has the wrong number of bytes (64368) for interpretation AsDtype(\"('>f8', (64,))\")\nin file ../data/Ntuple_runsampic_166_runtelescope_643.root",
     "output_type": "error",
     "traceback": [
      "\u001b[1;31m---------------------------------------------------------------------------\u001b[0m",
      "\u001b[1;31mValueError\u001b[0m                                Traceback (most recent call last)",
      "File \u001b[1;32m~\\anaconda3\\envs\\py310\\lib\\site-packages\\uproot\\interpretation\\numerical.py:340\u001b[0m, in \u001b[0;36mAsDtype.basket_array\u001b[1;34m(self, data, byte_offsets, basket, branch, context, cursor_offset, library)\u001b[0m\n\u001b[0;32m    339\u001b[0m \u001b[38;5;28;01mtry\u001b[39;00m:\n\u001b[1;32m--> 340\u001b[0m     output \u001b[38;5;241m=\u001b[39m \u001b[43mdata\u001b[49m\u001b[38;5;241;43m.\u001b[39;49m\u001b[43mview\u001b[49m\u001b[43m(\u001b[49m\u001b[43mdtype\u001b[49m\u001b[43m)\u001b[49m\u001b[38;5;241;43m.\u001b[39;49m\u001b[43mreshape\u001b[49m\u001b[43m(\u001b[49m\u001b[43m(\u001b[49m\u001b[38;5;241;43m-\u001b[39;49m\u001b[38;5;241;43m1\u001b[39;49m\u001b[43m,\u001b[49m\u001b[43m)\u001b[49m\u001b[43m \u001b[49m\u001b[38;5;241;43m+\u001b[39;49m\u001b[43m \u001b[49m\u001b[43mshape\u001b[49m\u001b[43m)\u001b[49m\n\u001b[0;32m    341\u001b[0m \u001b[38;5;28;01mexcept\u001b[39;00m \u001b[38;5;167;01mValueError\u001b[39;00m:\n",
      "\u001b[1;31mValueError\u001b[0m: cannot reshape array of size 8046 into shape (64)",
      "\nDuring handling of the above exception, another exception occurred:\n",
      "\u001b[1;31mValueError\u001b[0m                                Traceback (most recent call last)",
      "Input \u001b[1;32mIn [27]\u001b[0m, in \u001b[0;36m<cell line: 1>\u001b[1;34m()\u001b[0m\n\u001b[1;32m----> 1\u001b[0m \u001b[43mnew_file\u001b[49m\u001b[43m[\u001b[49m\u001b[38;5;124;43m'\u001b[39;49m\u001b[38;5;124;43mtree_data\u001b[39;49m\u001b[38;5;124;43m'\u001b[39;49m\u001b[43m]\u001b[49m\u001b[43m[\u001b[49m\u001b[38;5;124;43m'\u001b[39;49m\u001b[38;5;124;43msample_time\u001b[39;49m\u001b[38;5;124;43m'\u001b[39;49m\u001b[43m]\u001b[49m\u001b[38;5;241;43m.\u001b[39;49m\u001b[43marray\u001b[49m\u001b[43m(\u001b[49m\u001b[43m)\u001b[49m\n",
      "File \u001b[1;32m~\\anaconda3\\envs\\py310\\lib\\site-packages\\uproot\\behaviors\\TBranch.py:2078\u001b[0m, in \u001b[0;36mTBranch.array\u001b[1;34m(self, interpretation, entry_start, entry_stop, decompression_executor, interpretation_executor, array_cache, library)\u001b[0m\n\u001b[0;32m   2072\u001b[0m             \u001b[38;5;28;01mfor\u001b[39;00m (\n\u001b[0;32m   2073\u001b[0m                 basket_num,\n\u001b[0;32m   2074\u001b[0m                 range_or_basket,\n\u001b[0;32m   2075\u001b[0m             ) \u001b[38;5;129;01min\u001b[39;00m branch\u001b[38;5;241m.\u001b[39mentries_to_ranges_or_baskets(entry_start, entry_stop):\n\u001b[0;32m   2076\u001b[0m                 ranges_or_baskets\u001b[38;5;241m.\u001b[39mappend((branch, basket_num, range_or_basket))\n\u001b[1;32m-> 2078\u001b[0m \u001b[43m_ranges_or_baskets_to_arrays\u001b[49m\u001b[43m(\u001b[49m\n\u001b[0;32m   2079\u001b[0m \u001b[43m    \u001b[49m\u001b[38;5;28;43mself\u001b[39;49m\u001b[43m,\u001b[49m\n\u001b[0;32m   2080\u001b[0m \u001b[43m    \u001b[49m\u001b[43mranges_or_baskets\u001b[49m\u001b[43m,\u001b[49m\n\u001b[0;32m   2081\u001b[0m \u001b[43m    \u001b[49m\u001b[43mbranchid_interpretation\u001b[49m\u001b[43m,\u001b[49m\n\u001b[0;32m   2082\u001b[0m \u001b[43m    \u001b[49m\u001b[43mentry_start\u001b[49m\u001b[43m,\u001b[49m\n\u001b[0;32m   2083\u001b[0m \u001b[43m    \u001b[49m\u001b[43mentry_stop\u001b[49m\u001b[43m,\u001b[49m\n\u001b[0;32m   2084\u001b[0m \u001b[43m    \u001b[49m\u001b[43mdecompression_executor\u001b[49m\u001b[43m,\u001b[49m\n\u001b[0;32m   2085\u001b[0m \u001b[43m    \u001b[49m\u001b[43minterpretation_executor\u001b[49m\u001b[43m,\u001b[49m\n\u001b[0;32m   2086\u001b[0m \u001b[43m    \u001b[49m\u001b[43mlibrary\u001b[49m\u001b[43m,\u001b[49m\n\u001b[0;32m   2087\u001b[0m \u001b[43m    \u001b[49m\u001b[43marrays\u001b[49m\u001b[43m,\u001b[49m\n\u001b[0;32m   2088\u001b[0m \u001b[43m    \u001b[49m\u001b[38;5;28;43;01mFalse\u001b[39;49;00m\u001b[43m,\u001b[49m\n\u001b[0;32m   2089\u001b[0m \u001b[43m\u001b[49m\u001b[43m)\u001b[49m\n\u001b[0;32m   2091\u001b[0m _fix_asgrouped(\n\u001b[0;32m   2092\u001b[0m     arrays, expression_context, branchid_interpretation, library, \u001b[38;5;28;01mNone\u001b[39;00m\n\u001b[0;32m   2093\u001b[0m )\n\u001b[0;32m   2095\u001b[0m \u001b[38;5;28;01mif\u001b[39;00m array_cache \u001b[38;5;129;01mis\u001b[39;00m \u001b[38;5;129;01mnot\u001b[39;00m \u001b[38;5;28;01mNone\u001b[39;00m:\n",
      "File \u001b[1;32m~\\anaconda3\\envs\\py310\\lib\\site-packages\\uproot\\behaviors\\TBranch.py:3502\u001b[0m, in \u001b[0;36m_ranges_or_baskets_to_arrays\u001b[1;34m(hasbranches, ranges_or_baskets, branchid_interpretation, entry_start, entry_stop, decompression_executor, interpretation_executor, library, arrays, update_ranges_or_baskets)\u001b[0m\n\u001b[0;32m   3499\u001b[0m     \u001b[38;5;28;01mpass\u001b[39;00m\n\u001b[0;32m   3501\u001b[0m \u001b[38;5;28;01melif\u001b[39;00m \u001b[38;5;28misinstance\u001b[39m(obj, \u001b[38;5;28mtuple\u001b[39m) \u001b[38;5;129;01mand\u001b[39;00m \u001b[38;5;28mlen\u001b[39m(obj) \u001b[38;5;241m==\u001b[39m \u001b[38;5;241m3\u001b[39m:\n\u001b[1;32m-> 3502\u001b[0m     \u001b[43muproot\u001b[49m\u001b[38;5;241;43m.\u001b[39;49m\u001b[43msource\u001b[49m\u001b[38;5;241;43m.\u001b[39;49m\u001b[43mfutures\u001b[49m\u001b[38;5;241;43m.\u001b[39;49m\u001b[43mdelayed_raise\u001b[49m\u001b[43m(\u001b[49m\u001b[38;5;241;43m*\u001b[39;49m\u001b[43mobj\u001b[49m\u001b[43m)\u001b[49m\n\u001b[0;32m   3504\u001b[0m \u001b[38;5;28;01melse\u001b[39;00m:\n\u001b[0;32m   3505\u001b[0m     \u001b[38;5;28;01mraise\u001b[39;00m \u001b[38;5;167;01mAssertionError\u001b[39;00m(obj)\n",
      "File \u001b[1;32m~\\anaconda3\\envs\\py310\\lib\\site-packages\\uproot\\source\\futures.py:36\u001b[0m, in \u001b[0;36mdelayed_raise\u001b[1;34m(exception_class, exception_value, traceback)\u001b[0m\n\u001b[0;32m     32\u001b[0m \u001b[38;5;28;01mdef\u001b[39;00m \u001b[38;5;21mdelayed_raise\u001b[39m(exception_class, exception_value, traceback):\n\u001b[0;32m     33\u001b[0m     \u001b[38;5;124;03m\"\"\"\u001b[39;00m\n\u001b[0;32m     34\u001b[0m \u001b[38;5;124;03m    Raise an exception from a background thread on the main thread.\u001b[39;00m\n\u001b[0;32m     35\u001b[0m \u001b[38;5;124;03m    \"\"\"\u001b[39;00m\n\u001b[1;32m---> 36\u001b[0m     \u001b[38;5;28;01mraise\u001b[39;00m exception_value\u001b[38;5;241m.\u001b[39mwith_traceback(traceback)\n",
      "File \u001b[1;32m~\\anaconda3\\envs\\py310\\lib\\site-packages\\uproot\\behaviors\\TBranch.py:3446\u001b[0m, in \u001b[0;36m_ranges_or_baskets_to_arrays.<locals>.basket_to_array\u001b[1;34m(basket)\u001b[0m\n\u001b[0;32m   3443\u001b[0m interpretation \u001b[38;5;241m=\u001b[39m branchid_interpretation[branch\u001b[38;5;241m.\u001b[39mcache_key]\n\u001b[0;32m   3444\u001b[0m basket_arrays \u001b[38;5;241m=\u001b[39m branchid_arrays[branch\u001b[38;5;241m.\u001b[39mcache_key]\n\u001b[1;32m-> 3446\u001b[0m basket_arrays[basket\u001b[38;5;241m.\u001b[39mbasket_num] \u001b[38;5;241m=\u001b[39m \u001b[43minterpretation\u001b[49m\u001b[38;5;241;43m.\u001b[39;49m\u001b[43mbasket_array\u001b[49m\u001b[43m(\u001b[49m\n\u001b[0;32m   3447\u001b[0m \u001b[43m    \u001b[49m\u001b[43mbasket\u001b[49m\u001b[38;5;241;43m.\u001b[39;49m\u001b[43mdata\u001b[49m\u001b[43m,\u001b[49m\n\u001b[0;32m   3448\u001b[0m \u001b[43m    \u001b[49m\u001b[43mbasket\u001b[49m\u001b[38;5;241;43m.\u001b[39;49m\u001b[43mbyte_offsets\u001b[49m\u001b[43m,\u001b[49m\n\u001b[0;32m   3449\u001b[0m \u001b[43m    \u001b[49m\u001b[43mbasket\u001b[49m\u001b[43m,\u001b[49m\n\u001b[0;32m   3450\u001b[0m \u001b[43m    \u001b[49m\u001b[43mbranch\u001b[49m\u001b[43m,\u001b[49m\n\u001b[0;32m   3451\u001b[0m \u001b[43m    \u001b[49m\u001b[43mbranch\u001b[49m\u001b[38;5;241;43m.\u001b[39;49m\u001b[43mcontext\u001b[49m\u001b[43m,\u001b[49m\n\u001b[0;32m   3452\u001b[0m \u001b[43m    \u001b[49m\u001b[43mbasket\u001b[49m\u001b[38;5;241;43m.\u001b[39;49m\u001b[43mmember\u001b[49m\u001b[43m(\u001b[49m\u001b[38;5;124;43m\"\u001b[39;49m\u001b[38;5;124;43mfKeylen\u001b[39;49m\u001b[38;5;124;43m\"\u001b[39;49m\u001b[43m)\u001b[49m\u001b[43m,\u001b[49m\n\u001b[0;32m   3453\u001b[0m \u001b[43m    \u001b[49m\u001b[43mlibrary\u001b[49m\u001b[43m,\u001b[49m\n\u001b[0;32m   3454\u001b[0m \u001b[43m\u001b[49m\u001b[43m)\u001b[49m\n\u001b[0;32m   3455\u001b[0m \u001b[38;5;28;01mif\u001b[39;00m basket\u001b[38;5;241m.\u001b[39mnum_entries \u001b[38;5;241m!=\u001b[39m \u001b[38;5;28mlen\u001b[39m(basket_arrays[basket\u001b[38;5;241m.\u001b[39mbasket_num]):\n\u001b[0;32m   3456\u001b[0m     \u001b[38;5;28;01mraise\u001b[39;00m \u001b[38;5;167;01mValueError\u001b[39;00m(\n\u001b[0;32m   3457\u001b[0m         \u001b[38;5;124;03m\"\"\"basket {} in tree/branch {} has the wrong number of entries \"\"\"\u001b[39;00m\n\u001b[0;32m   3458\u001b[0m         \u001b[38;5;124;03m\"\"\"(expected {}, obtained {}) when interpreted as {}\u001b[39;00m\n\u001b[1;32m   (...)\u001b[0m\n\u001b[0;32m   3466\u001b[0m         )\n\u001b[0;32m   3467\u001b[0m     )\n",
      "File \u001b[1;32m~\\anaconda3\\envs\\py310\\lib\\site-packages\\uproot\\interpretation\\jagged.py:174\u001b[0m, in \u001b[0;36mAsJagged.basket_array\u001b[1;34m(self, data, byte_offsets, basket, branch, context, cursor_offset, library)\u001b[0m\n\u001b[0;32m    172\u001b[0m \u001b[38;5;28;01mif\u001b[39;00m \u001b[38;5;28mself\u001b[39m\u001b[38;5;241m.\u001b[39m_header_bytes \u001b[38;5;241m==\u001b[39m \u001b[38;5;241m0\u001b[39m:\n\u001b[0;32m    173\u001b[0m     offsets \u001b[38;5;241m=\u001b[39m fast_divide(byte_offsets, \u001b[38;5;28mself\u001b[39m\u001b[38;5;241m.\u001b[39m_content\u001b[38;5;241m.\u001b[39mitemsize)\n\u001b[1;32m--> 174\u001b[0m     content \u001b[38;5;241m=\u001b[39m \u001b[38;5;28;43mself\u001b[39;49m\u001b[38;5;241;43m.\u001b[39;49m\u001b[43m_content\u001b[49m\u001b[38;5;241;43m.\u001b[39;49m\u001b[43mbasket_array\u001b[49m\u001b[43m(\u001b[49m\n\u001b[0;32m    175\u001b[0m \u001b[43m        \u001b[49m\u001b[43mdata\u001b[49m\u001b[43m,\u001b[49m\u001b[43m \u001b[49m\u001b[38;5;28;43;01mNone\u001b[39;49;00m\u001b[43m,\u001b[49m\u001b[43m \u001b[49m\u001b[43mbasket\u001b[49m\u001b[43m,\u001b[49m\u001b[43m \u001b[49m\u001b[43mbranch\u001b[49m\u001b[43m,\u001b[49m\u001b[43m \u001b[49m\u001b[43mcontext\u001b[49m\u001b[43m,\u001b[49m\u001b[43m \u001b[49m\u001b[43mcursor_offset\u001b[49m\u001b[43m,\u001b[49m\u001b[43m \u001b[49m\u001b[43mlibrary\u001b[49m\n\u001b[0;32m    176\u001b[0m \u001b[43m    \u001b[49m\u001b[43m)\u001b[49m\n\u001b[0;32m    177\u001b[0m     output \u001b[38;5;241m=\u001b[39m JaggedArray(offsets, content)\n\u001b[0;32m    179\u001b[0m \u001b[38;5;28;01melse\u001b[39;00m:\n",
      "File \u001b[1;32m~\\anaconda3\\envs\\py310\\lib\\site-packages\\uproot\\interpretation\\numerical.py:342\u001b[0m, in \u001b[0;36mAsDtype.basket_array\u001b[1;34m(self, data, byte_offsets, basket, branch, context, cursor_offset, library)\u001b[0m\n\u001b[0;32m    340\u001b[0m             output \u001b[38;5;241m=\u001b[39m data\u001b[38;5;241m.\u001b[39mview(dtype)\u001b[38;5;241m.\u001b[39mreshape((\u001b[38;5;241m-\u001b[39m\u001b[38;5;241m1\u001b[39m,) \u001b[38;5;241m+\u001b[39m shape)\n\u001b[0;32m    341\u001b[0m         \u001b[38;5;28;01mexcept\u001b[39;00m \u001b[38;5;167;01mValueError\u001b[39;00m:\n\u001b[1;32m--> 342\u001b[0m             \u001b[38;5;28;01mraise\u001b[39;00m \u001b[38;5;167;01mValueError\u001b[39;00m(\n\u001b[0;32m    343\u001b[0m                 \u001b[38;5;124;03m\"\"\"basket {} in tree/branch {} has the wrong number of bytes ({}) \"\"\"\u001b[39;00m\n\u001b[0;32m    344\u001b[0m                 \u001b[38;5;124;03m\"\"\"for interpretation {}\u001b[39;00m\n\u001b[0;32m    345\u001b[0m \u001b[38;5;124;03min file {}\"\"\"\u001b[39;00m\u001b[38;5;241m.\u001b[39mformat(\n\u001b[0;32m    346\u001b[0m                     basket\u001b[38;5;241m.\u001b[39mbasket_num,\n\u001b[0;32m    347\u001b[0m                     branch\u001b[38;5;241m.\u001b[39mobject_path,\n\u001b[0;32m    348\u001b[0m                     \u001b[38;5;28mlen\u001b[39m(data),\n\u001b[0;32m    349\u001b[0m                     \u001b[38;5;28mself\u001b[39m,\n\u001b[0;32m    350\u001b[0m                     branch\u001b[38;5;241m.\u001b[39mfile\u001b[38;5;241m.\u001b[39mfile_path,\n\u001b[0;32m    351\u001b[0m                 )\n\u001b[0;32m    352\u001b[0m             )\n\u001b[0;32m    354\u001b[0m         \u001b[38;5;28mself\u001b[39m\u001b[38;5;241m.\u001b[39mhook_after_basket_array(\n\u001b[0;32m    355\u001b[0m             data\u001b[38;5;241m=\u001b[39mdata,\n\u001b[0;32m    356\u001b[0m             byte_offsets\u001b[38;5;241m=\u001b[39mbyte_offsets,\n\u001b[1;32m   (...)\u001b[0m\n\u001b[0;32m    362\u001b[0m             library\u001b[38;5;241m=\u001b[39mlibrary,\n\u001b[0;32m    363\u001b[0m         )\n\u001b[0;32m    365\u001b[0m         \u001b[38;5;28;01mreturn\u001b[39;00m output\n",
      "\u001b[1;31mValueError\u001b[0m: basket 0 in tree/branch /tree_data;1:sample_time has the wrong number of bytes (64368) for interpretation AsDtype(\"('>f8', (64,))\")\nin file ../data/Ntuple_runsampic_166_runtelescope_643.root"
     ]
    }
   ],
   "source": [
    "new_file['tree_data']['sample_time'].array()"
   ]
  },
  {
   "cell_type": "markdown",
   "id": "e8107117-b3cb-4bf0-88f4-132af0fabd0a",
   "metadata": {},
   "source": [
    "# Example samples"
   ]
  },
  {
   "cell_type": "code",
   "execution_count": 9,
   "id": "e87c7ada",
   "metadata": {},
   "outputs": [],
   "source": [
    "def plot_sample(events, i_event, i_sample, use_time=False, flip=True):\n",
    "    if use_time:\n",
    "        X = events['sample_time'][i_event][i_sample]\n",
    "    else:\n",
    "        X = np.arange(64)\n",
    "    Y = events['sample_ampl'][i_event][i_sample]\n",
    "    if flip:\n",
    "        Y = (Y - 1) * -1\n",
    "    plt.plot(X, Y)\n",
    "#     plt.title(f\"sampic event id: {events_filtered['eventIDSampic']}, ({i_event}, {i_sample})\")\n",
    "    plt.title(f'({i_event}, {i_sample})')\n",
    "    plt.ylim(-0.1, 1.1)"
   ]
  },
  {
   "cell_type": "code",
   "execution_count": 10,
   "id": "9191a7df",
   "metadata": {},
   "outputs": [
    {
     "ename": "IndexError",
     "evalue": "list index out of range",
     "output_type": "error",
     "traceback": [
      "\u001b[1;31m---------------------------------------------------------------------------\u001b[0m",
      "\u001b[1;31mIndexError\u001b[0m                                Traceback (most recent call last)",
      "Input \u001b[1;32mIn [10]\u001b[0m, in \u001b[0;36m<cell line: 5>\u001b[1;34m()\u001b[0m\n\u001b[0;32m      5\u001b[0m \u001b[38;5;28;01mfor\u001b[39;00m i, (i_event, i_sample) \u001b[38;5;129;01min\u001b[39;00m \u001b[38;5;28menumerate\u001b[39m(\u001b[38;5;28mzip\u001b[39m(events, samples)):\n\u001b[0;32m      6\u001b[0m     plt\u001b[38;5;241m.\u001b[39msubplot(\u001b[38;5;241m3\u001b[39m, \u001b[38;5;241m3\u001b[39m, i \u001b[38;5;241m+\u001b[39m \u001b[38;5;241m1\u001b[39m)\n\u001b[1;32m----> 7\u001b[0m     \u001b[43mplot_sample\u001b[49m\u001b[43m(\u001b[49m\u001b[43mnew_events\u001b[49m\u001b[43m,\u001b[49m\u001b[43m \u001b[49m\u001b[43mi_event\u001b[49m\u001b[43m,\u001b[49m\u001b[43m \u001b[49m\u001b[43mi_sample\u001b[49m\u001b[43m)\u001b[49m\n",
      "Input \u001b[1;32mIn [9]\u001b[0m, in \u001b[0;36mplot_sample\u001b[1;34m(events, i_event, i_sample, use_time, flip)\u001b[0m\n\u001b[0;32m      4\u001b[0m \u001b[38;5;28;01melse\u001b[39;00m:\n\u001b[0;32m      5\u001b[0m     X \u001b[38;5;241m=\u001b[39m np\u001b[38;5;241m.\u001b[39marange(\u001b[38;5;241m64\u001b[39m)\n\u001b[1;32m----> 6\u001b[0m Y \u001b[38;5;241m=\u001b[39m \u001b[43mevents\u001b[49m\u001b[43m[\u001b[49m\u001b[38;5;124;43m'\u001b[39;49m\u001b[38;5;124;43msample_ampl\u001b[39;49m\u001b[38;5;124;43m'\u001b[39;49m\u001b[43m]\u001b[49m\u001b[43m[\u001b[49m\u001b[43mi_event\u001b[49m\u001b[43m]\u001b[49m[i_sample]\n\u001b[0;32m      7\u001b[0m \u001b[38;5;28;01mif\u001b[39;00m flip:\n\u001b[0;32m      8\u001b[0m     Y \u001b[38;5;241m=\u001b[39m (Y \u001b[38;5;241m-\u001b[39m \u001b[38;5;241m1\u001b[39m) \u001b[38;5;241m*\u001b[39m \u001b[38;5;241m-\u001b[39m\u001b[38;5;241m1\u001b[39m\n",
      "File \u001b[1;32m~\\anaconda3\\envs\\py310\\lib\\site-packages\\uproot\\behaviors\\TBranch.py:1876\u001b[0m, in \u001b[0;36mHasBranches.__getitem__\u001b[1;34m(self, where)\u001b[0m\n\u001b[0;32m   1873\u001b[0m     \u001b[38;5;28;01mreturn\u001b[39;00m got\n\u001b[0;32m   1875\u001b[0m \u001b[38;5;28;01mif\u001b[39;00m uproot\u001b[38;5;241m.\u001b[39m_util\u001b[38;5;241m.\u001b[39misint(where):\n\u001b[1;32m-> 1876\u001b[0m     \u001b[38;5;28;01mreturn\u001b[39;00m \u001b[38;5;28;43mself\u001b[39;49m\u001b[38;5;241;43m.\u001b[39;49m\u001b[43mbranches\u001b[49m\u001b[43m[\u001b[49m\u001b[43mwhere\u001b[49m\u001b[43m]\u001b[49m\n\u001b[0;32m   1877\u001b[0m \u001b[38;5;28;01melif\u001b[39;00m uproot\u001b[38;5;241m.\u001b[39m_util\u001b[38;5;241m.\u001b[39misstr(where):\n\u001b[0;32m   1878\u001b[0m     where \u001b[38;5;241m=\u001b[39m uproot\u001b[38;5;241m.\u001b[39m_util\u001b[38;5;241m.\u001b[39mensure_str(where)\n",
      "File \u001b[1;32m~\\anaconda3\\envs\\py310\\lib\\site-packages\\uproot\\models\\TObjArray.py:97\u001b[0m, in \u001b[0;36mModel_TObjArray.__getitem__\u001b[1;34m(self, where)\u001b[0m\n\u001b[0;32m     96\u001b[0m \u001b[38;5;28;01mdef\u001b[39;00m \u001b[38;5;21m__getitem__\u001b[39m(\u001b[38;5;28mself\u001b[39m, where):\n\u001b[1;32m---> 97\u001b[0m     \u001b[38;5;28;01mreturn\u001b[39;00m \u001b[38;5;28;43mself\u001b[39;49m\u001b[38;5;241;43m.\u001b[39;49m\u001b[43m_data\u001b[49m\u001b[43m[\u001b[49m\u001b[43mwhere\u001b[49m\u001b[43m]\u001b[49m\n",
      "\u001b[1;31mIndexError\u001b[0m: list index out of range"
     ]
    },
    {
     "data": {
      "image/png": "[encoded data removed]",
      "text/plain": [
       "<Figure size 1296x864 with 1 Axes>"
      ]
     },
     "metadata": {
      "needs_background": "light"
     },
     "output_type": "display_data"
    }
   ],
   "source": [
    "events = [0, 0, 0, 1003, 1003, 1003, 3006, 3006, 3006]\n",
    "samples = [0, 1, 2, 0, 1, 2, 0, 1, 2]\n",
    "\n",
    "plt.figure(figsize=(18, 12))\n",
    "for i, (i_event, i_sample) in enumerate(zip(events, samples)):\n",
    "    plt.subplot(3, 3, i + 1)\n",
    "    plot_sample(new_events, i_event, i_sample)"
   ]
  },
  {
   "cell_type": "code",
   "execution_count": null,
   "id": "f3710f28",
   "metadata": {},
   "outputs": [],
   "source": []
  }
 ],
 "metadata": {
  "kernelspec": {
   "display_name": "Python 3 (ipykernel)",
   "language": "python",
   "name": "python3"
  },
  "language_info": {
   "codemirror_mode": {
    "name": "ipython",
    "version": 3
   },
   "file_extension": ".py",
   "mimetype": "text/x-python",
   "name": "python",
   "nbconvert_exporter": "python",
   "pygments_lexer": "ipython3",
   "version": "3.10.4"
  }
 },
 "nbformat": 4,
 "nbformat_minor": 5
}
