{
 "cells": [
  {
   "cell_type": "code",
   "execution_count": 1,
   "id": "e0f15c63",
   "metadata": {},
   "outputs": [],
   "source": [
    "import sys\n",
    "\n",
    "PWD = '..'\n",
    "sys.path.append(PWD)\n",
    "\n",
    "import uproot\n",
    "import awkward\n",
    "\n",
    "import numpy as np\n",
    "from matplotlib import pyplot as plt\n",
    "\n",
    "from collections import defaultdict\n",
    "from pprint import pprint\n",
    "\n",
    "import os\n",
    "\n",
    "from src.plot_utils import plot_sample"
   ]
  },
  {
   "cell_type": "code",
   "execution_count": 2,
   "id": "26f53865-2b0a-42ea-aea2-8e207ac4307c",
   "metadata": {},
   "outputs": [],
   "source": [
    "files_root_dir = PWD + '/data/base/'"
   ]
  },
  {
   "cell_type": "code",
   "execution_count": 3,
   "id": "fef0ebc5-ce0a-443a-9109-220e081bac24",
   "metadata": {},
   "outputs": [],
   "source": [
    "class FileData:\n",
    "    def __init__(self, name):\n",
    "        self.name = name\n",
    "        self.raw_contents = None\n",
    "        self.events = None\n",
    "        \n",
    "        self.coincidences = None\n",
    "        self.sorted_channels = None\n",
    "        \n",
    "        self.event_lists = None\n",
    "        self.channel_dict = None"
   ]
  },
  {
   "cell_type": "code",
   "execution_count": 4,
   "id": "602462c5-305e-45e7-b9c8-1dfadfa5ea1c",
   "metadata": {},
   "outputs": [
    {
     "data": {
      "text/plain": [
       "['Ntuple_runsampic_159_runtelescope_636.root',\n",
       " 'Ntuple_runsampic_160_runtelescope_637.root',\n",
       " 'Ntuple_runsampic_161_runtelescope_638.root',\n",
       " 'Ntuple_runsampic_163_runtelescope_640.root',\n",
       " 'Ntuple_runsampic_164_runtelescope_641.root',\n",
       " 'Ntuple_runsampic_165_runtelescope_642.root',\n",
       " 'Ntuple_runsampic_166_runtelescope_643.root',\n",
       " 'Ntuple_runsampic_168_runtelescope_646.root',\n",
       " 'Ntuple_runsampic_169_runtelescope_648.root',\n",
       " 'Ntuple_runsampic_171_runtelescope_650.root',\n",
       " 'Ntuple_runsampic_172_runtelescope_651.root']"
      ]
     },
     "execution_count": 4,
     "metadata": {},
     "output_type": "execute_result"
    }
   ],
   "source": [
    "files = [FileData(file_name) for file_name in os.listdir(files_root_dir)]\n",
    "\n",
    "[file.name for file in files]"
   ]
  },
  {
   "cell_type": "code",
   "execution_count": 5,
   "id": "ee637bff-5cad-40b1-abd4-5029e1dd9bb4",
   "metadata": {},
   "outputs": [
    {
     "data": {
      "text/plain": [
       "['desy;21', 'desy;20']"
      ]
     },
     "execution_count": 5,
     "metadata": {},
     "output_type": "execute_result"
    }
   ],
   "source": [
    "for file in files:\n",
    "    file.raw_contents = uproot.open(files_root_dir + '/' + file.name)\n",
    "    \n",
    "files[0].raw_contents.keys()"
   ]
  },
  {
   "cell_type": "markdown",
   "id": "b95bbf36",
   "metadata": {},
   "source": [
    "# Contents of the file"
   ]
  },
  {
   "cell_type": "code",
   "execution_count": 6,
   "id": "ef76f3b7-ef67-4b5d-8c36-5bbb19a7d852",
   "metadata": {},
   "outputs": [
    {
     "name": "stdout",
     "output_type": "stream",
     "text": [
      "name                 | typename                 | interpretation                \n",
      "---------------------+--------------------------+-------------------------------\n",
      "RunSampic            | int32_t                  | AsDtype('>i4')\n",
      "RunTelescope         | int32_t                  | AsDtype('>i4')\n",
      "eventIDTelescope     | int32_t                  | AsDtype('>i4')\n",
      "nTrackParams         | int32_t                  | AsDtype('>i4')\n",
      "planeID              | std::vector<int32_t>     | AsJagged(AsDtype('>i4'), he...\n",
      "trackID              | std::vector<int32_t>     | AsJagged(AsDtype('>i4'), he...\n",
      "triggerID            | int32_t                  | AsDtype('>i4')\n",
      "timestamp            | int32_t                  | AsDtype('>i4')\n",
      "xPos                 | std::vector<double>      | AsJagged(AsDtype('>f8'), he...\n",
      "yPos                 | std::vector<double>      | AsJagged(AsDtype('>f8'), he...\n",
      "omega                | std::vector<double>      | AsJagged(AsDtype('>f8'), he...\n",
      "phi                  | std::vector<double>      | AsJagged(AsDtype('>f8'), he...\n",
      "kinkx                | std::vector<double>      | AsJagged(AsDtype('>f8'), he...\n",
      "kinky                | std::vector<double>      | AsJagged(AsDtype('>f8'), he...\n",
      "chi2                 | std::vector<double>      | AsJagged(AsDtype('>f8'), he...\n",
      "ndof                 | std::vector<int32_t>     | AsJagged(AsDtype('>i4'), he...\n",
      "eventIDSampic        | uint32_t                 | AsDtype('>u4')\n",
      "trigger_time         | double                   | AsDtype('>f8')\n",
      "num_samples          | uint32_t                 | AsDtype('>u4')\n",
      "sample_channel       | int32_t[]                | AsJagged(AsDtype('>i4'))\n",
      "sample_t0            | double[]                 | AsJagged(AsDtype('>f8'))\n",
      "sample_baseline      | double[]                 | AsJagged(AsDtype('>f8'))\n",
      "sample_timestampA    | uint32_t[]               | AsJagged(AsDtype('>u4'))\n",
      "sample_timestampB    | uint32_t[]               | AsJagged(AsDtype('>u4'))\n",
      "sample_cellInfoFo... | int32_t[]                | AsJagged(AsDtype('>i4'))\n",
      "sample_timestampFPGA | uint64_t[]               | AsJagged(AsDtype('>u8'))\n",
      "sample_time          | double[][64]             | AsJagged(AsDtype(\"('>f8', (...\n",
      "sample_ampl          | double[][64]             | AsJagged(AsDtype(\"('>f8', (...\n",
      "sample_triggerPos... | uint16_t[][64]           | AsJagged(AsDtype(\"('>u2', (...\n",
      "['RunSampic', 'RunTelescope', 'eventIDTelescope', 'nTrackParams', 'planeID', 'trackID', 'triggerID', 'timestamp', 'xPos', 'yPos', 'omega', 'phi', 'kinkx', 'kinky', 'chi2', 'ndof', 'eventIDSampic', 'trigger_time', 'num_samples', 'sample_channel', 'sample_t0', 'sample_baseline', 'sample_timestampA', 'sample_timestampB', 'sample_cellInfoForOrderedData', 'sample_timestampFPGA', 'sample_time', 'sample_ampl', 'sample_triggerPosition']\n"
     ]
    }
   ],
   "source": [
    "for file in files:\n",
    "    key = file.raw_contents.keys()[0]\n",
    "    file.events = file.raw_contents[key]\n",
    "    \n",
    "files[0].events.show()\n",
    "print(files[0].events.keys())"
   ]
  },
  {
   "cell_type": "code",
   "execution_count": 7,
   "id": "556d1506-a64d-488a-8757-b85ec002dc4d",
   "metadata": {},
   "outputs": [
    {
     "data": {
      "text/plain": [
       "2"
      ]
     },
     "execution_count": 7,
     "metadata": {},
     "output_type": "execute_result"
    }
   ],
   "source": [
    "files[6].events['num_samples'].array()[20000]"
   ]
  },
  {
   "cell_type": "code",
   "execution_count": 8,
   "id": "42c68647-e961-4429-a473-ea2bd884ae1c",
   "metadata": {},
   "outputs": [
    {
     "data": {
      "text/plain": [
       "48.360668770000004"
      ]
     },
     "execution_count": 8,
     "metadata": {},
     "output_type": "execute_result"
    }
   ],
   "source": [
    "files[6].events['trigger_time'].array()[20000]"
   ]
  },
  {
   "cell_type": "code",
   "execution_count": 9,
   "id": "7e5a20b6-afab-4afd-89ec-2e645de99140",
   "metadata": {},
   "outputs": [
    {
     "data": {
      "text/plain": [
       "48.3606675440625"
      ]
     },
     "execution_count": 9,
     "metadata": {},
     "output_type": "execute_result"
    }
   ],
   "source": [
    "files[6].events['sample_t0'].array()[20000][0]"
   ]
  },
  {
   "cell_type": "code",
   "execution_count": 10,
   "id": "40840471-9f89-438a-9d22-d8d5f145976b",
   "metadata": {},
   "outputs": [
    {
     "data": {
      "text/plain": [
       "48.360667544375005"
      ]
     },
     "execution_count": 10,
     "metadata": {},
     "output_type": "execute_result"
    }
   ],
   "source": [
    "files[6].events['sample_t0'].array()[20000][1]"
   ]
  },
  {
   "cell_type": "code",
   "execution_count": 11,
   "id": "5511b062-a462-42b9-bbde-17b25639ae7e",
   "metadata": {},
   "outputs": [
    {
     "data": {
      "text/plain": [
       "1.5625e-10"
      ]
     },
     "execution_count": 11,
     "metadata": {},
     "output_type": "execute_result"
    }
   ],
   "source": [
    "files[6].events['sample_time'].array()[20000][1][1] # time step"
   ]
  },
  {
   "cell_type": "code",
   "execution_count": 12,
   "id": "9570a055-e5cf-4c14-956c-39d3d36f65c7",
   "metadata": {},
   "outputs": [
    {
     "data": {
      "text/plain": [
       "array([48.36066754, 48.36066754, 48.36066754, 48.36066754, 48.36066755,\n",
       "       48.36066755, 48.36066755, 48.36066755, 48.36066755, 48.36066755])"
      ]
     },
     "execution_count": 12,
     "metadata": {},
     "output_type": "execute_result"
    }
   ],
   "source": [
    "files[6].events['sample_time'].array(library='np')[20000][1][:10] + files[6].events['sample_t0'].array(library='np')[20000][1]"
   ]
  },
  {
   "cell_type": "markdown",
   "id": "ae75dc6b-090c-4116-8a89-f3511643026a",
   "metadata": {},
   "source": [
    "# Find number of coincidences with channel 0"
   ]
  },
  {
   "cell_type": "code",
   "execution_count": 13,
   "id": "a64618e2-ecc0-4b0f-9ac8-238707b9b1ab",
   "metadata": {},
   "outputs": [],
   "source": [
    "def find_coincidences(events, return_sorted_channels=True):\n",
    "    coincidences = defaultdict(int)\n",
    "    for i, (n_samples, channels) in enumerate(zip(events['num_samples'].array(), events['sample_channel'].array())):\n",
    "        if n_samples > 0 and 0 in channels:\n",
    "            for channel in channels:\n",
    "                if channel != 0:\n",
    "                    coincidences[channel] += 1\n",
    "                    \n",
    "    if not return_sorted_channels:\n",
    "        return coincidences\n",
    "    else:\n",
    "        sorted_channels = sorted(coincidences, key=coincidences.get, reverse=True)\n",
    "        return coincidences, sorted_channels"
   ]
  },
  {
   "cell_type": "code",
   "execution_count": null,
   "id": "ccb5c61b-ac87-4195-9dc5-65c5e25439a0",
   "metadata": {},
   "outputs": [],
   "source": [
    "import multiprocessing\n",
    "\n",
    "def handle_file_coincidences(file):\n",
    "    print(f'{file.name} ...')\n",
    "    file.coincidences, file.sorted_channels = find_coincidences(file.events)\n",
    "\n",
    "# for i, file in enumerate(files):\n",
    "#     print(f'{i+1}. {file.name} ...')\n",
    "#     file.coincidences, file.sorted_channels = find_coincidences(file.events)\n",
    "multiprocessing.Pool(6).map(handle_file_coincidences, files)"
   ]
  },
  {
   "cell_type": "code",
   "execution_count": 19,
   "id": "8f4b6a3c-7e72-45d4-b995-23bc661b5e40",
   "metadata": {},
   "outputs": [
    {
     "name": "stdout",
     "output_type": "stream",
     "text": [
      " 14:  20260\n",
      " 26:  19369\n",
      " 27:  16265\n",
      " 13:  15633\n",
      " 25:  15513\n",
      " 15:  12839\n",
      " 24:   2113\n",
      " 12:   1196\n",
      " 16:    626\n",
      " 11:    559\n",
      " 28:    503\n",
      " 23:    391\n",
      " 17:    259\n",
      " 29:    223\n",
      " 10:    195\n",
      " 18:    170\n",
      " 22:    167\n",
      "  9:    128\n",
      " 30:    123\n",
      " 21:    100\n",
      " 19:     71\n",
      "  8:     64\n",
      " 31:     53\n",
      " 20:     37\n"
     ]
    }
   ],
   "source": [
    "for channel in files[0].sorted_channels:\n",
    "    print(f'{channel:3}: {files[0].coincidences[channel]:6}')"
   ]
  },
  {
   "cell_type": "markdown",
   "id": "5f890a1b-e5c1-4447-8e64-689e68c68aef",
   "metadata": {},
   "source": [
    "# Fill the channel dict"
   ]
  },
  {
   "cell_type": "code",
   "execution_count": 29,
   "id": "bd401007-15fb-4c5c-b8ee-9a4e8ddf99a0",
   "metadata": {},
   "outputs": [],
   "source": [
    "EVENT_KEYS = set(['eventIDSampic', 'sample_ampl', 'sample_channel', 'sample_t0'])\n",
    "\n",
    "def flip_y(X):\n",
    "    return (X - 1) * - 1\n",
    "\n",
    "def fill_channel_dict(events, channels, event_keys=EVENT_KEYS, log=False):\n",
    "    channel_dict = {}\n",
    "    for channel in channels:\n",
    "        if log:\n",
    "            print(f'{channel}...')\n",
    "        channel_dict[channel] = {key: [] for key in event_keys}\n",
    "        for i_event, (n_samples, channels) in enumerate(zip(events['num_samples'], events['sample_channel'])):\n",
    "            if n_samples > 0 and 0 in channels and channel in channels:\n",
    "                idx_0 = list(channels).index(0)\n",
    "                idx_ch = list(channels).index(channel)\n",
    "                mask = [idx_0, idx_ch]\n",
    "                \n",
    "                for key in event_keys:\n",
    "                    v = events[key][i_event]\n",
    "                    v = v[mask] if type(v) is np.ndarray else v\n",
    "                    if key == 'sample_ampl': # flip ampl\n",
    "                        v = flip_y(v)\n",
    "                    elif key == 'sample_t0': # convert to ns\n",
    "                        v *= 1e9 # ns\n",
    "                    channel_dict[channel][key].append(v)\n",
    "                    \n",
    "    return channel_dict"
   ]
  },
  {
   "cell_type": "code",
   "execution_count": 24,
   "id": "56d89adc-d31d-4e7a-ace6-5fac98108970",
   "metadata": {},
   "outputs": [
    {
     "name": "stdout",
     "output_type": "stream",
     "text": [
      "Ntuple_runsampic_159_runtelescope_636.root ...\n",
      "Ntuple_runsampic_160_runtelescope_637.root ...\n",
      "Ntuple_runsampic_161_runtelescope_638.root ...\n",
      "Ntuple_runsampic_163_runtelescope_640.root ...\n",
      "Ntuple_runsampic_164_runtelescope_641.root ...\n",
      "Ntuple_runsampic_165_runtelescope_642.root ...\n",
      "Ntuple_runsampic_166_runtelescope_643.root ...\n",
      "Ntuple_runsampic_168_runtelescope_646.root ...\n",
      "Ntuple_runsampic_169_runtelescope_648.root ...\n",
      "Ntuple_runsampic_171_runtelescope_650.root ...\n",
      "Ntuple_runsampic_172_runtelescope_651.root ...\n"
     ]
    }
   ],
   "source": [
    "for file in files:\n",
    "    print(f'{file.name} ...')\n",
    "    file.event_lists = {k: file.events[k].array(library='np') for k in EVENT_KEYS | set(['num_samples'])}"
   ]
  },
  {
   "cell_type": "code",
   "execution_count": null,
   "id": "2fb16148-5ee4-4bb8-8fee-197b6fdc463c",
   "metadata": {},
   "outputs": [],
   "source": [
    "from joblib import Parallel, delayed\n",
    "\n",
    "def fill_channel_dict_and_save(file):\n",
    "    print(f'{file.name} ...')\n",
    "    file.channel_dict = fill_channel_dict(file.event_lists, file.sorted_channels)\n",
    "\n",
    "# for file in files:\n",
    "#     print(f'{file.name} ...')\n",
    "#     file.channel_dict = fill_channel_dict(file.event_lists, file.sorted_channels)\n",
    "Parallel(n_jobs=6)(delayed(fill_channel_dict_and_save)(file) for file in files)"
   ]
  },
  {
   "cell_type": "code",
   "execution_count": null,
   "id": "950d5609-a5fa-40a8-a34b-d58cf9037f57",
   "metadata": {
    "scrolled": true,
    "tags": []
   },
   "outputs": [],
   "source": [
    "# events_channel_waveform = {}\n",
    "\n",
    "# for selected_channel in CHANNELS:\n",
    "#     print(f'{selected_channel}...')\n",
    "#     events_channel_waveform[selected_channel] = {key: [] for key in EVENT_KEYS}\n",
    "#     for i_event, (n_samples, channels) in enumerate(zip(events['num_samples'], events['sample_channel'])):\n",
    "#         if n_samples > 0 and 0 in channels and selected_channel in channels:\n",
    "#             idx_0 = list(channels).index(0)\n",
    "#             idx_ch = list(channels).index(selected_channel)\n",
    "#             mask = [idx_0, idx_ch]\n",
    "\n",
    "#             for key in EVENT_KEYS:\n",
    "#                 v = events[key][i_event]\n",
    "#                 v = v[mask] if type(v) is np.ndarray else v\n",
    "#                 if key == 'sample_ampl': # flip ampl\n",
    "#                     v = flip_y(v)\n",
    "#                 elif key == 'sample_t0': # convert to ns\n",
    "#                     v *= 1e9 # ns\n",
    "#                 events_channel_waveform[selected_channel][key].append(v)"
   ]
  },
  {
   "cell_type": "code",
   "execution_count": null,
   "id": "4c7d283c-b67a-4aca-8dce-df19e29a5dc3",
   "metadata": {},
   "outputs": [],
   "source": [
    "events_channel_waveform.keys()"
   ]
  },
  {
   "cell_type": "code",
   "execution_count": 16,
   "id": "9a040203-d3c7-48be-be35-cd7ee7d635ff",
   "metadata": {},
   "outputs": [
    {
     "data": {
      "text/plain": [
       "dict_keys(['sample_t0', 'sample_channel', 'eventIDSampic', 'sample_ampl'])"
      ]
     },
     "execution_count": 16,
     "metadata": {},
     "output_type": "execute_result"
    }
   ],
   "source": [
    "events_channel_waveform[11].keys()"
   ]
  },
  {
   "cell_type": "code",
   "execution_count": 17,
   "id": "bcf2de81-050d-4972-a007-a310dfe50ed3",
   "metadata": {},
   "outputs": [
    {
     "name": "stdout",
     "output_type": "stream",
     "text": [
      "Processing Ntuple_runsampic_166_runtelescope_643.npz ...\n"
     ]
    }
   ],
   "source": [
    "file_name = os.path.splitext(os.path.split(file_dir)[1])[0] + '.npz'\n",
    "print(f'Processing {file_name} ...')\n",
    "\n",
    "np.savez_compressed(f'../data/{file_name}', events_channel_waveform)"
   ]
  },
  {
   "cell_type": "markdown",
   "id": "d5ea2baf",
   "metadata": {},
   "source": [
    "# Read the new file"
   ]
  },
  {
   "cell_type": "code",
   "execution_count": 18,
   "id": "959aec10-ed9e-4322-aada-eb0bdb5bef12",
   "metadata": {},
   "outputs": [],
   "source": [
    "new_events = np.load(f'../data/{file_name}', allow_pickle=True)['arr_0'].flat[0]"
   ]
  },
  {
   "cell_type": "code",
   "execution_count": 19,
   "id": "c365d9ab-796f-4289-a9c4-ae522c020d83",
   "metadata": {},
   "outputs": [
    {
     "data": {
      "text/plain": [
       "dict_keys([11, 23, 16, 24, 29, 28, 17, 22, 12, 10])"
      ]
     },
     "execution_count": 19,
     "metadata": {},
     "output_type": "execute_result"
    }
   ],
   "source": [
    "new_events.keys()"
   ]
  },
  {
   "cell_type": "markdown",
   "id": "e8107117-b3cb-4bf0-88f4-132af0fabd0a",
   "metadata": {},
   "source": [
    "# Example samples"
   ]
  },
  {
   "cell_type": "code",
   "execution_count": 20,
   "id": "9191a7df",
   "metadata": {},
   "outputs": [
    {
     "data": {
      "image/png": "[encoded data removed]",
      "text/plain": [
       "<Figure size 1008x864 with 6 Axes>"
      ]
     },
     "metadata": {
      "needs_background": "light"
     },
     "output_type": "display_data"
    }
   ],
   "source": [
    "events = [0, 0, 1003, 1003, 3006, 3006]\n",
    "samples = [0, 1, 0, 1, 0, 1]\n",
    "\n",
    "plt.figure(figsize=(14, 12))\n",
    "for i, (i_event, i_sample) in enumerate(zip(events, samples)):\n",
    "    plt.subplot(3, 2, i + 1)\n",
    "    plot_sample(new_events[11]['sample_ampl'][i_event][i_sample],\n",
    "                title=f\"({i_event}, {i_sample}), channel: {new_events[11]['sample_channel'][i_event][i_sample]}\")"
   ]
  },
  {
   "cell_type": "code",
   "execution_count": null,
   "id": "93d7826b-1b08-46f7-aad3-e07dda9085b7",
   "metadata": {},
   "outputs": [],
   "source": []
  }
 ],
 "metadata": {
  "kernelspec": {
   "display_name": "Python 3 (ipykernel)",
   "language": "python",
   "name": "python3"
  },
  "language_info": {
   "codemirror_mode": {
    "name": "ipython",
    "version": 3
   },
   "file_extension": ".py",
   "mimetype": "text/x-python",
   "name": "python",
   "nbconvert_exporter": "python",
   "pygments_lexer": "ipython3",
   "version": "3.10.4"
  }
 },
 "nbformat": 4,
 "nbformat_minor": 5
}
